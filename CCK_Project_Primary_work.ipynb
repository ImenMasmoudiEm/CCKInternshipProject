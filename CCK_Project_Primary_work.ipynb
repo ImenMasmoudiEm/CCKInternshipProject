{
  "nbformat": 4,
  "nbformat_minor": 0,
  "metadata": {
    "colab": {
      "name": "CCK Project Primary work.ipynb",
      "provenance": [],
      "collapsed_sections": [
        "-CRh9Gqc7KxQ",
        "2DGrTNt17GKc",
        "FRfELBgw7A3Z"
      ],
      "include_colab_link": true
    },
    "kernelspec": {
      "name": "python3",
      "display_name": "Python 3"
    },
    "language_info": {
      "name": "python"
    },
    "gpuClass": "standard"
  },
  "cells": [
    {
      "cell_type": "markdown",
      "metadata": {
        "id": "view-in-github",
        "colab_type": "text"
      },
      "source": [
        "<a href=\"https://colab.research.google.com/github/ImenMasmoudiEm/CCKInternshipProject/blob/main/CCK_Project_Primary_work.ipynb\" target=\"_parent\"><img src=\"https://colab.research.google.com/assets/colab-badge.svg\" alt=\"Open In Colab\"/></a>"
      ]
    },
    {
      "cell_type": "markdown",
      "source": [
        "# Text Classification: Primary work"
      ],
      "metadata": {
        "id": "Iiruy8t57ISt"
      }
    },
    {
      "cell_type": "markdown",
      "source": [
        "##Connecting to drive & importing data"
      ],
      "metadata": {
        "id": "6A7gIEXP7oqV"
      }
    },
    {
      "cell_type": "code",
      "source": [
        "from google.colab import drive\n",
        "drive.mount('/content/drive')"
      ],
      "metadata": {
        "colab": {
          "base_uri": "https://localhost:8080/"
        },
        "id": "KwJf5Jnk9iw8",
        "outputId": "531b7369-aabf-41bf-a715-30d85e955fcb"
      },
      "execution_count": null,
      "outputs": [
        {
          "output_type": "stream",
          "name": "stdout",
          "text": [
            "Mounted at /content/drive\n"
          ]
        }
      ]
    },
    {
      "cell_type": "code",
      "execution_count": null,
      "metadata": {
        "id": "u6Xmp6Sf7Ay4"
      },
      "outputs": [],
      "source": [
        "import os \n",
        "os.chdir('/content/drive/MyDrive/All/Projects/Ing Internship/Data')"
      ]
    },
    {
      "cell_type": "code",
      "source": [
        "import pandas as pd\n",
        "data=pd.read_excel(\"/content/drive/MyDrive/All/Projects/Ing Internship/Data/final-dataset.xlsx\")\n",
        "data"
      ],
      "metadata": {
        "colab": {
          "base_uri": "https://localhost:8080/",
          "height": 424
        },
        "id": "hjV2FNxa-FDa",
        "outputId": "e39b5171-16dc-4d83-ce35-338a092a25ad"
      },
      "execution_count": null,
      "outputs": [
        {
          "output_type": "execute_result",
          "data": {
            "text/plain": [
              "                                             commentaire  classe\n",
              "0      مبروك و سامحونا لعجزنا التام. عقبال اللي جوه. ...  normal\n",
              "1      كلنا بره ومش هنبطل نزايد على العجايز الي جابون...    hate\n",
              "2              بدل ما انت قاعد بره كده تعالي ازرع الصحرا  normal\n",
              "3          قذر اتفووو ماتيجى مصر وتورينا نفسك كدا ياجبان    hate\n",
              "4      وهكذا رجال الشو اللي محرومين من عمل برنامج الغ...    hate\n",
              "...                                                  ...     ...\n",
              "23028    يلا ولا خنزير الله يرحم صدام حسين لي كان داعسكن    hate\n",
              "23029            وبلدك سوريا لا تبغي سوا القتل والاجرام     hate\n",
              "23030  معالي الوزير نؤمن بك دائما لأنك الدرع المنيع ف...  normal\n",
              "23031  حياة سندي مستشارة امين عام الامم المتحدة بان ك...  normal\n",
              "23032  انت يا جبران باسيل بعقليتك الفجة النتنة تقولرب...    hate\n",
              "\n",
              "[23033 rows x 2 columns]"
            ],
            "text/html": [
              "\n",
              "  <div id=\"df-43abc7ce-5545-4060-ae1e-f34368c8cd8d\">\n",
              "    <div class=\"colab-df-container\">\n",
              "      <div>\n",
              "<style scoped>\n",
              "    .dataframe tbody tr th:only-of-type {\n",
              "        vertical-align: middle;\n",
              "    }\n",
              "\n",
              "    .dataframe tbody tr th {\n",
              "        vertical-align: top;\n",
              "    }\n",
              "\n",
              "    .dataframe thead th {\n",
              "        text-align: right;\n",
              "    }\n",
              "</style>\n",
              "<table border=\"1\" class=\"dataframe\">\n",
              "  <thead>\n",
              "    <tr style=\"text-align: right;\">\n",
              "      <th></th>\n",
              "      <th>commentaire</th>\n",
              "      <th>classe</th>\n",
              "    </tr>\n",
              "  </thead>\n",
              "  <tbody>\n",
              "    <tr>\n",
              "      <th>0</th>\n",
              "      <td>مبروك و سامحونا لعجزنا التام. عقبال اللي جوه. ...</td>\n",
              "      <td>normal</td>\n",
              "    </tr>\n",
              "    <tr>\n",
              "      <th>1</th>\n",
              "      <td>كلنا بره ومش هنبطل نزايد على العجايز الي جابون...</td>\n",
              "      <td>hate</td>\n",
              "    </tr>\n",
              "    <tr>\n",
              "      <th>2</th>\n",
              "      <td>بدل ما انت قاعد بره كده تعالي ازرع الصحرا</td>\n",
              "      <td>normal</td>\n",
              "    </tr>\n",
              "    <tr>\n",
              "      <th>3</th>\n",
              "      <td>قذر اتفووو ماتيجى مصر وتورينا نفسك كدا ياجبان</td>\n",
              "      <td>hate</td>\n",
              "    </tr>\n",
              "    <tr>\n",
              "      <th>4</th>\n",
              "      <td>وهكذا رجال الشو اللي محرومين من عمل برنامج الغ...</td>\n",
              "      <td>hate</td>\n",
              "    </tr>\n",
              "    <tr>\n",
              "      <th>...</th>\n",
              "      <td>...</td>\n",
              "      <td>...</td>\n",
              "    </tr>\n",
              "    <tr>\n",
              "      <th>23028</th>\n",
              "      <td>يلا ولا خنزير الله يرحم صدام حسين لي كان داعسكن</td>\n",
              "      <td>hate</td>\n",
              "    </tr>\n",
              "    <tr>\n",
              "      <th>23029</th>\n",
              "      <td>وبلدك سوريا لا تبغي سوا القتل والاجرام</td>\n",
              "      <td>hate</td>\n",
              "    </tr>\n",
              "    <tr>\n",
              "      <th>23030</th>\n",
              "      <td>معالي الوزير نؤمن بك دائما لأنك الدرع المنيع ف...</td>\n",
              "      <td>normal</td>\n",
              "    </tr>\n",
              "    <tr>\n",
              "      <th>23031</th>\n",
              "      <td>حياة سندي مستشارة امين عام الامم المتحدة بان ك...</td>\n",
              "      <td>normal</td>\n",
              "    </tr>\n",
              "    <tr>\n",
              "      <th>23032</th>\n",
              "      <td>انت يا جبران باسيل بعقليتك الفجة النتنة تقولرب...</td>\n",
              "      <td>hate</td>\n",
              "    </tr>\n",
              "  </tbody>\n",
              "</table>\n",
              "<p>23033 rows × 2 columns</p>\n",
              "</div>\n",
              "      <button class=\"colab-df-convert\" onclick=\"convertToInteractive('df-43abc7ce-5545-4060-ae1e-f34368c8cd8d')\"\n",
              "              title=\"Convert this dataframe to an interactive table.\"\n",
              "              style=\"display:none;\">\n",
              "        \n",
              "  <svg xmlns=\"http://www.w3.org/2000/svg\" height=\"24px\"viewBox=\"0 0 24 24\"\n",
              "       width=\"24px\">\n",
              "    <path d=\"M0 0h24v24H0V0z\" fill=\"none\"/>\n",
              "    <path d=\"M18.56 5.44l.94 2.06.94-2.06 2.06-.94-2.06-.94-.94-2.06-.94 2.06-2.06.94zm-11 1L8.5 8.5l.94-2.06 2.06-.94-2.06-.94L8.5 2.5l-.94 2.06-2.06.94zm10 10l.94 2.06.94-2.06 2.06-.94-2.06-.94-.94-2.06-.94 2.06-2.06.94z\"/><path d=\"M17.41 7.96l-1.37-1.37c-.4-.4-.92-.59-1.43-.59-.52 0-1.04.2-1.43.59L10.3 9.45l-7.72 7.72c-.78.78-.78 2.05 0 2.83L4 21.41c.39.39.9.59 1.41.59.51 0 1.02-.2 1.41-.59l7.78-7.78 2.81-2.81c.8-.78.8-2.07 0-2.86zM5.41 20L4 18.59l7.72-7.72 1.47 1.35L5.41 20z\"/>\n",
              "  </svg>\n",
              "      </button>\n",
              "      \n",
              "  <style>\n",
              "    .colab-df-container {\n",
              "      display:flex;\n",
              "      flex-wrap:wrap;\n",
              "      gap: 12px;\n",
              "    }\n",
              "\n",
              "    .colab-df-convert {\n",
              "      background-color: #E8F0FE;\n",
              "      border: none;\n",
              "      border-radius: 50%;\n",
              "      cursor: pointer;\n",
              "      display: none;\n",
              "      fill: #1967D2;\n",
              "      height: 32px;\n",
              "      padding: 0 0 0 0;\n",
              "      width: 32px;\n",
              "    }\n",
              "\n",
              "    .colab-df-convert:hover {\n",
              "      background-color: #E2EBFA;\n",
              "      box-shadow: 0px 1px 2px rgba(60, 64, 67, 0.3), 0px 1px 3px 1px rgba(60, 64, 67, 0.15);\n",
              "      fill: #174EA6;\n",
              "    }\n",
              "\n",
              "    [theme=dark] .colab-df-convert {\n",
              "      background-color: #3B4455;\n",
              "      fill: #D2E3FC;\n",
              "    }\n",
              "\n",
              "    [theme=dark] .colab-df-convert:hover {\n",
              "      background-color: #434B5C;\n",
              "      box-shadow: 0px 1px 3px 1px rgba(0, 0, 0, 0.15);\n",
              "      filter: drop-shadow(0px 1px 2px rgba(0, 0, 0, 0.3));\n",
              "      fill: #FFFFFF;\n",
              "    }\n",
              "  </style>\n",
              "\n",
              "      <script>\n",
              "        const buttonEl =\n",
              "          document.querySelector('#df-43abc7ce-5545-4060-ae1e-f34368c8cd8d button.colab-df-convert');\n",
              "        buttonEl.style.display =\n",
              "          google.colab.kernel.accessAllowed ? 'block' : 'none';\n",
              "\n",
              "        async function convertToInteractive(key) {\n",
              "          const element = document.querySelector('#df-43abc7ce-5545-4060-ae1e-f34368c8cd8d');\n",
              "          const dataTable =\n",
              "            await google.colab.kernel.invokeFunction('convertToInteractive',\n",
              "                                                     [key], {});\n",
              "          if (!dataTable) return;\n",
              "\n",
              "          const docLinkHtml = 'Like what you see? Visit the ' +\n",
              "            '<a target=\"_blank\" href=https://colab.research.google.com/notebooks/data_table.ipynb>data table notebook</a>'\n",
              "            + ' to learn more about interactive tables.';\n",
              "          element.innerHTML = '';\n",
              "          dataTable['output_type'] = 'display_data';\n",
              "          await google.colab.output.renderOutput(dataTable, element);\n",
              "          const docLink = document.createElement('div');\n",
              "          docLink.innerHTML = docLinkHtml;\n",
              "          element.appendChild(docLink);\n",
              "        }\n",
              "      </script>\n",
              "    </div>\n",
              "  </div>\n",
              "  "
            ]
          },
          "metadata": {},
          "execution_count": 3
        }
      ]
    },
    {
      "cell_type": "markdown",
      "source": [
        "##Data Preprocessing"
      ],
      "metadata": {
        "id": "E78jh1K4ATql"
      }
    },
    {
      "cell_type": "markdown",
      "source": [
        "1/ Changing the Class into bin"
      ],
      "metadata": {
        "id": "4WPH66dgAsdv"
      }
    },
    {
      "cell_type": "code",
      "source": [
        "data['classe']=data['classe'].replace(\"hate\", int(2))\n",
        "data['classe']=data['classe'].replace(\"normal\", int(0)) \n",
        "data['classe']=data['classe'].replace(\"abusive\", int(1))"
      ],
      "metadata": {
        "id": "g0G8MT47A3Z_"
      },
      "execution_count": null,
      "outputs": []
    },
    {
      "cell_type": "code",
      "source": [
        "data"
      ],
      "metadata": {
        "colab": {
          "base_uri": "https://localhost:8080/",
          "height": 424
        },
        "id": "1Ml3TDjMBley",
        "outputId": "3e6ba539-11ef-4a84-b221-54da663ce499"
      },
      "execution_count": null,
      "outputs": [
        {
          "output_type": "execute_result",
          "data": {
            "text/plain": [
              "                                             commentaire  classe\n",
              "0      مبروك و سامحونا لعجزنا التام. عقبال اللي جوه. ...       0\n",
              "1      كلنا بره ومش هنبطل نزايد على العجايز الي جابون...       2\n",
              "2              بدل ما انت قاعد بره كده تعالي ازرع الصحرا       0\n",
              "3          قذر اتفووو ماتيجى مصر وتورينا نفسك كدا ياجبان       2\n",
              "4      وهكذا رجال الشو اللي محرومين من عمل برنامج الغ...       2\n",
              "...                                                  ...     ...\n",
              "23028    يلا ولا خنزير الله يرحم صدام حسين لي كان داعسكن       2\n",
              "23029            وبلدك سوريا لا تبغي سوا القتل والاجرام        2\n",
              "23030  معالي الوزير نؤمن بك دائما لأنك الدرع المنيع ف...       0\n",
              "23031  حياة سندي مستشارة امين عام الامم المتحدة بان ك...       0\n",
              "23032  انت يا جبران باسيل بعقليتك الفجة النتنة تقولرب...       2\n",
              "\n",
              "[23033 rows x 2 columns]"
            ],
            "text/html": [
              "\n",
              "  <div id=\"df-27c430aa-6b51-4caf-9b6b-746067c5e036\">\n",
              "    <div class=\"colab-df-container\">\n",
              "      <div>\n",
              "<style scoped>\n",
              "    .dataframe tbody tr th:only-of-type {\n",
              "        vertical-align: middle;\n",
              "    }\n",
              "\n",
              "    .dataframe tbody tr th {\n",
              "        vertical-align: top;\n",
              "    }\n",
              "\n",
              "    .dataframe thead th {\n",
              "        text-align: right;\n",
              "    }\n",
              "</style>\n",
              "<table border=\"1\" class=\"dataframe\">\n",
              "  <thead>\n",
              "    <tr style=\"text-align: right;\">\n",
              "      <th></th>\n",
              "      <th>commentaire</th>\n",
              "      <th>classe</th>\n",
              "    </tr>\n",
              "  </thead>\n",
              "  <tbody>\n",
              "    <tr>\n",
              "      <th>0</th>\n",
              "      <td>مبروك و سامحونا لعجزنا التام. عقبال اللي جوه. ...</td>\n",
              "      <td>0</td>\n",
              "    </tr>\n",
              "    <tr>\n",
              "      <th>1</th>\n",
              "      <td>كلنا بره ومش هنبطل نزايد على العجايز الي جابون...</td>\n",
              "      <td>2</td>\n",
              "    </tr>\n",
              "    <tr>\n",
              "      <th>2</th>\n",
              "      <td>بدل ما انت قاعد بره كده تعالي ازرع الصحرا</td>\n",
              "      <td>0</td>\n",
              "    </tr>\n",
              "    <tr>\n",
              "      <th>3</th>\n",
              "      <td>قذر اتفووو ماتيجى مصر وتورينا نفسك كدا ياجبان</td>\n",
              "      <td>2</td>\n",
              "    </tr>\n",
              "    <tr>\n",
              "      <th>4</th>\n",
              "      <td>وهكذا رجال الشو اللي محرومين من عمل برنامج الغ...</td>\n",
              "      <td>2</td>\n",
              "    </tr>\n",
              "    <tr>\n",
              "      <th>...</th>\n",
              "      <td>...</td>\n",
              "      <td>...</td>\n",
              "    </tr>\n",
              "    <tr>\n",
              "      <th>23028</th>\n",
              "      <td>يلا ولا خنزير الله يرحم صدام حسين لي كان داعسكن</td>\n",
              "      <td>2</td>\n",
              "    </tr>\n",
              "    <tr>\n",
              "      <th>23029</th>\n",
              "      <td>وبلدك سوريا لا تبغي سوا القتل والاجرام</td>\n",
              "      <td>2</td>\n",
              "    </tr>\n",
              "    <tr>\n",
              "      <th>23030</th>\n",
              "      <td>معالي الوزير نؤمن بك دائما لأنك الدرع المنيع ف...</td>\n",
              "      <td>0</td>\n",
              "    </tr>\n",
              "    <tr>\n",
              "      <th>23031</th>\n",
              "      <td>حياة سندي مستشارة امين عام الامم المتحدة بان ك...</td>\n",
              "      <td>0</td>\n",
              "    </tr>\n",
              "    <tr>\n",
              "      <th>23032</th>\n",
              "      <td>انت يا جبران باسيل بعقليتك الفجة النتنة تقولرب...</td>\n",
              "      <td>2</td>\n",
              "    </tr>\n",
              "  </tbody>\n",
              "</table>\n",
              "<p>23033 rows × 2 columns</p>\n",
              "</div>\n",
              "      <button class=\"colab-df-convert\" onclick=\"convertToInteractive('df-27c430aa-6b51-4caf-9b6b-746067c5e036')\"\n",
              "              title=\"Convert this dataframe to an interactive table.\"\n",
              "              style=\"display:none;\">\n",
              "        \n",
              "  <svg xmlns=\"http://www.w3.org/2000/svg\" height=\"24px\"viewBox=\"0 0 24 24\"\n",
              "       width=\"24px\">\n",
              "    <path d=\"M0 0h24v24H0V0z\" fill=\"none\"/>\n",
              "    <path d=\"M18.56 5.44l.94 2.06.94-2.06 2.06-.94-2.06-.94-.94-2.06-.94 2.06-2.06.94zm-11 1L8.5 8.5l.94-2.06 2.06-.94-2.06-.94L8.5 2.5l-.94 2.06-2.06.94zm10 10l.94 2.06.94-2.06 2.06-.94-2.06-.94-.94-2.06-.94 2.06-2.06.94z\"/><path d=\"M17.41 7.96l-1.37-1.37c-.4-.4-.92-.59-1.43-.59-.52 0-1.04.2-1.43.59L10.3 9.45l-7.72 7.72c-.78.78-.78 2.05 0 2.83L4 21.41c.39.39.9.59 1.41.59.51 0 1.02-.2 1.41-.59l7.78-7.78 2.81-2.81c.8-.78.8-2.07 0-2.86zM5.41 20L4 18.59l7.72-7.72 1.47 1.35L5.41 20z\"/>\n",
              "  </svg>\n",
              "      </button>\n",
              "      \n",
              "  <style>\n",
              "    .colab-df-container {\n",
              "      display:flex;\n",
              "      flex-wrap:wrap;\n",
              "      gap: 12px;\n",
              "    }\n",
              "\n",
              "    .colab-df-convert {\n",
              "      background-color: #E8F0FE;\n",
              "      border: none;\n",
              "      border-radius: 50%;\n",
              "      cursor: pointer;\n",
              "      display: none;\n",
              "      fill: #1967D2;\n",
              "      height: 32px;\n",
              "      padding: 0 0 0 0;\n",
              "      width: 32px;\n",
              "    }\n",
              "\n",
              "    .colab-df-convert:hover {\n",
              "      background-color: #E2EBFA;\n",
              "      box-shadow: 0px 1px 2px rgba(60, 64, 67, 0.3), 0px 1px 3px 1px rgba(60, 64, 67, 0.15);\n",
              "      fill: #174EA6;\n",
              "    }\n",
              "\n",
              "    [theme=dark] .colab-df-convert {\n",
              "      background-color: #3B4455;\n",
              "      fill: #D2E3FC;\n",
              "    }\n",
              "\n",
              "    [theme=dark] .colab-df-convert:hover {\n",
              "      background-color: #434B5C;\n",
              "      box-shadow: 0px 1px 3px 1px rgba(0, 0, 0, 0.15);\n",
              "      filter: drop-shadow(0px 1px 2px rgba(0, 0, 0, 0.3));\n",
              "      fill: #FFFFFF;\n",
              "    }\n",
              "  </style>\n",
              "\n",
              "      <script>\n",
              "        const buttonEl =\n",
              "          document.querySelector('#df-27c430aa-6b51-4caf-9b6b-746067c5e036 button.colab-df-convert');\n",
              "        buttonEl.style.display =\n",
              "          google.colab.kernel.accessAllowed ? 'block' : 'none';\n",
              "\n",
              "        async function convertToInteractive(key) {\n",
              "          const element = document.querySelector('#df-27c430aa-6b51-4caf-9b6b-746067c5e036');\n",
              "          const dataTable =\n",
              "            await google.colab.kernel.invokeFunction('convertToInteractive',\n",
              "                                                     [key], {});\n",
              "          if (!dataTable) return;\n",
              "\n",
              "          const docLinkHtml = 'Like what you see? Visit the ' +\n",
              "            '<a target=\"_blank\" href=https://colab.research.google.com/notebooks/data_table.ipynb>data table notebook</a>'\n",
              "            + ' to learn more about interactive tables.';\n",
              "          element.innerHTML = '';\n",
              "          dataTable['output_type'] = 'display_data';\n",
              "          await google.colab.output.renderOutput(dataTable, element);\n",
              "          const docLink = document.createElement('div');\n",
              "          docLink.innerHTML = docLinkHtml;\n",
              "          element.appendChild(docLink);\n",
              "        }\n",
              "      </script>\n",
              "    </div>\n",
              "  </div>\n",
              "  "
            ]
          },
          "metadata": {},
          "execution_count": 5
        }
      ]
    },
    {
      "cell_type": "code",
      "source": [
        "import matplotlib.pyplot as plt\n",
        "import seaborn as sns\n",
        "plt.figure(1 , figsize = (15 , 5))\n",
        "sns.countplot(y = 'classe' , data = data)\n",
        "plt.show()"
      ],
      "metadata": {
        "colab": {
          "base_uri": "https://localhost:8080/",
          "height": 334
        },
        "id": "QWAQiWYVAzQN",
        "outputId": "893d8d44-5330-41df-9de4-e62e086d051d"
      },
      "execution_count": null,
      "outputs": [
        {
          "output_type": "display_data",
          "data": {
            "text/plain": [
              "<Figure size 1080x360 with 1 Axes>"
            ],
            "image/png": "[encoded data removed]"
          },
          "metadata": {
            "needs_background": "light"
          }
        }
      ]
    },
    {
      "cell_type": "code",
      "source": [
        "print(data.loc[data.classe==0].groupby('classe')[\"classe\"].count())\n",
        "print(data.loc[data.classe==1].groupby('classe')[\"classe\"].count())\n",
        "print(data.loc[data.classe==2].groupby('classe')[\"classe\"].count())"
      ],
      "metadata": {
        "colab": {
          "base_uri": "https://localhost:8080/"
        },
        "id": "mWndFEOiC4pP",
        "outputId": "23bc3885-244b-4f36-e3ce-0abb74c19359"
      },
      "execution_count": null,
      "outputs": [
        {
          "output_type": "stream",
          "name": "stdout",
          "text": [
            "classe\n",
            "0    12353\n",
            "Name: classe, dtype: int64\n",
            "classe\n",
            "1    3850\n",
            "Name: classe, dtype: int64\n",
            "classe\n",
            "2    6830\n",
            "Name: classe, dtype: int64\n"
          ]
        }
      ]
    },
    {
      "cell_type": "markdown",
      "source": [
        "2/ NLP Data Preparations: Data Balancing"
      ],
      "metadata": {
        "id": "nWDDcwDwA32H"
      }
    },
    {
      "cell_type": "code",
      "source": [
        "from tensorflow.keras.preprocessing.text import Tokenizer\n",
        "from tensorflow.keras.preprocessing.sequence import pad_sequences\n",
        "import numpy as np\n",
        "\n",
        "sentences = []\n",
        "labels = []\n",
        "\n",
        "sentences = data['commentaire']\n",
        "labels = data['classe']\n",
        "L=[]\n",
        "#for i in labels:\n",
        "#  if (i != '1') and (i != '0'):\n",
        "#    L.append(i)\n",
        "\n",
        "labels = [int(i) for i in labels]\n",
        "#L"
      ],
      "metadata": {
        "id": "BgMfbCVpBAOB"
      },
      "execution_count": null,
      "outputs": []
    },
    {
      "cell_type": "code",
      "source": [
        "i=0\n",
        "c=0\n",
        "Nlables=[]\n",
        "Nsentences=[]\n",
        "while (c<6000):\n",
        "  if (labels[i]!= 0):\n",
        "    Nlables.append(labels[i])\n",
        "    Nsentences.append(sentences[i])\n",
        "  else:\n",
        "    c+=1\n",
        "  i+=1\n",
        "while (i<len(labels)):\n",
        "  Nlables.append(labels[i])\n",
        "  Nsentences.append(sentences[i])\n",
        "  i+=1\n"
      ],
      "metadata": {
        "id": "Vp_qjUMwT6PI"
      },
      "execution_count": null,
      "outputs": []
    },
    {
      "cell_type": "code",
      "source": [
        "import pandas as pd\n",
        "\n",
        "data=[[i,j] for i,j in zip(Nsentences , Nlables)]\n",
        "\n",
        "data=pd.DataFrame(data,columns=[\"sentences\",\"classe\"])\n",
        "\n",
        "data"
      ],
      "metadata": {
        "colab": {
          "base_uri": "https://localhost:8080/",
          "height": 424
        },
        "id": "zQgP6WSIbrNm",
        "outputId": "5a8abf8a-7b9a-4037-ec31-9cbf7f08c952"
      },
      "execution_count": null,
      "outputs": [
        {
          "output_type": "execute_result",
          "data": {
            "text/plain": [
              "                                               sentences  classe\n",
              "0      كلنا بره ومش هنبطل نزايد على العجايز الي جابون...       2\n",
              "1          قذر اتفووو ماتيجى مصر وتورينا نفسك كدا ياجبان       2\n",
              "2      وهكذا رجال الشو اللي محرومين من عمل برنامج الغ...       2\n",
              "3                                   أنت أزاي لبؤة كدة ؟        1\n",
              "4      دول عبيد باسم !! انت ما تعرفش غير ستات كده يعن...       2\n",
              "...                                                  ...     ...\n",
              "17028    يلا ولا خنزير الله يرحم صدام حسين لي كان داعسكن       2\n",
              "17029            وبلدك سوريا لا تبغي سوا القتل والاجرام        2\n",
              "17030  معالي الوزير نؤمن بك دائما لأنك الدرع المنيع ف...       0\n",
              "17031  حياة سندي مستشارة امين عام الامم المتحدة بان ك...       0\n",
              "17032  انت يا جبران باسيل بعقليتك الفجة النتنة تقولرب...       2\n",
              "\n",
              "[17033 rows x 2 columns]"
            ],
            "text/html": [
              "\n",
              "  <div id=\"df-b70d4191-e870-4bc4-9333-503c81d46beb\">\n",
              "    <div class=\"colab-df-container\">\n",
              "      <div>\n",
              "<style scoped>\n",
              "    .dataframe tbody tr th:only-of-type {\n",
              "        vertical-align: middle;\n",
              "    }\n",
              "\n",
              "    .dataframe tbody tr th {\n",
              "        vertical-align: top;\n",
              "    }\n",
              "\n",
              "    .dataframe thead th {\n",
              "        text-align: right;\n",
              "    }\n",
              "</style>\n",
              "<table border=\"1\" class=\"dataframe\">\n",
              "  <thead>\n",
              "    <tr style=\"text-align: right;\">\n",
              "      <th></th>\n",
              "      <th>sentences</th>\n",
              "      <th>classe</th>\n",
              "    </tr>\n",
              "  </thead>\n",
              "  <tbody>\n",
              "    <tr>\n",
              "      <th>0</th>\n",
              "      <td>كلنا بره ومش هنبطل نزايد على العجايز الي جابون...</td>\n",
              "      <td>2</td>\n",
              "    </tr>\n",
              "    <tr>\n",
              "      <th>1</th>\n",
              "      <td>قذر اتفووو ماتيجى مصر وتورينا نفسك كدا ياجبان</td>\n",
              "      <td>2</td>\n",
              "    </tr>\n",
              "    <tr>\n",
              "      <th>2</th>\n",
              "      <td>وهكذا رجال الشو اللي محرومين من عمل برنامج الغ...</td>\n",
              "      <td>2</td>\n",
              "    </tr>\n",
              "    <tr>\n",
              "      <th>3</th>\n",
              "      <td>أنت أزاي لبؤة كدة ؟</td>\n",
              "      <td>1</td>\n",
              "    </tr>\n",
              "    <tr>\n",
              "      <th>4</th>\n",
              "      <td>دول عبيد باسم !! انت ما تعرفش غير ستات كده يعن...</td>\n",
              "      <td>2</td>\n",
              "    </tr>\n",
              "    <tr>\n",
              "      <th>...</th>\n",
              "      <td>...</td>\n",
              "      <td>...</td>\n",
              "    </tr>\n",
              "    <tr>\n",
              "      <th>17028</th>\n",
              "      <td>يلا ولا خنزير الله يرحم صدام حسين لي كان داعسكن</td>\n",
              "      <td>2</td>\n",
              "    </tr>\n",
              "    <tr>\n",
              "      <th>17029</th>\n",
              "      <td>وبلدك سوريا لا تبغي سوا القتل والاجرام</td>\n",
              "      <td>2</td>\n",
              "    </tr>\n",
              "    <tr>\n",
              "      <th>17030</th>\n",
              "      <td>معالي الوزير نؤمن بك دائما لأنك الدرع المنيع ف...</td>\n",
              "      <td>0</td>\n",
              "    </tr>\n",
              "    <tr>\n",
              "      <th>17031</th>\n",
              "      <td>حياة سندي مستشارة امين عام الامم المتحدة بان ك...</td>\n",
              "      <td>0</td>\n",
              "    </tr>\n",
              "    <tr>\n",
              "      <th>17032</th>\n",
              "      <td>انت يا جبران باسيل بعقليتك الفجة النتنة تقولرب...</td>\n",
              "      <td>2</td>\n",
              "    </tr>\n",
              "  </tbody>\n",
              "</table>\n",
              "<p>17033 rows × 2 columns</p>\n",
              "</div>\n",
              "      <button class=\"colab-df-convert\" onclick=\"convertToInteractive('df-b70d4191-e870-4bc4-9333-503c81d46beb')\"\n",
              "              title=\"Convert this dataframe to an interactive table.\"\n",
              "              style=\"display:none;\">\n",
              "        \n",
              "  <svg xmlns=\"http://www.w3.org/2000/svg\" height=\"24px\"viewBox=\"0 0 24 24\"\n",
              "       width=\"24px\">\n",
              "    <path d=\"M0 0h24v24H0V0z\" fill=\"none\"/>\n",
              "    <path d=\"M18.56 5.44l.94 2.06.94-2.06 2.06-.94-2.06-.94-.94-2.06-.94 2.06-2.06.94zm-11 1L8.5 8.5l.94-2.06 2.06-.94-2.06-.94L8.5 2.5l-.94 2.06-2.06.94zm10 10l.94 2.06.94-2.06 2.06-.94-2.06-.94-.94-2.06-.94 2.06-2.06.94z\"/><path d=\"M17.41 7.96l-1.37-1.37c-.4-.4-.92-.59-1.43-.59-.52 0-1.04.2-1.43.59L10.3 9.45l-7.72 7.72c-.78.78-.78 2.05 0 2.83L4 21.41c.39.39.9.59 1.41.59.51 0 1.02-.2 1.41-.59l7.78-7.78 2.81-2.81c.8-.78.8-2.07 0-2.86zM5.41 20L4 18.59l7.72-7.72 1.47 1.35L5.41 20z\"/>\n",
              "  </svg>\n",
              "      </button>\n",
              "      \n",
              "  <style>\n",
              "    .colab-df-container {\n",
              "      display:flex;\n",
              "      flex-wrap:wrap;\n",
              "      gap: 12px;\n",
              "    }\n",
              "\n",
              "    .colab-df-convert {\n",
              "      background-color: #E8F0FE;\n",
              "      border: none;\n",
              "      border-radius: 50%;\n",
              "      cursor: pointer;\n",
              "      display: none;\n",
              "      fill: #1967D2;\n",
              "      height: 32px;\n",
              "      padding: 0 0 0 0;\n",
              "      width: 32px;\n",
              "    }\n",
              "\n",
              "    .colab-df-convert:hover {\n",
              "      background-color: #E2EBFA;\n",
              "      box-shadow: 0px 1px 2px rgba(60, 64, 67, 0.3), 0px 1px 3px 1px rgba(60, 64, 67, 0.15);\n",
              "      fill: #174EA6;\n",
              "    }\n",
              "\n",
              "    [theme=dark] .colab-df-convert {\n",
              "      background-color: #3B4455;\n",
              "      fill: #D2E3FC;\n",
              "    }\n",
              "\n",
              "    [theme=dark] .colab-df-convert:hover {\n",
              "      background-color: #434B5C;\n",
              "      box-shadow: 0px 1px 3px 1px rgba(0, 0, 0, 0.15);\n",
              "      filter: drop-shadow(0px 1px 2px rgba(0, 0, 0, 0.3));\n",
              "      fill: #FFFFFF;\n",
              "    }\n",
              "  </style>\n",
              "\n",
              "      <script>\n",
              "        const buttonEl =\n",
              "          document.querySelector('#df-b70d4191-e870-4bc4-9333-503c81d46beb button.colab-df-convert');\n",
              "        buttonEl.style.display =\n",
              "          google.colab.kernel.accessAllowed ? 'block' : 'none';\n",
              "\n",
              "        async function convertToInteractive(key) {\n",
              "          const element = document.querySelector('#df-b70d4191-e870-4bc4-9333-503c81d46beb');\n",
              "          const dataTable =\n",
              "            await google.colab.kernel.invokeFunction('convertToInteractive',\n",
              "                                                     [key], {});\n",
              "          if (!dataTable) return;\n",
              "\n",
              "          const docLinkHtml = 'Like what you see? Visit the ' +\n",
              "            '<a target=\"_blank\" href=https://colab.research.google.com/notebooks/data_table.ipynb>data table notebook</a>'\n",
              "            + ' to learn more about interactive tables.';\n",
              "          element.innerHTML = '';\n",
              "          dataTable['output_type'] = 'display_data';\n",
              "          await google.colab.output.renderOutput(dataTable, element);\n",
              "          const docLink = document.createElement('div');\n",
              "          docLink.innerHTML = docLinkHtml;\n",
              "          element.appendChild(docLink);\n",
              "        }\n",
              "      </script>\n",
              "    </div>\n",
              "  </div>\n",
              "  "
            ]
          },
          "metadata": {},
          "execution_count": 24
        }
      ]
    },
    {
      "cell_type": "code",
      "source": [
        "import matplotlib.pyplot as plt\n",
        "import seaborn as sns\n",
        "plt.figure(1 , figsize = (15 , 5))\n",
        "sns.countplot(y = 'classe' , data = data)\n",
        "plt.show()"
      ],
      "metadata": {
        "colab": {
          "base_uri": "https://localhost:8080/",
          "height": 334
        },
        "id": "Fz8P60LwbLjI",
        "outputId": "1bc94e49-d220-45b9-db67-896245d9c9be"
      },
      "execution_count": null,
      "outputs": [
        {
          "output_type": "display_data",
          "data": {
            "text/plain": [
              "<Figure size 1080x360 with 1 Axes>"
            ],
            "image/png": "[encoded data removed]"
          },
          "metadata": {
            "needs_background": "light"
          }
        }
      ]
    },
    {
      "cell_type": "code",
      "source": [
        "#Figure out the longest comment\n",
        "\n",
        "def count_words(input):\n",
        "  return len(input.split())\n",
        "max_length=count_words(max(Nsentences,key=count_words))\n",
        "max_length"
      ],
      "metadata": {
        "colab": {
          "base_uri": "https://localhost:8080/"
        },
        "id": "A37mvaVcD-ji",
        "outputId": "ad606806-f32f-4a77-ad2d-07c5c5837a26"
      },
      "execution_count": null,
      "outputs": [
        {
          "output_type": "execute_result",
          "data": {
            "text/plain": [
              "207"
            ]
          },
          "metadata": {},
          "execution_count": 40
        }
      ]
    },
    {
      "cell_type": "markdown",
      "source": [
        "#Importing extra data"
      ],
      "metadata": {
        "id": "cCJNbJcEzes_"
      }
    },
    {
      "cell_type": "code",
      "source": [
        "data12=pd.read_excel(\"/content/drive/MyDrive/All/Projects/Ing Internship/Data/dataset1and2.xlsx\")\n",
        "data34=pd.read_excel(\"/content/drive/MyDrive/All/Projects/Ing Internship/Data/dataset3and4.xlsx\")\n",
        "\n",
        "data12['classe']=data12['classe'].replace(\"hate\", int(2))\n",
        "data12['classe']=data12['classe'].replace(\"normal\", int(0)) \n",
        "data12['classe']=data12['classe'].replace(\"abusive\", int(1))\n",
        "\n",
        "data34['classe']=data34['classe'].replace(\"hate\", int(2))\n",
        "data34['classe']=data34['classe'].replace(\"normal\", int(0)) \n",
        "data34['classe']=data34['classe'].replace(\"abusive\", int(1))\n",
        "\n",
        "\n",
        "C1=data12[\"commentaire\"]\n",
        "C2=data34[\"commentaire\"]\n",
        "L1=data12[\"classe\"]\n",
        "L2=data34[\"classe\"]\n",
        "\n",
        "\n",
        "data12=[[i,j] for i,j in zip(C1 , L1)]\n",
        "data34=[[i,j] for i,j in zip(C2 , L2)]\n",
        "\n",
        "data12=pd.DataFrame(data12,columns=[\"sentences\",\"classe\"])\n",
        "data34=pd.DataFrame(data34,columns=[\"sentences\",\"classe\"])"
      ],
      "metadata": {
        "id": "lJ4ViTx6zc-7"
      },
      "execution_count": null,
      "outputs": []
    },
    {
      "cell_type": "code",
      "source": [
        "data12"
      ],
      "metadata": {
        "colab": {
          "base_uri": "https://localhost:8080/",
          "height": 424
        },
        "id": "IhOSM1XP17Oy",
        "outputId": "5c5cb6d0-33f1-4432-a751-19bf69f5c20d"
      },
      "execution_count": null,
      "outputs": [
        {
          "output_type": "execute_result",
          "data": {
            "text/plain": [
              "                                              sentences  classe\n",
              "0     اسغي ياشعب تونس تدعوا بالاسلام كفار الحمدلله ن...       2\n",
              "1     قطع يد السارق توفرت الشروط شرط الحد الأدنى قيم...       0\n",
              "2                                تلوموش لطفي لعبدلي شرف       0\n",
              "3     مستغرب شعب يسمع تفاهة شانو لى الدرجة الشعب تاف...       0\n",
              "4     هههخ غزلتني مافهمتش شمدخلها الموضوع تتنطر وحده...       0\n",
              "...                                                 ...     ...\n",
              "6455                               وجهو وجه الطحين ورخس       1\n",
              "6456  الله لا يبارك فيكم و في الي تزرعوا فيه اليوم ل...       2\n",
              "6457  ملا حثالة مستدعيه ، قواد ولحاس ، طيح مستوى الب...       2\n",
              "6458                          شبعة خمج.اينما يقيم الجهل       2\n",
              "6459     عدم إحترام المشاهد من جميع الأطراف هي قلة حياء       2\n",
              "\n",
              "[6460 rows x 2 columns]"
            ],
            "text/html": [
              "\n",
              "  <div id=\"df-e63edcf2-c7c0-4f78-86e1-bf4cf27dbfaf\">\n",
              "    <div class=\"colab-df-container\">\n",
              "      <div>\n",
              "<style scoped>\n",
              "    .dataframe tbody tr th:only-of-type {\n",
              "        vertical-align: middle;\n",
              "    }\n",
              "\n",
              "    .dataframe tbody tr th {\n",
              "        vertical-align: top;\n",
              "    }\n",
              "\n",
              "    .dataframe thead th {\n",
              "        text-align: right;\n",
              "    }\n",
              "</style>\n",
              "<table border=\"1\" class=\"dataframe\">\n",
              "  <thead>\n",
              "    <tr style=\"text-align: right;\">\n",
              "      <th></th>\n",
              "      <th>sentences</th>\n",
              "      <th>classe</th>\n",
              "    </tr>\n",
              "  </thead>\n",
              "  <tbody>\n",
              "    <tr>\n",
              "      <th>0</th>\n",
              "      <td>اسغي ياشعب تونس تدعوا بالاسلام كفار الحمدلله ن...</td>\n",
              "      <td>2</td>\n",
              "    </tr>\n",
              "    <tr>\n",
              "      <th>1</th>\n",
              "      <td>قطع يد السارق توفرت الشروط شرط الحد الأدنى قيم...</td>\n",
              "      <td>0</td>\n",
              "    </tr>\n",
              "    <tr>\n",
              "      <th>2</th>\n",
              "      <td>تلوموش لطفي لعبدلي شرف</td>\n",
              "      <td>0</td>\n",
              "    </tr>\n",
              "    <tr>\n",
              "      <th>3</th>\n",
              "      <td>مستغرب شعب يسمع تفاهة شانو لى الدرجة الشعب تاف...</td>\n",
              "      <td>0</td>\n",
              "    </tr>\n",
              "    <tr>\n",
              "      <th>4</th>\n",
              "      <td>هههخ غزلتني مافهمتش شمدخلها الموضوع تتنطر وحده...</td>\n",
              "      <td>0</td>\n",
              "    </tr>\n",
              "    <tr>\n",
              "      <th>...</th>\n",
              "      <td>...</td>\n",
              "      <td>...</td>\n",
              "    </tr>\n",
              "    <tr>\n",
              "      <th>6455</th>\n",
              "      <td>وجهو وجه الطحين ورخس</td>\n",
              "      <td>1</td>\n",
              "    </tr>\n",
              "    <tr>\n",
              "      <th>6456</th>\n",
              "      <td>الله لا يبارك فيكم و في الي تزرعوا فيه اليوم ل...</td>\n",
              "      <td>2</td>\n",
              "    </tr>\n",
              "    <tr>\n",
              "      <th>6457</th>\n",
              "      <td>ملا حثالة مستدعيه ، قواد ولحاس ، طيح مستوى الب...</td>\n",
              "      <td>2</td>\n",
              "    </tr>\n",
              "    <tr>\n",
              "      <th>6458</th>\n",
              "      <td>شبعة خمج.اينما يقيم الجهل</td>\n",
              "      <td>2</td>\n",
              "    </tr>\n",
              "    <tr>\n",
              "      <th>6459</th>\n",
              "      <td>عدم إحترام المشاهد من جميع الأطراف هي قلة حياء</td>\n",
              "      <td>2</td>\n",
              "    </tr>\n",
              "  </tbody>\n",
              "</table>\n",
              "<p>6460 rows × 2 columns</p>\n",
              "</div>\n",
              "      <button class=\"colab-df-convert\" onclick=\"convertToInteractive('df-e63edcf2-c7c0-4f78-86e1-bf4cf27dbfaf')\"\n",
              "              title=\"Convert this dataframe to an interactive table.\"\n",
              "              style=\"display:none;\">\n",
              "        \n",
              "  <svg xmlns=\"http://www.w3.org/2000/svg\" height=\"24px\"viewBox=\"0 0 24 24\"\n",
              "       width=\"24px\">\n",
              "    <path d=\"M0 0h24v24H0V0z\" fill=\"none\"/>\n",
              "    <path d=\"M18.56 5.44l.94 2.06.94-2.06 2.06-.94-2.06-.94-.94-2.06-.94 2.06-2.06.94zm-11 1L8.5 8.5l.94-2.06 2.06-.94-2.06-.94L8.5 2.5l-.94 2.06-2.06.94zm10 10l.94 2.06.94-2.06 2.06-.94-2.06-.94-.94-2.06-.94 2.06-2.06.94z\"/><path d=\"M17.41 7.96l-1.37-1.37c-.4-.4-.92-.59-1.43-.59-.52 0-1.04.2-1.43.59L10.3 9.45l-7.72 7.72c-.78.78-.78 2.05 0 2.83L4 21.41c.39.39.9.59 1.41.59.51 0 1.02-.2 1.41-.59l7.78-7.78 2.81-2.81c.8-.78.8-2.07 0-2.86zM5.41 20L4 18.59l7.72-7.72 1.47 1.35L5.41 20z\"/>\n",
              "  </svg>\n",
              "      </button>\n",
              "      \n",
              "  <style>\n",
              "    .colab-df-container {\n",
              "      display:flex;\n",
              "      flex-wrap:wrap;\n",
              "      gap: 12px;\n",
              "    }\n",
              "\n",
              "    .colab-df-convert {\n",
              "      background-color: #E8F0FE;\n",
              "      border: none;\n",
              "      border-radius: 50%;\n",
              "      cursor: pointer;\n",
              "      display: none;\n",
              "      fill: #1967D2;\n",
              "      height: 32px;\n",
              "      padding: 0 0 0 0;\n",
              "      width: 32px;\n",
              "    }\n",
              "\n",
              "    .colab-df-convert:hover {\n",
              "      background-color: #E2EBFA;\n",
              "      box-shadow: 0px 1px 2px rgba(60, 64, 67, 0.3), 0px 1px 3px 1px rgba(60, 64, 67, 0.15);\n",
              "      fill: #174EA6;\n",
              "    }\n",
              "\n",
              "    [theme=dark] .colab-df-convert {\n",
              "      background-color: #3B4455;\n",
              "      fill: #D2E3FC;\n",
              "    }\n",
              "\n",
              "    [theme=dark] .colab-df-convert:hover {\n",
              "      background-color: #434B5C;\n",
              "      box-shadow: 0px 1px 3px 1px rgba(0, 0, 0, 0.15);\n",
              "      filter: drop-shadow(0px 1px 2px rgba(0, 0, 0, 0.3));\n",
              "      fill: #FFFFFF;\n",
              "    }\n",
              "  </style>\n",
              "\n",
              "      <script>\n",
              "        const buttonEl =\n",
              "          document.querySelector('#df-e63edcf2-c7c0-4f78-86e1-bf4cf27dbfaf button.colab-df-convert');\n",
              "        buttonEl.style.display =\n",
              "          google.colab.kernel.accessAllowed ? 'block' : 'none';\n",
              "\n",
              "        async function convertToInteractive(key) {\n",
              "          const element = document.querySelector('#df-e63edcf2-c7c0-4f78-86e1-bf4cf27dbfaf');\n",
              "          const dataTable =\n",
              "            await google.colab.kernel.invokeFunction('convertToInteractive',\n",
              "                                                     [key], {});\n",
              "          if (!dataTable) return;\n",
              "\n",
              "          const docLinkHtml = 'Like what you see? Visit the ' +\n",
              "            '<a target=\"_blank\" href=https://colab.research.google.com/notebooks/data_table.ipynb>data table notebook</a>'\n",
              "            + ' to learn more about interactive tables.';\n",
              "          element.innerHTML = '';\n",
              "          dataTable['output_type'] = 'display_data';\n",
              "          await google.colab.output.renderOutput(dataTable, element);\n",
              "          const docLink = document.createElement('div');\n",
              "          docLink.innerHTML = docLinkHtml;\n",
              "          element.appendChild(docLink);\n",
              "        }\n",
              "      </script>\n",
              "    </div>\n",
              "  </div>\n",
              "  "
            ]
          },
          "metadata": {},
          "execution_count": 42
        }
      ]
    },
    {
      "cell_type": "code",
      "source": [
        "plt.figure(1 , figsize = (15 , 5))\n",
        "sns.countplot(y = 'classe' , data = data12)\n",
        "plt.show()\n",
        "print(data12.loc[data12.classe==0].groupby('classe')[\"classe\"].count())\n",
        "print(data12.loc[data12.classe==1].groupby('classe')[\"classe\"].count())\n",
        "print(data12.loc[data12.classe==2].groupby('classe')[\"classe\"].count())"
      ],
      "metadata": {
        "colab": {
          "base_uri": "https://localhost:8080/",
          "height": 490
        },
        "id": "15BM6cRP0Wrl",
        "outputId": "c79f35f2-605c-411c-9e9f-68650111f27c"
      },
      "execution_count": null,
      "outputs": [
        {
          "output_type": "display_data",
          "data": {
            "text/plain": [
              "<Figure size 1080x360 with 1 Axes>"
            ],
            "image/png": "[encoded data removed]"
          },
          "metadata": {
            "needs_background": "light"
          }
        },
        {
          "output_type": "stream",
          "name": "stdout",
          "text": [
            "classe\n",
            "0    3857\n",
            "Name: classe, dtype: int64\n",
            "classe\n",
            "1    1204\n",
            "Name: classe, dtype: int64\n",
            "classe\n",
            "2    1399\n",
            "Name: classe, dtype: int64\n"
          ]
        }
      ]
    },
    {
      "cell_type": "code",
      "source": [
        "plt.figure(1 , figsize = (15 , 5))\n",
        "sns.countplot(y = 'classe' , data = data34)\n",
        "plt.show()\n",
        "print(data34.loc[data34.classe==0].groupby('classe')[\"classe\"].count())\n",
        "print(data34.loc[data34.classe==1].groupby('classe')[\"classe\"].count())\n",
        "print(data34.loc[data34.classe==2].groupby('classe')[\"classe\"].count())"
      ],
      "metadata": {
        "colab": {
          "base_uri": "https://localhost:8080/",
          "height": 490
        },
        "id": "OOiCKJ4y1I5T",
        "outputId": "bb8e6cd1-1f3a-4487-df9e-446d847ec9a6"
      },
      "execution_count": null,
      "outputs": [
        {
          "output_type": "display_data",
          "data": {
            "text/plain": [
              "<Figure size 1080x360 with 1 Axes>"
            ],
            "image/png": "[encoded data removed]"
          },
          "metadata": {
            "needs_background": "light"
          }
        },
        {
          "output_type": "stream",
          "name": "stdout",
          "text": [
            "classe\n",
            "0    4565\n",
            "Name: classe, dtype: int64\n",
            "classe\n",
            "1    1746\n",
            "Name: classe, dtype: int64\n",
            "classe\n",
            "2    2885\n",
            "Name: classe, dtype: int64\n"
          ]
        }
      ]
    },
    {
      "cell_type": "markdown",
      "source": [
        "##The way that the computers percieve words and phrases is diffrent from the way that we preceve it as human beings. There are a veriety of ways for us that we can utilise to program the data type that we have and to make it numerical so that the model can get some meaning out of it. We call this part encoding text.\n",
        "##we can transfor each alphabet and caracter to it's ASCII Code, but this approach wasn't proven to give great results [To Research] !!!\n",
        "#What I did in the code was: Continus or distributed Embeddings Vectors representation:\n",
        "* First: Build a dictionary of tokens: I defined a dictionnary That has the words as keys and a unique number as a value\n",
        "* I then changed all of the phrases into Lists that has integers that indicate which word is in that particular place\n",
        "* Use One-Hot Vector\n",
        "\n",
        "##After doing this process, we have a numerical data that the model can use to get some meaning out of the labels"
      ],
      "metadata": {
        "id": "qbiHzGSbw8sE"
      }
    },
    {
      "cell_type": "code",
      "source": [
        "training_size=int(len(Nsentences)*0.8)   #Experimenting setup\n",
        "\n",
        "training_sentences = Nsentences[0:training_size]\n",
        "testing_sentences = Nsentences[training_size:]\n",
        "training_labels = Nlables[0:training_size]\n",
        "testing_labels = Nlables[training_size:]\n",
        "\n",
        "embedding_dim = 16\n",
        "\n",
        "tokenizer = Tokenizer(num_words=3000, oov_token=\"<OOV>\")\n",
        "tokenizer.fit_on_texts(training_sentences)\n",
        "\n",
        "vocab_size = len(tokenizer.word_index) + 1 \n",
        "\n",
        "word_index = tokenizer.word_index\n",
        "\n",
        "training_sequences = tokenizer.texts_to_sequences(training_sentences)\n",
        "training_padded = pad_sequences(training_sequences, maxlen=max_length, padding='post', truncating='post')\n",
        "\n",
        "testing_sequences = tokenizer.texts_to_sequences(testing_sentences)\n",
        "testing_padded = pad_sequences(testing_sequences, maxlen=max_length, padding='post', truncating='post')"
      ],
      "metadata": {
        "id": "FrNFMsATGjbL"
      },
      "execution_count": null,
      "outputs": []
    },
    {
      "cell_type": "code",
      "source": [
        "vocab_size"
      ],
      "metadata": {
        "id": "GCD5XHrK8HaL",
        "outputId": "b3ab94ab-4bb8-4686-8f6b-735808a75c69",
        "colab": {
          "base_uri": "https://localhost:8080/"
        }
      },
      "execution_count": null,
      "outputs": [
        {
          "output_type": "execute_result",
          "data": {
            "text/plain": [
              "37785"
            ]
          },
          "metadata": {},
          "execution_count": 56
        }
      ]
    },
    {
      "cell_type": "code",
      "source": [
        "len(word_index)"
      ],
      "metadata": {
        "id": "PB3wZKaR8MXq",
        "outputId": "d9ccdfee-071e-4e0f-fff9-2d471fe4e04c",
        "colab": {
          "base_uri": "https://localhost:8080/"
        }
      },
      "execution_count": null,
      "outputs": [
        {
          "output_type": "execute_result",
          "data": {
            "text/plain": [
              "37784"
            ]
          },
          "metadata": {},
          "execution_count": 65
        }
      ]
    },
    {
      "cell_type": "code",
      "source": [
        "help(tokenizer)"
      ],
      "metadata": {
        "id": "JqSd45pQ8_hX",
        "outputId": "7f630392-41d5-4ca6-e0ae-437f6e8d5c0e",
        "colab": {
          "base_uri": "https://localhost:8080/"
        }
      },
      "execution_count": null,
      "outputs": [
        {
          "output_type": "stream",
          "name": "stdout",
          "text": [
            "Help on Tokenizer in module keras_preprocessing.text object:\n",
            "\n",
            "class Tokenizer(builtins.object)\n",
            " |  Tokenizer(num_words=None, filters='!\"#$%&()*+,-./:;<=>?@[\\\\]^_`{|}~\\t\\n', lower=True, split=' ', char_level=False, oov_token=None, document_count=0, **kwargs)\n",
            " |  \n",
            " |  Text tokenization utility class.\n",
            " |  \n",
            " |  This class allows to vectorize a text corpus, by turning each\n",
            " |  text into either a sequence of integers (each integer being the index\n",
            " |  of a token in a dictionary) or into a vector where the coefficient\n",
            " |  for each token could be binary, based on word count, based on tf-idf...\n",
            " |  \n",
            " |  # Arguments\n",
            " |      num_words: the maximum number of words to keep, based\n",
            " |          on word frequency. Only the most common `num_words-1` words will\n",
            " |          be kept.\n",
            " |      filters: a string where each element is a character that will be\n",
            " |          filtered from the texts. The default is all punctuation, plus\n",
            " |          tabs and line breaks, minus the `'` character.\n",
            " |      lower: boolean. Whether to convert the texts to lowercase.\n",
            " |      split: str. Separator for word splitting.\n",
            " |      char_level: if True, every character will be treated as a token.\n",
            " |      oov_token: if given, it will be added to word_index and used to\n",
            " |          replace out-of-vocabulary words during text_to_sequence calls\n",
            " |  \n",
            " |  By default, all punctuation is removed, turning the texts into\n",
            " |  space-separated sequences of words\n",
            " |  (words maybe include the `'` character). These sequences are then\n",
            " |  split into lists of tokens. They will then be indexed or vectorized.\n",
            " |  \n",
            " |  `0` is a reserved index that won't be assigned to any word.\n",
            " |  \n",
            " |  Methods defined here:\n",
            " |  \n",
            " |  __init__(self, num_words=None, filters='!\"#$%&()*+,-./:;<=>?@[\\\\]^_`{|}~\\t\\n', lower=True, split=' ', char_level=False, oov_token=None, document_count=0, **kwargs)\n",
            " |      Initialize self.  See help(type(self)) for accurate signature.\n",
            " |  \n",
            " |  fit_on_sequences(self, sequences)\n",
            " |      Updates internal vocabulary based on a list of sequences.\n",
            " |      \n",
            " |      Required before using `sequences_to_matrix`\n",
            " |      (if `fit_on_texts` was never called).\n",
            " |      \n",
            " |      # Arguments\n",
            " |          sequences: A list of sequence.\n",
            " |              A \"sequence\" is a list of integer word indices.\n",
            " |  \n",
            " |  fit_on_texts(self, texts)\n",
            " |      Updates internal vocabulary based on a list of texts.\n",
            " |      \n",
            " |      In the case where texts contains lists,\n",
            " |      we assume each entry of the lists to be a token.\n",
            " |      \n",
            " |      Required before using `texts_to_sequences` or `texts_to_matrix`.\n",
            " |      \n",
            " |      # Arguments\n",
            " |          texts: can be a list of strings,\n",
            " |              a generator of strings (for memory-efficiency),\n",
            " |              or a list of list of strings.\n",
            " |  \n",
            " |  get_config(self)\n",
            " |      Returns the tokenizer configuration as Python dictionary.\n",
            " |      The word count dictionaries used by the tokenizer get serialized\n",
            " |      into plain JSON, so that the configuration can be read by other\n",
            " |      projects.\n",
            " |      \n",
            " |      # Returns\n",
            " |          A Python dictionary with the tokenizer configuration.\n",
            " |  \n",
            " |  sequences_to_matrix(self, sequences, mode='binary')\n",
            " |      Converts a list of sequences into a Numpy matrix.\n",
            " |      \n",
            " |      # Arguments\n",
            " |          sequences: list of sequences\n",
            " |              (a sequence is a list of integer word indices).\n",
            " |          mode: one of \"binary\", \"count\", \"tfidf\", \"freq\"\n",
            " |      \n",
            " |      # Returns\n",
            " |          A Numpy matrix.\n",
            " |      \n",
            " |      # Raises\n",
            " |          ValueError: In case of invalid `mode` argument,\n",
            " |              or if the Tokenizer requires to be fit to sample data.\n",
            " |  \n",
            " |  sequences_to_texts(self, sequences)\n",
            " |      Transforms each sequence into a list of text.\n",
            " |      \n",
            " |      Only top `num_words-1` most frequent words will be taken into account.\n",
            " |      Only words known by the tokenizer will be taken into account.\n",
            " |      \n",
            " |      # Arguments\n",
            " |          sequences: A list of sequences (list of integers).\n",
            " |      \n",
            " |      # Returns\n",
            " |          A list of texts (strings)\n",
            " |  \n",
            " |  sequences_to_texts_generator(self, sequences)\n",
            " |      Transforms each sequence in `sequences` to a list of texts(strings).\n",
            " |      \n",
            " |      Each sequence has to a list of integers.\n",
            " |      In other words, sequences should be a list of sequences\n",
            " |      \n",
            " |      Only top `num_words-1` most frequent words will be taken into account.\n",
            " |      Only words known by the tokenizer will be taken into account.\n",
            " |      \n",
            " |      # Arguments\n",
            " |          sequences: A list of sequences.\n",
            " |      \n",
            " |      # Yields\n",
            " |          Yields individual texts.\n",
            " |  \n",
            " |  texts_to_matrix(self, texts, mode='binary')\n",
            " |      Convert a list of texts to a Numpy matrix.\n",
            " |      \n",
            " |      # Arguments\n",
            " |          texts: list of strings.\n",
            " |          mode: one of \"binary\", \"count\", \"tfidf\", \"freq\".\n",
            " |      \n",
            " |      # Returns\n",
            " |          A Numpy matrix.\n",
            " |  \n",
            " |  texts_to_sequences(self, texts)\n",
            " |      Transforms each text in texts to a sequence of integers.\n",
            " |      \n",
            " |      Only top `num_words-1` most frequent words will be taken into account.\n",
            " |      Only words known by the tokenizer will be taken into account.\n",
            " |      \n",
            " |      # Arguments\n",
            " |          texts: A list of texts (strings).\n",
            " |      \n",
            " |      # Returns\n",
            " |          A list of sequences.\n",
            " |  \n",
            " |  texts_to_sequences_generator(self, texts)\n",
            " |      Transforms each text in `texts` to a sequence of integers.\n",
            " |      \n",
            " |      Each item in texts can also be a list,\n",
            " |      in which case we assume each item of that list to be a token.\n",
            " |      \n",
            " |      Only top `num_words-1` most frequent words will be taken into account.\n",
            " |      Only words known by the tokenizer will be taken into account.\n",
            " |      \n",
            " |      # Arguments\n",
            " |          texts: A list of texts (strings).\n",
            " |      \n",
            " |      # Yields\n",
            " |          Yields individual sequences.\n",
            " |  \n",
            " |  to_json(self, **kwargs)\n",
            " |      Returns a JSON string containing the tokenizer configuration.\n",
            " |      To load a tokenizer from a JSON string, use\n",
            " |      `keras.preprocessing.text.tokenizer_from_json(json_string)`.\n",
            " |      \n",
            " |      # Arguments\n",
            " |          **kwargs: Additional keyword arguments\n",
            " |              to be passed to `json.dumps()`.\n",
            " |      \n",
            " |      # Returns\n",
            " |          A JSON string containing the tokenizer configuration.\n",
            " |  \n",
            " |  ----------------------------------------------------------------------\n",
            " |  Data descriptors defined here:\n",
            " |  \n",
            " |  __dict__\n",
            " |      dictionary for instance variables (if defined)\n",
            " |  \n",
            " |  __weakref__\n",
            " |      list of weak references to the object (if defined)\n",
            "\n"
          ]
        }
      ]
    },
    {
      "cell_type": "code",
      "source": [
        "Nsentences12=data12[\"sentences\"]\n",
        "\n",
        "training_size=int(len(Nsentences12)*0.8)\n",
        "\n",
        "testing_sentences12 = Nsentences[training_size:]\n",
        "testing_labels12 = Nlables[training_size:]\n",
        "\n",
        "Nsentences34=data34[\"sentences\"]\n",
        "\n",
        "training_size=int(len(Nsentences34)*0.8)\n",
        "\n",
        "testing_sentences34 = Nsentences[training_size:]\n",
        "testing_labels34 = Nlables[training_size:]"
      ],
      "metadata": {
        "id": "mkUjHchx4FaT"
      },
      "execution_count": null,
      "outputs": []
    },
    {
      "cell_type": "code",
      "source": [
        "max_length12=count_words(max(testing_sentences12,key=count_words))\n",
        "max_length12"
      ],
      "metadata": {
        "id": "NPn7XcNo5qUy",
        "outputId": "0beec9f0-48b7-4eea-ad9c-d0295a9b1951",
        "colab": {
          "base_uri": "https://localhost:8080/"
        }
      },
      "execution_count": null,
      "outputs": [
        {
          "output_type": "execute_result",
          "data": {
            "text/plain": [
              "75"
            ]
          },
          "metadata": {},
          "execution_count": 38
        }
      ]
    },
    {
      "cell_type": "code",
      "source": [
        "max_length34=count_words(max(testing_sentences34,key=count_words))\n",
        "max_length34"
      ],
      "metadata": {
        "id": "5FkaUBXI60-_",
        "outputId": "8531289e-edd3-4e75-ef35-fb30143f1ed7",
        "colab": {
          "base_uri": "https://localhost:8080/"
        }
      },
      "execution_count": null,
      "outputs": [
        {
          "output_type": "execute_result",
          "data": {
            "text/plain": [
              "63"
            ]
          },
          "metadata": {},
          "execution_count": 39
        }
      ]
    },
    {
      "cell_type": "markdown",
      "source": [
        "###The Maximum length in the new data is less than 207, so we can padd them without losing information."
      ],
      "metadata": {
        "id": "AFubPmEL7Qrh"
      }
    },
    {
      "cell_type": "code",
      "source": [
        "testing_sequences12 = tokenizer.texts_to_sequences(testing_sentences12)\n",
        "testing_padded12 = pad_sequences(testing_sequences12, maxlen=max_length, padding='post', truncating='post')\n",
        "\n",
        "testing_sequences34 = tokenizer.texts_to_sequences(testing_sentences34)\n",
        "testing_padded34 = pad_sequences(testing_sequences34, maxlen=max_length, padding='post', truncating='post')"
      ],
      "metadata": {
        "id": "e0p6r_d_7O58"
      },
      "execution_count": null,
      "outputs": []
    },
    {
      "cell_type": "markdown",
      "source": [
        "#Modelling"
      ],
      "metadata": {
        "id": "TzmCjIfYBA8G"
      }
    },
    {
      "cell_type": "markdown",
      "source": [
        "##For The First Model"
      ],
      "metadata": {
        "id": "-CRh9Gqc7KxQ"
      }
    },
    {
      "cell_type": "code",
      "source": [
        "import tensorflow as tf\n",
        "\n",
        "model=tf.keras.models.Sequential ([\n",
        "                                   tf.keras.layers.Embedding(vocab_size, embedding_dim, input_length=max_length),\n",
        "                                   tf.keras.layers.Conv1D(128, 5, activation='relu'),\n",
        "                                   tf.keras.layers.Conv1D(filters=32, kernel_size=1, activation='selu'),\n",
        "                                   tf.keras.layers.Bidirectional(tf.keras.layers.LSTM(32,return_sequences=True)),\n",
        "                                   tf.keras.layers.Bidirectional(tf.keras.layers.LSTM(32,return_sequences=True)),\n",
        "                                   tf.keras.layers.Bidirectional(tf.keras.layers.LSTM(16,return_sequences=True)),\n",
        "                                   tf.keras.layers.Flatten(),\n",
        "                                   tf.keras.layers.Dense(units=3, activation='softmax')])\n",
        "model.summary()"
      ],
      "metadata": {
        "colab": {
          "base_uri": "https://localhost:8080/"
        },
        "id": "attb9Ze4BGlm",
        "outputId": "2e629d37-d09a-4899-9d32-fdaec4b23b71"
      },
      "execution_count": null,
      "outputs": [
        {
          "output_type": "stream",
          "name": "stdout",
          "text": [
            "Model: \"sequential\"\n",
            "_________________________________________________________________\n",
            " Layer (type)                Output Shape              Param #   \n",
            "=================================================================\n",
            " embedding (Embedding)       (None, 209, 16)           604560    \n",
            "                                                                 \n",
            " conv1d (Conv1D)             (None, 205, 128)          10368     \n",
            "                                                                 \n",
            " conv1d_1 (Conv1D)           (None, 205, 32)           4128      \n",
            "                                                                 \n",
            " bidirectional (Bidirectiona  (None, 205, 64)          16640     \n",
            " l)                                                              \n",
            "                                                                 \n",
            " bidirectional_1 (Bidirectio  (None, 205, 64)          24832     \n",
            " nal)                                                            \n",
            "                                                                 \n",
            " bidirectional_2 (Bidirectio  (None, 205, 32)          10368     \n",
            " nal)                                                            \n",
            "                                                                 \n",
            " flatten (Flatten)           (None, 6560)              0         \n",
            "                                                                 \n",
            " dense (Dense)               (None, 3)                 19683     \n",
            "                                                                 \n",
            "=================================================================\n",
            "Total params: 690,579\n",
            "Trainable params: 690,579\n",
            "Non-trainable params: 0\n",
            "_________________________________________________________________\n"
          ]
        }
      ]
    },
    {
      "cell_type": "code",
      "source": [
        "#For the First Model\n",
        "model.compile(loss=\"sparse_categorical_crossentropy\",optimizer='adam',metrics=['accuracy'],run_eagerly=True)\n",
        "\n",
        "training_padded = np.asarray(training_padded).astype(np.int)\n",
        "training_labels = np.asarray(training_labels).astype(np.int)\n",
        "testing_padded = np.asarray(testing_padded).astype(np.int)\n",
        "testing_labels = np.asarray(testing_labels).astype(np.int)\n",
        "\n",
        "#training_padded = np.expand_dims(training_padded, axis=1)\n",
        "training_labels = np.expand_dims(training_labels, axis=1)\n",
        "#testing_padded = np.expand_dims(testing_padded, axis=1)\n",
        "testing_labels = np.expand_dims(testing_labels, axis=1)\n",
        "\n",
        "history = model.fit(training_padded, training_labels, batch_size=128, epochs=50, validation_data=(testing_padded, testing_labels), verbose=1)"
      ],
      "metadata": {
        "colab": {
          "base_uri": "https://localhost:8080/"
        },
        "id": "YK8y9kQFL5T5",
        "outputId": "a830d39c-2eb1-49c0-82c1-141660afa3a9"
      },
      "execution_count": null,
      "outputs": [
        {
          "output_type": "stream",
          "name": "stdout",
          "text": [
            "Epoch 1/50\n"
          ]
        },
        {
          "output_type": "stream",
          "name": "stderr",
          "text": [
            "/usr/local/lib/python3.7/dist-packages/ipykernel_launcher.py:4: DeprecationWarning: `np.int` is a deprecated alias for the builtin `int`. To silence this warning, use `int` by itself. Doing this will not modify any behavior and is safe. When replacing `np.int`, you may wish to use e.g. `np.int64` or `np.int32` to specify the precision. If you wish to review your current use, check the release note link for additional information.\n",
            "Deprecated in NumPy 1.20; for more details and guidance: https://numpy.org/devdocs/release/1.20.0-notes.html#deprecations\n",
            "  after removing the cwd from sys.path.\n",
            "/usr/local/lib/python3.7/dist-packages/ipykernel_launcher.py:5: DeprecationWarning: `np.int` is a deprecated alias for the builtin `int`. To silence this warning, use `int` by itself. Doing this will not modify any behavior and is safe. When replacing `np.int`, you may wish to use e.g. `np.int64` or `np.int32` to specify the precision. If you wish to review your current use, check the release note link for additional information.\n",
            "Deprecated in NumPy 1.20; for more details and guidance: https://numpy.org/devdocs/release/1.20.0-notes.html#deprecations\n",
            "  \"\"\"\n",
            "/usr/local/lib/python3.7/dist-packages/ipykernel_launcher.py:6: DeprecationWarning: `np.int` is a deprecated alias for the builtin `int`. To silence this warning, use `int` by itself. Doing this will not modify any behavior and is safe. When replacing `np.int`, you may wish to use e.g. `np.int64` or `np.int32` to specify the precision. If you wish to review your current use, check the release note link for additional information.\n",
            "Deprecated in NumPy 1.20; for more details and guidance: https://numpy.org/devdocs/release/1.20.0-notes.html#deprecations\n",
            "  \n",
            "/usr/local/lib/python3.7/dist-packages/ipykernel_launcher.py:7: DeprecationWarning: `np.int` is a deprecated alias for the builtin `int`. To silence this warning, use `int` by itself. Doing this will not modify any behavior and is safe. When replacing `np.int`, you may wish to use e.g. `np.int64` or `np.int32` to specify the precision. If you wish to review your current use, check the release note link for additional information.\n",
            "Deprecated in NumPy 1.20; for more details and guidance: https://numpy.org/devdocs/release/1.20.0-notes.html#deprecations\n",
            "  import sys\n"
          ]
        },
        {
          "output_type": "stream",
          "name": "stdout",
          "text": [
            "107/107 [==============================] - 23s 109ms/step - loss: 0.9601 - accuracy: 0.5182 - val_loss: 1.0360 - val_accuracy: 0.5389\n",
            "Epoch 2/50\n",
            "107/107 [==============================] - 11s 105ms/step - loss: 0.6427 - accuracy: 0.7285 - val_loss: 0.7327 - val_accuracy: 0.6965\n",
            "Epoch 3/50\n",
            "107/107 [==============================] - 11s 107ms/step - loss: 0.4886 - accuracy: 0.8068 - val_loss: 0.7090 - val_accuracy: 0.7385\n",
            "Epoch 4/50\n",
            "107/107 [==============================] - 11s 106ms/step - loss: 0.4362 - accuracy: 0.8292 - val_loss: 0.8020 - val_accuracy: 0.7338\n",
            "Epoch 5/50\n",
            "107/107 [==============================] - 11s 108ms/step - loss: 0.3960 - accuracy: 0.8444 - val_loss: 0.7789 - val_accuracy: 0.7514\n",
            "Epoch 6/50\n",
            "107/107 [==============================] - 12s 108ms/step - loss: 0.3719 - accuracy: 0.8562 - val_loss: 0.7014 - val_accuracy: 0.7749\n",
            "Epoch 7/50\n",
            "107/107 [==============================] - 12s 108ms/step - loss: 0.3424 - accuracy: 0.8661 - val_loss: 0.8043 - val_accuracy: 0.7534\n",
            "Epoch 8/50\n",
            "107/107 [==============================] - 12s 109ms/step - loss: 0.3204 - accuracy: 0.8777 - val_loss: 0.7384 - val_accuracy: 0.7790\n",
            "Epoch 9/50\n",
            "107/107 [==============================] - 12s 109ms/step - loss: 0.2983 - accuracy: 0.8862 - val_loss: 0.7340 - val_accuracy: 0.7781\n",
            "Epoch 10/50\n",
            "107/107 [==============================] - 11s 106ms/step - loss: 0.2790 - accuracy: 0.8914 - val_loss: 0.7698 - val_accuracy: 0.7869\n",
            "Epoch 11/50\n",
            "107/107 [==============================] - 12s 108ms/step - loss: 0.2621 - accuracy: 0.8982 - val_loss: 0.7808 - val_accuracy: 0.7913\n",
            "Epoch 12/50\n",
            "107/107 [==============================] - 13s 124ms/step - loss: 0.2520 - accuracy: 0.9033 - val_loss: 0.8018 - val_accuracy: 0.7805\n",
            "Epoch 13/50\n",
            "107/107 [==============================] - 13s 126ms/step - loss: 0.2311 - accuracy: 0.9100 - val_loss: 0.8545 - val_accuracy: 0.7725\n",
            "Epoch 14/50\n",
            "107/107 [==============================] - 12s 114ms/step - loss: 0.2134 - accuracy: 0.9157 - val_loss: 0.8971 - val_accuracy: 0.7743\n",
            "Epoch 15/50\n",
            "107/107 [==============================] - 12s 111ms/step - loss: 0.2136 - accuracy: 0.9181 - val_loss: 0.9004 - val_accuracy: 0.7590\n",
            "Epoch 16/50\n",
            "107/107 [==============================] - 12s 111ms/step - loss: 0.1940 - accuracy: 0.9229 - val_loss: 0.8160 - val_accuracy: 0.7942\n",
            "Epoch 17/50\n",
            "107/107 [==============================] - 12s 108ms/step - loss: 0.1843 - accuracy: 0.9278 - val_loss: 0.8893 - val_accuracy: 0.7810\n",
            "Epoch 18/50\n",
            "107/107 [==============================] - 12s 110ms/step - loss: 0.1829 - accuracy: 0.9272 - val_loss: 0.8926 - val_accuracy: 0.7840\n",
            "Epoch 19/50\n",
            "107/107 [==============================] - 13s 123ms/step - loss: 0.1773 - accuracy: 0.9298 - val_loss: 0.8079 - val_accuracy: 0.7863\n",
            "Epoch 20/50\n",
            "107/107 [==============================] - 18s 163ms/step - loss: 0.1679 - accuracy: 0.9310 - val_loss: 0.8520 - val_accuracy: 0.8013\n",
            "Epoch 21/50\n",
            "107/107 [==============================] - 12s 110ms/step - loss: 0.1614 - accuracy: 0.9326 - val_loss: 0.8737 - val_accuracy: 0.7954\n",
            "Epoch 22/50\n",
            "107/107 [==============================] - 12s 108ms/step - loss: 0.1528 - accuracy: 0.9353 - val_loss: 0.8206 - val_accuracy: 0.8060\n",
            "Epoch 23/50\n",
            "107/107 [==============================] - 12s 110ms/step - loss: 0.1481 - accuracy: 0.9381 - val_loss: 0.8840 - val_accuracy: 0.8010\n",
            "Epoch 24/50\n",
            "107/107 [==============================] - 12s 110ms/step - loss: 0.1484 - accuracy: 0.9366 - val_loss: 0.7952 - val_accuracy: 0.8080\n",
            "Epoch 25/50\n",
            "107/107 [==============================] - 12s 112ms/step - loss: 0.1429 - accuracy: 0.9363 - val_loss: 0.8373 - val_accuracy: 0.7984\n",
            "Epoch 26/50\n",
            "107/107 [==============================] - 12s 108ms/step - loss: 0.1393 - accuracy: 0.9384 - val_loss: 0.9806 - val_accuracy: 0.8045\n",
            "Epoch 27/50\n",
            "107/107 [==============================] - 11s 107ms/step - loss: 0.1373 - accuracy: 0.9391 - val_loss: 0.9996 - val_accuracy: 0.7866\n",
            "Epoch 28/50\n",
            "107/107 [==============================] - 12s 108ms/step - loss: 0.1357 - accuracy: 0.9418 - val_loss: 0.9819 - val_accuracy: 0.8010\n",
            "Epoch 29/50\n",
            "107/107 [==============================] - 12s 108ms/step - loss: 0.1296 - accuracy: 0.9405 - val_loss: 0.9944 - val_accuracy: 0.8007\n",
            "Epoch 30/50\n",
            "107/107 [==============================] - 11s 107ms/step - loss: 0.1304 - accuracy: 0.9426 - val_loss: 0.8105 - val_accuracy: 0.8116\n",
            "Epoch 31/50\n",
            "107/107 [==============================] - 12s 108ms/step - loss: 0.1259 - accuracy: 0.9428 - val_loss: 0.9902 - val_accuracy: 0.8010\n",
            "Epoch 32/50\n",
            "107/107 [==============================] - 12s 109ms/step - loss: 0.1219 - accuracy: 0.9438 - val_loss: 0.9646 - val_accuracy: 0.7928\n",
            "Epoch 33/50\n",
            "107/107 [==============================] - 12s 108ms/step - loss: 0.1192 - accuracy: 0.9444 - val_loss: 1.0975 - val_accuracy: 0.8025\n",
            "Epoch 34/50\n",
            "107/107 [==============================] - 12s 108ms/step - loss: 0.1179 - accuracy: 0.9442 - val_loss: 1.1047 - val_accuracy: 0.8045\n",
            "Epoch 35/50\n",
            "107/107 [==============================] - 11s 107ms/step - loss: 0.1189 - accuracy: 0.9447 - val_loss: 0.9945 - val_accuracy: 0.8001\n",
            "Epoch 36/50\n",
            "107/107 [==============================] - 12s 108ms/step - loss: 0.1156 - accuracy: 0.9451 - val_loss: 1.1667 - val_accuracy: 0.7940\n",
            "Epoch 37/50\n",
            "107/107 [==============================] - 12s 108ms/step - loss: 0.1127 - accuracy: 0.9455 - val_loss: 1.0681 - val_accuracy: 0.7960\n",
            "Epoch 38/50\n",
            "107/107 [==============================] - 11s 107ms/step - loss: 0.1170 - accuracy: 0.9455 - val_loss: 1.0511 - val_accuracy: 0.7989\n",
            "Epoch 39/50\n",
            "107/107 [==============================] - 12s 109ms/step - loss: 0.1188 - accuracy: 0.9441 - val_loss: 1.0274 - val_accuracy: 0.8168\n",
            "Epoch 40/50\n",
            "107/107 [==============================] - 11s 108ms/step - loss: 0.1151 - accuracy: 0.9450 - val_loss: 1.2916 - val_accuracy: 0.7851\n",
            "Epoch 41/50\n",
            "107/107 [==============================] - 12s 108ms/step - loss: 0.1103 - accuracy: 0.9456 - val_loss: 1.1345 - val_accuracy: 0.8022\n",
            "Epoch 42/50\n",
            "107/107 [==============================] - 12s 109ms/step - loss: 0.1095 - accuracy: 0.9454 - val_loss: 1.2123 - val_accuracy: 0.7937\n",
            "Epoch 43/50\n",
            "107/107 [==============================] - 11s 108ms/step - loss: 0.1126 - accuracy: 0.9459 - val_loss: 1.1387 - val_accuracy: 0.8019\n",
            "Epoch 44/50\n",
            "107/107 [==============================] - 12s 109ms/step - loss: 0.1092 - accuracy: 0.9472 - val_loss: 1.1818 - val_accuracy: 0.8054\n",
            "Epoch 45/50\n",
            "107/107 [==============================] - 12s 108ms/step - loss: 0.1101 - accuracy: 0.9465 - val_loss: 1.2129 - val_accuracy: 0.8086\n",
            "Epoch 46/50\n",
            "107/107 [==============================] - 12s 111ms/step - loss: 0.1046 - accuracy: 0.9463 - val_loss: 1.1446 - val_accuracy: 0.8077\n",
            "Epoch 47/50\n",
            "107/107 [==============================] - 12s 108ms/step - loss: 0.0999 - accuracy: 0.9496 - val_loss: 1.3862 - val_accuracy: 0.7901\n",
            "Epoch 48/50\n",
            "107/107 [==============================] - 11s 107ms/step - loss: 0.0961 - accuracy: 0.9483 - val_loss: 1.3122 - val_accuracy: 0.8019\n",
            "Epoch 49/50\n",
            "107/107 [==============================] - 13s 120ms/step - loss: 0.1006 - accuracy: 0.9474 - val_loss: 1.3607 - val_accuracy: 0.7934\n",
            "Epoch 50/50\n",
            "107/107 [==============================] - 12s 108ms/step - loss: 0.0983 - accuracy: 0.9478 - val_loss: 1.3881 - val_accuracy: 0.8045\n"
          ]
        }
      ]
    },
    {
      "cell_type": "code",
      "source": [
        "#Epoch 20/20\n",
        "#144/144 [==============================] - 245s 2s/step - loss: 0.1099 - accuracy: 0.9551 - val_loss: 0.2792 - val_accuracy: 0.9184\n",
        "#Epoch 15/15\n",
        "#107/107 [==============================] - 12s 108ms/step - loss: 0.2000 - accuracy: 0.9226 - val_loss: 0.8032 - val_accuracy: 0.7934\n",
        "#Epoch 50/50\n",
        "#107/107 [==============================] - 12s 109ms/step - loss: 0.1048 - accuracy: 0.9466 - val_loss: 1.1665 - val_accuracy: 0.8201\n",
        "#Epoch 50/50\n",
        "#107/107 [==============================] - 12s 108ms/step - loss: 0.0983 - accuracy: 0.9478 - val_loss: 1.3881 - val_accuracy: 0.8045"
      ],
      "metadata": {
        "id": "87O-L-vRBuy-"
      },
      "execution_count": null,
      "outputs": []
    },
    {
      "cell_type": "code",
      "source": [
        "tf.keras.utils.plot_model(model, show_shapes=True)"
      ],
      "metadata": {
        "id": "fpzHswneMSZv",
        "colab": {
          "base_uri": "https://localhost:8080/",
          "height": 976
        },
        "outputId": "f571bb20-167f-49f5-a49a-c43a20f8fc25"
      },
      "execution_count": null,
      "outputs": [
        {
          "output_type": "execute_result",
          "data": {
            "text/plain": [
              "<IPython.core.display.Image object>"
            ],
            "image/png": "[encoded data removed]"
          },
          "metadata": {},
          "execution_count": 16
        }
      ]
    },
    {
      "cell_type": "code",
      "source": [
        "from sklearn.metrics import confusion_matrix\n",
        "import numpy as np\n",
        "pred=model.predict(testing_padded)\n",
        "rounded_labels1=np.argmax(pred, axis=1).astype(int)\n",
        "cm = confusion_matrix(testing_labels, rounded_labels1)\n",
        "print(cm)"
      ],
      "metadata": {
        "colab": {
          "base_uri": "https://localhost:8080/"
        },
        "id": "ctfA3AV-NbFv",
        "outputId": "75521958-4a97-4c73-bdb4-f5cf0b7d6bff"
      },
      "execution_count": null,
      "outputs": [
        {
          "output_type": "execute_result",
          "data": {
            "text/plain": [
              "array([[1486,  159,  329],\n",
              "       [  10,  508,   54],\n",
              "       [  43,   71,  747]])"
            ]
          },
          "metadata": {},
          "execution_count": 17
        }
      ]
    },
    {
      "cell_type": "code",
      "source": [
        "from sklearn.metrics import classification_report\n",
        "print(classification_report(testing_labels, rounded_labels1, labels=[0,1,2]))"
      ],
      "metadata": {
        "colab": {
          "base_uri": "https://localhost:8080/"
        },
        "id": "aHeRqiyHPrxY",
        "outputId": "a98fd891-3f70-4435-b33b-5091cd1fe956"
      },
      "execution_count": null,
      "outputs": [
        {
          "output_type": "stream",
          "name": "stdout",
          "text": [
            "              precision    recall  f1-score   support\n",
            "\n",
            "           0       0.97      0.75      0.85      1974\n",
            "           1       0.69      0.89      0.78       572\n",
            "           2       0.66      0.87      0.75       861\n",
            "\n",
            "    accuracy                           0.80      3407\n",
            "   macro avg       0.77      0.84      0.79      3407\n",
            "weighted avg       0.84      0.80      0.81      3407\n",
            "\n"
          ]
        }
      ]
    },
    {
      "cell_type": "code",
      "source": [
        "pred12=model.predict(testing_padded12)\n",
        "rounded_labels112=np.argmax(pred12, axis=1).astype(int)\n",
        "cm12 = confusion_matrix(testing_labels12, rounded_labels112)\n",
        "print(cm12)\n",
        "print(classification_report(testing_labels12, rounded_labels112, labels=[0,1,2]))"
      ],
      "metadata": {
        "id": "XP0QbLyyJiJl"
      },
      "execution_count": null,
      "outputs": []
    },
    {
      "cell_type": "code",
      "source": [
        "pred34=model.predict(testing_padded34)\n",
        "rounded_labels134=np.argmax(pred34, axis=1).astype(int)\n",
        "cm34 = confusion_matrix(testing_labels34, rounded_labels134)\n",
        "print(cm34)\n",
        "print(classification_report(testing_labels34, rounded_labels134, labels=[0,1,2]))"
      ],
      "metadata": {
        "id": "xKHQnnggJ3PJ"
      },
      "execution_count": null,
      "outputs": []
    },
    {
      "cell_type": "code",
      "source": [
        "import matplotlib.pyplot as plt\n",
        "import numpy\n",
        "# summarize history for accuracy\n",
        "plt.plot(history.history['loss'])\n",
        "plt.plot(history.history['val_loss'])\n",
        "plt.title('model loss')\n",
        "plt.ylabel('loss')\n",
        "plt.xlabel('epoch')\n",
        "plt.legend(['train', 'test'], loc='upper left')\n",
        "plt.show()\n",
        "# summarize history for loss\n",
        "plt.plot(history.history['accuracy'])\n",
        "plt.plot(history.history['val_accuracy'])\n",
        "plt.title('model accuracy')\n",
        "plt.ylabel('accuracy')\n",
        "plt.xlabel('epoch')\n",
        "plt.legend(['train', 'test'], loc='upper left')\n",
        "plt.show()"
      ],
      "metadata": {
        "colab": {
          "base_uri": "https://localhost:8080/",
          "height": 573
        },
        "id": "QXLyKWWv58Qd",
        "outputId": "927f3615-6d6f-48bb-ad62-b7a19f29150b"
      },
      "execution_count": null,
      "outputs": [
        {
          "output_type": "display_data",
          "data": {
            "text/plain": [
              "<Figure size 432x288 with 1 Axes>"
            ],
            "image/png": "[encoded data removed]"
          },
          "metadata": {
            "needs_background": "light"
          }
        },
        {
          "output_type": "display_data",
          "data": {
            "text/plain": [
              "<Figure size 432x288 with 1 Axes>"
            ],
            "image/png": "[encoded data removed]"
          },
          "metadata": {
            "needs_background": "light"
          }
        }
      ]
    },
    {
      "cell_type": "markdown",
      "source": [
        "##For the Second Model"
      ],
      "metadata": {
        "id": "2DGrTNt17GKc"
      }
    },
    {
      "cell_type": "code",
      "source": [
        "import tensorflow as tf\n",
        "model2 = tf.keras.Sequential([\n",
        "    tf.keras.layers.Embedding(vocab_size, embedding_dim, input_length=max_length),\n",
        "    tf.keras.layers.Conv1D(128, 5, activation='relu'),\n",
        "    tf.keras.layers.GlobalMaxPooling1D(),\n",
        "    tf.keras.layers.Flatten(),\n",
        "    tf.keras.layers.Dense(24, activation='relu'),\n",
        "    tf.keras.layers.Dense(2, activation='softmax'),\n",
        "    tf.keras.layers.Dense(units=3, activation='softmax')\n",
        "])\n",
        "model2.summary()"
      ],
      "metadata": {
        "colab": {
          "base_uri": "https://localhost:8080/"
        },
        "id": "Vsv2gTUcITR-",
        "outputId": "d12b9a6f-7688-41d0-ac27-92e938d0a624"
      },
      "execution_count": null,
      "outputs": [
        {
          "output_type": "stream",
          "name": "stdout",
          "text": [
            "Model: \"sequential_3\"\n",
            "_________________________________________________________________\n",
            " Layer (type)                Output Shape              Param #   \n",
            "=================================================================\n",
            " embedding_3 (Embedding)     (None, 209, 16)           604560    \n",
            "                                                                 \n",
            " conv1d_4 (Conv1D)           (None, 205, 128)          10368     \n",
            "                                                                 \n",
            " global_max_pooling1d_2 (Glo  (None, 128)              0         \n",
            " balMaxPooling1D)                                                \n",
            "                                                                 \n",
            " flatten_3 (Flatten)         (None, 128)               0         \n",
            "                                                                 \n",
            " dense_7 (Dense)             (None, 24)                3096      \n",
            "                                                                 \n",
            " dense_8 (Dense)             (None, 2)                 50        \n",
            "                                                                 \n",
            " dense_9 (Dense)             (None, 3)                 9         \n",
            "                                                                 \n",
            "=================================================================\n",
            "Total params: 618,083\n",
            "Trainable params: 618,083\n",
            "Non-trainable params: 0\n",
            "_________________________________________________________________\n"
          ]
        }
      ]
    },
    {
      "cell_type": "code",
      "source": [
        "model2.compile(loss=\"sparse_categorical_crossentropy\",optimizer='adam',metrics=['accuracy'])\n",
        "\n",
        "\n",
        "history = model2.fit(training_padded, training_labels, batch_size=128, epochs=50, validation_data=(testing_padded, testing_labels), verbose=1)"
      ],
      "metadata": {
        "colab": {
          "base_uri": "https://localhost:8080/"
        },
        "id": "-edaUQlH57pA",
        "outputId": "f561783e-d41b-408a-c974-cca575b236aa"
      },
      "execution_count": null,
      "outputs": [
        {
          "output_type": "stream",
          "name": "stdout",
          "text": [
            "Epoch 1/50\n",
            "107/107 [==============================] - 1s 9ms/step - loss: 1.0533 - accuracy: 0.3793 - val_loss: 0.9763 - val_accuracy: 0.5178\n",
            "Epoch 2/50\n",
            "107/107 [==============================] - 1s 7ms/step - loss: 0.9104 - accuracy: 0.5513 - val_loss: 0.9035 - val_accuracy: 0.3466\n",
            "Epoch 3/50\n",
            "107/107 [==============================] - 1s 7ms/step - loss: 0.8469 - accuracy: 0.5629 - val_loss: 0.8983 - val_accuracy: 0.3516\n",
            "Epoch 4/50\n",
            "107/107 [==============================] - 1s 7ms/step - loss: 0.8139 - accuracy: 0.5787 - val_loss: 0.9334 - val_accuracy: 0.3446\n",
            "Epoch 5/50\n",
            "107/107 [==============================] - 1s 7ms/step - loss: 0.7890 - accuracy: 0.5906 - val_loss: 0.8781 - val_accuracy: 0.3622\n",
            "Epoch 6/50\n",
            "107/107 [==============================] - 1s 6ms/step - loss: 0.7695 - accuracy: 0.5957 - val_loss: 0.8952 - val_accuracy: 0.3610\n",
            "Epoch 7/50\n",
            "107/107 [==============================] - 1s 6ms/step - loss: 0.7547 - accuracy: 0.6016 - val_loss: 0.8948 - val_accuracy: 0.3616\n",
            "Epoch 8/50\n",
            "107/107 [==============================] - 1s 6ms/step - loss: 0.7402 - accuracy: 0.6073 - val_loss: 0.8713 - val_accuracy: 0.3666\n",
            "Epoch 9/50\n",
            "107/107 [==============================] - 1s 7ms/step - loss: 0.7302 - accuracy: 0.6111 - val_loss: 0.8731 - val_accuracy: 0.3657\n",
            "Epoch 10/50\n",
            "107/107 [==============================] - 1s 7ms/step - loss: 0.7223 - accuracy: 0.6122 - val_loss: 0.8721 - val_accuracy: 0.3684\n",
            "Epoch 11/50\n",
            "107/107 [==============================] - 1s 7ms/step - loss: 0.7128 - accuracy: 0.6167 - val_loss: 0.8890 - val_accuracy: 0.3678\n",
            "Epoch 12/50\n",
            "107/107 [==============================] - 1s 6ms/step - loss: 0.7060 - accuracy: 0.6190 - val_loss: 0.8877 - val_accuracy: 0.3687\n",
            "Epoch 13/50\n",
            "107/107 [==============================] - 1s 7ms/step - loss: 0.7008 - accuracy: 0.6199 - val_loss: 0.8951 - val_accuracy: 0.3663\n",
            "Epoch 14/50\n",
            "107/107 [==============================] - 1s 7ms/step - loss: 0.6960 - accuracy: 0.6222 - val_loss: 0.8705 - val_accuracy: 0.3707\n",
            "Epoch 15/50\n",
            "107/107 [==============================] - 1s 6ms/step - loss: 0.6927 - accuracy: 0.6229 - val_loss: 0.8738 - val_accuracy: 0.3701\n",
            "Epoch 16/50\n",
            "107/107 [==============================] - 1s 6ms/step - loss: 0.6892 - accuracy: 0.6243 - val_loss: 0.8924 - val_accuracy: 0.3710\n",
            "Epoch 17/50\n",
            "107/107 [==============================] - 1s 7ms/step - loss: 0.6848 - accuracy: 0.6245 - val_loss: 0.8910 - val_accuracy: 0.3719\n",
            "Epoch 18/50\n",
            "107/107 [==============================] - 1s 7ms/step - loss: 0.6837 - accuracy: 0.6250 - val_loss: 0.8735 - val_accuracy: 0.3739\n",
            "Epoch 19/50\n",
            "107/107 [==============================] - 1s 6ms/step - loss: 0.6805 - accuracy: 0.6263 - val_loss: 0.9000 - val_accuracy: 0.3689\n",
            "Epoch 20/50\n",
            "107/107 [==============================] - 1s 6ms/step - loss: 0.6804 - accuracy: 0.6247 - val_loss: 0.8964 - val_accuracy: 0.3719\n",
            "Epoch 21/50\n",
            "107/107 [==============================] - 1s 6ms/step - loss: 0.6758 - accuracy: 0.6267 - val_loss: 0.9098 - val_accuracy: 0.3695\n",
            "Epoch 22/50\n",
            "107/107 [==============================] - 1s 6ms/step - loss: 0.6720 - accuracy: 0.6281 - val_loss: 0.8911 - val_accuracy: 0.3713\n",
            "Epoch 23/50\n",
            "107/107 [==============================] - 1s 6ms/step - loss: 0.6679 - accuracy: 0.6294 - val_loss: 0.9146 - val_accuracy: 0.3672\n",
            "Epoch 24/50\n",
            "107/107 [==============================] - 1s 7ms/step - loss: 0.6658 - accuracy: 0.6280 - val_loss: 0.8687 - val_accuracy: 0.3757\n",
            "Epoch 25/50\n",
            "107/107 [==============================] - 1s 6ms/step - loss: 0.6609 - accuracy: 0.6292 - val_loss: 0.8791 - val_accuracy: 0.3742\n",
            "Epoch 26/50\n",
            "107/107 [==============================] - 1s 6ms/step - loss: 0.6555 - accuracy: 0.6306 - val_loss: 0.8756 - val_accuracy: 0.3757\n",
            "Epoch 27/50\n",
            "107/107 [==============================] - 1s 7ms/step - loss: 0.6520 - accuracy: 0.6292 - val_loss: 0.8566 - val_accuracy: 0.3757\n",
            "Epoch 28/50\n",
            "107/107 [==============================] - 1s 6ms/step - loss: 0.6461 - accuracy: 0.6318 - val_loss: 0.8668 - val_accuracy: 0.3751\n",
            "Epoch 29/50\n",
            "107/107 [==============================] - 1s 7ms/step - loss: 0.6391 - accuracy: 0.6303 - val_loss: 0.8677 - val_accuracy: 0.3769\n",
            "Epoch 30/50\n",
            "107/107 [==============================] - 1s 6ms/step - loss: 0.6323 - accuracy: 0.6332 - val_loss: 0.8843 - val_accuracy: 0.3754\n",
            "Epoch 31/50\n",
            "107/107 [==============================] - 1s 7ms/step - loss: 0.6240 - accuracy: 0.6741 - val_loss: 0.8964 - val_accuracy: 0.5947\n",
            "Epoch 32/50\n",
            "107/107 [==============================] - 1s 7ms/step - loss: 0.6135 - accuracy: 0.7313 - val_loss: 0.8646 - val_accuracy: 0.6719\n",
            "Epoch 33/50\n",
            "107/107 [==============================] - 1s 6ms/step - loss: 0.6016 - accuracy: 0.7663 - val_loss: 0.8670 - val_accuracy: 0.6939\n",
            "Epoch 34/50\n",
            "107/107 [==============================] - 1s 6ms/step - loss: 0.5846 - accuracy: 0.7930 - val_loss: 0.8717 - val_accuracy: 0.7053\n",
            "Epoch 35/50\n",
            "107/107 [==============================] - 1s 7ms/step - loss: 0.5667 - accuracy: 0.8200 - val_loss: 0.8419 - val_accuracy: 0.7341\n",
            "Epoch 36/50\n",
            "107/107 [==============================] - 1s 7ms/step - loss: 0.5437 - accuracy: 0.8416 - val_loss: 0.7958 - val_accuracy: 0.7505\n",
            "Epoch 37/50\n",
            "107/107 [==============================] - 1s 6ms/step - loss: 0.5217 - accuracy: 0.8584 - val_loss: 0.7964 - val_accuracy: 0.7552\n",
            "Epoch 38/50\n",
            "107/107 [==============================] - 1s 6ms/step - loss: 0.4987 - accuracy: 0.8751 - val_loss: 0.8258 - val_accuracy: 0.7485\n",
            "Epoch 39/50\n",
            "107/107 [==============================] - 1s 7ms/step - loss: 0.4772 - accuracy: 0.8896 - val_loss: 0.8078 - val_accuracy: 0.7617\n",
            "Epoch 40/50\n",
            "107/107 [==============================] - 1s 6ms/step - loss: 0.4582 - accuracy: 0.9003 - val_loss: 0.7922 - val_accuracy: 0.7708\n",
            "Epoch 41/50\n",
            "107/107 [==============================] - 1s 7ms/step - loss: 0.4413 - accuracy: 0.9059 - val_loss: 0.7964 - val_accuracy: 0.7740\n",
            "Epoch 42/50\n",
            "107/107 [==============================] - 1s 6ms/step - loss: 0.4250 - accuracy: 0.9130 - val_loss: 0.7870 - val_accuracy: 0.7752\n",
            "Epoch 43/50\n",
            "107/107 [==============================] - 1s 7ms/step - loss: 0.4120 - accuracy: 0.9187 - val_loss: 0.7574 - val_accuracy: 0.7866\n",
            "Epoch 44/50\n",
            "107/107 [==============================] - 1s 7ms/step - loss: 0.4029 - accuracy: 0.9217 - val_loss: 0.8163 - val_accuracy: 0.7769\n",
            "Epoch 45/50\n",
            "107/107 [==============================] - 1s 6ms/step - loss: 0.3889 - accuracy: 0.9258 - val_loss: 0.7873 - val_accuracy: 0.7846\n",
            "Epoch 46/50\n",
            "107/107 [==============================] - 1s 7ms/step - loss: 0.3758 - accuracy: 0.9284 - val_loss: 0.7639 - val_accuracy: 0.7940\n",
            "Epoch 47/50\n",
            "107/107 [==============================] - 1s 6ms/step - loss: 0.3661 - accuracy: 0.9289 - val_loss: 0.8030 - val_accuracy: 0.7890\n",
            "Epoch 48/50\n",
            "107/107 [==============================] - 1s 7ms/step - loss: 0.3578 - accuracy: 0.9319 - val_loss: 0.7673 - val_accuracy: 0.7884\n",
            "Epoch 49/50\n",
            "107/107 [==============================] - 1s 6ms/step - loss: 0.3485 - accuracy: 0.9328 - val_loss: 0.7756 - val_accuracy: 0.7978\n",
            "Epoch 50/50\n",
            "107/107 [==============================] - 1s 6ms/step - loss: 0.3440 - accuracy: 0.9345 - val_loss: 0.7823 - val_accuracy: 0.7913\n"
          ]
        }
      ]
    },
    {
      "cell_type": "code",
      "source": [
        "tf.keras.utils.plot_model(model2, show_shapes=True)"
      ],
      "metadata": {
        "colab": {
          "base_uri": "https://localhost:8080/",
          "height": 865
        },
        "id": "Djs_EiWq6Sc1",
        "outputId": "d509c471-21db-40bc-b2e8-43e7a39bfc9f"
      },
      "execution_count": null,
      "outputs": [
        {
          "output_type": "execute_result",
          "data": {
            "text/plain": [
              "<IPython.core.display.Image object>"
            ],
            "image/png": "[encoded data removed]"
          },
          "metadata": {},
          "execution_count": 31
        }
      ]
    },
    {
      "cell_type": "code",
      "source": [
        "pred1=model2.predict(testing_padded)\n",
        "\n",
        "pred11=[]\n",
        "for i in pred1:\n",
        "  if i[0]==max(i):\n",
        "    pred11.append(0)\n",
        "  elif i[1]==max(i):\n",
        "    pred11.append(1)\n",
        "  else:\n",
        "    pred11.append(2)\n",
        "#rounded_labels11=np.argmax(pred11, axis=1).astype(int)\n",
        "cm = confusion_matrix(testing_labels, pred11)\n",
        "cm"
      ],
      "metadata": {
        "colab": {
          "base_uri": "https://localhost:8080/"
        },
        "id": "5RAIZlNi58Ht",
        "outputId": "95f13713-4919-411b-9ce5-12a28673084f"
      },
      "execution_count": null,
      "outputs": [
        {
          "output_type": "execute_result",
          "data": {
            "text/plain": [
              "array([[1490,  122,  362],\n",
              "       [  14,  502,   56],\n",
              "       [  82,   75,  704]])"
            ]
          },
          "metadata": {},
          "execution_count": 56
        }
      ]
    },
    {
      "cell_type": "code",
      "source": [
        "#Epoch 50/50\n",
        "#107/107 [==============================] - 1s 6ms/step - loss: 0.4205 - accuracy: 0.9095 - val_loss: 0.7803 - val_accuracy: 0.7828\n",
        "#Epoch 50/50\n",
        "#107/107 [==============================] - 1s 6ms/step - loss: 0.3440 - accuracy: 0.9345 - val_loss: 0.7823 - val_accuracy: 0.7913"
      ],
      "metadata": {
        "id": "ygLUBjc6meLZ"
      },
      "execution_count": null,
      "outputs": []
    },
    {
      "cell_type": "code",
      "source": [
        "print(classification_report(testing_labels, pred11, labels=[0,1,2]))"
      ],
      "metadata": {
        "colab": {
          "base_uri": "https://localhost:8080/"
        },
        "id": "kZ3sDFpUbw9j",
        "outputId": "bb3cf35d-72d7-43e5-f240-8e2448caf7c8"
      },
      "execution_count": null,
      "outputs": [
        {
          "output_type": "stream",
          "name": "stdout",
          "text": [
            "              precision    recall  f1-score   support\n",
            "\n",
            "           0       0.94      0.75      0.84      1974\n",
            "           1       0.72      0.88      0.79       572\n",
            "           2       0.63      0.82      0.71       861\n",
            "\n",
            "    accuracy                           0.79      3407\n",
            "   macro avg       0.76      0.82      0.78      3407\n",
            "weighted avg       0.82      0.79      0.80      3407\n",
            "\n"
          ]
        }
      ]
    },
    {
      "cell_type": "code",
      "source": [
        "pred12=model2.predict(testing_padded12)\n",
        "rounded_labels212=np.argmax(pred12, axis=1).astype(int)\n",
        "cm12 = confusion_matrix(testing_labels12, rounded_labels212)\n",
        "print(cm12)\n",
        "print(classification_report(testing_labels12, rounded_labels212, labels=[0,1,2]))"
      ],
      "metadata": {
        "id": "p7iWnGdoKkHJ"
      },
      "execution_count": null,
      "outputs": []
    },
    {
      "cell_type": "code",
      "source": [
        "pred34=model2.predict(testing_padded34)\n",
        "rounded_labels234=np.argmax(pred34, axis=1).astype(int)\n",
        "cm34 = confusion_matrix(testing_labels34, rounded_labels234)\n",
        "print(cm34)\n",
        "print(classification_report(testing_labels34, rounded_labels234, labels=[0,1,2]))"
      ],
      "metadata": {
        "id": "t3trQk4OKw0Q"
      },
      "execution_count": null,
      "outputs": []
    },
    {
      "cell_type": "code",
      "source": [
        "import matplotlib.pyplot as plt\n",
        "import numpy\n",
        "# summarize history for accuracy\n",
        "plt.plot(history.history['loss'])\n",
        "plt.plot(history.history['val_loss'])\n",
        "plt.title('model loss')\n",
        "plt.ylabel('loss')\n",
        "plt.xlabel('epoch')\n",
        "plt.legend(['train', 'test'], loc='upper left')\n",
        "plt.show()\n",
        "# summarize history for loss\n",
        "plt.plot(history.history['accuracy'])\n",
        "plt.plot(history.history['val_accuracy'])\n",
        "plt.title('model accuracy')\n",
        "plt.ylabel('accuracy')\n",
        "plt.xlabel('epoch')\n",
        "plt.legend(['train', 'test'], loc='upper left')\n",
        "plt.show()"
      ],
      "metadata": {
        "colab": {
          "base_uri": "https://localhost:8080/",
          "height": 573
        },
        "id": "R2WgOyeb_PHC",
        "outputId": "4e2fa776-0c57-46d1-a30e-9058549309c0"
      },
      "execution_count": null,
      "outputs": [
        {
          "output_type": "display_data",
          "data": {
            "text/plain": [
              "<Figure size 432x288 with 1 Axes>"
            ],
            "image/png": "[encoded data removed]"
          },
          "metadata": {
            "needs_background": "light"
          }
        },
        {
          "output_type": "display_data",
          "data": {
            "text/plain": [
              "<Figure size 432x288 with 1 Axes>"
            ],
            "image/png": "[encoded data removed]"
          },
          "metadata": {
            "needs_background": "light"
          }
        }
      ]
    },
    {
      "cell_type": "markdown",
      "source": [
        "##For The Third Model"
      ],
      "metadata": {
        "id": "FRfELBgw7A3Z"
      }
    },
    {
      "cell_type": "code",
      "source": [
        "model3 = tf.keras.Sequential([\n",
        "    tf.keras.layers.Embedding(vocab_size, embedding_dim, input_length=max_length),\n",
        "    tf.keras.layers.Bidirectional(tf.keras.layers.LSTM(32)),\n",
        "    tf.keras.layers.Flatten(),\n",
        "    tf.keras.layers.Dense(24, activation='relu'),\n",
        "    tf.keras.layers.Dense(3, activation='softmax')\n",
        "])\n",
        "model3.summary()"
      ],
      "metadata": {
        "colab": {
          "base_uri": "https://localhost:8080/"
        },
        "id": "JvX2b2nORvKS",
        "outputId": "e035afca-75e3-4f1b-e897-427991317956"
      },
      "execution_count": null,
      "outputs": [
        {
          "output_type": "stream",
          "name": "stdout",
          "text": [
            "Model: \"sequential_9\"\n",
            "_________________________________________________________________\n",
            " Layer (type)                Output Shape              Param #   \n",
            "=================================================================\n",
            " embedding_9 (Embedding)     (None, 209, 16)           604560    \n",
            "                                                                 \n",
            " bidirectional_8 (Bidirectio  (None, 64)               12544     \n",
            " nal)                                                            \n",
            "                                                                 \n",
            " flatten_8 (Flatten)         (None, 64)                0         \n",
            "                                                                 \n",
            " dense_20 (Dense)            (None, 24)                1560      \n",
            "                                                                 \n",
            " dense_21 (Dense)            (None, 3)                 75        \n",
            "                                                                 \n",
            "=================================================================\n",
            "Total params: 618,739\n",
            "Trainable params: 618,739\n",
            "Non-trainable params: 0\n",
            "_________________________________________________________________\n"
          ]
        }
      ]
    },
    {
      "cell_type": "code",
      "source": [
        "model3.compile(loss=\"sparse_categorical_crossentropy\",optimizer='adam',metrics=['accuracy'])\n",
        "history = model3.fit(training_padded, training_labels, batch_size=128, epochs=50, validation_data=(testing_padded, testing_labels), verbose=1)"
      ],
      "metadata": {
        "colab": {
          "base_uri": "https://localhost:8080/"
        },
        "id": "El4d_GRU6x2l",
        "outputId": "4040da03-664b-43cc-bd4a-ffa80c95287d"
      },
      "execution_count": null,
      "outputs": [
        {
          "output_type": "stream",
          "name": "stdout",
          "text": [
            "Epoch 1/50\n",
            "107/107 [==============================] - 5s 26ms/step - loss: 0.9948 - accuracy: 0.4992 - val_loss: 0.8784 - val_accuracy: 0.5609\n",
            "Epoch 2/50\n",
            "107/107 [==============================] - 2s 18ms/step - loss: 0.6676 - accuracy: 0.7108 - val_loss: 0.8608 - val_accuracy: 0.6810\n",
            "Epoch 3/50\n",
            "107/107 [==============================] - 2s 18ms/step - loss: 0.5010 - accuracy: 0.8027 - val_loss: 0.8317 - val_accuracy: 0.6986\n",
            "Epoch 4/50\n",
            "107/107 [==============================] - 2s 18ms/step - loss: 0.4425 - accuracy: 0.8256 - val_loss: 0.8548 - val_accuracy: 0.7209\n",
            "Epoch 5/50\n",
            "107/107 [==============================] - 2s 18ms/step - loss: 0.4096 - accuracy: 0.8384 - val_loss: 0.7444 - val_accuracy: 0.7473\n",
            "Epoch 6/50\n",
            "107/107 [==============================] - 2s 18ms/step - loss: 0.3927 - accuracy: 0.8437 - val_loss: 0.8853 - val_accuracy: 0.7259\n",
            "Epoch 7/50\n",
            "107/107 [==============================] - 2s 18ms/step - loss: 0.3772 - accuracy: 0.8515 - val_loss: 0.8209 - val_accuracy: 0.7479\n",
            "Epoch 8/50\n",
            "107/107 [==============================] - 2s 18ms/step - loss: 0.3693 - accuracy: 0.8561 - val_loss: 0.8845 - val_accuracy: 0.7408\n",
            "Epoch 9/50\n",
            "107/107 [==============================] - 2s 18ms/step - loss: 0.3630 - accuracy: 0.8572 - val_loss: 0.7822 - val_accuracy: 0.7532\n",
            "Epoch 10/50\n",
            "107/107 [==============================] - 2s 18ms/step - loss: 0.3534 - accuracy: 0.8614 - val_loss: 0.8696 - val_accuracy: 0.7614\n",
            "Epoch 11/50\n",
            "107/107 [==============================] - 2s 18ms/step - loss: 0.3521 - accuracy: 0.8596 - val_loss: 0.8622 - val_accuracy: 0.7552\n",
            "Epoch 12/50\n",
            "107/107 [==============================] - 2s 19ms/step - loss: 0.3382 - accuracy: 0.8693 - val_loss: 0.8886 - val_accuracy: 0.7608\n",
            "Epoch 13/50\n",
            "107/107 [==============================] - 2s 19ms/step - loss: 0.3378 - accuracy: 0.8658 - val_loss: 0.8761 - val_accuracy: 0.7628\n",
            "Epoch 14/50\n",
            "107/107 [==============================] - 2s 18ms/step - loss: 0.3276 - accuracy: 0.8738 - val_loss: 0.8728 - val_accuracy: 0.7584\n",
            "Epoch 15/50\n",
            "107/107 [==============================] - 2s 19ms/step - loss: 0.3270 - accuracy: 0.8718 - val_loss: 0.8974 - val_accuracy: 0.7552\n",
            "Epoch 16/50\n",
            "107/107 [==============================] - 2s 18ms/step - loss: 0.3192 - accuracy: 0.8775 - val_loss: 0.9524 - val_accuracy: 0.7511\n",
            "Epoch 17/50\n",
            "107/107 [==============================] - 2s 19ms/step - loss: 0.3156 - accuracy: 0.8790 - val_loss: 0.8855 - val_accuracy: 0.7640\n",
            "Epoch 18/50\n",
            "107/107 [==============================] - 2s 19ms/step - loss: 0.3063 - accuracy: 0.8821 - val_loss: 0.9586 - val_accuracy: 0.7614\n",
            "Epoch 19/50\n",
            "107/107 [==============================] - 2s 19ms/step - loss: 0.3042 - accuracy: 0.8827 - val_loss: 0.9199 - val_accuracy: 0.7705\n",
            "Epoch 20/50\n",
            "107/107 [==============================] - 3s 32ms/step - loss: 0.2999 - accuracy: 0.8845 - val_loss: 0.9416 - val_accuracy: 0.7587\n",
            "Epoch 21/50\n",
            "107/107 [==============================] - 2s 21ms/step - loss: 0.2899 - accuracy: 0.8873 - val_loss: 0.9039 - val_accuracy: 0.7705\n",
            "Epoch 22/50\n",
            "107/107 [==============================] - 2s 18ms/step - loss: 0.2831 - accuracy: 0.8933 - val_loss: 0.9433 - val_accuracy: 0.7672\n",
            "Epoch 23/50\n",
            "107/107 [==============================] - 2s 19ms/step - loss: 0.2794 - accuracy: 0.8938 - val_loss: 0.9619 - val_accuracy: 0.7661\n",
            "Epoch 24/50\n",
            "107/107 [==============================] - 2s 18ms/step - loss: 0.2777 - accuracy: 0.8917 - val_loss: 0.8890 - val_accuracy: 0.7784\n",
            "Epoch 25/50\n",
            "107/107 [==============================] - 2s 19ms/step - loss: 0.2653 - accuracy: 0.8978 - val_loss: 0.9241 - val_accuracy: 0.7684\n",
            "Epoch 26/50\n",
            "107/107 [==============================] - 2s 18ms/step - loss: 0.2579 - accuracy: 0.9011 - val_loss: 0.9332 - val_accuracy: 0.7646\n",
            "Epoch 27/50\n",
            "107/107 [==============================] - 2s 18ms/step - loss: 0.2529 - accuracy: 0.9029 - val_loss: 0.8469 - val_accuracy: 0.7843\n",
            "Epoch 28/50\n",
            "107/107 [==============================] - 2s 19ms/step - loss: 0.2483 - accuracy: 0.9047 - val_loss: 0.8605 - val_accuracy: 0.7825\n",
            "Epoch 29/50\n",
            "107/107 [==============================] - 2s 18ms/step - loss: 0.2402 - accuracy: 0.9077 - val_loss: 0.8357 - val_accuracy: 0.7890\n",
            "Epoch 30/50\n",
            "107/107 [==============================] - 2s 19ms/step - loss: 0.2374 - accuracy: 0.9049 - val_loss: 0.9650 - val_accuracy: 0.7684\n",
            "Epoch 31/50\n",
            "107/107 [==============================] - 2s 19ms/step - loss: 0.2309 - accuracy: 0.9084 - val_loss: 0.9071 - val_accuracy: 0.7831\n",
            "Epoch 32/50\n",
            "107/107 [==============================] - 2s 18ms/step - loss: 0.2246 - accuracy: 0.9114 - val_loss: 0.8764 - val_accuracy: 0.7857\n",
            "Epoch 33/50\n",
            "107/107 [==============================] - 2s 19ms/step - loss: 0.2246 - accuracy: 0.9121 - val_loss: 0.9048 - val_accuracy: 0.7866\n",
            "Epoch 34/50\n",
            "107/107 [==============================] - 2s 18ms/step - loss: 0.2206 - accuracy: 0.9139 - val_loss: 0.9336 - val_accuracy: 0.7749\n",
            "Epoch 35/50\n",
            "107/107 [==============================] - 2s 18ms/step - loss: 0.2177 - accuracy: 0.9122 - val_loss: 0.8478 - val_accuracy: 0.7825\n",
            "Epoch 36/50\n",
            "107/107 [==============================] - 2s 19ms/step - loss: 0.2146 - accuracy: 0.9157 - val_loss: 0.9039 - val_accuracy: 0.7890\n",
            "Epoch 37/50\n",
            "107/107 [==============================] - 2s 19ms/step - loss: 0.2072 - accuracy: 0.9150 - val_loss: 0.8838 - val_accuracy: 0.7919\n",
            "Epoch 38/50\n",
            "107/107 [==============================] - 2s 19ms/step - loss: 0.2028 - accuracy: 0.9178 - val_loss: 0.9771 - val_accuracy: 0.7813\n",
            "Epoch 39/50\n",
            "107/107 [==============================] - 2s 19ms/step - loss: 0.2030 - accuracy: 0.9171 - val_loss: 0.8939 - val_accuracy: 0.7907\n",
            "Epoch 40/50\n",
            "107/107 [==============================] - 2s 19ms/step - loss: 0.2009 - accuracy: 0.9188 - val_loss: 0.9032 - val_accuracy: 0.7851\n",
            "Epoch 41/50\n",
            "107/107 [==============================] - 2s 19ms/step - loss: 0.1962 - accuracy: 0.9213 - val_loss: 0.9255 - val_accuracy: 0.7854\n",
            "Epoch 42/50\n",
            "107/107 [==============================] - 2s 19ms/step - loss: 0.1957 - accuracy: 0.9212 - val_loss: 0.8877 - val_accuracy: 0.7913\n",
            "Epoch 43/50\n",
            "107/107 [==============================] - 2s 18ms/step - loss: 0.1927 - accuracy: 0.9218 - val_loss: 0.9038 - val_accuracy: 0.7860\n",
            "Epoch 44/50\n",
            "107/107 [==============================] - 2s 19ms/step - loss: 0.1903 - accuracy: 0.9209 - val_loss: 0.9424 - val_accuracy: 0.7857\n",
            "Epoch 45/50\n",
            "107/107 [==============================] - 2s 19ms/step - loss: 0.2072 - accuracy: 0.9149 - val_loss: 0.9419 - val_accuracy: 0.7846\n",
            "Epoch 46/50\n",
            "107/107 [==============================] - 2s 18ms/step - loss: 0.1902 - accuracy: 0.9215 - val_loss: 0.8854 - val_accuracy: 0.7963\n",
            "Epoch 47/50\n",
            "107/107 [==============================] - 2s 18ms/step - loss: 0.1854 - accuracy: 0.9241 - val_loss: 0.9291 - val_accuracy: 0.7931\n",
            "Epoch 48/50\n",
            "107/107 [==============================] - 2s 19ms/step - loss: 0.1822 - accuracy: 0.9240 - val_loss: 0.9200 - val_accuracy: 0.7975\n",
            "Epoch 49/50\n",
            "107/107 [==============================] - 2s 19ms/step - loss: 0.1785 - accuracy: 0.9259 - val_loss: 0.9865 - val_accuracy: 0.7825\n",
            "Epoch 50/50\n",
            "107/107 [==============================] - 2s 19ms/step - loss: 0.1762 - accuracy: 0.9265 - val_loss: 0.9582 - val_accuracy: 0.7834\n"
          ]
        }
      ]
    },
    {
      "cell_type": "code",
      "source": [
        "#Epoch 50/50\n",
        "#107/107 [==============================] - 2s 18ms/step - loss: 0.1754 - accuracy: 0.9260 - val_loss: 1.2077 - val_accuracy: 0.7878\n",
        "#Epoch 50/50\n",
        "#107/107 [==============================] - 2s 21ms/step - loss: 0.1698 - accuracy: 0.9259 - val_loss: 1.0955 - val_accuracy: 0.7940"
      ],
      "metadata": {
        "id": "BHRXgvpCoku9"
      },
      "execution_count": null,
      "outputs": []
    },
    {
      "cell_type": "code",
      "source": [
        "tf.keras.utils.plot_model(model3, show_shapes=True)"
      ],
      "metadata": {
        "colab": {
          "base_uri": "https://localhost:8080/",
          "height": 644
        },
        "id": "1dVvLzBo61G8",
        "outputId": "a2fa501c-2e44-4336-e66d-153033cbddba"
      },
      "execution_count": null,
      "outputs": [
        {
          "output_type": "execute_result",
          "data": {
            "text/plain": [
              "<IPython.core.display.Image object>"
            ],
            "image/png": "[encoded data removed]"
          },
          "metadata": {},
          "execution_count": 38
        }
      ]
    },
    {
      "cell_type": "code",
      "source": [
        "pred3=model3.predict(testing_padded)\n",
        "rounded_labels3=np.argmax(pred3, axis=1).astype(int)\n",
        "cm2 = confusion_matrix(testing_labels, rounded_labels3)\n",
        "cm2"
      ],
      "metadata": {
        "colab": {
          "base_uri": "https://localhost:8080/"
        },
        "id": "Vg0RP9_k63Ri",
        "outputId": "a58c6208-bf77-4e97-fdf6-d1287114d61c"
      },
      "execution_count": null,
      "outputs": [
        {
          "output_type": "execute_result",
          "data": {
            "text/plain": [
              "array([[1497,  138,  339],\n",
              "       [  31,  484,   57],\n",
              "       [  76,   61,  724]])"
            ]
          },
          "metadata": {},
          "execution_count": 47
        }
      ]
    },
    {
      "cell_type": "code",
      "source": [
        "print(classification_report(testing_labels, rounded_labels3, labels=[0,1,2]))"
      ],
      "metadata": {
        "colab": {
          "base_uri": "https://localhost:8080/"
        },
        "id": "r-QZWcpDdy6N",
        "outputId": "6075dc59-43fd-4123-d8b6-95417ea970e1"
      },
      "execution_count": null,
      "outputs": [
        {
          "output_type": "stream",
          "name": "stdout",
          "text": [
            "              precision    recall  f1-score   support\n",
            "\n",
            "           0       0.93      0.76      0.84      1974\n",
            "           1       0.71      0.85      0.77       572\n",
            "           2       0.65      0.84      0.73       861\n",
            "\n",
            "    accuracy                           0.79      3407\n",
            "   macro avg       0.76      0.82      0.78      3407\n",
            "weighted avg       0.82      0.79      0.80      3407\n",
            "\n"
          ]
        }
      ]
    },
    {
      "cell_type": "code",
      "source": [
        "pred12=model3.predict(testing_padded12)\n",
        "rounded_labels312=np.argmax(pred12, axis=1).astype(int)\n",
        "cm12 = confusion_matrix(testing_labels12, rounded_labels312)\n",
        "print(cm12)\n",
        "print(classification_report(testing_labels12, rounded_labels312, labels=[0,1,2]))"
      ],
      "metadata": {
        "id": "MfclteTGK-_x"
      },
      "execution_count": null,
      "outputs": []
    },
    {
      "cell_type": "code",
      "source": [
        "pred34=model3.predict(testing_padded34)\n",
        "rounded_labels334=np.argmax(pred34, axis=1).astype(int)\n",
        "cm34 = confusion_matrix(testing_labels34, rounded_labels334)\n",
        "print(cm34)\n",
        "print(classification_report(testing_labels34, rounded_labels334, labels=[0,1,2]))"
      ],
      "metadata": {
        "id": "zYydjCkILMG-"
      },
      "execution_count": null,
      "outputs": []
    },
    {
      "cell_type": "code",
      "source": [
        "import matplotlib.pyplot as plt\n",
        "import numpy\n",
        "# summarize history for accuracy\n",
        "plt.plot(history.history['loss'])\n",
        "plt.plot(history.history['val_loss'])\n",
        "plt.title('model loss')\n",
        "plt.ylabel('loss')\n",
        "plt.xlabel('epoch')\n",
        "plt.legend(['train', 'test'], loc='upper left')\n",
        "plt.show()\n",
        "# summarize history for loss\n",
        "plt.plot(history.history['accuracy'])\n",
        "plt.plot(history.history['val_accuracy'])\n",
        "plt.title('model accuracy')\n",
        "plt.ylabel('accuracy')\n",
        "plt.xlabel('epoch')\n",
        "plt.legend(['train', 'test'], loc='upper left')\n",
        "plt.show()"
      ],
      "metadata": {
        "colab": {
          "base_uri": "https://localhost:8080/",
          "height": 573
        },
        "id": "ddbAtRKXatG3",
        "outputId": "838af9ff-22b6-4d33-b86d-1d049bac4902"
      },
      "execution_count": null,
      "outputs": [
        {
          "output_type": "display_data",
          "data": {
            "text/plain": [
              "<Figure size 432x288 with 1 Axes>"
            ],
            "image/png": "[encoded data removed]"
          },
          "metadata": {
            "needs_background": "light"
          }
        },
        {
          "output_type": "display_data",
          "data": {
            "text/plain": [
              "<Figure size 432x288 with 1 Axes>"
            ],
            "image/png": "[encoded data removed]"
          },
          "metadata": {
            "needs_background": "light"
          }
        }
      ]
    },
    {
      "cell_type": "code",
      "source": [
        "[print(i.shape, i.dtype) for i in model.inputs]\n",
        "[print(o.shape, o.dtype) for o in model.outputs]\n",
        "[print(l.name, l.input_shape, l.dtype) for l in model.layers]"
      ],
      "metadata": {
        "id": "wRVI93y5P6OY"
      },
      "execution_count": null,
      "outputs": []
    },
    {
      "cell_type": "markdown",
      "source": [
        "##Conclusion\n",
        "###The accuracy for the three models is 58% yet the complexity varies. The first model has 690 579 trainale parameters which makes it the most complex amongs the three of them with the second having 618 083 trainable parameters and the third having 618 739 trainable parameters.\n",
        "###After giving the problem a first look, we can suspect that:\n",
        "* This is a deep Learning Problem where we need more data and a bigger model so we can track the pattern and better the model's accuracy\n",
        "* Te model is not getting the pattern in the data well so this can be due to some data imbalence \n",
        "* We need to further explore our data and to create a bigger model"
      ],
      "metadata": {
        "id": "__2IcBnQa-4Y"
      }
    },
    {
      "cell_type": "markdown",
      "source": [
        "#Terms\n",
        "##BURT: is a transformar model\n",
        "##Sentiment Classification: A prabability distrubution over two classes\n",
        "##Text Encoding: How to encode the texts into a numerical presentation that we can be handled by the machine learning model\n",
        "##Transformers: The State-Of-The-Art architecture for language modeling\n",
        "#Word2vec: 2013, The Model that introduced distributed representations for language modeling"
      ],
      "metadata": {
        "id": "5SNCH0-6Eq4I"
      }
    }
  ]
}