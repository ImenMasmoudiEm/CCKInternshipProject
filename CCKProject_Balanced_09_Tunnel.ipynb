{
  "nbformat": 4,
  "nbformat_minor": 0,
  "metadata": {
    "colab": {
      "name": "CCKProject-Balanced-09-Tunnel.ipynb",
      "provenance": [],
      "collapsed_sections": [
        "-CRh9Gqc7KxQ",
        "2DGrTNt17GKc",
        "FRfELBgw7A3Z"
      ],
      "include_colab_link": true
    },
    "kernelspec": {
      "name": "python3",
      "display_name": "Python 3"
    },
    "language_info": {
      "name": "python"
    },
    "gpuClass": "standard",
    "accelerator": "GPU"
  },
  "cells": [
    {
      "cell_type": "markdown",
      "metadata": {
        "id": "view-in-github",
        "colab_type": "text"
      },
      "source": [
        "<a href=\"https://colab.research.google.com/github/ImenMasmoudiEm/CCKInternshipProject/blob/main/CCKProject_Balanced_09_Tunnel.ipynb\" target=\"_parent\"><img src=\"https://colab.research.google.com/assets/colab-badge.svg\" alt=\"Open In Colab\"/></a>"
      ]
    },
    {
      "cell_type": "markdown",
      "source": [
        "# Text Classification: Primary work"
      ],
      "metadata": {
        "id": "Iiruy8t57ISt"
      }
    },
    {
      "cell_type": "markdown",
      "source": [
        "##Connecting to drive & importing data"
      ],
      "metadata": {
        "id": "6A7gIEXP7oqV"
      }
    },
    {
      "cell_type": "code",
      "source": [
        "from google.colab import drive\n",
        "drive.mount('/content/drive')"
      ],
      "metadata": {
        "colab": {
          "base_uri": "https://localhost:8080/"
        },
        "id": "KwJf5Jnk9iw8",
        "outputId": "7413bdd9-79bd-4a88-d1c0-e2b9a7889a38"
      },
      "execution_count": null,
      "outputs": [
        {
          "output_type": "stream",
          "name": "stdout",
          "text": [
            "Mounted at /content/drive\n"
          ]
        }
      ]
    },
    {
      "cell_type": "code",
      "execution_count": null,
      "metadata": {
        "id": "u6Xmp6Sf7Ay4"
      },
      "outputs": [],
      "source": [
        "import os \n",
        "os.chdir('/content/drive/MyDrive/All/Projects/Ing Internship/Data')"
      ]
    },
    {
      "cell_type": "code",
      "source": [
        "import pandas as pd\n",
        "data=pd.read_excel(\"/content/drive/MyDrive/All/Projects/Ing Internship/Data/final-dataset.xlsx\")\n",
        "data"
      ],
      "metadata": {
        "colab": {
          "base_uri": "https://localhost:8080/"
        },
        "id": "hjV2FNxa-FDa",
        "outputId": "b54ce2bf-8e4c-4d52-c144-1e9702f7fe80"
      },
      "execution_count": null,
      "outputs": [
        {
          "output_type": "execute_result",
          "data": {
            "text/plain": [
              "                                             commentaire  classe\n",
              "0      مبروك و سامحونا لعجزنا التام. عقبال اللي جوه. ...  normal\n",
              "1      كلنا بره ومش هنبطل نزايد على العجايز الي جابون...    hate\n",
              "2              بدل ما انت قاعد بره كده تعالي ازرع الصحرا  normal\n",
              "3          قذر اتفووو ماتيجى مصر وتورينا نفسك كدا ياجبان    hate\n",
              "4      وهكذا رجال الشو اللي محرومين من عمل برنامج الغ...    hate\n",
              "...                                                  ...     ...\n",
              "23028    يلا ولا خنزير الله يرحم صدام حسين لي كان داعسكن    hate\n",
              "23029            وبلدك سوريا لا تبغي سوا القتل والاجرام     hate\n",
              "23030  معالي الوزير نؤمن بك دائما لأنك الدرع المنيع ف...  normal\n",
              "23031  حياة سندي مستشارة امين عام الامم المتحدة بان ك...  normal\n",
              "23032  انت يا جبران باسيل بعقليتك الفجة النتنة تقولرب...    hate\n",
              "\n",
              "[23033 rows x 2 columns]"
            ],
            "text/html": [
              "\n",
              "  <div id=\"df-8ec3457b-5883-437a-8106-9faf5ef982bc\">\n",
              "    <div class=\"colab-df-container\">\n",
              "      <div>\n",
              "<style scoped>\n",
              "    .dataframe tbody tr th:only-of-type {\n",
              "        vertical-align: middle;\n",
              "    }\n",
              "\n",
              "    .dataframe tbody tr th {\n",
              "        vertical-align: top;\n",
              "    }\n",
              "\n",
              "    .dataframe thead th {\n",
              "        text-align: right;\n",
              "    }\n",
              "</style>\n",
              "<table border=\"1\" class=\"dataframe\">\n",
              "  <thead>\n",
              "    <tr style=\"text-align: right;\">\n",
              "      <th></th>\n",
              "      <th>commentaire</th>\n",
              "      <th>classe</th>\n",
              "    </tr>\n",
              "  </thead>\n",
              "  <tbody>\n",
              "    <tr>\n",
              "      <th>0</th>\n",
              "      <td>مبروك و سامحونا لعجزنا التام. عقبال اللي جوه. ...</td>\n",
              "      <td>normal</td>\n",
              "    </tr>\n",
              "    <tr>\n",
              "      <th>1</th>\n",
              "      <td>كلنا بره ومش هنبطل نزايد على العجايز الي جابون...</td>\n",
              "      <td>hate</td>\n",
              "    </tr>\n",
              "    <tr>\n",
              "      <th>2</th>\n",
              "      <td>بدل ما انت قاعد بره كده تعالي ازرع الصحرا</td>\n",
              "      <td>normal</td>\n",
              "    </tr>\n",
              "    <tr>\n",
              "      <th>3</th>\n",
              "      <td>قذر اتفووو ماتيجى مصر وتورينا نفسك كدا ياجبان</td>\n",
              "      <td>hate</td>\n",
              "    </tr>\n",
              "    <tr>\n",
              "      <th>4</th>\n",
              "      <td>وهكذا رجال الشو اللي محرومين من عمل برنامج الغ...</td>\n",
              "      <td>hate</td>\n",
              "    </tr>\n",
              "    <tr>\n",
              "      <th>...</th>\n",
              "      <td>...</td>\n",
              "      <td>...</td>\n",
              "    </tr>\n",
              "    <tr>\n",
              "      <th>23028</th>\n",
              "      <td>يلا ولا خنزير الله يرحم صدام حسين لي كان داعسكن</td>\n",
              "      <td>hate</td>\n",
              "    </tr>\n",
              "    <tr>\n",
              "      <th>23029</th>\n",
              "      <td>وبلدك سوريا لا تبغي سوا القتل والاجرام</td>\n",
              "      <td>hate</td>\n",
              "    </tr>\n",
              "    <tr>\n",
              "      <th>23030</th>\n",
              "      <td>معالي الوزير نؤمن بك دائما لأنك الدرع المنيع ف...</td>\n",
              "      <td>normal</td>\n",
              "    </tr>\n",
              "    <tr>\n",
              "      <th>23031</th>\n",
              "      <td>حياة سندي مستشارة امين عام الامم المتحدة بان ك...</td>\n",
              "      <td>normal</td>\n",
              "    </tr>\n",
              "    <tr>\n",
              "      <th>23032</th>\n",
              "      <td>انت يا جبران باسيل بعقليتك الفجة النتنة تقولرب...</td>\n",
              "      <td>hate</td>\n",
              "    </tr>\n",
              "  </tbody>\n",
              "</table>\n",
              "<p>23033 rows × 2 columns</p>\n",
              "</div>\n",
              "      <button class=\"colab-df-convert\" onclick=\"convertToInteractive('df-8ec3457b-5883-437a-8106-9faf5ef982bc')\"\n",
              "              title=\"Convert this dataframe to an interactive table.\"\n",
              "              style=\"display:none;\">\n",
              "        \n",
              "  <svg xmlns=\"http://www.w3.org/2000/svg\" height=\"24px\"viewBox=\"0 0 24 24\"\n",
              "       width=\"24px\">\n",
              "    <path d=\"M0 0h24v24H0V0z\" fill=\"none\"/>\n",
              "    <path d=\"M18.56 5.44l.94 2.06.94-2.06 2.06-.94-2.06-.94-.94-2.06-.94 2.06-2.06.94zm-11 1L8.5 8.5l.94-2.06 2.06-.94-2.06-.94L8.5 2.5l-.94 2.06-2.06.94zm10 10l.94 2.06.94-2.06 2.06-.94-2.06-.94-.94-2.06-.94 2.06-2.06.94z\"/><path d=\"M17.41 7.96l-1.37-1.37c-.4-.4-.92-.59-1.43-.59-.52 0-1.04.2-1.43.59L10.3 9.45l-7.72 7.72c-.78.78-.78 2.05 0 2.83L4 21.41c.39.39.9.59 1.41.59.51 0 1.02-.2 1.41-.59l7.78-7.78 2.81-2.81c.8-.78.8-2.07 0-2.86zM5.41 20L4 18.59l7.72-7.72 1.47 1.35L5.41 20z\"/>\n",
              "  </svg>\n",
              "      </button>\n",
              "      \n",
              "  <style>\n",
              "    .colab-df-container {\n",
              "      display:flex;\n",
              "      flex-wrap:wrap;\n",
              "      gap: 12px;\n",
              "    }\n",
              "\n",
              "    .colab-df-convert {\n",
              "      background-color: #E8F0FE;\n",
              "      border: none;\n",
              "      border-radius: 50%;\n",
              "      cursor: pointer;\n",
              "      display: none;\n",
              "      fill: #1967D2;\n",
              "      height: 32px;\n",
              "      padding: 0 0 0 0;\n",
              "      width: 32px;\n",
              "    }\n",
              "\n",
              "    .colab-df-convert:hover {\n",
              "      background-color: #E2EBFA;\n",
              "      box-shadow: 0px 1px 2px rgba(60, 64, 67, 0.3), 0px 1px 3px 1px rgba(60, 64, 67, 0.15);\n",
              "      fill: #174EA6;\n",
              "    }\n",
              "\n",
              "    [theme=dark] .colab-df-convert {\n",
              "      background-color: #3B4455;\n",
              "      fill: #D2E3FC;\n",
              "    }\n",
              "\n",
              "    [theme=dark] .colab-df-convert:hover {\n",
              "      background-color: #434B5C;\n",
              "      box-shadow: 0px 1px 3px 1px rgba(0, 0, 0, 0.15);\n",
              "      filter: drop-shadow(0px 1px 2px rgba(0, 0, 0, 0.3));\n",
              "      fill: #FFFFFF;\n",
              "    }\n",
              "  </style>\n",
              "\n",
              "      <script>\n",
              "        const buttonEl =\n",
              "          document.querySelector('#df-8ec3457b-5883-437a-8106-9faf5ef982bc button.colab-df-convert');\n",
              "        buttonEl.style.display =\n",
              "          google.colab.kernel.accessAllowed ? 'block' : 'none';\n",
              "\n",
              "        async function convertToInteractive(key) {\n",
              "          const element = document.querySelector('#df-8ec3457b-5883-437a-8106-9faf5ef982bc');\n",
              "          const dataTable =\n",
              "            await google.colab.kernel.invokeFunction('convertToInteractive',\n",
              "                                                     [key], {});\n",
              "          if (!dataTable) return;\n",
              "\n",
              "          const docLinkHtml = 'Like what you see? Visit the ' +\n",
              "            '<a target=\"_blank\" href=https://colab.research.google.com/notebooks/data_table.ipynb>data table notebook</a>'\n",
              "            + ' to learn more about interactive tables.';\n",
              "          element.innerHTML = '';\n",
              "          dataTable['output_type'] = 'display_data';\n",
              "          await google.colab.output.renderOutput(dataTable, element);\n",
              "          const docLink = document.createElement('div');\n",
              "          docLink.innerHTML = docLinkHtml;\n",
              "          element.appendChild(docLink);\n",
              "        }\n",
              "      </script>\n",
              "    </div>\n",
              "  </div>\n",
              "  "
            ]
          },
          "metadata": {},
          "execution_count": 3
        }
      ]
    },
    {
      "cell_type": "markdown",
      "source": [
        "##Data Preprocessing"
      ],
      "metadata": {
        "id": "E78jh1K4ATql"
      }
    },
    {
      "cell_type": "markdown",
      "source": [
        "1/ Changing the Class into bin"
      ],
      "metadata": {
        "id": "4WPH66dgAsdv"
      }
    },
    {
      "cell_type": "code",
      "source": [
        "data['classe']=data['classe'].replace(\"hate\", int(2))\n",
        "data['classe']=data['classe'].replace(\"normal\", int(0)) \n",
        "data['classe']=data['classe'].replace(\"abusive\", int(1))"
      ],
      "metadata": {
        "id": "g0G8MT47A3Z_"
      },
      "execution_count": null,
      "outputs": []
    },
    {
      "cell_type": "code",
      "source": [
        "data"
      ],
      "metadata": {
        "colab": {
          "base_uri": "https://localhost:8080/"
        },
        "id": "1Ml3TDjMBley",
        "outputId": "7ba57dab-ed38-4a66-f367-b24973e68dcf"
      },
      "execution_count": null,
      "outputs": [
        {
          "output_type": "execute_result",
          "data": {
            "text/plain": [
              "                                             commentaire  classe\n",
              "0      مبروك و سامحونا لعجزنا التام. عقبال اللي جوه. ...       0\n",
              "1      كلنا بره ومش هنبطل نزايد على العجايز الي جابون...       2\n",
              "2              بدل ما انت قاعد بره كده تعالي ازرع الصحرا       0\n",
              "3          قذر اتفووو ماتيجى مصر وتورينا نفسك كدا ياجبان       2\n",
              "4      وهكذا رجال الشو اللي محرومين من عمل برنامج الغ...       2\n",
              "...                                                  ...     ...\n",
              "23028    يلا ولا خنزير الله يرحم صدام حسين لي كان داعسكن       2\n",
              "23029            وبلدك سوريا لا تبغي سوا القتل والاجرام        2\n",
              "23030  معالي الوزير نؤمن بك دائما لأنك الدرع المنيع ف...       0\n",
              "23031  حياة سندي مستشارة امين عام الامم المتحدة بان ك...       0\n",
              "23032  انت يا جبران باسيل بعقليتك الفجة النتنة تقولرب...       2\n",
              "\n",
              "[23033 rows x 2 columns]"
            ],
            "text/html": [
              "\n",
              "  <div id=\"df-0236b027-f4d4-4f20-8301-d03a9d4df785\">\n",
              "    <div class=\"colab-df-container\">\n",
              "      <div>\n",
              "<style scoped>\n",
              "    .dataframe tbody tr th:only-of-type {\n",
              "        vertical-align: middle;\n",
              "    }\n",
              "\n",
              "    .dataframe tbody tr th {\n",
              "        vertical-align: top;\n",
              "    }\n",
              "\n",
              "    .dataframe thead th {\n",
              "        text-align: right;\n",
              "    }\n",
              "</style>\n",
              "<table border=\"1\" class=\"dataframe\">\n",
              "  <thead>\n",
              "    <tr style=\"text-align: right;\">\n",
              "      <th></th>\n",
              "      <th>commentaire</th>\n",
              "      <th>classe</th>\n",
              "    </tr>\n",
              "  </thead>\n",
              "  <tbody>\n",
              "    <tr>\n",
              "      <th>0</th>\n",
              "      <td>مبروك و سامحونا لعجزنا التام. عقبال اللي جوه. ...</td>\n",
              "      <td>0</td>\n",
              "    </tr>\n",
              "    <tr>\n",
              "      <th>1</th>\n",
              "      <td>كلنا بره ومش هنبطل نزايد على العجايز الي جابون...</td>\n",
              "      <td>2</td>\n",
              "    </tr>\n",
              "    <tr>\n",
              "      <th>2</th>\n",
              "      <td>بدل ما انت قاعد بره كده تعالي ازرع الصحرا</td>\n",
              "      <td>0</td>\n",
              "    </tr>\n",
              "    <tr>\n",
              "      <th>3</th>\n",
              "      <td>قذر اتفووو ماتيجى مصر وتورينا نفسك كدا ياجبان</td>\n",
              "      <td>2</td>\n",
              "    </tr>\n",
              "    <tr>\n",
              "      <th>4</th>\n",
              "      <td>وهكذا رجال الشو اللي محرومين من عمل برنامج الغ...</td>\n",
              "      <td>2</td>\n",
              "    </tr>\n",
              "    <tr>\n",
              "      <th>...</th>\n",
              "      <td>...</td>\n",
              "      <td>...</td>\n",
              "    </tr>\n",
              "    <tr>\n",
              "      <th>23028</th>\n",
              "      <td>يلا ولا خنزير الله يرحم صدام حسين لي كان داعسكن</td>\n",
              "      <td>2</td>\n",
              "    </tr>\n",
              "    <tr>\n",
              "      <th>23029</th>\n",
              "      <td>وبلدك سوريا لا تبغي سوا القتل والاجرام</td>\n",
              "      <td>2</td>\n",
              "    </tr>\n",
              "    <tr>\n",
              "      <th>23030</th>\n",
              "      <td>معالي الوزير نؤمن بك دائما لأنك الدرع المنيع ف...</td>\n",
              "      <td>0</td>\n",
              "    </tr>\n",
              "    <tr>\n",
              "      <th>23031</th>\n",
              "      <td>حياة سندي مستشارة امين عام الامم المتحدة بان ك...</td>\n",
              "      <td>0</td>\n",
              "    </tr>\n",
              "    <tr>\n",
              "      <th>23032</th>\n",
              "      <td>انت يا جبران باسيل بعقليتك الفجة النتنة تقولرب...</td>\n",
              "      <td>2</td>\n",
              "    </tr>\n",
              "  </tbody>\n",
              "</table>\n",
              "<p>23033 rows × 2 columns</p>\n",
              "</div>\n",
              "      <button class=\"colab-df-convert\" onclick=\"convertToInteractive('df-0236b027-f4d4-4f20-8301-d03a9d4df785')\"\n",
              "              title=\"Convert this dataframe to an interactive table.\"\n",
              "              style=\"display:none;\">\n",
              "        \n",
              "  <svg xmlns=\"http://www.w3.org/2000/svg\" height=\"24px\"viewBox=\"0 0 24 24\"\n",
              "       width=\"24px\">\n",
              "    <path d=\"M0 0h24v24H0V0z\" fill=\"none\"/>\n",
              "    <path d=\"M18.56 5.44l.94 2.06.94-2.06 2.06-.94-2.06-.94-.94-2.06-.94 2.06-2.06.94zm-11 1L8.5 8.5l.94-2.06 2.06-.94-2.06-.94L8.5 2.5l-.94 2.06-2.06.94zm10 10l.94 2.06.94-2.06 2.06-.94-2.06-.94-.94-2.06-.94 2.06-2.06.94z\"/><path d=\"M17.41 7.96l-1.37-1.37c-.4-.4-.92-.59-1.43-.59-.52 0-1.04.2-1.43.59L10.3 9.45l-7.72 7.72c-.78.78-.78 2.05 0 2.83L4 21.41c.39.39.9.59 1.41.59.51 0 1.02-.2 1.41-.59l7.78-7.78 2.81-2.81c.8-.78.8-2.07 0-2.86zM5.41 20L4 18.59l7.72-7.72 1.47 1.35L5.41 20z\"/>\n",
              "  </svg>\n",
              "      </button>\n",
              "      \n",
              "  <style>\n",
              "    .colab-df-container {\n",
              "      display:flex;\n",
              "      flex-wrap:wrap;\n",
              "      gap: 12px;\n",
              "    }\n",
              "\n",
              "    .colab-df-convert {\n",
              "      background-color: #E8F0FE;\n",
              "      border: none;\n",
              "      border-radius: 50%;\n",
              "      cursor: pointer;\n",
              "      display: none;\n",
              "      fill: #1967D2;\n",
              "      height: 32px;\n",
              "      padding: 0 0 0 0;\n",
              "      width: 32px;\n",
              "    }\n",
              "\n",
              "    .colab-df-convert:hover {\n",
              "      background-color: #E2EBFA;\n",
              "      box-shadow: 0px 1px 2px rgba(60, 64, 67, 0.3), 0px 1px 3px 1px rgba(60, 64, 67, 0.15);\n",
              "      fill: #174EA6;\n",
              "    }\n",
              "\n",
              "    [theme=dark] .colab-df-convert {\n",
              "      background-color: #3B4455;\n",
              "      fill: #D2E3FC;\n",
              "    }\n",
              "\n",
              "    [theme=dark] .colab-df-convert:hover {\n",
              "      background-color: #434B5C;\n",
              "      box-shadow: 0px 1px 3px 1px rgba(0, 0, 0, 0.15);\n",
              "      filter: drop-shadow(0px 1px 2px rgba(0, 0, 0, 0.3));\n",
              "      fill: #FFFFFF;\n",
              "    }\n",
              "  </style>\n",
              "\n",
              "      <script>\n",
              "        const buttonEl =\n",
              "          document.querySelector('#df-0236b027-f4d4-4f20-8301-d03a9d4df785 button.colab-df-convert');\n",
              "        buttonEl.style.display =\n",
              "          google.colab.kernel.accessAllowed ? 'block' : 'none';\n",
              "\n",
              "        async function convertToInteractive(key) {\n",
              "          const element = document.querySelector('#df-0236b027-f4d4-4f20-8301-d03a9d4df785');\n",
              "          const dataTable =\n",
              "            await google.colab.kernel.invokeFunction('convertToInteractive',\n",
              "                                                     [key], {});\n",
              "          if (!dataTable) return;\n",
              "\n",
              "          const docLinkHtml = 'Like what you see? Visit the ' +\n",
              "            '<a target=\"_blank\" href=https://colab.research.google.com/notebooks/data_table.ipynb>data table notebook</a>'\n",
              "            + ' to learn more about interactive tables.';\n",
              "          element.innerHTML = '';\n",
              "          dataTable['output_type'] = 'display_data';\n",
              "          await google.colab.output.renderOutput(dataTable, element);\n",
              "          const docLink = document.createElement('div');\n",
              "          docLink.innerHTML = docLinkHtml;\n",
              "          element.appendChild(docLink);\n",
              "        }\n",
              "      </script>\n",
              "    </div>\n",
              "  </div>\n",
              "  "
            ]
          },
          "metadata": {},
          "execution_count": 5
        }
      ]
    },
    {
      "cell_type": "code",
      "source": [
        "import matplotlib.pyplot as plt\n",
        "import seaborn as sns\n",
        "plt.figure(1 , figsize = (15 , 5))\n",
        "sns.countplot(y = 'classe' , data = data)\n",
        "plt.show()"
      ],
      "metadata": {
        "colab": {
          "base_uri": "https://localhost:8080/"
        },
        "id": "QWAQiWYVAzQN",
        "outputId": "54def9a7-f502-46c3-bdf0-aa12bfaa4fcb"
      },
      "execution_count": null,
      "outputs": [
        {
          "output_type": "display_data",
          "data": {
            "text/plain": [
              "<Figure size 1080x360 with 1 Axes>"
            ],
            "image/png": "[encoded data removed]"
          },
          "metadata": {
            "needs_background": "light"
          }
        }
      ]
    },
    {
      "cell_type": "code",
      "source": [
        "print(data.loc[data.classe==0].groupby('classe')[\"classe\"].count())\n",
        "print(data.loc[data.classe==1].groupby('classe')[\"classe\"].count())\n",
        "print(data.loc[data.classe==2].groupby('classe')[\"classe\"].count())"
      ],
      "metadata": {
        "colab": {
          "base_uri": "https://localhost:8080/"
        },
        "id": "mWndFEOiC4pP",
        "outputId": "226a8c68-aef3-4c29-b0be-adef1e0836ab"
      },
      "execution_count": null,
      "outputs": [
        {
          "output_type": "stream",
          "name": "stdout",
          "text": [
            "classe\n",
            "0    12353\n",
            "Name: classe, dtype: int64\n",
            "classe\n",
            "1    3850\n",
            "Name: classe, dtype: int64\n",
            "classe\n",
            "2    6830\n",
            "Name: classe, dtype: int64\n"
          ]
        }
      ]
    },
    {
      "cell_type": "markdown",
      "source": [
        "2/ NLP Data Preparations: Data Balancing"
      ],
      "metadata": {
        "id": "nWDDcwDwA32H"
      }
    },
    {
      "cell_type": "code",
      "source": [
        "from tensorflow.keras.preprocessing.text import Tokenizer\n",
        "from tensorflow.keras.preprocessing.sequence import pad_sequences\n",
        "import numpy as np\n",
        "\n",
        "\n",
        "sentences = data['commentaire']\n",
        "labels = data['classe']\n",
        "L=[]\n",
        "\n",
        "labels = [int(i) for i in labels]"
      ],
      "metadata": {
        "id": "BgMfbCVpBAOB"
      },
      "execution_count": null,
      "outputs": []
    },
    {
      "cell_type": "code",
      "source": [
        "i=0\n",
        "c=0\n",
        "Nlables=[]\n",
        "Nsentences=[]\n",
        "\n",
        "while (c<5500):\n",
        "  if (labels[i]!= 0):\n",
        "    Nlables.append(labels[i])\n",
        "    Nsentences.append(sentences[i])\n",
        "  else:\n",
        "    c+=1\n",
        "  i+=1\n",
        "while (i<len(labels)):\n",
        "  Nlables.append(labels[i])\n",
        "  Nsentences.append(sentences[i])\n",
        "  i+=1\n",
        "\n",
        "sentences=[str(i) for i in sentences]\n",
        "\n",
        "i=0\n",
        "c=0\n",
        "\n",
        "while (c<3000):\n",
        "  if (Nlables[i]==1):\n",
        "    Nlables.append(Nlables[i])\n",
        "    Nsentences.append(Nsentences[i])\n",
        "    c+=1\n",
        "  i+=1"
      ],
      "metadata": {
        "id": "Vp_qjUMwT6PI"
      },
      "execution_count": null,
      "outputs": []
    },
    {
      "cell_type": "code",
      "source": [
        "print(len(sentences))\n",
        "print(len(labels))"
      ],
      "metadata": {
        "colab": {
          "base_uri": "https://localhost:8080/"
        },
        "id": "4O3GcwGvx83O",
        "outputId": "382bbcfe-b452-43e1-f391-f586bce9c85b"
      },
      "execution_count": null,
      "outputs": [
        {
          "output_type": "stream",
          "name": "stdout",
          "text": [
            "23033\n",
            "23033\n"
          ]
        }
      ]
    },
    {
      "cell_type": "code",
      "source": [
        "import pandas as pd\n",
        "\n",
        "data=[[i,j] for i,j in zip(Nsentences , Nlables)]\n",
        "\n",
        "data=pd.DataFrame(data,columns=[\"sentences\",\"classe\"])\n",
        "\n",
        "data"
      ],
      "metadata": {
        "colab": {
          "base_uri": "https://localhost:8080/"
        },
        "id": "zQgP6WSIbrNm",
        "outputId": "a880addd-2a38-407d-fdf9-b41f807949a3"
      },
      "execution_count": null,
      "outputs": [
        {
          "output_type": "execute_result",
          "data": {
            "text/plain": [
              "                                               sentences  classe\n",
              "0      كلنا بره ومش هنبطل نزايد على العجايز الي جابون...       2\n",
              "1          قذر اتفووو ماتيجى مصر وتورينا نفسك كدا ياجبان       2\n",
              "2      وهكذا رجال الشو اللي محرومين من عمل برنامج الغ...       2\n",
              "3                                   أنت أزاي لبؤة كدة ؟        1\n",
              "4      دول عبيد باسم !! انت ما تعرفش غير ستات كده يعن...       2\n",
              "...                                                  ...     ...\n",
              "20528                   انت حمار وابن حمار وابن ابن حمار       1\n",
              "20529            يلعن روحك يا هنية على هالتصريح الصرّحتو       1\n",
              "20530                                        بيكفيكن عهر       1\n",
              "20531                 كل عمري إسمع عن أعور الدجيل و حمار       1\n",
              "20532                  انت الزمن الخرى لجابك كلب ابن كلب       1\n",
              "\n",
              "[20533 rows x 2 columns]"
            ],
            "text/html": [
              "\n",
              "  <div id=\"df-b4f8fd83-92e7-44a1-9bf8-a9518560a2b7\">\n",
              "    <div class=\"colab-df-container\">\n",
              "      <div>\n",
              "<style scoped>\n",
              "    .dataframe tbody tr th:only-of-type {\n",
              "        vertical-align: middle;\n",
              "    }\n",
              "\n",
              "    .dataframe tbody tr th {\n",
              "        vertical-align: top;\n",
              "    }\n",
              "\n",
              "    .dataframe thead th {\n",
              "        text-align: right;\n",
              "    }\n",
              "</style>\n",
              "<table border=\"1\" class=\"dataframe\">\n",
              "  <thead>\n",
              "    <tr style=\"text-align: right;\">\n",
              "      <th></th>\n",
              "      <th>sentences</th>\n",
              "      <th>classe</th>\n",
              "    </tr>\n",
              "  </thead>\n",
              "  <tbody>\n",
              "    <tr>\n",
              "      <th>0</th>\n",
              "      <td>كلنا بره ومش هنبطل نزايد على العجايز الي جابون...</td>\n",
              "      <td>2</td>\n",
              "    </tr>\n",
              "    <tr>\n",
              "      <th>1</th>\n",
              "      <td>قذر اتفووو ماتيجى مصر وتورينا نفسك كدا ياجبان</td>\n",
              "      <td>2</td>\n",
              "    </tr>\n",
              "    <tr>\n",
              "      <th>2</th>\n",
              "      <td>وهكذا رجال الشو اللي محرومين من عمل برنامج الغ...</td>\n",
              "      <td>2</td>\n",
              "    </tr>\n",
              "    <tr>\n",
              "      <th>3</th>\n",
              "      <td>أنت أزاي لبؤة كدة ؟</td>\n",
              "      <td>1</td>\n",
              "    </tr>\n",
              "    <tr>\n",
              "      <th>4</th>\n",
              "      <td>دول عبيد باسم !! انت ما تعرفش غير ستات كده يعن...</td>\n",
              "      <td>2</td>\n",
              "    </tr>\n",
              "    <tr>\n",
              "      <th>...</th>\n",
              "      <td>...</td>\n",
              "      <td>...</td>\n",
              "    </tr>\n",
              "    <tr>\n",
              "      <th>20528</th>\n",
              "      <td>انت حمار وابن حمار وابن ابن حمار</td>\n",
              "      <td>1</td>\n",
              "    </tr>\n",
              "    <tr>\n",
              "      <th>20529</th>\n",
              "      <td>يلعن روحك يا هنية على هالتصريح الصرّحتو</td>\n",
              "      <td>1</td>\n",
              "    </tr>\n",
              "    <tr>\n",
              "      <th>20530</th>\n",
              "      <td>بيكفيكن عهر</td>\n",
              "      <td>1</td>\n",
              "    </tr>\n",
              "    <tr>\n",
              "      <th>20531</th>\n",
              "      <td>كل عمري إسمع عن أعور الدجيل و حمار</td>\n",
              "      <td>1</td>\n",
              "    </tr>\n",
              "    <tr>\n",
              "      <th>20532</th>\n",
              "      <td>انت الزمن الخرى لجابك كلب ابن كلب</td>\n",
              "      <td>1</td>\n",
              "    </tr>\n",
              "  </tbody>\n",
              "</table>\n",
              "<p>20533 rows × 2 columns</p>\n",
              "</div>\n",
              "      <button class=\"colab-df-convert\" onclick=\"convertToInteractive('df-b4f8fd83-92e7-44a1-9bf8-a9518560a2b7')\"\n",
              "              title=\"Convert this dataframe to an interactive table.\"\n",
              "              style=\"display:none;\">\n",
              "        \n",
              "  <svg xmlns=\"http://www.w3.org/2000/svg\" height=\"24px\"viewBox=\"0 0 24 24\"\n",
              "       width=\"24px\">\n",
              "    <path d=\"M0 0h24v24H0V0z\" fill=\"none\"/>\n",
              "    <path d=\"M18.56 5.44l.94 2.06.94-2.06 2.06-.94-2.06-.94-.94-2.06-.94 2.06-2.06.94zm-11 1L8.5 8.5l.94-2.06 2.06-.94-2.06-.94L8.5 2.5l-.94 2.06-2.06.94zm10 10l.94 2.06.94-2.06 2.06-.94-2.06-.94-.94-2.06-.94 2.06-2.06.94z\"/><path d=\"M17.41 7.96l-1.37-1.37c-.4-.4-.92-.59-1.43-.59-.52 0-1.04.2-1.43.59L10.3 9.45l-7.72 7.72c-.78.78-.78 2.05 0 2.83L4 21.41c.39.39.9.59 1.41.59.51 0 1.02-.2 1.41-.59l7.78-7.78 2.81-2.81c.8-.78.8-2.07 0-2.86zM5.41 20L4 18.59l7.72-7.72 1.47 1.35L5.41 20z\"/>\n",
              "  </svg>\n",
              "      </button>\n",
              "      \n",
              "  <style>\n",
              "    .colab-df-container {\n",
              "      display:flex;\n",
              "      flex-wrap:wrap;\n",
              "      gap: 12px;\n",
              "    }\n",
              "\n",
              "    .colab-df-convert {\n",
              "      background-color: #E8F0FE;\n",
              "      border: none;\n",
              "      border-radius: 50%;\n",
              "      cursor: pointer;\n",
              "      display: none;\n",
              "      fill: #1967D2;\n",
              "      height: 32px;\n",
              "      padding: 0 0 0 0;\n",
              "      width: 32px;\n",
              "    }\n",
              "\n",
              "    .colab-df-convert:hover {\n",
              "      background-color: #E2EBFA;\n",
              "      box-shadow: 0px 1px 2px rgba(60, 64, 67, 0.3), 0px 1px 3px 1px rgba(60, 64, 67, 0.15);\n",
              "      fill: #174EA6;\n",
              "    }\n",
              "\n",
              "    [theme=dark] .colab-df-convert {\n",
              "      background-color: #3B4455;\n",
              "      fill: #D2E3FC;\n",
              "    }\n",
              "\n",
              "    [theme=dark] .colab-df-convert:hover {\n",
              "      background-color: #434B5C;\n",
              "      box-shadow: 0px 1px 3px 1px rgba(0, 0, 0, 0.15);\n",
              "      filter: drop-shadow(0px 1px 2px rgba(0, 0, 0, 0.3));\n",
              "      fill: #FFFFFF;\n",
              "    }\n",
              "  </style>\n",
              "\n",
              "      <script>\n",
              "        const buttonEl =\n",
              "          document.querySelector('#df-b4f8fd83-92e7-44a1-9bf8-a9518560a2b7 button.colab-df-convert');\n",
              "        buttonEl.style.display =\n",
              "          google.colab.kernel.accessAllowed ? 'block' : 'none';\n",
              "\n",
              "        async function convertToInteractive(key) {\n",
              "          const element = document.querySelector('#df-b4f8fd83-92e7-44a1-9bf8-a9518560a2b7');\n",
              "          const dataTable =\n",
              "            await google.colab.kernel.invokeFunction('convertToInteractive',\n",
              "                                                     [key], {});\n",
              "          if (!dataTable) return;\n",
              "\n",
              "          const docLinkHtml = 'Like what you see? Visit the ' +\n",
              "            '<a target=\"_blank\" href=https://colab.research.google.com/notebooks/data_table.ipynb>data table notebook</a>'\n",
              "            + ' to learn more about interactive tables.';\n",
              "          element.innerHTML = '';\n",
              "          dataTable['output_type'] = 'display_data';\n",
              "          await google.colab.output.renderOutput(dataTable, element);\n",
              "          const docLink = document.createElement('div');\n",
              "          docLink.innerHTML = docLinkHtml;\n",
              "          element.appendChild(docLink);\n",
              "        }\n",
              "      </script>\n",
              "    </div>\n",
              "  </div>\n",
              "  "
            ]
          },
          "metadata": {},
          "execution_count": 11
        }
      ]
    },
    {
      "cell_type": "code",
      "source": [
        "import matplotlib.pyplot as plt\n",
        "import seaborn as sns\n",
        "plt.figure(1 , figsize = (15 , 5))\n",
        "sns.countplot(y = 'classe' , data = data)\n",
        "plt.show()\n",
        "\n",
        "print(data.loc[data.classe==0].groupby('classe')[\"classe\"].count())\n",
        "print(data.loc[data.classe==1].groupby('classe')[\"classe\"].count())\n",
        "print(data.loc[data.classe==2].groupby('classe')[\"classe\"].count())"
      ],
      "metadata": {
        "colab": {
          "base_uri": "https://localhost:8080/"
        },
        "id": "Fz8P60LwbLjI",
        "outputId": "ad8837c0-8430-427a-c7c6-d437cb3ce836"
      },
      "execution_count": null,
      "outputs": [
        {
          "output_type": "display_data",
          "data": {
            "text/plain": [
              "<Figure size 1080x360 with 1 Axes>"
            ],
            "image/png": "[encoded data removed]"
          },
          "metadata": {
            "needs_background": "light"
          }
        },
        {
          "output_type": "stream",
          "name": "stdout",
          "text": [
            "classe\n",
            "0    6853\n",
            "Name: classe, dtype: int64\n",
            "classe\n",
            "1    6850\n",
            "Name: classe, dtype: int64\n",
            "classe\n",
            "2    6830\n",
            "Name: classe, dtype: int64\n"
          ]
        }
      ]
    },
    {
      "cell_type": "code",
      "source": [
        "#Figure out the longest comment\n",
        "\n",
        "def count_words(input):\n",
        "  return len(input.split())\n",
        "max_length=count_words(max(Nsentences,key=count_words))\n",
        "max_length"
      ],
      "metadata": {
        "colab": {
          "base_uri": "https://localhost:8080/"
        },
        "id": "A37mvaVcD-ji",
        "outputId": "ababc657-9a60-4f68-dc3d-7568c12b1216"
      },
      "execution_count": null,
      "outputs": [
        {
          "output_type": "execute_result",
          "data": {
            "text/plain": [
              "207"
            ]
          },
          "metadata": {},
          "execution_count": 13
        }
      ]
    },
    {
      "cell_type": "markdown",
      "source": [
        "#Importing extra data"
      ],
      "metadata": {
        "id": "cCJNbJcEzes_"
      }
    },
    {
      "cell_type": "code",
      "source": [
        "data12=pd.read_excel(\"/content/drive/MyDrive/All/Projects/Ing Internship/Data/dataset1and2.xlsx\")\n",
        "data34=pd.read_excel(\"/content/drive/MyDrive/All/Projects/Ing Internship/Data/dataset3and4.xlsx\")\n",
        "data5=pd.read_excel(\"/content/drive/MyDrive/All/Projects/Ing Internship/Data/D5.xlsx\")\n",
        "\n",
        "data12['classe']=data12['classe'].replace(\"hate\", int(2))\n",
        "data12['classe']=data12['classe'].replace(\"normal\", int(0)) \n",
        "data12['classe']=data12['classe'].replace(\"abusive\", int(1))\n",
        "\n",
        "data34['classe']=data34['classe'].replace(\"hate\", int(2))\n",
        "data34['classe']=data34['classe'].replace(\"normal\", int(0)) \n",
        "data34['classe']=data34['classe'].replace(\"abusive\", int(1))\n",
        "\n",
        "\n",
        "data5['classe']=data5['classe'].replace(\"hate\", int(2))\n",
        "data5['classe']=data5['classe'].replace(\"normal\", int(0)) \n",
        "data5['classe']=data5['classe'].replace(\"abusive\", int(1))\n",
        "\n",
        "\n",
        "C1=data12[\"commentaire\"]\n",
        "C2=data34[\"commentaire\"]\n",
        "C3=data5[\"commentaire\"]\n",
        "L1=data12[\"classe\"]\n",
        "L2=data34[\"classe\"]\n",
        "L3=data5[\"classe\"]\n",
        "\n",
        "\n",
        "data12=[[i,j] for i,j in zip(C1 , L1)]\n",
        "data34=[[i,j] for i,j in zip(C2 , L2)]\n",
        "data5=[[i,j] for i,j in zip(C3 , L3)]\n",
        "\n",
        "data12=pd.DataFrame(data12,columns=[\"sentences\",\"classe\"])\n",
        "data34=pd.DataFrame(data34,columns=[\"sentences\",\"classe\"])\n",
        "data5=pd.DataFrame(data5,columns=[\"sentences\",\"classe\"])"
      ],
      "metadata": {
        "id": "lJ4ViTx6zc-7"
      },
      "execution_count": null,
      "outputs": []
    },
    {
      "cell_type": "code",
      "source": [
        "data5[\"sentences\"]=data5[\"sentences\"].str.replace(\"_\",\" \")\n",
        "data5"
      ],
      "metadata": {
        "colab": {
          "base_uri": "https://localhost:8080/"
        },
        "id": "IhOSM1XP17Oy",
        "outputId": "655ccfa0-c22f-4892-e674-2a1ed99e013e"
      },
      "execution_count": null,
      "outputs": [
        {
          "output_type": "execute_result",
          "data": {
            "text/plain": [
              "                                              sentences  classe\n",
              "0     مبروك و سامحونا لعجزنا التام. عقبال اللي جوه. ...       0\n",
              "1     كلنا بره ومش هنبطل نزايد على العجايز الي جابون...       2\n",
              "2             بدل ما انت قاعد بره كده تعالي ازرع الصحرا       0\n",
              "3         قذر اتفووو ماتيجى مصر وتورينا نفسك كدا ياجبان       2\n",
              "4     وهكذا رجال الشو اللي محرومين من عمل برنامج الغ...       2\n",
              "...                                                 ...     ...\n",
              "1095  أستاذنا العزيز بلال فضل يحزنني أن يتم حذف حلقا...       0\n",
              "1096  ،برنامج يدعو للتفكير أكيد يمنعوه لأنهم خوافون ...       0\n",
              "1097  \"#أزهى عصور المسخره  هل ضيعت \"شيما\" محافظ بورس...       2\n",
              "1098          الله يلعنك و يلعن اللى جابوك يا رمه جايفه       1\n",
              "1099                                      أنت رجل حيوان       1\n",
              "\n",
              "[1100 rows x 2 columns]"
            ],
            "text/html": [
              "\n",
              "  <div id=\"df-1bf73024-c523-4ab2-bc27-620e5bfb098b\">\n",
              "    <div class=\"colab-df-container\">\n",
              "      <div>\n",
              "<style scoped>\n",
              "    .dataframe tbody tr th:only-of-type {\n",
              "        vertical-align: middle;\n",
              "    }\n",
              "\n",
              "    .dataframe tbody tr th {\n",
              "        vertical-align: top;\n",
              "    }\n",
              "\n",
              "    .dataframe thead th {\n",
              "        text-align: right;\n",
              "    }\n",
              "</style>\n",
              "<table border=\"1\" class=\"dataframe\">\n",
              "  <thead>\n",
              "    <tr style=\"text-align: right;\">\n",
              "      <th></th>\n",
              "      <th>sentences</th>\n",
              "      <th>classe</th>\n",
              "    </tr>\n",
              "  </thead>\n",
              "  <tbody>\n",
              "    <tr>\n",
              "      <th>0</th>\n",
              "      <td>مبروك و سامحونا لعجزنا التام. عقبال اللي جوه. ...</td>\n",
              "      <td>0</td>\n",
              "    </tr>\n",
              "    <tr>\n",
              "      <th>1</th>\n",
              "      <td>كلنا بره ومش هنبطل نزايد على العجايز الي جابون...</td>\n",
              "      <td>2</td>\n",
              "    </tr>\n",
              "    <tr>\n",
              "      <th>2</th>\n",
              "      <td>بدل ما انت قاعد بره كده تعالي ازرع الصحرا</td>\n",
              "      <td>0</td>\n",
              "    </tr>\n",
              "    <tr>\n",
              "      <th>3</th>\n",
              "      <td>قذر اتفووو ماتيجى مصر وتورينا نفسك كدا ياجبان</td>\n",
              "      <td>2</td>\n",
              "    </tr>\n",
              "    <tr>\n",
              "      <th>4</th>\n",
              "      <td>وهكذا رجال الشو اللي محرومين من عمل برنامج الغ...</td>\n",
              "      <td>2</td>\n",
              "    </tr>\n",
              "    <tr>\n",
              "      <th>...</th>\n",
              "      <td>...</td>\n",
              "      <td>...</td>\n",
              "    </tr>\n",
              "    <tr>\n",
              "      <th>1095</th>\n",
              "      <td>أستاذنا العزيز بلال فضل يحزنني أن يتم حذف حلقا...</td>\n",
              "      <td>0</td>\n",
              "    </tr>\n",
              "    <tr>\n",
              "      <th>1096</th>\n",
              "      <td>،برنامج يدعو للتفكير أكيد يمنعوه لأنهم خوافون ...</td>\n",
              "      <td>0</td>\n",
              "    </tr>\n",
              "    <tr>\n",
              "      <th>1097</th>\n",
              "      <td>\"#أزهى عصور المسخره  هل ضيعت \"شيما\" محافظ بورس...</td>\n",
              "      <td>2</td>\n",
              "    </tr>\n",
              "    <tr>\n",
              "      <th>1098</th>\n",
              "      <td>الله يلعنك و يلعن اللى جابوك يا رمه جايفه</td>\n",
              "      <td>1</td>\n",
              "    </tr>\n",
              "    <tr>\n",
              "      <th>1099</th>\n",
              "      <td>أنت رجل حيوان</td>\n",
              "      <td>1</td>\n",
              "    </tr>\n",
              "  </tbody>\n",
              "</table>\n",
              "<p>1100 rows × 2 columns</p>\n",
              "</div>\n",
              "      <button class=\"colab-df-convert\" onclick=\"convertToInteractive('df-1bf73024-c523-4ab2-bc27-620e5bfb098b')\"\n",
              "              title=\"Convert this dataframe to an interactive table.\"\n",
              "              style=\"display:none;\">\n",
              "        \n",
              "  <svg xmlns=\"http://www.w3.org/2000/svg\" height=\"24px\"viewBox=\"0 0 24 24\"\n",
              "       width=\"24px\">\n",
              "    <path d=\"M0 0h24v24H0V0z\" fill=\"none\"/>\n",
              "    <path d=\"M18.56 5.44l.94 2.06.94-2.06 2.06-.94-2.06-.94-.94-2.06-.94 2.06-2.06.94zm-11 1L8.5 8.5l.94-2.06 2.06-.94-2.06-.94L8.5 2.5l-.94 2.06-2.06.94zm10 10l.94 2.06.94-2.06 2.06-.94-2.06-.94-.94-2.06-.94 2.06-2.06.94z\"/><path d=\"M17.41 7.96l-1.37-1.37c-.4-.4-.92-.59-1.43-.59-.52 0-1.04.2-1.43.59L10.3 9.45l-7.72 7.72c-.78.78-.78 2.05 0 2.83L4 21.41c.39.39.9.59 1.41.59.51 0 1.02-.2 1.41-.59l7.78-7.78 2.81-2.81c.8-.78.8-2.07 0-2.86zM5.41 20L4 18.59l7.72-7.72 1.47 1.35L5.41 20z\"/>\n",
              "  </svg>\n",
              "      </button>\n",
              "      \n",
              "  <style>\n",
              "    .colab-df-container {\n",
              "      display:flex;\n",
              "      flex-wrap:wrap;\n",
              "      gap: 12px;\n",
              "    }\n",
              "\n",
              "    .colab-df-convert {\n",
              "      background-color: #E8F0FE;\n",
              "      border: none;\n",
              "      border-radius: 50%;\n",
              "      cursor: pointer;\n",
              "      display: none;\n",
              "      fill: #1967D2;\n",
              "      height: 32px;\n",
              "      padding: 0 0 0 0;\n",
              "      width: 32px;\n",
              "    }\n",
              "\n",
              "    .colab-df-convert:hover {\n",
              "      background-color: #E2EBFA;\n",
              "      box-shadow: 0px 1px 2px rgba(60, 64, 67, 0.3), 0px 1px 3px 1px rgba(60, 64, 67, 0.15);\n",
              "      fill: #174EA6;\n",
              "    }\n",
              "\n",
              "    [theme=dark] .colab-df-convert {\n",
              "      background-color: #3B4455;\n",
              "      fill: #D2E3FC;\n",
              "    }\n",
              "\n",
              "    [theme=dark] .colab-df-convert:hover {\n",
              "      background-color: #434B5C;\n",
              "      box-shadow: 0px 1px 3px 1px rgba(0, 0, 0, 0.15);\n",
              "      filter: drop-shadow(0px 1px 2px rgba(0, 0, 0, 0.3));\n",
              "      fill: #FFFFFF;\n",
              "    }\n",
              "  </style>\n",
              "\n",
              "      <script>\n",
              "        const buttonEl =\n",
              "          document.querySelector('#df-1bf73024-c523-4ab2-bc27-620e5bfb098b button.colab-df-convert');\n",
              "        buttonEl.style.display =\n",
              "          google.colab.kernel.accessAllowed ? 'block' : 'none';\n",
              "\n",
              "        async function convertToInteractive(key) {\n",
              "          const element = document.querySelector('#df-1bf73024-c523-4ab2-bc27-620e5bfb098b');\n",
              "          const dataTable =\n",
              "            await google.colab.kernel.invokeFunction('convertToInteractive',\n",
              "                                                     [key], {});\n",
              "          if (!dataTable) return;\n",
              "\n",
              "          const docLinkHtml = 'Like what you see? Visit the ' +\n",
              "            '<a target=\"_blank\" href=https://colab.research.google.com/notebooks/data_table.ipynb>data table notebook</a>'\n",
              "            + ' to learn more about interactive tables.';\n",
              "          element.innerHTML = '';\n",
              "          dataTable['output_type'] = 'display_data';\n",
              "          await google.colab.output.renderOutput(dataTable, element);\n",
              "          const docLink = document.createElement('div');\n",
              "          docLink.innerHTML = docLinkHtml;\n",
              "          element.appendChild(docLink);\n",
              "        }\n",
              "      </script>\n",
              "    </div>\n",
              "  </div>\n",
              "  "
            ]
          },
          "metadata": {},
          "execution_count": 15
        }
      ]
    },
    {
      "cell_type": "code",
      "source": [
        "plt.figure(1 , figsize = (15 , 5))\n",
        "sns.countplot(y = 'classe' , data = data12)\n",
        "plt.show()\n",
        "print(data12.loc[data12.classe==0].groupby('classe')[\"classe\"].count())\n",
        "print(data12.loc[data12.classe==1].groupby('classe')[\"classe\"].count())\n",
        "print(data12.loc[data12.classe==2].groupby('classe')[\"classe\"].count())"
      ],
      "metadata": {
        "colab": {
          "base_uri": "https://localhost:8080/"
        },
        "id": "15BM6cRP0Wrl",
        "outputId": "fb65ff8b-34c2-413c-f64b-548e8c2734f4"
      },
      "execution_count": null,
      "outputs": [
        {
          "output_type": "display_data",
          "data": {
            "text/plain": [
              "<Figure size 1080x360 with 1 Axes>"
            ],
            "image/png": "[encoded data removed]"
          },
          "metadata": {
            "needs_background": "light"
          }
        },
        {
          "output_type": "stream",
          "name": "stdout",
          "text": [
            "classe\n",
            "0    3857\n",
            "Name: classe, dtype: int64\n",
            "classe\n",
            "1    1204\n",
            "Name: classe, dtype: int64\n",
            "classe\n",
            "2    1399\n",
            "Name: classe, dtype: int64\n"
          ]
        }
      ]
    },
    {
      "cell_type": "code",
      "source": [
        "plt.figure(1 , figsize = (15 , 5))\n",
        "sns.countplot(y = 'classe' , data = data34)\n",
        "plt.show()\n",
        "print(data34.loc[data34.classe==0].groupby('classe')[\"classe\"].count())\n",
        "print(data34.loc[data34.classe==1].groupby('classe')[\"classe\"].count())\n",
        "print(data34.loc[data34.classe==2].groupby('classe')[\"classe\"].count())"
      ],
      "metadata": {
        "colab": {
          "base_uri": "https://localhost:8080/"
        },
        "id": "OOiCKJ4y1I5T",
        "outputId": "03b68f8b-1186-445f-d089-8b175de941d7"
      },
      "execution_count": null,
      "outputs": [
        {
          "output_type": "display_data",
          "data": {
            "text/plain": [
              "<Figure size 1080x360 with 1 Axes>"
            ],
            "image/png": "[encoded data removed]"
          },
          "metadata": {
            "needs_background": "light"
          }
        },
        {
          "output_type": "stream",
          "name": "stdout",
          "text": [
            "classe\n",
            "0    4565\n",
            "Name: classe, dtype: int64\n",
            "classe\n",
            "1    1746\n",
            "Name: classe, dtype: int64\n",
            "classe\n",
            "2    2885\n",
            "Name: classe, dtype: int64\n"
          ]
        }
      ]
    },
    {
      "cell_type": "code",
      "source": [
        "plt.figure(1 , figsize = (15 , 5))\n",
        "sns.countplot(y = 'classe' , data = data5)\n",
        "plt.show()\n",
        "print(data5.loc[data5.classe==0].groupby('classe')[\"classe\"].count())\n",
        "print(data5.loc[data5.classe==1].groupby('classe')[\"classe\"].count())\n",
        "print(data5.loc[data5.classe==2].groupby('classe')[\"classe\"].count())"
      ],
      "metadata": {
        "colab": {
          "base_uri": "https://localhost:8080/"
        },
        "id": "zsE3ydHbJ1RT",
        "outputId": "63a6834c-2f39-41c1-c0db-ed4e73af0ded"
      },
      "execution_count": null,
      "outputs": [
        {
          "output_type": "display_data",
          "data": {
            "text/plain": [
              "<Figure size 1080x360 with 1 Axes>"
            ],
            "image/png": "[encoded data removed]"
          },
          "metadata": {
            "needs_background": "light"
          }
        },
        {
          "output_type": "stream",
          "name": "stdout",
          "text": [
            "classe\n",
            "0    453\n",
            "Name: classe, dtype: int64\n",
            "classe\n",
            "1    203\n",
            "Name: classe, dtype: int64\n",
            "classe\n",
            "2    444\n",
            "Name: classe, dtype: int64\n"
          ]
        }
      ]
    },
    {
      "cell_type": "markdown",
      "source": [
        "##The way that the computers percieve words and phrases is diffrent from the way that we preceve it as human beings. There are a veriety of ways for us that we can utilise to program the data type that we have and to make it numerical so that the model can get some meaning out of it. We call this part encoding text.\n",
        "##we can transfor each alphabet and caracter to it's ASCII Code, but this approach wasn't proven to give great results [To Research] !!!\n",
        "#What I did in the code was: Continus or distributed Embeddings Vectors representation:\n",
        "* First: Build a dictionary of tokens: I defined a dictionnary That has the words as keys and a unique number as a value\n",
        "* I then changed all of the phrases into Lists that has integers that indicate which word is in that particular place\n",
        "* Use One-Hot Vector\n",
        "\n",
        "##After doing this process, we have a numerical data that the model can use to get some meaning out of the labels"
      ],
      "metadata": {
        "id": "qbiHzGSbw8sE"
      }
    },
    {
      "cell_type": "code",
      "source": [
        "training_size=int(len(Nsentences)*0.8)   #Experimenting setup\n",
        "\n",
        "training_sentences = Nsentences[0:training_size]\n",
        "testing_sentences = Nsentences[training_size:]\n",
        "training_labels = Nlables[0:training_size]\n",
        "testing_labels = Nlables[training_size:]\n",
        "\n",
        "embedding_dim = 16\n",
        "\n",
        "tokenizer = Tokenizer(num_words=3000, oov_token=\"<OOV>\")\n",
        "tokenizer.fit_on_texts(training_sentences)\n",
        "\n",
        "vocab_size = len(tokenizer.word_index) + 1 \n",
        "\n",
        "word_index = tokenizer.word_index\n",
        "\n",
        "training_sequences = tokenizer.texts_to_sequences(training_sentences)\n",
        "training_padded = pad_sequences(training_sequences, maxlen=max_length, padding='post', truncating='post')\n",
        "\n",
        "testing_sequences = tokenizer.texts_to_sequences(testing_sentences)\n",
        "testing_padded = pad_sequences(testing_sequences, maxlen=max_length, padding='post', truncating='post')"
      ],
      "metadata": {
        "id": "FrNFMsATGjbL"
      },
      "execution_count": null,
      "outputs": []
    },
    {
      "cell_type": "code",
      "source": [
        "vocab_size"
      ],
      "metadata": {
        "id": "GCD5XHrK8HaL",
        "outputId": "8dddea28-453d-489d-b84b-aa1f590d90c7",
        "colab": {
          "base_uri": "https://localhost:8080/"
        }
      },
      "execution_count": null,
      "outputs": [
        {
          "output_type": "execute_result",
          "data": {
            "text/plain": [
              "39925"
            ]
          },
          "metadata": {},
          "execution_count": 20
        }
      ]
    },
    {
      "cell_type": "code",
      "source": [
        "len(word_index)"
      ],
      "metadata": {
        "id": "PB3wZKaR8MXq",
        "outputId": "7e2ee593-b9e0-4137-91d0-2075314720b9",
        "colab": {
          "base_uri": "https://localhost:8080/"
        }
      },
      "execution_count": null,
      "outputs": [
        {
          "output_type": "execute_result",
          "data": {
            "text/plain": [
              "39924"
            ]
          },
          "metadata": {},
          "execution_count": 21
        }
      ]
    },
    {
      "cell_type": "code",
      "source": [
        "Nsentences12=data12[\"sentences\"]\n",
        "Nlabels12=data12[\"classe\"]\n",
        "\n",
        "training_size12=int(len(Nsentences12)*0.8)\n",
        "\n",
        "testing_sentences12 = Nsentences12[training_size12:]\n",
        "testing_labels12 = Nlabels12[training_size12:]\n",
        "\n",
        "##########\n",
        "\n",
        "Nsentences34=data34[\"sentences\"]\n",
        "Nlabels34=data34[\"classe\"]\n",
        "\n",
        "training_size34=int(len(Nsentences34)*0.8)\n",
        "\n",
        "testing_sentences34 = Nsentences34[training_size34:]\n",
        "testing_labels34 = Nlabels34[training_size34:]\n",
        "\n",
        "##########\n",
        "\n",
        "Nsentences5=data5[\"sentences\"]\n",
        "Nlabels5=data5[\"classe\"]\n",
        "\n",
        "training_size5=int(len(Nsentences5)*0.8)\n",
        "\n",
        "testing_sentences5 = Nsentences34[training_size5:]\n",
        "testing_labels5 = Nlabels34[training_size5:]"
      ],
      "metadata": {
        "id": "mkUjHchx4FaT"
      },
      "execution_count": null,
      "outputs": []
    },
    {
      "cell_type": "code",
      "source": [
        "max_length12=count_words(max(testing_sentences12,key=count_words))\n",
        "max_length12"
      ],
      "metadata": {
        "id": "NPn7XcNo5qUy",
        "outputId": "8c933926-e103-4136-b9c5-8e9eff5a931c",
        "colab": {
          "base_uri": "https://localhost:8080/"
        }
      },
      "execution_count": null,
      "outputs": [
        {
          "output_type": "execute_result",
          "data": {
            "text/plain": [
              "206"
            ]
          },
          "metadata": {},
          "execution_count": 23
        }
      ]
    },
    {
      "cell_type": "code",
      "source": [
        "max_length34=count_words(max(testing_sentences34,key=count_words))\n",
        "max_length34"
      ],
      "metadata": {
        "id": "5FkaUBXI60-_",
        "outputId": "26deb825-c19f-43d0-90e4-8a8d0c5b2fc1",
        "colab": {
          "base_uri": "https://localhost:8080/"
        }
      },
      "execution_count": null,
      "outputs": [
        {
          "output_type": "execute_result",
          "data": {
            "text/plain": [
              "29"
            ]
          },
          "metadata": {},
          "execution_count": 24
        }
      ]
    },
    {
      "cell_type": "code",
      "source": [
        "max_length5=count_words(max(testing_sentences5,key=count_words))\n",
        "max_length5"
      ],
      "metadata": {
        "colab": {
          "base_uri": "https://localhost:8080/"
        },
        "id": "vw86iTKxKGVG",
        "outputId": "ea6295c3-e522-45a4-c764-14503f03e8ef"
      },
      "execution_count": null,
      "outputs": [
        {
          "output_type": "execute_result",
          "data": {
            "text/plain": [
              "52"
            ]
          },
          "metadata": {},
          "execution_count": 25
        }
      ]
    },
    {
      "cell_type": "markdown",
      "source": [
        "###The Maximum length in the new data is less than 207, so we can padd them without losing information."
      ],
      "metadata": {
        "id": "AFubPmEL7Qrh"
      }
    },
    {
      "cell_type": "code",
      "source": [
        "testing_sequences12 = tokenizer.texts_to_sequences(testing_sentences12)\n",
        "testing_padded12 = pad_sequences(testing_sequences12, maxlen=max_length, padding='post', truncating='post')\n",
        "\n",
        "###########\n",
        "\n",
        "testing_sequences34 = tokenizer.texts_to_sequences(testing_sentences34)\n",
        "testing_padded34 = pad_sequences(testing_sequences34, maxlen=max_length, padding='post', truncating='post')\n",
        "\n",
        "###########\n",
        "\n",
        "testing_sequences5 = tokenizer.texts_to_sequences(testing_sentences5)\n",
        "testing_padded5 = pad_sequences(testing_sequences5, maxlen=max_length, padding='post', truncating='post')"
      ],
      "metadata": {
        "id": "e0p6r_d_7O58"
      },
      "execution_count": null,
      "outputs": []
    },
    {
      "cell_type": "markdown",
      "source": [
        "#Modelling"
      ],
      "metadata": {
        "id": "TzmCjIfYBA8G"
      }
    },
    {
      "cell_type": "markdown",
      "source": [
        "##For The First Model"
      ],
      "metadata": {
        "id": "-CRh9Gqc7KxQ"
      }
    },
    {
      "cell_type": "code",
      "source": [
        "import tensorflow as tf\n",
        "\n",
        "model=tf.keras.models.Sequential ([\n",
        "                                   tf.keras.layers.Embedding(vocab_size, embedding_dim, input_length=max_length),\n",
        "                                   tf.keras.layers.Conv1D(128, 5, activation='relu'),\n",
        "                                   tf.keras.layers.Conv1D(filters=32, kernel_size=1, activation='selu'),\n",
        "                                   tf.keras.layers.Bidirectional(tf.keras.layers.LSTM(32,return_sequences=True)),\n",
        "                                   tf.keras.layers.Bidirectional(tf.keras.layers.LSTM(32,return_sequences=True)),\n",
        "                                   tf.keras.layers.Bidirectional(tf.keras.layers.LSTM(16,return_sequences=True)),\n",
        "                                   tf.keras.layers.Flatten(),\n",
        "                                   tf.keras.layers.Dense(units=24, activation='relu'),\n",
        "                                   tf.keras.layers.Dense(units=3, activation='softmax')])\n",
        "model.summary()"
      ],
      "metadata": {
        "colab": {
          "base_uri": "https://localhost:8080/"
        },
        "id": "attb9Ze4BGlm",
        "outputId": "66926396-b99d-409f-ea5a-c736a45326d2"
      },
      "execution_count": null,
      "outputs": [
        {
          "output_type": "stream",
          "name": "stdout",
          "text": [
            "Model: \"sequential\"\n",
            "_________________________________________________________________\n",
            " Layer (type)                Output Shape              Param #   \n",
            "=================================================================\n",
            " embedding (Embedding)       (None, 207, 16)           638800    \n",
            "                                                                 \n",
            " conv1d (Conv1D)             (None, 203, 128)          10368     \n",
            "                                                                 \n",
            " conv1d_1 (Conv1D)           (None, 203, 32)           4128      \n",
            "                                                                 \n",
            " bidirectional (Bidirectiona  (None, 203, 64)          16640     \n",
            " l)                                                              \n",
            "                                                                 \n",
            " bidirectional_1 (Bidirectio  (None, 203, 64)          24832     \n",
            " nal)                                                            \n",
            "                                                                 \n",
            " bidirectional_2 (Bidirectio  (None, 203, 32)          10368     \n",
            " nal)                                                            \n",
            "                                                                 \n",
            " flatten (Flatten)           (None, 6496)              0         \n",
            "                                                                 \n",
            " dense (Dense)               (None, 24)                155928    \n",
            "                                                                 \n",
            " dense_1 (Dense)             (None, 3)                 75        \n",
            "                                                                 \n",
            "=================================================================\n",
            "Total params: 861,139\n",
            "Trainable params: 861,139\n",
            "Non-trainable params: 0\n",
            "_________________________________________________________________\n"
          ]
        }
      ]
    },
    {
      "cell_type": "code",
      "source": [
        "#For the First Model\n",
        "model.compile(loss=\"sparse_categorical_crossentropy\",optimizer='adam',metrics=['accuracy'],run_eagerly=True)\n",
        "\n",
        "training_padded = np.asarray(training_padded).astype(np.int)\n",
        "training_labels = np.asarray(training_labels).astype(np.int)\n",
        "testing_padded = np.asarray(testing_padded).astype(np.int)\n",
        "testing_labels = np.asarray(testing_labels).astype(np.int)\n",
        "\n",
        "\n",
        "training_labels = np.expand_dims(training_labels, axis=1)\n",
        "testing_labels = np.expand_dims(testing_labels, axis=1)\n",
        "\n",
        "history = model.fit(training_padded, training_labels, batch_size=128, epochs=50, validation_data=(testing_padded, testing_labels), verbose=1)"
      ],
      "metadata": {
        "colab": {
          "base_uri": "https://localhost:8080/"
        },
        "id": "YK8y9kQFL5T5",
        "outputId": "d98c6386-a3a9-475c-f695-573994cc882d"
      },
      "execution_count": null,
      "outputs": [
        {
          "output_type": "stream",
          "name": "stdout",
          "text": [
            "Epoch 1/50\n"
          ]
        },
        {
          "output_type": "stream",
          "name": "stderr",
          "text": [
            "/usr/local/lib/python3.7/dist-packages/ipykernel_launcher.py:4: DeprecationWarning: `np.int` is a deprecated alias for the builtin `int`. To silence this warning, use `int` by itself. Doing this will not modify any behavior and is safe. When replacing `np.int`, you may wish to use e.g. `np.int64` or `np.int32` to specify the precision. If you wish to review your current use, check the release note link for additional information.\n",
            "Deprecated in NumPy 1.20; for more details and guidance: https://numpy.org/devdocs/release/1.20.0-notes.html#deprecations\n",
            "  after removing the cwd from sys.path.\n",
            "/usr/local/lib/python3.7/dist-packages/ipykernel_launcher.py:5: DeprecationWarning: `np.int` is a deprecated alias for the builtin `int`. To silence this warning, use `int` by itself. Doing this will not modify any behavior and is safe. When replacing `np.int`, you may wish to use e.g. `np.int64` or `np.int32` to specify the precision. If you wish to review your current use, check the release note link for additional information.\n",
            "Deprecated in NumPy 1.20; for more details and guidance: https://numpy.org/devdocs/release/1.20.0-notes.html#deprecations\n",
            "  \"\"\"\n",
            "/usr/local/lib/python3.7/dist-packages/ipykernel_launcher.py:6: DeprecationWarning: `np.int` is a deprecated alias for the builtin `int`. To silence this warning, use `int` by itself. Doing this will not modify any behavior and is safe. When replacing `np.int`, you may wish to use e.g. `np.int64` or `np.int32` to specify the precision. If you wish to review your current use, check the release note link for additional information.\n",
            "Deprecated in NumPy 1.20; for more details and guidance: https://numpy.org/devdocs/release/1.20.0-notes.html#deprecations\n",
            "  \n",
            "/usr/local/lib/python3.7/dist-packages/ipykernel_launcher.py:7: DeprecationWarning: `np.int` is a deprecated alias for the builtin `int`. To silence this warning, use `int` by itself. Doing this will not modify any behavior and is safe. When replacing `np.int`, you may wish to use e.g. `np.int64` or `np.int32` to specify the precision. If you wish to review your current use, check the release note link for additional information.\n",
            "Deprecated in NumPy 1.20; for more details and guidance: https://numpy.org/devdocs/release/1.20.0-notes.html#deprecations\n",
            "  import sys\n"
          ]
        },
        {
          "output_type": "stream",
          "name": "stdout",
          "text": [
            "129/129 [==============================] - 18s 124ms/step - loss: 0.9319 - accuracy: 0.5245 - val_loss: 0.8650 - val_accuracy: 0.5870\n",
            "Epoch 2/50\n",
            "129/129 [==============================] - 15s 116ms/step - loss: 0.6361 - accuracy: 0.7422 - val_loss: 0.6089 - val_accuracy: 0.7378\n",
            "Epoch 3/50\n",
            "129/129 [==============================] - 14s 107ms/step - loss: 0.4767 - accuracy: 0.8186 - val_loss: 0.8004 - val_accuracy: 0.6392\n",
            "Epoch 4/50\n",
            "129/129 [==============================] - 16s 125ms/step - loss: 0.4091 - accuracy: 0.8457 - val_loss: 0.4754 - val_accuracy: 0.8037\n",
            "Epoch 5/50\n",
            "129/129 [==============================] - 15s 115ms/step - loss: 0.3654 - accuracy: 0.8634 - val_loss: 0.3827 - val_accuracy: 0.8483\n",
            "Epoch 6/50\n",
            "129/129 [==============================] - 14s 111ms/step - loss: 0.3298 - accuracy: 0.8750 - val_loss: 0.3631 - val_accuracy: 0.8447\n",
            "Epoch 7/50\n",
            "129/129 [==============================] - 15s 117ms/step - loss: 0.3017 - accuracy: 0.8865 - val_loss: 0.3543 - val_accuracy: 0.8551\n",
            "Epoch 8/50\n",
            "129/129 [==============================] - 14s 107ms/step - loss: 0.2771 - accuracy: 0.8960 - val_loss: 0.4397 - val_accuracy: 0.8091\n",
            "Epoch 9/50\n",
            "129/129 [==============================] - 15s 116ms/step - loss: 0.2554 - accuracy: 0.9045 - val_loss: 0.3581 - val_accuracy: 0.8537\n",
            "Epoch 10/50\n",
            "129/129 [==============================] - 14s 107ms/step - loss: 0.2390 - accuracy: 0.9106 - val_loss: 0.3587 - val_accuracy: 0.8663\n",
            "Epoch 11/50\n",
            "129/129 [==============================] - 15s 116ms/step - loss: 0.2161 - accuracy: 0.9204 - val_loss: 0.2903 - val_accuracy: 0.8763\n",
            "Epoch 12/50\n",
            "129/129 [==============================] - 15s 115ms/step - loss: 0.1956 - accuracy: 0.9254 - val_loss: 0.3415 - val_accuracy: 0.8408\n",
            "Epoch 13/50\n",
            "129/129 [==============================] - 14s 112ms/step - loss: 0.1911 - accuracy: 0.9251 - val_loss: 0.3647 - val_accuracy: 0.8412\n",
            "Epoch 14/50\n",
            "129/129 [==============================] - 15s 115ms/step - loss: 0.1806 - accuracy: 0.9296 - val_loss: 0.2709 - val_accuracy: 0.8814\n",
            "Epoch 15/50\n",
            "129/129 [==============================] - 15s 116ms/step - loss: 0.1710 - accuracy: 0.9319 - val_loss: 0.1643 - val_accuracy: 0.9459\n",
            "Epoch 16/50\n",
            "129/129 [==============================] - 14s 110ms/step - loss: 0.1616 - accuracy: 0.9341 - val_loss: 0.2268 - val_accuracy: 0.9048\n",
            "Epoch 17/50\n",
            "129/129 [==============================] - 15s 115ms/step - loss: 0.1511 - accuracy: 0.9386 - val_loss: 0.1743 - val_accuracy: 0.9489\n",
            "Epoch 18/50\n",
            "129/129 [==============================] - 14s 108ms/step - loss: 0.1487 - accuracy: 0.9374 - val_loss: 0.2736 - val_accuracy: 0.8880\n",
            "Epoch 19/50\n",
            "129/129 [==============================] - 14s 108ms/step - loss: 0.1427 - accuracy: 0.9414 - val_loss: 0.2076 - val_accuracy: 0.9218\n",
            "Epoch 20/50\n",
            "129/129 [==============================] - 15s 116ms/step - loss: 0.1376 - accuracy: 0.9409 - val_loss: 0.1879 - val_accuracy: 0.9170\n",
            "Epoch 21/50\n",
            "129/129 [==============================] - 14s 107ms/step - loss: 0.1306 - accuracy: 0.9441 - val_loss: 0.1709 - val_accuracy: 0.9192\n",
            "Epoch 22/50\n",
            "129/129 [==============================] - 15s 115ms/step - loss: 0.1262 - accuracy: 0.9447 - val_loss: 0.1614 - val_accuracy: 0.9418\n",
            "Epoch 23/50\n",
            "129/129 [==============================] - 15s 116ms/step - loss: 0.1247 - accuracy: 0.9440 - val_loss: 0.1645 - val_accuracy: 0.9270\n",
            "Epoch 24/50\n",
            "129/129 [==============================] - 15s 119ms/step - loss: 0.1163 - accuracy: 0.9466 - val_loss: 0.1752 - val_accuracy: 0.9223\n",
            "Epoch 25/50\n",
            "129/129 [==============================] - 14s 109ms/step - loss: 0.1211 - accuracy: 0.9462 - val_loss: 0.2133 - val_accuracy: 0.9082\n",
            "Epoch 26/50\n",
            "129/129 [==============================] - 14s 107ms/step - loss: 0.1155 - accuracy: 0.9462 - val_loss: 0.1863 - val_accuracy: 0.9109\n",
            "Epoch 27/50\n",
            "129/129 [==============================] - 15s 115ms/step - loss: 0.1140 - accuracy: 0.9461 - val_loss: 0.2394 - val_accuracy: 0.9007\n",
            "Epoch 28/50\n",
            "129/129 [==============================] - 15s 116ms/step - loss: 0.1152 - accuracy: 0.9465 - val_loss: 0.1265 - val_accuracy: 0.9533\n",
            "Epoch 29/50\n",
            "129/129 [==============================] - 15s 116ms/step - loss: 0.1102 - accuracy: 0.9479 - val_loss: 0.1417 - val_accuracy: 0.9518\n",
            "Epoch 30/50\n",
            "129/129 [==============================] - 15s 116ms/step - loss: 0.1066 - accuracy: 0.9492 - val_loss: 0.1772 - val_accuracy: 0.9175\n",
            "Epoch 31/50\n",
            "129/129 [==============================] - 15s 116ms/step - loss: 0.1113 - accuracy: 0.9477 - val_loss: 0.1669 - val_accuracy: 0.9136\n",
            "Epoch 32/50\n",
            "129/129 [==============================] - 14s 108ms/step - loss: 0.1067 - accuracy: 0.9462 - val_loss: 0.1440 - val_accuracy: 0.9479\n",
            "Epoch 33/50\n",
            "129/129 [==============================] - 15s 115ms/step - loss: 0.1021 - accuracy: 0.9498 - val_loss: 0.1481 - val_accuracy: 0.9520\n",
            "Epoch 34/50\n",
            "129/129 [==============================] - 14s 107ms/step - loss: 0.0974 - accuracy: 0.9534 - val_loss: 0.1501 - val_accuracy: 0.9374\n",
            "Epoch 35/50\n",
            "129/129 [==============================] - 14s 110ms/step - loss: 0.0949 - accuracy: 0.9514 - val_loss: 0.1491 - val_accuracy: 0.9335\n",
            "Epoch 36/50\n",
            "129/129 [==============================] - 15s 115ms/step - loss: 0.0913 - accuracy: 0.9532 - val_loss: 0.1586 - val_accuracy: 0.9162\n",
            "Epoch 37/50\n",
            "129/129 [==============================] - 14s 107ms/step - loss: 0.0917 - accuracy: 0.9526 - val_loss: 0.1373 - val_accuracy: 0.9477\n",
            "Epoch 38/50\n",
            "129/129 [==============================] - 14s 107ms/step - loss: 0.0920 - accuracy: 0.9514 - val_loss: 0.1585 - val_accuracy: 0.9282\n",
            "Epoch 39/50\n",
            "129/129 [==============================] - 14s 109ms/step - loss: 0.0905 - accuracy: 0.9529 - val_loss: 0.1575 - val_accuracy: 0.9221\n",
            "Epoch 40/50\n",
            "129/129 [==============================] - 15s 115ms/step - loss: 0.0931 - accuracy: 0.9542 - val_loss: 0.1626 - val_accuracy: 0.9143\n",
            "Epoch 41/50\n",
            "129/129 [==============================] - 15s 117ms/step - loss: 0.0942 - accuracy: 0.9514 - val_loss: 0.1622 - val_accuracy: 0.9233\n",
            "Epoch 42/50\n",
            "129/129 [==============================] - 15s 117ms/step - loss: 0.0950 - accuracy: 0.9493 - val_loss: 0.1365 - val_accuracy: 0.9489\n",
            "Epoch 43/50\n",
            "129/129 [==============================] - 14s 109ms/step - loss: 0.0914 - accuracy: 0.9521 - val_loss: 0.1902 - val_accuracy: 0.8977\n",
            "Epoch 44/50\n",
            "129/129 [==============================] - 14s 110ms/step - loss: 0.0891 - accuracy: 0.9531 - val_loss: 0.1721 - val_accuracy: 0.9179\n",
            "Epoch 45/50\n",
            "129/129 [==============================] - 14s 110ms/step - loss: 0.0866 - accuracy: 0.9528 - val_loss: 0.1799 - val_accuracy: 0.9167\n",
            "Epoch 46/50\n",
            "129/129 [==============================] - 14s 110ms/step - loss: 0.0808 - accuracy: 0.9560 - val_loss: 0.1581 - val_accuracy: 0.9231\n",
            "Epoch 47/50\n",
            "129/129 [==============================] - 15s 116ms/step - loss: 0.0851 - accuracy: 0.9551 - val_loss: 0.1673 - val_accuracy: 0.8990\n",
            "Epoch 48/50\n",
            "129/129 [==============================] - 14s 108ms/step - loss: 0.0861 - accuracy: 0.9531 - val_loss: 0.1705 - val_accuracy: 0.9233\n",
            "Epoch 49/50\n",
            "129/129 [==============================] - 15s 116ms/step - loss: 0.0864 - accuracy: 0.9553 - val_loss: 0.1453 - val_accuracy: 0.9345\n",
            "Epoch 50/50\n",
            "129/129 [==============================] - 15s 116ms/step - loss: 0.0828 - accuracy: 0.9556 - val_loss: 0.1352 - val_accuracy: 0.9377\n"
          ]
        }
      ]
    },
    {
      "cell_type": "code",
      "source": [
        "model.save('model1Balanced09.h5')\n",
        "#Epoch 50/50\n",
        "#129/129 [==============================] - 14s 109ms/step - loss: 0.0808 - accuracy: 0.9565 - val_loss: 0.1277 - val_accuracy: 0.9467"
      ],
      "metadata": {
        "id": "87O-L-vRBuy-"
      },
      "execution_count": null,
      "outputs": []
    },
    {
      "cell_type": "code",
      "source": [
        "model1=tf.keras.models.load_model('model1Balanced09.h5')"
      ],
      "metadata": {
        "id": "WRGd2vbbjCqM"
      },
      "execution_count": null,
      "outputs": []
    },
    {
      "cell_type": "code",
      "source": [
        "tf.keras.utils.plot_model(model, show_shapes=True)"
      ],
      "metadata": {
        "id": "fpzHswneMSZv",
        "colab": {
          "base_uri": "https://localhost:8080/",
          "height": 1000
        },
        "outputId": "298aa951-c252-4773-c769-3114c4d1707f"
      },
      "execution_count": null,
      "outputs": [
        {
          "output_type": "execute_result",
          "data": {
            "text/plain": [
              "<IPython.core.display.Image object>"
            ],
            "image/png": "[encoded data removed]"
          },
          "metadata": {},
          "execution_count": 42
        }
      ]
    },
    {
      "cell_type": "code",
      "source": [
        "from sklearn.metrics import confusion_matrix\n",
        "from sklearn.metrics import classification_report\n",
        "import numpy as np\n",
        "\n",
        "pred=model1.predict(testing_padded)\n",
        "rounded_labels1=np.argmax(pred, axis=1).astype(int)\n",
        "cm = confusion_matrix(testing_labels, rounded_labels1)\n",
        "print(cm)\n",
        "print(classification_report(testing_labels, rounded_labels1, labels=[0,1,2]))"
      ],
      "metadata": {
        "colab": {
          "base_uri": "https://localhost:8080/"
        },
        "id": "ctfA3AV-NbFv",
        "outputId": "65426c78-f890-437f-e694-4ff2d621082d"
      },
      "execution_count": null,
      "outputs": [
        {
          "output_type": "stream",
          "name": "stdout",
          "text": [
            "[[ 690   14   34]\n",
            " [  37 2990  113]\n",
            " [  13    8  208]]\n",
            "              precision    recall  f1-score   support\n",
            "\n",
            "           0       0.93      0.93      0.93       738\n",
            "           1       0.99      0.95      0.97      3140\n",
            "           2       0.59      0.91      0.71       229\n",
            "\n",
            "    accuracy                           0.95      4107\n",
            "   macro avg       0.84      0.93      0.87      4107\n",
            "weighted avg       0.96      0.95      0.95      4107\n",
            "\n"
          ]
        }
      ]
    },
    {
      "cell_type": "code",
      "source": [
        "pred12=model1.predict(testing_padded12)\n",
        "rounded_labels112=np.argmax(pred12, axis=1).astype(int)\n",
        "cm12 = confusion_matrix(testing_labels12, rounded_labels112)\n",
        "print(cm12)\n",
        "print(classification_report(testing_labels12, rounded_labels112, labels=[0,1,2]))"
      ],
      "metadata": {
        "colab": {
          "base_uri": "https://localhost:8080/"
        },
        "id": "zhxyhB-19XNo",
        "outputId": "2f830f24-60c2-438e-8063-56b5b54bd554"
      },
      "execution_count": null,
      "outputs": [
        {
          "output_type": "stream",
          "name": "stdout",
          "text": [
            "[[273 140 174]\n",
            " [ 11 223  19]\n",
            " [ 15 163 274]]\n",
            "              precision    recall  f1-score   support\n",
            "\n",
            "           0       0.91      0.47      0.62       587\n",
            "           1       0.42      0.88      0.57       253\n",
            "           2       0.59      0.61      0.60       452\n",
            "\n",
            "    accuracy                           0.60      1292\n",
            "   macro avg       0.64      0.65      0.60      1292\n",
            "weighted avg       0.70      0.60      0.60      1292\n",
            "\n"
          ]
        }
      ]
    },
    {
      "cell_type": "code",
      "source": [
        "pred34=model1.predict(testing_padded34)\n",
        "rounded_labels134=np.argmax(pred34, axis=1).astype(int)\n",
        "cm34 = confusion_matrix(testing_labels34, rounded_labels134)\n",
        "print(cm34)\n",
        "print(classification_report(testing_labels34, rounded_labels134, labels=[0,1,2]))"
      ],
      "metadata": {
        "colab": {
          "base_uri": "https://localhost:8080/"
        },
        "id": "r8LFe8Lr9fZ9",
        "outputId": "835dd5e7-63d7-47e9-c784-3fe711f4a746"
      },
      "execution_count": null,
      "outputs": [
        {
          "output_type": "stream",
          "name": "stdout",
          "text": [
            "[[  59   12  455]\n",
            " [   0    7    0]\n",
            " [   3    4 1300]]\n",
            "              precision    recall  f1-score   support\n",
            "\n",
            "           0       0.95      0.11      0.20       526\n",
            "           1       0.30      1.00      0.47         7\n",
            "           2       0.74      0.99      0.85      1307\n",
            "\n",
            "    accuracy                           0.74      1840\n",
            "   macro avg       0.67      0.70      0.51      1840\n",
            "weighted avg       0.80      0.74      0.66      1840\n",
            "\n"
          ]
        }
      ]
    },
    {
      "cell_type": "code",
      "source": [
        "pred5=model1.predict(testing_padded5)\n",
        "rounded_labels15=np.argmax(pred5, axis=1).astype(int)\n",
        "cm5 = confusion_matrix(testing_labels5, rounded_labels15)\n",
        "print(cm5)\n",
        "print(classification_report(testing_labels5, rounded_labels15, labels=[0,1,2]))"
      ],
      "metadata": {
        "colab": {
          "base_uri": "https://localhost:8080/"
        },
        "id": "k6mUIJ27KfCP",
        "outputId": "e714edfb-c91e-4f46-c448-f45c36166b34"
      },
      "execution_count": null,
      "outputs": [
        {
          "output_type": "stream",
          "name": "stdout",
          "text": [
            "[[2893  118 1024]\n",
            " [ 296  533  625]\n",
            " [  78  156 2593]]\n",
            "              precision    recall  f1-score   support\n",
            "\n",
            "           0       0.89      0.72      0.79      4035\n",
            "           1       0.66      0.37      0.47      1454\n",
            "           2       0.61      0.92      0.73      2827\n",
            "\n",
            "    accuracy                           0.72      8316\n",
            "   macro avg       0.72      0.67      0.67      8316\n",
            "weighted avg       0.75      0.72      0.72      8316\n",
            "\n"
          ]
        }
      ]
    },
    {
      "cell_type": "code",
      "source": [
        "import matplotlib.pyplot as plt\n",
        "import numpy\n",
        "# summarize history for accuracy\n",
        "plt.plot(history.history['loss'])\n",
        "plt.plot(history.history['val_loss'])\n",
        "plt.title('model loss')\n",
        "plt.ylabel('loss')\n",
        "plt.xlabel('epoch')\n",
        "plt.legend(['train', 'test'], loc='upper left')\n",
        "plt.show()\n",
        "# summarize history for loss\n",
        "plt.plot(history.history['accuracy'])\n",
        "plt.plot(history.history['val_accuracy'])\n",
        "plt.title('model accuracy')\n",
        "plt.ylabel('accuracy')\n",
        "plt.xlabel('epoch')\n",
        "plt.legend(['train', 'test'], loc='upper left')\n",
        "plt.show()"
      ],
      "metadata": {
        "colab": {
          "base_uri": "https://localhost:8080/",
          "height": 573
        },
        "id": "QXLyKWWv58Qd",
        "outputId": "7be6cef8-c0dd-4666-c374-6b6f9aece3ed"
      },
      "execution_count": null,
      "outputs": [
        {
          "output_type": "display_data",
          "data": {
            "text/plain": [
              "<Figure size 432x288 with 1 Axes>"
            ],
            "image/png": "[encoded data removed]"
          },
          "metadata": {
            "needs_background": "light"
          }
        },
        {
          "output_type": "display_data",
          "data": {
            "text/plain": [
              "<Figure size 432x288 with 1 Axes>"
            ],
            "image/png": "[encoded data removed]"
          },
          "metadata": {
            "needs_background": "light"
          }
        }
      ]
    },
    {
      "cell_type": "markdown",
      "source": [
        "##For the Second Model"
      ],
      "metadata": {
        "id": "2DGrTNt17GKc"
      }
    },
    {
      "cell_type": "code",
      "source": [
        "import tensorflow as tf\n",
        "model2 = tf.keras.Sequential([\n",
        "    tf.keras.layers.Embedding(vocab_size, embedding_dim, input_length=max_length),\n",
        "    tf.keras.layers.Conv1D(128, 5, activation='relu'),\n",
        "    tf.keras.layers.GlobalMaxPooling1D(),\n",
        "    tf.keras.layers.Flatten(),\n",
        "    tf.keras.layers.Dense(24, activation='relu'),\n",
        "    tf.keras.layers.Dense(units=3, activation='softmax')\n",
        "])\n",
        "model2.summary()"
      ],
      "metadata": {
        "colab": {
          "base_uri": "https://localhost:8080/"
        },
        "id": "Vsv2gTUcITR-",
        "outputId": "546747c9-7f0f-4eea-a27b-7935086cd9ea"
      },
      "execution_count": null,
      "outputs": [
        {
          "output_type": "stream",
          "name": "stdout",
          "text": [
            "Model: \"sequential\"\n",
            "_________________________________________________________________\n",
            " Layer (type)                Output Shape              Param #   \n",
            "=================================================================\n",
            " embedding (Embedding)       (None, 207, 16)           638800    \n",
            "                                                                 \n",
            " conv1d (Conv1D)             (None, 203, 128)          10368     \n",
            "                                                                 \n",
            " global_max_pooling1d (Globa  (None, 128)              0         \n",
            " lMaxPooling1D)                                                  \n",
            "                                                                 \n",
            " flatten (Flatten)           (None, 128)               0         \n",
            "                                                                 \n",
            " dense (Dense)               (None, 24)                3096      \n",
            "                                                                 \n",
            " dense_1 (Dense)             (None, 3)                 75        \n",
            "                                                                 \n",
            "=================================================================\n",
            "Total params: 652,339\n",
            "Trainable params: 652,339\n",
            "Non-trainable params: 0\n",
            "_________________________________________________________________\n"
          ]
        }
      ]
    },
    {
      "cell_type": "code",
      "source": [
        "model2.compile(loss=\"sparse_categorical_crossentropy\",optimizer='adam',metrics=['accuracy'])\n",
        "\n",
        "training_padded = np.asarray(training_padded).astype(np.int)\n",
        "training_labels = np.asarray(training_labels).astype(np.int)\n",
        "testing_padded = np.asarray(testing_padded).astype(np.int)\n",
        "testing_labels = np.asarray(testing_labels).astype(np.int)\n",
        "\n",
        "\n",
        "training_labels = np.expand_dims(training_labels, axis=1)\n",
        "testing_labels = np.expand_dims(testing_labels, axis=1)\n",
        "\n",
        "history = model2.fit(training_padded, training_labels, batch_size=128, epochs=50, validation_data=(testing_padded, testing_labels), verbose=1)"
      ],
      "metadata": {
        "colab": {
          "base_uri": "https://localhost:8080/"
        },
        "id": "-edaUQlH57pA",
        "outputId": "47c20a6e-8ffc-47c0-f731-54e3a75f40ef"
      },
      "execution_count": null,
      "outputs": [
        {
          "output_type": "stream",
          "name": "stderr",
          "text": [
            "/usr/local/lib/python3.7/dist-packages/ipykernel_launcher.py:3: DeprecationWarning: `np.int` is a deprecated alias for the builtin `int`. To silence this warning, use `int` by itself. Doing this will not modify any behavior and is safe. When replacing `np.int`, you may wish to use e.g. `np.int64` or `np.int32` to specify the precision. If you wish to review your current use, check the release note link for additional information.\n",
            "Deprecated in NumPy 1.20; for more details and guidance: https://numpy.org/devdocs/release/1.20.0-notes.html#deprecations\n",
            "  This is separate from the ipykernel package so we can avoid doing imports until\n",
            "/usr/local/lib/python3.7/dist-packages/ipykernel_launcher.py:4: DeprecationWarning: `np.int` is a deprecated alias for the builtin `int`. To silence this warning, use `int` by itself. Doing this will not modify any behavior and is safe. When replacing `np.int`, you may wish to use e.g. `np.int64` or `np.int32` to specify the precision. If you wish to review your current use, check the release note link for additional information.\n",
            "Deprecated in NumPy 1.20; for more details and guidance: https://numpy.org/devdocs/release/1.20.0-notes.html#deprecations\n",
            "  after removing the cwd from sys.path.\n",
            "/usr/local/lib/python3.7/dist-packages/ipykernel_launcher.py:5: DeprecationWarning: `np.int` is a deprecated alias for the builtin `int`. To silence this warning, use `int` by itself. Doing this will not modify any behavior and is safe. When replacing `np.int`, you may wish to use e.g. `np.int64` or `np.int32` to specify the precision. If you wish to review your current use, check the release note link for additional information.\n",
            "Deprecated in NumPy 1.20; for more details and guidance: https://numpy.org/devdocs/release/1.20.0-notes.html#deprecations\n",
            "  \"\"\"\n",
            "/usr/local/lib/python3.7/dist-packages/ipykernel_launcher.py:6: DeprecationWarning: `np.int` is a deprecated alias for the builtin `int`. To silence this warning, use `int` by itself. Doing this will not modify any behavior and is safe. When replacing `np.int`, you may wish to use e.g. `np.int64` or `np.int32` to specify the precision. If you wish to review your current use, check the release note link for additional information.\n",
            "Deprecated in NumPy 1.20; for more details and guidance: https://numpy.org/devdocs/release/1.20.0-notes.html#deprecations\n",
            "  \n"
          ]
        },
        {
          "output_type": "stream",
          "name": "stdout",
          "text": [
            "Epoch 1/50\n",
            "129/129 [==============================] - 14s 14ms/step - loss: 0.9412 - accuracy: 0.5306 - val_loss: 1.0025 - val_accuracy: 0.5004\n",
            "Epoch 2/50\n",
            "129/129 [==============================] - 1s 6ms/step - loss: 0.5517 - accuracy: 0.7802 - val_loss: 0.6822 - val_accuracy: 0.7122\n",
            "Epoch 3/50\n",
            "129/129 [==============================] - 1s 6ms/step - loss: 0.4131 - accuracy: 0.8395 - val_loss: 0.4424 - val_accuracy: 0.8213\n",
            "Epoch 4/50\n",
            "129/129 [==============================] - 1s 7ms/step - loss: 0.3546 - accuracy: 0.8641 - val_loss: 0.3841 - val_accuracy: 0.8417\n",
            "Epoch 5/50\n",
            "129/129 [==============================] - 1s 6ms/step - loss: 0.3125 - accuracy: 0.8796 - val_loss: 0.3513 - val_accuracy: 0.8490\n",
            "Epoch 6/50\n",
            "129/129 [==============================] - 1s 6ms/step - loss: 0.2793 - accuracy: 0.8940 - val_loss: 0.3047 - val_accuracy: 0.8795\n",
            "Epoch 7/50\n",
            "129/129 [==============================] - 1s 6ms/step - loss: 0.2509 - accuracy: 0.9022 - val_loss: 0.2911 - val_accuracy: 0.8924\n",
            "Epoch 8/50\n",
            "129/129 [==============================] - 1s 6ms/step - loss: 0.2276 - accuracy: 0.9095 - val_loss: 0.2599 - val_accuracy: 0.8994\n",
            "Epoch 9/50\n",
            "129/129 [==============================] - 1s 6ms/step - loss: 0.2058 - accuracy: 0.9195 - val_loss: 0.2506 - val_accuracy: 0.9048\n",
            "Epoch 10/50\n",
            "129/129 [==============================] - 1s 6ms/step - loss: 0.1908 - accuracy: 0.9227 - val_loss: 0.2628 - val_accuracy: 0.8890\n",
            "Epoch 11/50\n",
            "129/129 [==============================] - 1s 6ms/step - loss: 0.1774 - accuracy: 0.9288 - val_loss: 0.2237 - val_accuracy: 0.9033\n",
            "Epoch 12/50\n",
            "129/129 [==============================] - 1s 6ms/step - loss: 0.1666 - accuracy: 0.9338 - val_loss: 0.2048 - val_accuracy: 0.9235\n",
            "Epoch 13/50\n",
            "129/129 [==============================] - 1s 6ms/step - loss: 0.1577 - accuracy: 0.9352 - val_loss: 0.1698 - val_accuracy: 0.9216\n",
            "Epoch 14/50\n",
            "129/129 [==============================] - 1s 6ms/step - loss: 0.1503 - accuracy: 0.9387 - val_loss: 0.1703 - val_accuracy: 0.9287\n",
            "Epoch 15/50\n",
            "129/129 [==============================] - 1s 6ms/step - loss: 0.1439 - accuracy: 0.9399 - val_loss: 0.1740 - val_accuracy: 0.9252\n",
            "Epoch 16/50\n",
            "129/129 [==============================] - 1s 6ms/step - loss: 0.1396 - accuracy: 0.9402 - val_loss: 0.1971 - val_accuracy: 0.9199\n",
            "Epoch 17/50\n",
            "129/129 [==============================] - 1s 6ms/step - loss: 0.1349 - accuracy: 0.9431 - val_loss: 0.1434 - val_accuracy: 0.9391\n",
            "Epoch 18/50\n",
            "129/129 [==============================] - 1s 6ms/step - loss: 0.1307 - accuracy: 0.9436 - val_loss: 0.1300 - val_accuracy: 0.9428\n",
            "Epoch 19/50\n",
            "129/129 [==============================] - 1s 6ms/step - loss: 0.1287 - accuracy: 0.9434 - val_loss: 0.1451 - val_accuracy: 0.9425\n",
            "Epoch 20/50\n",
            "129/129 [==============================] - 1s 6ms/step - loss: 0.1244 - accuracy: 0.9453 - val_loss: 0.1391 - val_accuracy: 0.9416\n",
            "Epoch 21/50\n",
            "129/129 [==============================] - 1s 6ms/step - loss: 0.1235 - accuracy: 0.9459 - val_loss: 0.1636 - val_accuracy: 0.9182\n",
            "Epoch 22/50\n",
            "129/129 [==============================] - 1s 6ms/step - loss: 0.1199 - accuracy: 0.9461 - val_loss: 0.1486 - val_accuracy: 0.9362\n",
            "Epoch 23/50\n",
            "129/129 [==============================] - 1s 7ms/step - loss: 0.1161 - accuracy: 0.9472 - val_loss: 0.1521 - val_accuracy: 0.9333\n",
            "Epoch 24/50\n",
            "129/129 [==============================] - 1s 6ms/step - loss: 0.1163 - accuracy: 0.9479 - val_loss: 0.1222 - val_accuracy: 0.9518\n",
            "Epoch 25/50\n",
            "129/129 [==============================] - 1s 6ms/step - loss: 0.1180 - accuracy: 0.9479 - val_loss: 0.1161 - val_accuracy: 0.9525\n",
            "Epoch 26/50\n",
            "129/129 [==============================] - 1s 6ms/step - loss: 0.1143 - accuracy: 0.9484 - val_loss: 0.1468 - val_accuracy: 0.9345\n",
            "Epoch 27/50\n",
            "129/129 [==============================] - 1s 6ms/step - loss: 0.1119 - accuracy: 0.9483 - val_loss: 0.1506 - val_accuracy: 0.9326\n",
            "Epoch 28/50\n",
            "129/129 [==============================] - 1s 6ms/step - loss: 0.1096 - accuracy: 0.9500 - val_loss: 0.1368 - val_accuracy: 0.9384\n",
            "Epoch 29/50\n",
            "129/129 [==============================] - 1s 7ms/step - loss: 0.1076 - accuracy: 0.9503 - val_loss: 0.1369 - val_accuracy: 0.9279\n",
            "Epoch 30/50\n",
            "129/129 [==============================] - 1s 6ms/step - loss: 0.1061 - accuracy: 0.9509 - val_loss: 0.1203 - val_accuracy: 0.9498\n",
            "Epoch 31/50\n",
            "129/129 [==============================] - 1s 6ms/step - loss: 0.1065 - accuracy: 0.9506 - val_loss: 0.1097 - val_accuracy: 0.9564\n",
            "Epoch 32/50\n",
            "129/129 [==============================] - 1s 6ms/step - loss: 0.1052 - accuracy: 0.9504 - val_loss: 0.1549 - val_accuracy: 0.9284\n",
            "Epoch 33/50\n",
            "129/129 [==============================] - 1s 6ms/step - loss: 0.1040 - accuracy: 0.9495 - val_loss: 0.1317 - val_accuracy: 0.9418\n",
            "Epoch 34/50\n",
            "129/129 [==============================] - 1s 7ms/step - loss: 0.1038 - accuracy: 0.9509 - val_loss: 0.1035 - val_accuracy: 0.9589\n",
            "Epoch 35/50\n",
            "129/129 [==============================] - 1s 6ms/step - loss: 0.1034 - accuracy: 0.9501 - val_loss: 0.1822 - val_accuracy: 0.9094\n",
            "Epoch 36/50\n",
            "129/129 [==============================] - 1s 6ms/step - loss: 0.1038 - accuracy: 0.9509 - val_loss: 0.1285 - val_accuracy: 0.9413\n",
            "Epoch 37/50\n",
            "129/129 [==============================] - 1s 6ms/step - loss: 0.1008 - accuracy: 0.9504 - val_loss: 0.1221 - val_accuracy: 0.9474\n",
            "Epoch 38/50\n",
            "129/129 [==============================] - 1s 6ms/step - loss: 0.1003 - accuracy: 0.9526 - val_loss: 0.1286 - val_accuracy: 0.9425\n",
            "Epoch 39/50\n",
            "129/129 [==============================] - 1s 6ms/step - loss: 0.0996 - accuracy: 0.9500 - val_loss: 0.1571 - val_accuracy: 0.9299\n",
            "Epoch 40/50\n",
            "129/129 [==============================] - 1s 6ms/step - loss: 0.1000 - accuracy: 0.9515 - val_loss: 0.1354 - val_accuracy: 0.9428\n",
            "Epoch 41/50\n",
            "129/129 [==============================] - 1s 6ms/step - loss: 0.0983 - accuracy: 0.9521 - val_loss: 0.1353 - val_accuracy: 0.9467\n",
            "Epoch 42/50\n",
            "129/129 [==============================] - 1s 6ms/step - loss: 0.0990 - accuracy: 0.9514 - val_loss: 0.1651 - val_accuracy: 0.9262\n",
            "Epoch 43/50\n",
            "129/129 [==============================] - 1s 6ms/step - loss: 0.0982 - accuracy: 0.9524 - val_loss: 0.1704 - val_accuracy: 0.9209\n",
            "Epoch 44/50\n",
            "129/129 [==============================] - 1s 6ms/step - loss: 0.0983 - accuracy: 0.9522 - val_loss: 0.1442 - val_accuracy: 0.9321\n",
            "Epoch 45/50\n",
            "129/129 [==============================] - 1s 6ms/step - loss: 0.0974 - accuracy: 0.9518 - val_loss: 0.1502 - val_accuracy: 0.9296\n",
            "Epoch 46/50\n",
            "129/129 [==============================] - 1s 7ms/step - loss: 0.0967 - accuracy: 0.9515 - val_loss: 0.1392 - val_accuracy: 0.9350\n",
            "Epoch 47/50\n",
            "129/129 [==============================] - 1s 6ms/step - loss: 0.0946 - accuracy: 0.9532 - val_loss: 0.1729 - val_accuracy: 0.9226\n",
            "Epoch 48/50\n",
            "129/129 [==============================] - 1s 6ms/step - loss: 0.0945 - accuracy: 0.9537 - val_loss: 0.1073 - val_accuracy: 0.9581\n",
            "Epoch 49/50\n",
            "129/129 [==============================] - 1s 6ms/step - loss: 0.0939 - accuracy: 0.9537 - val_loss: 0.1065 - val_accuracy: 0.9557\n",
            "Epoch 50/50\n",
            "129/129 [==============================] - 1s 6ms/step - loss: 0.0943 - accuracy: 0.9530 - val_loss: 0.1608 - val_accuracy: 0.9243\n"
          ]
        }
      ]
    },
    {
      "cell_type": "code",
      "source": [
        "model2.save('model2Balanced09.h5')"
      ],
      "metadata": {
        "id": "5CBMnvQi4_fs"
      },
      "execution_count": null,
      "outputs": []
    },
    {
      "cell_type": "code",
      "source": [
        "model2=tf.keras.models.load_model('model2Balanced09.h5')"
      ],
      "metadata": {
        "id": "SFcXkpNpXkKZ"
      },
      "execution_count": null,
      "outputs": []
    },
    {
      "cell_type": "code",
      "source": [
        "tf.keras.utils.plot_model(model2, show_shapes=True)"
      ],
      "metadata": {
        "colab": {
          "base_uri": "https://localhost:8080/",
          "height": 754
        },
        "id": "Djs_EiWq6Sc1",
        "outputId": "f2d2f509-adbb-48cb-d483-283d9e840091"
      },
      "execution_count": null,
      "outputs": [
        {
          "output_type": "execute_result",
          "data": {
            "text/plain": [
              "<IPython.core.display.Image object>"
            ],
            "image/png": "[encoded data removed]"
          },
          "metadata": {},
          "execution_count": 58
        }
      ]
    },
    {
      "cell_type": "code",
      "source": [
        "from sklearn.metrics import confusion_matrix\n",
        "from sklearn.metrics import classification_report\n",
        "import numpy as np\n",
        "\n",
        "pred2=model2.predict(testing_padded)\n",
        "rounded_labels212=np.argmax(pred2, axis=1).astype(int)\n",
        "cm12 = confusion_matrix(testing_labels, rounded_labels212)\n",
        "print(cm12)\n",
        "print(classification_report(testing_labels, rounded_labels212, labels=[0,1,2]))"
      ],
      "metadata": {
        "colab": {
          "base_uri": "https://localhost:8080/"
        },
        "id": "qia2uRG4UOzu",
        "outputId": "f42927ce-7afd-45ce-dd86-0a7a189f1215"
      },
      "execution_count": null,
      "outputs": [
        {
          "output_type": "stream",
          "name": "stdout",
          "text": [
            "[[ 703    8   27]\n",
            " [  35 2933  172]\n",
            " [  17    6  206]]\n",
            "              precision    recall  f1-score   support\n",
            "\n",
            "           0       0.93      0.95      0.94       738\n",
            "           1       1.00      0.93      0.96      3140\n",
            "           2       0.51      0.90      0.65       229\n",
            "\n",
            "    accuracy                           0.94      4107\n",
            "   macro avg       0.81      0.93      0.85      4107\n",
            "weighted avg       0.96      0.94      0.94      4107\n",
            "\n"
          ]
        }
      ]
    },
    {
      "cell_type": "code",
      "source": [
        "pred12=model2.predict(testing_padded12)\n",
        "rounded_labels212=np.argmax(pred12, axis=1).astype(int)\n",
        "cm12 = confusion_matrix(testing_labels12, rounded_labels212)\n",
        "print(cm12)\n",
        "print(classification_report(testing_labels12, rounded_labels212, labels=[0,1,2]))"
      ],
      "metadata": {
        "id": "3Xwbbual80um",
        "colab": {
          "base_uri": "https://localhost:8080/"
        },
        "outputId": "daea0a3b-328d-439c-9e0c-1d436666c17b"
      },
      "execution_count": null,
      "outputs": [
        {
          "output_type": "stream",
          "name": "stdout",
          "text": [
            "[[282 123 182]\n",
            " [ 11 211  31]\n",
            " [ 12 156 284]]\n",
            "              precision    recall  f1-score   support\n",
            "\n",
            "           0       0.92      0.48      0.63       587\n",
            "           1       0.43      0.83      0.57       253\n",
            "           2       0.57      0.63      0.60       452\n",
            "\n",
            "    accuracy                           0.60      1292\n",
            "   macro avg       0.64      0.65      0.60      1292\n",
            "weighted avg       0.70      0.60      0.61      1292\n",
            "\n"
          ]
        }
      ]
    },
    {
      "cell_type": "code",
      "source": [
        "pred34=model2.predict(testing_padded34)\n",
        "rounded_labels234=np.argmax(pred34, axis=1).astype(int)\n",
        "cm34 = confusion_matrix(testing_labels34, rounded_labels234)\n",
        "print(cm34)\n",
        "print(classification_report(testing_labels34, rounded_labels234, labels=[0,1,2]))"
      ],
      "metadata": {
        "colab": {
          "base_uri": "https://localhost:8080/"
        },
        "id": "mSckKvvu9CR_",
        "outputId": "10cb38d9-853b-4f0b-c0c5-cd95e9bfb29a"
      },
      "execution_count": null,
      "outputs": [
        {
          "output_type": "stream",
          "name": "stdout",
          "text": [
            "[[  80   12  434]\n",
            " [   0    7    0]\n",
            " [   0    1 1306]]\n",
            "              precision    recall  f1-score   support\n",
            "\n",
            "           0       1.00      0.15      0.26       526\n",
            "           1       0.35      1.00      0.52         7\n",
            "           2       0.75      1.00      0.86      1307\n",
            "\n",
            "    accuracy                           0.76      1840\n",
            "   macro avg       0.70      0.72      0.55      1840\n",
            "weighted avg       0.82      0.76      0.69      1840\n",
            "\n"
          ]
        }
      ]
    },
    {
      "cell_type": "code",
      "source": [
        "pred5=model2.predict(testing_padded5)\n",
        "rounded_labels25=np.argmax(pred5, axis=1).astype(int)\n",
        "cm5 = confusion_matrix(testing_labels5, rounded_labels25)\n",
        "print(cm5)\n",
        "print(classification_report(testing_labels5, rounded_labels25, labels=[0,1,2]))"
      ],
      "metadata": {
        "colab": {
          "base_uri": "https://localhost:8080/"
        },
        "id": "Gu_O28K3Kxrt",
        "outputId": "2be29f09-8e4d-4d80-e439-41b194afbf89"
      },
      "execution_count": null,
      "outputs": [
        {
          "output_type": "stream",
          "name": "stdout",
          "text": [
            "[[2983   83  969]\n",
            " [ 339  513  602]\n",
            " [  83  149 2595]]\n",
            "              precision    recall  f1-score   support\n",
            "\n",
            "           0       0.88      0.74      0.80      4035\n",
            "           1       0.69      0.35      0.47      1454\n",
            "           2       0.62      0.92      0.74      2827\n",
            "\n",
            "    accuracy                           0.73      8316\n",
            "   macro avg       0.73      0.67      0.67      8316\n",
            "weighted avg       0.76      0.73      0.72      8316\n",
            "\n"
          ]
        }
      ]
    },
    {
      "cell_type": "code",
      "source": [
        "import matplotlib.pyplot as plt\n",
        "import numpy\n",
        "# summarize history for accuracy\n",
        "plt.plot(history.history['loss'])\n",
        "plt.plot(history.history['val_loss'])\n",
        "plt.title('model loss')\n",
        "plt.ylabel('loss')\n",
        "plt.xlabel('epoch')\n",
        "plt.legend(['train', 'test'], loc='upper left')\n",
        "plt.show()\n",
        "# summarize history for loss\n",
        "plt.plot(history.history['accuracy'])\n",
        "plt.plot(history.history['val_accuracy'])\n",
        "plt.title('model accuracy')\n",
        "plt.ylabel('accuracy')\n",
        "plt.xlabel('epoch')\n",
        "plt.legend(['train', 'test'], loc='upper left')\n",
        "plt.show()"
      ],
      "metadata": {
        "colab": {
          "base_uri": "https://localhost:8080/",
          "height": 573
        },
        "id": "R2WgOyeb_PHC",
        "outputId": "29fb261c-8c34-469b-d2b4-0dfd44d88c1e"
      },
      "execution_count": null,
      "outputs": [
        {
          "output_type": "display_data",
          "data": {
            "text/plain": [
              "<Figure size 432x288 with 1 Axes>"
            ],
            "image/png": "[encoded data removed]"
          },
          "metadata": {
            "needs_background": "light"
          }
        },
        {
          "output_type": "display_data",
          "data": {
            "text/plain": [
              "<Figure size 432x288 with 1 Axes>"
            ],
            "image/png": "[encoded data removed]"
          },
          "metadata": {
            "needs_background": "light"
          }
        }
      ]
    },
    {
      "cell_type": "markdown",
      "source": [
        "##For The Third Model"
      ],
      "metadata": {
        "id": "FRfELBgw7A3Z"
      }
    },
    {
      "cell_type": "code",
      "source": [
        "model3 = tf.keras.Sequential([\n",
        "    tf.keras.layers.Embedding(vocab_size, embedding_dim, input_length=max_length),\n",
        "    tf.keras.layers.Bidirectional(tf.keras.layers.LSTM(32)),\n",
        "    tf.keras.layers.Flatten(),\n",
        "    tf.keras.layers.Dense(24, activation='relu'),\n",
        "    tf.keras.layers.Dense(3, activation='softmax')\n",
        "])\n",
        "model3.summary()"
      ],
      "metadata": {
        "colab": {
          "base_uri": "https://localhost:8080/"
        },
        "id": "JvX2b2nORvKS",
        "outputId": "dab0af07-fd3a-4503-dc20-479a7f2e9610"
      },
      "execution_count": null,
      "outputs": [
        {
          "output_type": "stream",
          "name": "stdout",
          "text": [
            "Model: \"sequential_5\"\n",
            "_________________________________________________________________\n",
            " Layer (type)                Output Shape              Param #   \n",
            "=================================================================\n",
            " embedding_5 (Embedding)     (None, 207, 16)           638800    \n",
            "                                                                 \n",
            " bidirectional_3 (Bidirectio  (None, 64)               12544     \n",
            " nal)                                                            \n",
            "                                                                 \n",
            " flatten_5 (Flatten)         (None, 64)                0         \n",
            "                                                                 \n",
            " dense_13 (Dense)            (None, 24)                1560      \n",
            "                                                                 \n",
            " dense_14 (Dense)            (None, 3)                 75        \n",
            "                                                                 \n",
            "=================================================================\n",
            "Total params: 652,979\n",
            "Trainable params: 652,979\n",
            "Non-trainable params: 0\n",
            "_________________________________________________________________\n"
          ]
        }
      ]
    },
    {
      "cell_type": "code",
      "source": [
        "model3.compile(loss=\"sparse_categorical_crossentropy\",optimizer='adam',metrics=['accuracy'])\n",
        "history = model3.fit(training_padded, training_labels, batch_size=128, epochs=50, validation_data=(testing_padded, testing_labels), verbose=1)"
      ],
      "metadata": {
        "colab": {
          "base_uri": "https://localhost:8080/"
        },
        "id": "El4d_GRU6x2l",
        "outputId": "1cf329e0-6673-47a3-e745-f5d59d565378"
      },
      "execution_count": null,
      "outputs": [
        {
          "output_type": "stream",
          "name": "stdout",
          "text": [
            "Epoch 1/50\n",
            "129/129 [==============================] - 6s 25ms/step - loss: 0.9664 - accuracy: 0.5259 - val_loss: 1.2246 - val_accuracy: 0.1904\n",
            "Epoch 2/50\n",
            "129/129 [==============================] - 2s 18ms/step - loss: 0.6632 - accuracy: 0.7108 - val_loss: 0.8487 - val_accuracy: 0.6206\n",
            "Epoch 3/50\n",
            "129/129 [==============================] - 2s 18ms/step - loss: 0.4919 - accuracy: 0.8114 - val_loss: 0.5996 - val_accuracy: 0.7499\n",
            "Epoch 4/50\n",
            "129/129 [==============================] - 2s 18ms/step - loss: 0.4175 - accuracy: 0.8425 - val_loss: 0.5188 - val_accuracy: 0.7887\n",
            "Epoch 5/50\n",
            "129/129 [==============================] - 2s 18ms/step - loss: 0.3824 - accuracy: 0.8520 - val_loss: 0.4675 - val_accuracy: 0.8283\n",
            "Epoch 6/50\n",
            "129/129 [==============================] - 2s 18ms/step - loss: 0.3558 - accuracy: 0.8631 - val_loss: 0.4510 - val_accuracy: 0.8113\n",
            "Epoch 7/50\n",
            "129/129 [==============================] - 2s 18ms/step - loss: 0.3398 - accuracy: 0.8688 - val_loss: 0.3612 - val_accuracy: 0.8476\n",
            "Epoch 8/50\n",
            "129/129 [==============================] - 2s 18ms/step - loss: 0.3256 - accuracy: 0.8745 - val_loss: 0.4215 - val_accuracy: 0.8232\n",
            "Epoch 9/50\n",
            "129/129 [==============================] - 2s 18ms/step - loss: 0.3203 - accuracy: 0.8731 - val_loss: 0.3680 - val_accuracy: 0.8559\n",
            "Epoch 10/50\n",
            "129/129 [==============================] - 2s 18ms/step - loss: 0.3091 - accuracy: 0.8799 - val_loss: 0.4128 - val_accuracy: 0.8223\n",
            "Epoch 11/50\n",
            "129/129 [==============================] - 2s 18ms/step - loss: 0.2979 - accuracy: 0.8841 - val_loss: 0.3627 - val_accuracy: 0.8498\n",
            "Epoch 12/50\n",
            "129/129 [==============================] - 2s 18ms/step - loss: 0.2892 - accuracy: 0.8883 - val_loss: 0.2966 - val_accuracy: 0.8999\n",
            "Epoch 13/50\n",
            "129/129 [==============================] - 2s 18ms/step - loss: 0.2859 - accuracy: 0.8885 - val_loss: 0.3253 - val_accuracy: 0.8646\n",
            "Epoch 14/50\n",
            "129/129 [==============================] - 2s 18ms/step - loss: 0.2787 - accuracy: 0.8899 - val_loss: 0.2757 - val_accuracy: 0.8860\n",
            "Epoch 15/50\n",
            "129/129 [==============================] - 2s 18ms/step - loss: 0.2758 - accuracy: 0.8905 - val_loss: 0.3010 - val_accuracy: 0.8717\n",
            "Epoch 16/50\n",
            "129/129 [==============================] - 2s 18ms/step - loss: 0.2675 - accuracy: 0.8960 - val_loss: 0.3282 - val_accuracy: 0.8610\n",
            "Epoch 17/50\n",
            "129/129 [==============================] - 2s 18ms/step - loss: 0.2621 - accuracy: 0.8958 - val_loss: 0.2575 - val_accuracy: 0.9102\n",
            "Epoch 18/50\n",
            "129/129 [==============================] - 2s 18ms/step - loss: 0.2567 - accuracy: 0.9003 - val_loss: 0.3304 - val_accuracy: 0.8617\n",
            "Epoch 19/50\n",
            "129/129 [==============================] - 2s 18ms/step - loss: 0.2496 - accuracy: 0.9019 - val_loss: 0.2717 - val_accuracy: 0.8851\n",
            "Epoch 20/50\n",
            "129/129 [==============================] - 2s 18ms/step - loss: 0.2445 - accuracy: 0.9042 - val_loss: 0.2821 - val_accuracy: 0.8841\n",
            "Epoch 21/50\n",
            "129/129 [==============================] - 2s 18ms/step - loss: 0.2388 - accuracy: 0.9064 - val_loss: 0.2593 - val_accuracy: 0.8938\n",
            "Epoch 22/50\n",
            "129/129 [==============================] - 2s 18ms/step - loss: 0.2322 - accuracy: 0.9074 - val_loss: 0.2203 - val_accuracy: 0.9158\n",
            "Epoch 23/50\n",
            "129/129 [==============================] - 2s 18ms/step - loss: 0.2266 - accuracy: 0.9106 - val_loss: 0.2402 - val_accuracy: 0.9184\n",
            "Epoch 24/50\n",
            "129/129 [==============================] - 2s 18ms/step - loss: 0.2229 - accuracy: 0.9120 - val_loss: 0.2841 - val_accuracy: 0.8814\n",
            "Epoch 25/50\n",
            "129/129 [==============================] - 2s 18ms/step - loss: 0.2161 - accuracy: 0.9162 - val_loss: 0.2488 - val_accuracy: 0.9055\n",
            "Epoch 26/50\n",
            "129/129 [==============================] - 2s 18ms/step - loss: 0.2075 - accuracy: 0.9181 - val_loss: 0.1820 - val_accuracy: 0.9474\n",
            "Epoch 27/50\n",
            "129/129 [==============================] - 2s 18ms/step - loss: 0.2096 - accuracy: 0.9174 - val_loss: 0.2246 - val_accuracy: 0.9048\n",
            "Epoch 28/50\n",
            "129/129 [==============================] - 2s 18ms/step - loss: 0.2002 - accuracy: 0.9211 - val_loss: 0.2012 - val_accuracy: 0.9250\n",
            "Epoch 29/50\n",
            "129/129 [==============================] - 2s 18ms/step - loss: 0.1952 - accuracy: 0.9207 - val_loss: 0.2479 - val_accuracy: 0.8904\n",
            "Epoch 30/50\n",
            "129/129 [==============================] - 2s 18ms/step - loss: 0.1899 - accuracy: 0.9240 - val_loss: 0.2693 - val_accuracy: 0.8834\n",
            "Epoch 31/50\n",
            "129/129 [==============================] - 2s 18ms/step - loss: 0.1866 - accuracy: 0.9241 - val_loss: 0.2889 - val_accuracy: 0.8787\n",
            "Epoch 32/50\n",
            "129/129 [==============================] - 2s 18ms/step - loss: 0.1838 - accuracy: 0.9251 - val_loss: 0.1950 - val_accuracy: 0.9167\n",
            "Epoch 33/50\n",
            "129/129 [==============================] - 2s 18ms/step - loss: 0.1772 - accuracy: 0.9262 - val_loss: 0.1545 - val_accuracy: 0.9569\n",
            "Epoch 34/50\n",
            "129/129 [==============================] - 2s 18ms/step - loss: 0.1785 - accuracy: 0.9262 - val_loss: 0.2498 - val_accuracy: 0.8975\n",
            "Epoch 35/50\n",
            "129/129 [==============================] - 2s 18ms/step - loss: 0.1737 - accuracy: 0.9293 - val_loss: 0.1887 - val_accuracy: 0.9425\n",
            "Epoch 36/50\n",
            "129/129 [==============================] - 2s 18ms/step - loss: 0.1726 - accuracy: 0.9287 - val_loss: 0.2625 - val_accuracy: 0.8919\n",
            "Epoch 37/50\n",
            "129/129 [==============================] - 2s 18ms/step - loss: 0.1688 - accuracy: 0.9298 - val_loss: 0.2306 - val_accuracy: 0.9055\n",
            "Epoch 38/50\n",
            "129/129 [==============================] - 2s 18ms/step - loss: 0.1608 - accuracy: 0.9318 - val_loss: 0.1654 - val_accuracy: 0.9562\n",
            "Epoch 39/50\n",
            "129/129 [==============================] - 2s 18ms/step - loss: 0.1624 - accuracy: 0.9312 - val_loss: 0.2146 - val_accuracy: 0.9070\n",
            "Epoch 40/50\n",
            "129/129 [==============================] - 2s 18ms/step - loss: 0.1564 - accuracy: 0.9333 - val_loss: 0.2145 - val_accuracy: 0.9041\n",
            "Epoch 41/50\n",
            "129/129 [==============================] - 2s 18ms/step - loss: 0.1540 - accuracy: 0.9350 - val_loss: 0.1638 - val_accuracy: 0.9389\n",
            "Epoch 42/50\n",
            "129/129 [==============================] - 2s 18ms/step - loss: 0.1516 - accuracy: 0.9356 - val_loss: 0.2226 - val_accuracy: 0.9038\n",
            "Epoch 43/50\n",
            "129/129 [==============================] - 2s 18ms/step - loss: 0.1492 - accuracy: 0.9353 - val_loss: 0.1516 - val_accuracy: 0.9384\n",
            "Epoch 44/50\n",
            "129/129 [==============================] - 2s 18ms/step - loss: 0.1487 - accuracy: 0.9351 - val_loss: 0.1633 - val_accuracy: 0.9270\n",
            "Epoch 45/50\n",
            "129/129 [==============================] - 2s 18ms/step - loss: 0.1445 - accuracy: 0.9380 - val_loss: 0.1739 - val_accuracy: 0.9267\n",
            "Epoch 46/50\n",
            "129/129 [==============================] - 2s 18ms/step - loss: 0.1411 - accuracy: 0.9372 - val_loss: 0.1721 - val_accuracy: 0.9211\n",
            "Epoch 47/50\n",
            "129/129 [==============================] - 2s 18ms/step - loss: 0.1435 - accuracy: 0.9378 - val_loss: 0.1754 - val_accuracy: 0.9262\n",
            "Epoch 48/50\n",
            "129/129 [==============================] - 2s 18ms/step - loss: 0.1417 - accuracy: 0.9369 - val_loss: 0.1831 - val_accuracy: 0.9260\n",
            "Epoch 49/50\n",
            "129/129 [==============================] - 2s 18ms/step - loss: 0.1368 - accuracy: 0.9375 - val_loss: 0.1891 - val_accuracy: 0.9172\n",
            "Epoch 50/50\n",
            "129/129 [==============================] - 2s 18ms/step - loss: 0.1362 - accuracy: 0.9380 - val_loss: 0.1451 - val_accuracy: 0.9554\n"
          ]
        }
      ]
    },
    {
      "cell_type": "code",
      "source": [
        "model3.save('model3Balanced09.h5')"
      ],
      "metadata": {
        "id": "SNt0_urX5N1n"
      },
      "execution_count": null,
      "outputs": []
    },
    {
      "cell_type": "code",
      "source": [
        "tf.keras.utils.plot_model(model3, show_shapes=True)"
      ],
      "metadata": {
        "colab": {
          "base_uri": "https://localhost:8080/",
          "height": 644
        },
        "id": "1dVvLzBo61G8",
        "outputId": "a5efcdb9-a9c6-420a-9c0c-ced1d1663727"
      },
      "execution_count": null,
      "outputs": [
        {
          "output_type": "execute_result",
          "data": {
            "text/plain": [
              "<IPython.core.display.Image object>"
            ],
            "image/png": "[encoded data removed]"
          },
          "metadata": {},
          "execution_count": 57
        }
      ]
    },
    {
      "cell_type": "code",
      "source": [
        "pred3=model3.predict(testing_padded)\n",
        "rounded_labels3=np.argmax(pred3, axis=1).astype(int)\n",
        "cm2 = confusion_matrix(testing_labels, rounded_labels3)\n",
        "print(cm2)\n",
        "print(classification_report(testing_labels, rounded_labels3, labels=[0,1,2]))"
      ],
      "metadata": {
        "colab": {
          "base_uri": "https://localhost:8080/"
        },
        "id": "Vg0RP9_k63Ri",
        "outputId": "9c386fe9-90cd-4a75-847c-9b320a2bf9c0"
      },
      "execution_count": null,
      "outputs": [
        {
          "output_type": "stream",
          "name": "stdout",
          "text": [
            "[[ 677   31   30]\n",
            " [  22 3039   79]\n",
            " [  12    9  208]]\n",
            "              precision    recall  f1-score   support\n",
            "\n",
            "           0       0.95      0.92      0.93       738\n",
            "           1       0.99      0.97      0.98      3140\n",
            "           2       0.66      0.91      0.76       229\n",
            "\n",
            "    accuracy                           0.96      4107\n",
            "   macro avg       0.87      0.93      0.89      4107\n",
            "weighted avg       0.96      0.96      0.96      4107\n",
            "\n"
          ]
        }
      ]
    },
    {
      "cell_type": "code",
      "source": [
        "pred12=model3.predict(testing_padded12)\n",
        "rounded_labels312=np.argmax(pred12, axis=1).astype(int)\n",
        "cm12 = confusion_matrix(testing_labels12, rounded_labels312)\n",
        "print(cm12)\n",
        "print(classification_report(testing_labels12, rounded_labels312, labels=[0,1,2]))"
      ],
      "metadata": {
        "colab": {
          "base_uri": "https://localhost:8080/"
        },
        "id": "HK7_koem5xmn",
        "outputId": "b50aae4f-b424-4e6a-f122-fcaa188953b9"
      },
      "execution_count": null,
      "outputs": [
        {
          "output_type": "stream",
          "name": "stdout",
          "text": [
            "[[243 213 131]\n",
            " [ 11 226  16]\n",
            " [  9 194 249]]\n",
            "              precision    recall  f1-score   support\n",
            "\n",
            "           0       0.92      0.41      0.57       587\n",
            "           1       0.36      0.89      0.51       253\n",
            "           2       0.63      0.55      0.59       452\n",
            "\n",
            "    accuracy                           0.56      1292\n",
            "   macro avg       0.64      0.62      0.56      1292\n",
            "weighted avg       0.71      0.56      0.57      1292\n",
            "\n"
          ]
        }
      ]
    },
    {
      "cell_type": "code",
      "source": [
        "pred34=model3.predict(testing_padded34)\n",
        "rounded_labels334=np.argmax(pred34, axis=1).astype(int)\n",
        "cm34 = confusion_matrix(testing_labels34, rounded_labels334)\n",
        "print(cm34)\n",
        "print(classification_report(testing_labels34, rounded_labels334, labels=[0,1,2]))"
      ],
      "metadata": {
        "colab": {
          "base_uri": "https://localhost:8080/"
        },
        "id": "hU62iDph7ysw",
        "outputId": "fba20916-46b2-4d8a-cb08-a9e0d90cf050"
      },
      "execution_count": null,
      "outputs": [
        {
          "output_type": "stream",
          "name": "stdout",
          "text": [
            "[[  79   27  420]\n",
            " [   0    7    0]\n",
            " [   1   14 1292]]\n",
            "              precision    recall  f1-score   support\n",
            "\n",
            "           0       0.99      0.15      0.26       526\n",
            "           1       0.15      1.00      0.25         7\n",
            "           2       0.75      0.99      0.86      1307\n",
            "\n",
            "    accuracy                           0.75      1840\n",
            "   macro avg       0.63      0.71      0.46      1840\n",
            "weighted avg       0.82      0.75      0.68      1840\n",
            "\n"
          ]
        }
      ]
    },
    {
      "cell_type": "code",
      "source": [
        "pred5=model3.predict(testing_padded5)\n",
        "rounded_labels35=np.argmax(pred5, axis=1).astype(int)\n",
        "cm5 = confusion_matrix(testing_labels5, rounded_labels35)\n",
        "print(cm5)\n",
        "print(classification_report(testing_labels5, rounded_labels35, labels=[0,1,2]))"
      ],
      "metadata": {
        "colab": {
          "base_uri": "https://localhost:8080/"
        },
        "id": "kCs3cNH7K642",
        "outputId": "140b187b-2768-43c5-b929-d7979248d76c"
      },
      "execution_count": null,
      "outputs": [
        {
          "output_type": "stream",
          "name": "stdout",
          "text": [
            "[[2857  180  998]\n",
            " [ 272  584  598]\n",
            " [  56  182 2589]]\n",
            "              precision    recall  f1-score   support\n",
            "\n",
            "           0       0.90      0.71      0.79      4035\n",
            "           1       0.62      0.40      0.49      1454\n",
            "           2       0.62      0.92      0.74      2827\n",
            "\n",
            "    accuracy                           0.73      8316\n",
            "   macro avg       0.71      0.68      0.67      8316\n",
            "weighted avg       0.75      0.73      0.72      8316\n",
            "\n"
          ]
        }
      ]
    },
    {
      "cell_type": "code",
      "source": [
        "import matplotlib.pyplot as plt\n",
        "import numpy\n",
        "# summarize history for accuracy\n",
        "plt.plot(history.history['loss'])\n",
        "plt.plot(history.history['val_loss'])\n",
        "plt.title('model loss')\n",
        "plt.ylabel('loss')\n",
        "plt.xlabel('epoch')\n",
        "plt.legend(['train', 'test'], loc='upper left')\n",
        "plt.show()\n",
        "# summarize history for loss\n",
        "plt.plot(history.history['accuracy'])\n",
        "plt.plot(history.history['val_accuracy'])\n",
        "plt.title('model accuracy')\n",
        "plt.ylabel('accuracy')\n",
        "plt.xlabel('epoch')\n",
        "plt.legend(['train', 'test'], loc='upper left')\n",
        "plt.show()"
      ],
      "metadata": {
        "colab": {
          "base_uri": "https://localhost:8080/",
          "height": 573
        },
        "id": "ddbAtRKXatG3",
        "outputId": "8203d02c-eb3f-4788-c310-17583bae88af"
      },
      "execution_count": null,
      "outputs": [
        {
          "output_type": "display_data",
          "data": {
            "text/plain": [
              "<Figure size 432x288 with 1 Axes>"
            ],
            "image/png": "[encoded data removed]"
          },
          "metadata": {
            "needs_background": "light"
          }
        },
        {
          "output_type": "display_data",
          "data": {
            "text/plain": [
              "<Figure size 432x288 with 1 Axes>"
            ],
            "image/png": "[encoded data removed]"
          },
          "metadata": {
            "needs_background": "light"
          }
        }
      ]
    },
    {
      "cell_type": "markdown",
      "source": [
        "#Terms\n",
        "##BURT: is a transformar model\n",
        "##Sentiment Classification: A prabability distrubution over two classes\n",
        "##Text Encoding: How to encode the texts into a numerical presentation that we can be handled by the machine learning model\n",
        "##Transformers: The State-Of-The-Art architecture for language modeling\n",
        "#Word2vec: 2013, The Model that introduced distributed representations for language modeling"
      ],
      "metadata": {
        "id": "5SNCH0-6Eq4I"
      }
    }
  ]
}