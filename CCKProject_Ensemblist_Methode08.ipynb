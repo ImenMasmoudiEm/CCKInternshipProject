{
  "nbformat": 4,
  "nbformat_minor": 0,
  "metadata": {
    "colab": {
      "name": "CCKProject Ensemblist Methode08.ipynb",
      "provenance": [],
      "authorship_tag": "ABX9TyMLHnYVAKlr3Pmmw7soX7Z2",
      "include_colab_link": true
    },
    "kernelspec": {
      "name": "python3",
      "display_name": "Python 3"
    },
    "language_info": {
      "name": "python"
    },
    "accelerator": "GPU",
    "gpuClass": "standard"
  },
  "cells": [
    {
      "cell_type": "markdown",
      "metadata": {
        "id": "view-in-github",
        "colab_type": "text"
      },
      "source": [
        "<a href=\"https://colab.research.google.com/github/ImenMasmoudiEm/CCKInternshipProject/blob/main/CCKProject_Ensemblist_Methode08.ipynb\" target=\"_parent\"><img src=\"https://colab.research.google.com/assets/colab-badge.svg\" alt=\"Open In Colab\"/></a>"
      ]
    },
    {
      "cell_type": "code",
      "execution_count": 1,
      "metadata": {
        "id": "eGu-CKtm0mh3",
        "colab": {
          "base_uri": "https://localhost:8080/"
        },
        "outputId": "bfc618a5-4029-478d-cdea-f0e51e8a5cd7"
      },
      "outputs": [
        {
          "output_type": "stream",
          "name": "stdout",
          "text": [
            "Mounted at /content/drive\n"
          ]
        }
      ],
      "source": [
        "from google.colab import drive\n",
        "drive.mount('/content/drive')"
      ]
    },
    {
      "cell_type": "code",
      "source": [
        "import os \n",
        "import pandas as pd\n",
        "\n",
        "os.chdir('/content/drive/MyDrive/All/Projects/Ing Internship/Data')\n",
        "data=pd.read_excel(\"/content/drive/MyDrive/All/Projects/Ing Internship/Data/final-dataset.xlsx\")\n",
        "data['classe']=data['classe'].replace(\"hate\", int(2))\n",
        "data['classe']=data['classe'].replace(\"normal\", int(0)) \n",
        "data['classe']=data['classe'].replace(\"abusive\", int(1))"
      ],
      "metadata": {
        "id": "BZi4L6aE1NlZ"
      },
      "execution_count": 2,
      "outputs": []
    },
    {
      "cell_type": "code",
      "source": [
        "from tensorflow.keras.preprocessing.text import Tokenizer\n",
        "from tensorflow.keras.preprocessing.sequence import pad_sequences\n",
        "import numpy as np\n",
        "\n",
        "sentences = data['commentaire']\n",
        "labels = data['classe']\n",
        "\n",
        "labels = [int(i) for i in labels]\n",
        "\n",
        "def count_words(input):\n",
        "  return len(input.split())\n",
        "max_length=count_words(max(sentences,key=count_words))\n",
        "max_length"
      ],
      "metadata": {
        "id": "KEtxjGnn1gOr",
        "colab": {
          "base_uri": "https://localhost:8080/"
        },
        "outputId": "64580739-6281-42b5-e0d9-ca1fa18f801b"
      },
      "execution_count": 3,
      "outputs": [
        {
          "output_type": "execute_result",
          "data": {
            "text/plain": [
              "388"
            ]
          },
          "metadata": {},
          "execution_count": 3
        }
      ]
    },
    {
      "cell_type": "code",
      "source": [
        "data12=pd.read_excel(\"/content/drive/MyDrive/All/Projects/Ing Internship/Data/dataset1and2.xlsx\")\n",
        "data34=pd.read_excel(\"/content/drive/MyDrive/All/Projects/Ing Internship/Data/dataset3and4.xlsx\")\n",
        "data5=pd.read_excel(\"/content/drive/MyDrive/All/Projects/Ing Internship/Data/D5.xlsx\")\n",
        "\n",
        "data12['classe']=data12['classe'].replace(\"hate\", int(2))\n",
        "data12['classe']=data12['classe'].replace(\"normal\", int(0)) \n",
        "data12['classe']=data12['classe'].replace(\"abusive\", int(1))\n",
        "\n",
        "data34['classe']=data34['classe'].replace(\"hate\", int(2))\n",
        "data34['classe']=data34['classe'].replace(\"normal\", int(0)) \n",
        "data34['classe']=data34['classe'].replace(\"abusive\", int(1))\n",
        "\n",
        "\n",
        "data5['classe']=data5['classe'].replace(\"hate\", int(2))\n",
        "data5['classe']=data5['classe'].replace(\"normal\", int(0)) \n",
        "data5['classe']=data5['classe'].replace(\"abusive\", int(1))\n",
        "\n",
        "\n",
        "C1=data12[\"commentaire\"]\n",
        "C2=data34[\"commentaire\"]\n",
        "C3=data5[\"commentaire\"]\n",
        "L1=data12[\"classe\"]\n",
        "L2=data34[\"classe\"]\n",
        "L3=data5[\"classe\"]\n",
        "\n",
        "\n",
        "data12=[[i,j] for i,j in zip(C1 , L1)]\n",
        "data34=[[i,j] for i,j in zip(C2 , L2)]\n",
        "data5=[[i,j] for i,j in zip(C3 , L3)]\n",
        "\n",
        "data12=pd.DataFrame(data12,columns=[\"sentences\",\"classe\"])\n",
        "data34=pd.DataFrame(data34,columns=[\"sentences\",\"classe\"])\n",
        "data5=pd.DataFrame(data5,columns=[\"sentences\",\"classe\"])\n",
        "data5[\"sentences\"]=data5[\"sentences\"].str.replace(\"_\",\" \")"
      ],
      "metadata": {
        "id": "P3-FuA1k1uG7"
      },
      "execution_count": 4,
      "outputs": []
    },
    {
      "cell_type": "code",
      "source": [
        "training_size=int(len(sentences)*0.8)   #Experimenting setup\n",
        "\n",
        "training_sentences = sentences[0:training_size]\n",
        "testing_sentences = sentences[training_size:]\n",
        "training_labels = labels[0:training_size]\n",
        "testing_labels = labels[training_size:]\n",
        "\n",
        "embedding_dim = 16\n",
        "\n",
        "tokenizer = Tokenizer(num_words=3000, oov_token=\"<OOV>\")\n",
        "tokenizer.fit_on_texts(training_sentences)\n",
        "\n",
        "vocab_size = len(tokenizer.word_index) + 1 \n",
        "\n",
        "word_index = tokenizer.word_index\n",
        "\n",
        "training_sequences = tokenizer.texts_to_sequences(training_sentences)\n",
        "training_padded = pad_sequences(training_sequences, maxlen=max_length, padding='post', truncating='post')\n",
        "\n",
        "testing_sequences = tokenizer.texts_to_sequences(testing_sentences)\n",
        "testing_padded = pad_sequences(testing_sequences, maxlen=max_length, padding='post', truncating='post')"
      ],
      "metadata": {
        "id": "N3re3K0q11cA"
      },
      "execution_count": 5,
      "outputs": []
    },
    {
      "cell_type": "code",
      "source": [
        "Nsentences12=data12[\"sentences\"]\n",
        "Nlabels12=data12[\"classe\"]\n",
        "\n",
        "training_size12=int(len(Nsentences12)*0.8)\n",
        "\n",
        "testing_sentences12 = Nsentences12[training_size12:]\n",
        "testing_labels12 = Nlabels12[training_size12:]\n",
        "\n",
        "##########\n",
        "\n",
        "Nsentences34=data34[\"sentences\"]\n",
        "Nlabels34=data34[\"classe\"]\n",
        "\n",
        "training_size34=int(len(Nsentences34)*0.8)\n",
        "\n",
        "testing_sentences34 = Nsentences34[training_size34:]\n",
        "testing_labels34 = Nlabels34[training_size34:]\n",
        "\n",
        "##########\n",
        "\n",
        "Nsentences5=data5[\"sentences\"]\n",
        "Nlabels5=data5[\"classe\"]\n",
        "\n",
        "training_size5=int(len(Nsentences5)*0.8)\n",
        "\n",
        "testing_sentences5 = Nsentences34[training_size5:]\n",
        "testing_labels5 = Nlabels34[training_size5:]\n",
        "\n",
        "####################\n",
        "\n",
        "testing_sequences12 = tokenizer.texts_to_sequences(testing_sentences12)\n",
        "testing_padded12 = pad_sequences(testing_sequences12, maxlen=max_length, padding='post', truncating='post')\n",
        "\n",
        "###########\n",
        "\n",
        "testing_sequences34 = tokenizer.texts_to_sequences(testing_sentences34)\n",
        "testing_padded34 = pad_sequences(testing_sequences34, maxlen=max_length, padding='post', truncating='post')\n",
        "\n",
        "###########\n",
        "\n",
        "testing_sequences5 = tokenizer.texts_to_sequences(testing_sentences5)\n",
        "testing_padded5 = pad_sequences(testing_sequences5, maxlen=max_length, padding='post', truncating='post')"
      ],
      "metadata": {
        "id": "iibkoyk733f5"
      },
      "execution_count": 6,
      "outputs": []
    },
    {
      "cell_type": "markdown",
      "source": [
        "#ECOC Algorithm: Classification multi-classes"
      ],
      "metadata": {
        "id": "rMG43cmjmmTK"
      }
    },
    {
      "cell_type": "markdown",
      "source": [
        "##First Decomposition: A=0+1 , B=2\n",
        "##Second Decomposition: A=0+2 , B=1\n",
        "##Third Decomposition: A=1+2 , B=0\n",
        "##A-->1 , B-->0"
      ],
      "metadata": {
        "id": "5a4wf7rTpi-i"
      }
    },
    {
      "cell_type": "code",
      "source": [
        "training_padded1 = np.asarray(training_padded).astype(np.int)\n",
        "training_labels1 = np.asarray(training_labels).astype(np.int)\n",
        "testing_padded1 = np.asarray(testing_padded).astype(np.int)\n",
        "testing_labels1 = np.asarray(testing_labels).astype(np.int)\n",
        "\n",
        "training_labels1 = np.expand_dims(training_labels, axis=1)\n",
        "testing_labels1 = np.expand_dims(testing_labels, axis=1)\n",
        "\n",
        "\n",
        "for i in range(len(training_labels1)):\n",
        "  if training_labels1[i]==0:\n",
        "    training_labels1[i]=1\n",
        "  elif training_labels1[i]==2:\n",
        "    training_labels1[i]=0\n",
        "\n",
        "for i in range(len(testing_labels1)):\n",
        "  if testing_labels1[i]==0:\n",
        "    testing_labels1[i]=1\n",
        "  elif testing_labels1[i]==2:\n",
        "    testing_labels1[i]=0\n",
        " \n",
        "#**********\n",
        "\n",
        "training_padded2 = training_padded1 \n",
        "training_labels2 = np.asarray(training_labels).astype(np.int)\n",
        "testing_padded2 = testing_padded1\n",
        "testing_labels2 = np.asarray(testing_labels).astype(np.int)\n",
        "\n",
        "training_labels2 = np.expand_dims(training_labels, axis=1)\n",
        "testing_labels2 = np.expand_dims(testing_labels, axis=1)\n",
        "\n",
        "\n",
        "for i in range(len(training_labels2)):\n",
        "  if training_labels2[i]==1:\n",
        "    training_labels2[i]=0\n",
        "  else:\n",
        "    training_labels2[i]=1\n",
        "\n",
        "\n",
        "for i in range(len(testing_labels2)):\n",
        "  if testing_labels2[i]==1:\n",
        "    testing_labels2[i]=0\n",
        "  else:\n",
        "    testing_labels2[i]=1\n",
        "\n",
        "#**********\n",
        "\n",
        "training_padded3 = training_padded1 \n",
        "training_labels3 = np.asarray(training_labels).astype(np.int)\n",
        "testing_padded3 = testing_padded1\n",
        "testing_labels3 = np.asarray(testing_labels).astype(np.int)\n",
        "\n",
        "training_labels3 = np.expand_dims(training_labels, axis=1)\n",
        "testing_labels3 = np.expand_dims(testing_labels, axis=1)\n",
        "\n",
        "\n",
        "for i in range(len(training_labels3)):\n",
        "  if training_labels3[i]==2:\n",
        "    training_labels3[i]=1\n",
        "\n",
        "for i in range(len(testing_labels3)):\n",
        "  if testing_labels3[i]==2:\n",
        "    testing_labels3[i]=1"
      ],
      "metadata": {
        "colab": {
          "base_uri": "https://localhost:8080/"
        },
        "id": "CNqvL7lJpdE2",
        "outputId": "fe52b78f-46cb-4ca9-dce2-bfd3d6a34c80"
      },
      "execution_count": 7,
      "outputs": [
        {
          "output_type": "stream",
          "name": "stderr",
          "text": [
            "/usr/local/lib/python3.7/dist-packages/ipykernel_launcher.py:1: DeprecationWarning: `np.int` is a deprecated alias for the builtin `int`. To silence this warning, use `int` by itself. Doing this will not modify any behavior and is safe. When replacing `np.int`, you may wish to use e.g. `np.int64` or `np.int32` to specify the precision. If you wish to review your current use, check the release note link for additional information.\n",
            "Deprecated in NumPy 1.20; for more details and guidance: https://numpy.org/devdocs/release/1.20.0-notes.html#deprecations\n",
            "  \"\"\"Entry point for launching an IPython kernel.\n",
            "/usr/local/lib/python3.7/dist-packages/ipykernel_launcher.py:2: DeprecationWarning: `np.int` is a deprecated alias for the builtin `int`. To silence this warning, use `int` by itself. Doing this will not modify any behavior and is safe. When replacing `np.int`, you may wish to use e.g. `np.int64` or `np.int32` to specify the precision. If you wish to review your current use, check the release note link for additional information.\n",
            "Deprecated in NumPy 1.20; for more details and guidance: https://numpy.org/devdocs/release/1.20.0-notes.html#deprecations\n",
            "  \n",
            "/usr/local/lib/python3.7/dist-packages/ipykernel_launcher.py:3: DeprecationWarning: `np.int` is a deprecated alias for the builtin `int`. To silence this warning, use `int` by itself. Doing this will not modify any behavior and is safe. When replacing `np.int`, you may wish to use e.g. `np.int64` or `np.int32` to specify the precision. If you wish to review your current use, check the release note link for additional information.\n",
            "Deprecated in NumPy 1.20; for more details and guidance: https://numpy.org/devdocs/release/1.20.0-notes.html#deprecations\n",
            "  This is separate from the ipykernel package so we can avoid doing imports until\n",
            "/usr/local/lib/python3.7/dist-packages/ipykernel_launcher.py:4: DeprecationWarning: `np.int` is a deprecated alias for the builtin `int`. To silence this warning, use `int` by itself. Doing this will not modify any behavior and is safe. When replacing `np.int`, you may wish to use e.g. `np.int64` or `np.int32` to specify the precision. If you wish to review your current use, check the release note link for additional information.\n",
            "Deprecated in NumPy 1.20; for more details and guidance: https://numpy.org/devdocs/release/1.20.0-notes.html#deprecations\n",
            "  after removing the cwd from sys.path.\n",
            "/usr/local/lib/python3.7/dist-packages/ipykernel_launcher.py:25: DeprecationWarning: `np.int` is a deprecated alias for the builtin `int`. To silence this warning, use `int` by itself. Doing this will not modify any behavior and is safe. When replacing `np.int`, you may wish to use e.g. `np.int64` or `np.int32` to specify the precision. If you wish to review your current use, check the release note link for additional information.\n",
            "Deprecated in NumPy 1.20; for more details and guidance: https://numpy.org/devdocs/release/1.20.0-notes.html#deprecations\n",
            "/usr/local/lib/python3.7/dist-packages/ipykernel_launcher.py:27: DeprecationWarning: `np.int` is a deprecated alias for the builtin `int`. To silence this warning, use `int` by itself. Doing this will not modify any behavior and is safe. When replacing `np.int`, you may wish to use e.g. `np.int64` or `np.int32` to specify the precision. If you wish to review your current use, check the release note link for additional information.\n",
            "Deprecated in NumPy 1.20; for more details and guidance: https://numpy.org/devdocs/release/1.20.0-notes.html#deprecations\n",
            "/usr/local/lib/python3.7/dist-packages/ipykernel_launcher.py:49: DeprecationWarning: `np.int` is a deprecated alias for the builtin `int`. To silence this warning, use `int` by itself. Doing this will not modify any behavior and is safe. When replacing `np.int`, you may wish to use e.g. `np.int64` or `np.int32` to specify the precision. If you wish to review your current use, check the release note link for additional information.\n",
            "Deprecated in NumPy 1.20; for more details and guidance: https://numpy.org/devdocs/release/1.20.0-notes.html#deprecations\n",
            "/usr/local/lib/python3.7/dist-packages/ipykernel_launcher.py:51: DeprecationWarning: `np.int` is a deprecated alias for the builtin `int`. To silence this warning, use `int` by itself. Doing this will not modify any behavior and is safe. When replacing `np.int`, you may wish to use e.g. `np.int64` or `np.int32` to specify the precision. If you wish to review your current use, check the release note link for additional information.\n",
            "Deprecated in NumPy 1.20; for more details and guidance: https://numpy.org/devdocs/release/1.20.0-notes.html#deprecations\n"
          ]
        }
      ]
    },
    {
      "cell_type": "code",
      "source": [
        "training_labels1Y=training_labels1.reshape(18426)\n",
        "training_labels2Y=training_labels2.reshape(18426)\n",
        "training_labels3Y=training_labels3.reshape(18426)"
      ],
      "metadata": {
        "id": "aGEU0giwztF8"
      },
      "execution_count": 8,
      "outputs": []
    },
    {
      "cell_type": "code",
      "source": [
        "import pandas as pd\n",
        "\n",
        "data1=[[i,j] for i,j in zip(training_padded1  , training_labels1Y)]\n",
        "data2=[[i,j] for i,j in zip(training_padded1  , training_labels2Y)]\n",
        "data3=[[i,j] for i,j in zip(training_padded1  , training_labels3Y)]\n",
        "\n",
        "data1=pd.DataFrame(data1,columns=[\"sentences\",\"classe\"])\n",
        "data2=pd.DataFrame(data2,columns=[\"sentences\",\"classe\"])\n",
        "data3=pd.DataFrame(data3,columns=[\"sentences\",\"classe\"])"
      ],
      "metadata": {
        "id": "tGYX6NRcyMqk"
      },
      "execution_count": 9,
      "outputs": []
    },
    {
      "cell_type": "code",
      "source": [
        "import matplotlib.pyplot as plt\n",
        "import seaborn as sns\n",
        "plt.figure(1 , figsize = (15 , 5))\n",
        "sns.countplot(y = 'classe' , data = data1)\n",
        "plt.show()\n",
        "print(data1.loc[data1.classe==0].groupby('classe')[\"classe\"].count())\n",
        "print(data1.loc[data1.classe==1].groupby('classe')[\"classe\"].count())"
      ],
      "metadata": {
        "id": "GqrN0VQbze2L",
        "outputId": "cf973045-57b3-48a6-b89a-e07336edcfd6",
        "colab": {
          "base_uri": "https://localhost:8080/",
          "height": 438
        }
      },
      "execution_count": 10,
      "outputs": [
        {
          "output_type": "display_data",
          "data": {
            "text/plain": [
              "<Figure size 1080x360 with 1 Axes>"
            ],
            "image/png": "[encoded data removed]"
          },
          "metadata": {
            "needs_background": "light"
          }
        },
        {
          "output_type": "stream",
          "name": "stdout",
          "text": [
            "classe\n",
            "0    5716\n",
            "Name: classe, dtype: int64\n",
            "classe\n",
            "1    12710\n",
            "Name: classe, dtype: int64\n"
          ]
        }
      ]
    },
    {
      "cell_type": "code",
      "source": [
        "plt.figure(1 , figsize = (15 , 5))\n",
        "sns.countplot(y = 'classe' , data = data2)\n",
        "plt.show()\n",
        "print(data2.loc[data2.classe==0].groupby('classe')[\"classe\"].count())\n",
        "print(data2.loc[data2.classe==1].groupby('classe')[\"classe\"].count())"
      ],
      "metadata": {
        "id": "KKzaOl4Nzvfz",
        "outputId": "743fb262-48c7-4d42-d02a-667a7d713d71",
        "colab": {
          "base_uri": "https://localhost:8080/",
          "height": 438
        }
      },
      "execution_count": 11,
      "outputs": [
        {
          "output_type": "display_data",
          "data": {
            "text/plain": [
              "<Figure size 1080x360 with 1 Axes>"
            ],
            "image/png": "[encoded data removed]"
          },
          "metadata": {
            "needs_background": "light"
          }
        },
        {
          "output_type": "stream",
          "name": "stdout",
          "text": [
            "classe\n",
            "0    3052\n",
            "Name: classe, dtype: int64\n",
            "classe\n",
            "1    15374\n",
            "Name: classe, dtype: int64\n"
          ]
        }
      ]
    },
    {
      "cell_type": "code",
      "source": [
        "plt.figure(1 , figsize = (15 , 5))\n",
        "sns.countplot(y = 'classe' , data = data3)\n",
        "plt.show()\n",
        "print(data3.loc[data3.classe==0].groupby('classe')[\"classe\"].count())\n",
        "print(data3.loc[data3.classe==1].groupby('classe')[\"classe\"].count())"
      ],
      "metadata": {
        "id": "p54ZQycbz1BF",
        "outputId": "e00c63e5-3b89-462f-bfa5-8dfa45172205",
        "colab": {
          "base_uri": "https://localhost:8080/",
          "height": 438
        }
      },
      "execution_count": 12,
      "outputs": [
        {
          "output_type": "display_data",
          "data": {
            "text/plain": [
              "<Figure size 1080x360 with 1 Axes>"
            ],
            "image/png": "[encoded data removed]"
          },
          "metadata": {
            "needs_background": "light"
          }
        },
        {
          "output_type": "stream",
          "name": "stdout",
          "text": [
            "classe\n",
            "0    9658\n",
            "Name: classe, dtype: int64\n",
            "classe\n",
            "1    8768\n",
            "Name: classe, dtype: int64\n"
          ]
        }
      ]
    },
    {
      "cell_type": "code",
      "source": [
        "import tensorflow as tf\n",
        "\n",
        "model1=tf.keras.models.Sequential ([\n",
        "                                   tf.keras.layers.Embedding(vocab_size, embedding_dim, input_length=max_length),\n",
        "                                   tf.keras.layers.Conv1D(128, 5, activation='relu'),\n",
        "                                   tf.keras.layers.Conv1D(filters=32, kernel_size=1, activation='selu'),\n",
        "                                   tf.keras.layers.Bidirectional(tf.keras.layers.LSTM(32,return_sequences=True)),\n",
        "                                   tf.keras.layers.Bidirectional(tf.keras.layers.LSTM(32,return_sequences=True)),\n",
        "                                   tf.keras.layers.Bidirectional(tf.keras.layers.LSTM(16,return_sequences=True)),\n",
        "                                   tf.keras.layers.Flatten(),\n",
        "                                   tf.keras.layers.Dense(units=24,activation='relu'),\n",
        "                                   tf.keras.layers.Dense(units=1, activation='sigmoid')])\n",
        "\n",
        "model2=tf.keras.models.Sequential ([\n",
        "                                   tf.keras.layers.Embedding(vocab_size, embedding_dim, input_length=max_length),\n",
        "                                   tf.keras.layers.Conv1D(128, 5, activation='relu'),\n",
        "                                   tf.keras.layers.Conv1D(filters=32, kernel_size=1, activation='selu'),\n",
        "                                   tf.keras.layers.Bidirectional(tf.keras.layers.LSTM(32,return_sequences=True)),\n",
        "                                   tf.keras.layers.Bidirectional(tf.keras.layers.LSTM(32,return_sequences=True)),\n",
        "                                   tf.keras.layers.Bidirectional(tf.keras.layers.LSTM(16,return_sequences=True)),\n",
        "                                   tf.keras.layers.Flatten(),\n",
        "                                   tf.keras.layers.Dense(units=24,activation='relu'),\n",
        "                                   tf.keras.layers.Dense(units=1, activation='sigmoid')])\n",
        "\n",
        "model3=tf.keras.models.Sequential ([\n",
        "                                   tf.keras.layers.Embedding(vocab_size, embedding_dim, input_length=max_length),\n",
        "                                   tf.keras.layers.Conv1D(128, 5, activation='relu'),\n",
        "                                   tf.keras.layers.Conv1D(filters=32, kernel_size=1, activation='selu'),\n",
        "                                   tf.keras.layers.Bidirectional(tf.keras.layers.LSTM(32,return_sequences=True)),\n",
        "                                   tf.keras.layers.Bidirectional(tf.keras.layers.LSTM(32,return_sequences=True)),\n",
        "                                   tf.keras.layers.Bidirectional(tf.keras.layers.LSTM(16,return_sequences=True)),\n",
        "                                   tf.keras.layers.Flatten(),\n",
        "                                   tf.keras.layers.Dense(units=24,activation='relu'),\n",
        "                                   tf.keras.layers.Dense(units=1, activation='sigmoid')])\n",
        "\n",
        "model1.summary()"
      ],
      "metadata": {
        "colab": {
          "base_uri": "https://localhost:8080/"
        },
        "id": "6doHB9-omN9b",
        "outputId": "c018b971-a931-4b15-f9bd-2796283ab7e4"
      },
      "execution_count": 13,
      "outputs": [
        {
          "output_type": "stream",
          "name": "stdout",
          "text": [
            "Model: \"sequential\"\n",
            "_________________________________________________________________\n",
            " Layer (type)                Output Shape              Param #   \n",
            "=================================================================\n",
            " embedding (Embedding)       (None, 388, 16)           834688    \n",
            "                                                                 \n",
            " conv1d (Conv1D)             (None, 384, 128)          10368     \n",
            "                                                                 \n",
            " conv1d_1 (Conv1D)           (None, 384, 32)           4128      \n",
            "                                                                 \n",
            " bidirectional (Bidirectiona  (None, 384, 64)          16640     \n",
            " l)                                                              \n",
            "                                                                 \n",
            " bidirectional_1 (Bidirectio  (None, 384, 64)          24832     \n",
            " nal)                                                            \n",
            "                                                                 \n",
            " bidirectional_2 (Bidirectio  (None, 384, 32)          10368     \n",
            " nal)                                                            \n",
            "                                                                 \n",
            " flatten (Flatten)           (None, 12288)             0         \n",
            "                                                                 \n",
            " dense (Dense)               (None, 24)                294936    \n",
            "                                                                 \n",
            " dense_1 (Dense)             (None, 1)                 25        \n",
            "                                                                 \n",
            "=================================================================\n",
            "Total params: 1,195,985\n",
            "Trainable params: 1,195,985\n",
            "Non-trainable params: 0\n",
            "_________________________________________________________________\n"
          ]
        }
      ]
    },
    {
      "cell_type": "code",
      "source": [
        "model1.compile(loss=\"binary_crossentropy\",optimizer='adam',metrics=['accuracy'],run_eagerly=True)\n",
        "history1 = model1.fit(training_padded1, training_labels1, batch_size=128, epochs=35, validation_data=(testing_padded1, testing_labels1), verbose=1)\n",
        "\n",
        "model2.compile(loss=\"binary_crossentropy\",optimizer='adam',metrics=['accuracy'],run_eagerly=True)\n",
        "history2 = model2.fit(training_padded2, training_labels2, batch_size=128, epochs=35, validation_data=(testing_padded2, testing_labels2), verbose=1)\n",
        "\n",
        "model3.compile(loss=\"binary_crossentropy\",optimizer='adam',metrics=['accuracy'],run_eagerly=True)\n",
        "history3 = model3.fit(training_padded3, training_labels3, batch_size=128, epochs=35, validation_data=(testing_padded3, testing_labels3), verbose=1)"
      ],
      "metadata": {
        "colab": {
          "base_uri": "https://localhost:8080/"
        },
        "id": "p7Q5vrb5nOSU",
        "outputId": "0785c126-3d29-44eb-eb54-29127f6f0ca5"
      },
      "execution_count": 14,
      "outputs": [
        {
          "output_type": "stream",
          "name": "stdout",
          "text": [
            "Epoch 1/35\n",
            "144/144 [==============================] - 34s 149ms/step - loss: 0.6014 - accuracy: 0.7080 - val_loss: 0.4362 - val_accuracy: 0.7929\n",
            "Epoch 2/35\n",
            "144/144 [==============================] - 21s 146ms/step - loss: 0.4374 - accuracy: 0.8055 - val_loss: 0.3789 - val_accuracy: 0.8292\n",
            "Epoch 3/35\n",
            "144/144 [==============================] - 24s 165ms/step - loss: 0.3922 - accuracy: 0.8322 - val_loss: 0.3542 - val_accuracy: 0.8496\n",
            "Epoch 4/35\n",
            "144/144 [==============================] - 22s 150ms/step - loss: 0.3652 - accuracy: 0.8458 - val_loss: 0.3444 - val_accuracy: 0.8626\n",
            "Epoch 5/35\n",
            "144/144 [==============================] - 20s 140ms/step - loss: 0.3477 - accuracy: 0.8549 - val_loss: 0.3338 - val_accuracy: 0.8680\n",
            "Epoch 6/35\n",
            "144/144 [==============================] - 20s 140ms/step - loss: 0.3276 - accuracy: 0.8660 - val_loss: 0.3221 - val_accuracy: 0.8665\n",
            "Epoch 7/35\n",
            "144/144 [==============================] - 21s 145ms/step - loss: 0.3026 - accuracy: 0.8790 - val_loss: 0.2987 - val_accuracy: 0.8780\n",
            "Epoch 8/35\n",
            "144/144 [==============================] - 23s 158ms/step - loss: 0.2709 - accuracy: 0.8944 - val_loss: 0.2875 - val_accuracy: 0.8869\n",
            "Epoch 9/35\n",
            "144/144 [==============================] - 22s 152ms/step - loss: 0.2448 - accuracy: 0.9055 - val_loss: 0.2788 - val_accuracy: 0.8943\n",
            "Epoch 10/35\n",
            "144/144 [==============================] - 20s 139ms/step - loss: 0.2312 - accuracy: 0.9103 - val_loss: 0.2835 - val_accuracy: 0.8975\n",
            "Epoch 11/35\n",
            "144/144 [==============================] - 20s 140ms/step - loss: 0.2001 - accuracy: 0.9243 - val_loss: 0.2762 - val_accuracy: 0.8980\n",
            "Epoch 12/35\n",
            "144/144 [==============================] - 21s 145ms/step - loss: 0.1792 - accuracy: 0.9345 - val_loss: 0.2909 - val_accuracy: 0.9056\n",
            "Epoch 13/35\n",
            "144/144 [==============================] - 24s 166ms/step - loss: 0.1640 - accuracy: 0.9412 - val_loss: 0.2751 - val_accuracy: 0.9095\n",
            "Epoch 14/35\n",
            "144/144 [==============================] - 32s 223ms/step - loss: 0.1563 - accuracy: 0.9444 - val_loss: 0.2793 - val_accuracy: 0.9080\n",
            "Epoch 15/35\n",
            "144/144 [==============================] - 32s 224ms/step - loss: 0.1465 - accuracy: 0.9471 - val_loss: 0.2771 - val_accuracy: 0.9082\n",
            "Epoch 16/35\n",
            "144/144 [==============================] - 21s 148ms/step - loss: 0.1353 - accuracy: 0.9519 - val_loss: 0.2828 - val_accuracy: 0.9097\n",
            "Epoch 17/35\n",
            "144/144 [==============================] - 20s 142ms/step - loss: 0.1252 - accuracy: 0.9557 - val_loss: 0.3086 - val_accuracy: 0.8969\n",
            "Epoch 18/35\n",
            "144/144 [==============================] - 23s 160ms/step - loss: 0.1217 - accuracy: 0.9564 - val_loss: 0.2762 - val_accuracy: 0.9114\n",
            "Epoch 19/35\n",
            "144/144 [==============================] - 22s 155ms/step - loss: 0.1140 - accuracy: 0.9591 - val_loss: 0.3110 - val_accuracy: 0.9054\n",
            "Epoch 20/35\n",
            "144/144 [==============================] - 20s 139ms/step - loss: 0.1135 - accuracy: 0.9592 - val_loss: 0.2874 - val_accuracy: 0.9117\n",
            "Epoch 21/35\n",
            "144/144 [==============================] - 21s 143ms/step - loss: 0.1071 - accuracy: 0.9614 - val_loss: 0.2883 - val_accuracy: 0.8993\n",
            "Epoch 22/35\n",
            "144/144 [==============================] - 21s 145ms/step - loss: 0.1047 - accuracy: 0.9617 - val_loss: 0.2946 - val_accuracy: 0.9060\n",
            "Epoch 23/35\n",
            "144/144 [==============================] - 20s 139ms/step - loss: 0.0964 - accuracy: 0.9636 - val_loss: 0.2985 - val_accuracy: 0.9125\n",
            "Epoch 24/35\n",
            "144/144 [==============================] - 22s 156ms/step - loss: 0.0940 - accuracy: 0.9648 - val_loss: 0.2960 - val_accuracy: 0.9134\n",
            "Epoch 25/35\n",
            "144/144 [==============================] - 23s 159ms/step - loss: 0.0892 - accuracy: 0.9660 - val_loss: 0.3237 - val_accuracy: 0.9106\n",
            "Epoch 26/35\n",
            "144/144 [==============================] - 22s 153ms/step - loss: 0.0854 - accuracy: 0.9663 - val_loss: 0.3266 - val_accuracy: 0.9088\n",
            "Epoch 27/35\n",
            "144/144 [==============================] - 23s 163ms/step - loss: 0.0819 - accuracy: 0.9666 - val_loss: 0.3189 - val_accuracy: 0.9058\n",
            "Epoch 28/35\n",
            "144/144 [==============================] - 20s 137ms/step - loss: 0.0800 - accuracy: 0.9674 - val_loss: 0.3712 - val_accuracy: 0.9093\n",
            "Epoch 29/35\n",
            "144/144 [==============================] - 20s 136ms/step - loss: 0.0798 - accuracy: 0.9673 - val_loss: 0.3347 - val_accuracy: 0.9112\n",
            "Epoch 30/35\n",
            "144/144 [==============================] - 21s 144ms/step - loss: 0.0735 - accuracy: 0.9680 - val_loss: 0.3460 - val_accuracy: 0.9119\n",
            "Epoch 31/35\n",
            "144/144 [==============================] - 20s 136ms/step - loss: 0.0714 - accuracy: 0.9680 - val_loss: 0.3786 - val_accuracy: 0.9099\n",
            "Epoch 32/35\n",
            "144/144 [==============================] - 21s 147ms/step - loss: 0.0797 - accuracy: 0.9677 - val_loss: 0.3452 - val_accuracy: 0.9084\n",
            "Epoch 33/35\n",
            "144/144 [==============================] - 22s 156ms/step - loss: 0.0737 - accuracy: 0.9681 - val_loss: 0.3895 - val_accuracy: 0.9047\n",
            "Epoch 34/35\n",
            "144/144 [==============================] - 23s 157ms/step - loss: 0.0644 - accuracy: 0.9712 - val_loss: 0.4582 - val_accuracy: 0.9036\n",
            "Epoch 35/35\n",
            "144/144 [==============================] - 20s 136ms/step - loss: 0.0614 - accuracy: 0.9720 - val_loss: 0.4295 - val_accuracy: 0.9091\n",
            "Epoch 1/35\n",
            "144/144 [==============================] - 20s 139ms/step - loss: 0.4143 - accuracy: 0.8375 - val_loss: 0.3074 - val_accuracy: 0.8507\n",
            "Epoch 2/35\n",
            "144/144 [==============================] - 20s 139ms/step - loss: 0.2581 - accuracy: 0.9055 - val_loss: 0.2311 - val_accuracy: 0.9160\n",
            "Epoch 3/35\n",
            "144/144 [==============================] - 22s 151ms/step - loss: 0.2104 - accuracy: 0.9234 - val_loss: 0.2179 - val_accuracy: 0.9175\n",
            "Epoch 4/35\n",
            "144/144 [==============================] - 23s 157ms/step - loss: 0.1813 - accuracy: 0.9335 - val_loss: 0.2030 - val_accuracy: 0.9301\n",
            "Epoch 5/35\n",
            "144/144 [==============================] - 20s 140ms/step - loss: 0.1583 - accuracy: 0.9420 - val_loss: 0.2007 - val_accuracy: 0.9288\n",
            "Epoch 6/35\n",
            "144/144 [==============================] - 20s 140ms/step - loss: 0.1421 - accuracy: 0.9453 - val_loss: 0.1821 - val_accuracy: 0.9362\n",
            "Epoch 7/35\n",
            "144/144 [==============================] - 21s 143ms/step - loss: 0.1254 - accuracy: 0.9538 - val_loss: 0.1899 - val_accuracy: 0.9295\n",
            "Epoch 8/35\n",
            "144/144 [==============================] - 19s 135ms/step - loss: 0.1131 - accuracy: 0.9589 - val_loss: 0.1915 - val_accuracy: 0.9321\n",
            "Epoch 9/35\n",
            "144/144 [==============================] - 21s 148ms/step - loss: 0.0984 - accuracy: 0.9640 - val_loss: 0.1922 - val_accuracy: 0.9351\n",
            "Epoch 10/35\n",
            "144/144 [==============================] - 22s 155ms/step - loss: 0.0987 - accuracy: 0.9644 - val_loss: 0.2007 - val_accuracy: 0.9314\n",
            "Epoch 11/35\n",
            "144/144 [==============================] - 21s 145ms/step - loss: 0.0879 - accuracy: 0.9676 - val_loss: 0.1948 - val_accuracy: 0.9308\n",
            "Epoch 12/35\n",
            "144/144 [==============================] - 20s 139ms/step - loss: 0.0814 - accuracy: 0.9693 - val_loss: 0.1936 - val_accuracy: 0.9371\n",
            "Epoch 13/35\n",
            "144/144 [==============================] - 20s 136ms/step - loss: 0.0792 - accuracy: 0.9711 - val_loss: 0.2014 - val_accuracy: 0.9344\n",
            "Epoch 14/35\n",
            "144/144 [==============================] - 20s 139ms/step - loss: 0.0740 - accuracy: 0.9716 - val_loss: 0.2320 - val_accuracy: 0.9325\n",
            "Epoch 15/35\n",
            "144/144 [==============================] - 20s 142ms/step - loss: 0.0707 - accuracy: 0.9729 - val_loss: 0.2076 - val_accuracy: 0.9362\n",
            "Epoch 16/35\n",
            "144/144 [==============================] - 22s 156ms/step - loss: 0.0657 - accuracy: 0.9751 - val_loss: 0.2198 - val_accuracy: 0.9355\n",
            "Epoch 17/35\n",
            "144/144 [==============================] - 24s 164ms/step - loss: 0.0637 - accuracy: 0.9762 - val_loss: 0.2412 - val_accuracy: 0.9344\n",
            "Epoch 18/35\n",
            "144/144 [==============================] - 20s 136ms/step - loss: 0.0609 - accuracy: 0.9757 - val_loss: 0.2560 - val_accuracy: 0.9394\n",
            "Epoch 19/35\n",
            "144/144 [==============================] - 19s 135ms/step - loss: 0.0604 - accuracy: 0.9775 - val_loss: 0.2417 - val_accuracy: 0.9381\n",
            "Epoch 20/35\n",
            "144/144 [==============================] - 20s 138ms/step - loss: 0.0582 - accuracy: 0.9776 - val_loss: 0.2353 - val_accuracy: 0.9349\n",
            "Epoch 21/35\n",
            "144/144 [==============================] - 20s 142ms/step - loss: 0.0556 - accuracy: 0.9769 - val_loss: 0.2406 - val_accuracy: 0.9379\n",
            "Epoch 22/35\n",
            "144/144 [==============================] - 22s 154ms/step - loss: 0.0551 - accuracy: 0.9778 - val_loss: 0.2375 - val_accuracy: 0.9368\n",
            "Epoch 23/35\n",
            "144/144 [==============================] - 22s 155ms/step - loss: 0.0529 - accuracy: 0.9782 - val_loss: 0.2473 - val_accuracy: 0.9401\n",
            "Epoch 24/35\n",
            "144/144 [==============================] - 21s 143ms/step - loss: 0.0521 - accuracy: 0.9780 - val_loss: 0.2663 - val_accuracy: 0.9379\n",
            "Epoch 25/35\n",
            "144/144 [==============================] - 20s 138ms/step - loss: 0.0519 - accuracy: 0.9777 - val_loss: 0.2659 - val_accuracy: 0.9349\n",
            "Epoch 26/35\n",
            "144/144 [==============================] - 19s 135ms/step - loss: 0.0516 - accuracy: 0.9783 - val_loss: 0.2467 - val_accuracy: 0.9379\n",
            "Epoch 27/35\n",
            "144/144 [==============================] - 21s 145ms/step - loss: 0.0490 - accuracy: 0.9784 - val_loss: 0.2775 - val_accuracy: 0.9325\n",
            "Epoch 28/35\n",
            "144/144 [==============================] - 22s 156ms/step - loss: 0.0469 - accuracy: 0.9794 - val_loss: 0.2921 - val_accuracy: 0.9353\n",
            "Epoch 29/35\n",
            "144/144 [==============================] - 22s 156ms/step - loss: 0.0485 - accuracy: 0.9788 - val_loss: 0.2763 - val_accuracy: 0.9336\n",
            "Epoch 30/35\n",
            "144/144 [==============================] - 21s 148ms/step - loss: 0.0529 - accuracy: 0.9779 - val_loss: 0.2630 - val_accuracy: 0.9355\n",
            "Epoch 31/35\n",
            "144/144 [==============================] - 20s 138ms/step - loss: 0.0476 - accuracy: 0.9791 - val_loss: 0.3260 - val_accuracy: 0.9379\n",
            "Epoch 32/35\n",
            "144/144 [==============================] - 20s 142ms/step - loss: 0.0430 - accuracy: 0.9808 - val_loss: 0.3329 - val_accuracy: 0.9394\n",
            "Epoch 33/35\n",
            "144/144 [==============================] - 19s 134ms/step - loss: 0.0455 - accuracy: 0.9795 - val_loss: 0.3048 - val_accuracy: 0.9360\n",
            "Epoch 34/35\n",
            "144/144 [==============================] - 20s 139ms/step - loss: 0.0427 - accuracy: 0.9796 - val_loss: 0.2911 - val_accuracy: 0.9379\n",
            "Epoch 35/35\n",
            "144/144 [==============================] - 22s 152ms/step - loss: 0.0402 - accuracy: 0.9799 - val_loss: 0.3537 - val_accuracy: 0.9360\n",
            "Epoch 1/35\n",
            "144/144 [==============================] - 21s 148ms/step - loss: 0.6943 - accuracy: 0.5188 - val_loss: 0.6901 - val_accuracy: 0.5850\n",
            "Epoch 2/35\n",
            "144/144 [==============================] - 21s 147ms/step - loss: 0.6922 - accuracy: 0.5242 - val_loss: 0.6879 - val_accuracy: 0.5850\n",
            "Epoch 3/35\n",
            "144/144 [==============================] - 21s 144ms/step - loss: 0.6920 - accuracy: 0.5242 - val_loss: 0.6869 - val_accuracy: 0.5850\n",
            "Epoch 4/35\n",
            "144/144 [==============================] - 22s 150ms/step - loss: 0.6920 - accuracy: 0.5242 - val_loss: 0.6864 - val_accuracy: 0.5850\n",
            "Epoch 5/35\n",
            "144/144 [==============================] - 22s 155ms/step - loss: 0.6920 - accuracy: 0.5242 - val_loss: 0.6861 - val_accuracy: 0.5850\n",
            "Epoch 6/35\n",
            "144/144 [==============================] - 23s 159ms/step - loss: 0.6920 - accuracy: 0.5242 - val_loss: 0.6861 - val_accuracy: 0.5850\n",
            "Epoch 7/35\n",
            "144/144 [==============================] - 20s 136ms/step - loss: 0.6920 - accuracy: 0.5242 - val_loss: 0.6859 - val_accuracy: 0.5850\n",
            "Epoch 8/35\n",
            "144/144 [==============================] - 20s 136ms/step - loss: 0.6920 - accuracy: 0.5242 - val_loss: 0.6860 - val_accuracy: 0.5850\n",
            "Epoch 9/35\n",
            "144/144 [==============================] - 22s 151ms/step - loss: 0.6920 - accuracy: 0.5242 - val_loss: 0.6860 - val_accuracy: 0.5850\n",
            "Epoch 10/35\n",
            "144/144 [==============================] - 22s 154ms/step - loss: 0.6920 - accuracy: 0.5242 - val_loss: 0.6861 - val_accuracy: 0.5850\n",
            "Epoch 11/35\n",
            "144/144 [==============================] - 21s 149ms/step - loss: 0.6920 - accuracy: 0.5242 - val_loss: 0.6863 - val_accuracy: 0.5850\n",
            "Epoch 12/35\n",
            "144/144 [==============================] - 20s 140ms/step - loss: 0.6920 - accuracy: 0.5242 - val_loss: 0.6863 - val_accuracy: 0.5850\n",
            "Epoch 13/35\n",
            "144/144 [==============================] - 20s 140ms/step - loss: 0.6920 - accuracy: 0.5242 - val_loss: 0.6864 - val_accuracy: 0.5850\n",
            "Epoch 14/35\n",
            "144/144 [==============================] - 20s 140ms/step - loss: 0.6920 - accuracy: 0.5242 - val_loss: 0.6861 - val_accuracy: 0.5850\n",
            "Epoch 15/35\n",
            "144/144 [==============================] - 20s 142ms/step - loss: 0.6920 - accuracy: 0.5242 - val_loss: 0.6862 - val_accuracy: 0.5850\n",
            "Epoch 16/35\n",
            "144/144 [==============================] - 23s 160ms/step - loss: 0.6920 - accuracy: 0.5242 - val_loss: 0.6861 - val_accuracy: 0.5850\n",
            "Epoch 17/35\n",
            "144/144 [==============================] - 23s 158ms/step - loss: 0.6920 - accuracy: 0.5242 - val_loss: 0.6863 - val_accuracy: 0.5850\n",
            "Epoch 18/35\n",
            "144/144 [==============================] - 20s 142ms/step - loss: 0.6920 - accuracy: 0.5242 - val_loss: 0.6862 - val_accuracy: 0.5850\n",
            "Epoch 19/35\n",
            "144/144 [==============================] - 20s 141ms/step - loss: 0.6920 - accuracy: 0.5242 - val_loss: 0.6861 - val_accuracy: 0.5850\n",
            "Epoch 20/35\n",
            "144/144 [==============================] - 20s 137ms/step - loss: 0.6920 - accuracy: 0.5242 - val_loss: 0.6860 - val_accuracy: 0.5850\n",
            "Epoch 21/35\n",
            "144/144 [==============================] - 20s 137ms/step - loss: 0.6920 - accuracy: 0.5242 - val_loss: 0.6860 - val_accuracy: 0.5850\n",
            "Epoch 22/35\n",
            "144/144 [==============================] - 20s 137ms/step - loss: 0.6920 - accuracy: 0.5242 - val_loss: 0.6860 - val_accuracy: 0.5850\n",
            "Epoch 23/35\n",
            "144/144 [==============================] - 22s 151ms/step - loss: 0.6920 - accuracy: 0.5242 - val_loss: 0.6860 - val_accuracy: 0.5850\n",
            "Epoch 24/35\n",
            "144/144 [==============================] - 23s 157ms/step - loss: 0.6920 - accuracy: 0.5242 - val_loss: 0.6860 - val_accuracy: 0.5850\n",
            "Epoch 25/35\n",
            "144/144 [==============================] - 21s 146ms/step - loss: 0.6920 - accuracy: 0.5242 - val_loss: 0.6861 - val_accuracy: 0.5850\n",
            "Epoch 26/35\n",
            "144/144 [==============================] - 19s 135ms/step - loss: 0.6920 - accuracy: 0.5242 - val_loss: 0.6861 - val_accuracy: 0.5850\n",
            "Epoch 27/35\n",
            "144/144 [==============================] - 20s 138ms/step - loss: 0.6920 - accuracy: 0.5242 - val_loss: 0.6862 - val_accuracy: 0.5850\n",
            "Epoch 28/35\n",
            "144/144 [==============================] - 21s 146ms/step - loss: 0.6920 - accuracy: 0.5242 - val_loss: 0.6863 - val_accuracy: 0.5850\n",
            "Epoch 29/35\n",
            "144/144 [==============================] - 22s 156ms/step - loss: 0.6920 - accuracy: 0.5242 - val_loss: 0.6863 - val_accuracy: 0.5850\n",
            "Epoch 30/35\n",
            "144/144 [==============================] - 22s 154ms/step - loss: 0.6920 - accuracy: 0.5242 - val_loss: 0.6861 - val_accuracy: 0.5850\n",
            "Epoch 31/35\n",
            "144/144 [==============================] - 20s 136ms/step - loss: 0.6920 - accuracy: 0.5242 - val_loss: 0.6862 - val_accuracy: 0.5850\n",
            "Epoch 32/35\n",
            "144/144 [==============================] - 20s 136ms/step - loss: 0.6920 - accuracy: 0.5242 - val_loss: 0.6861 - val_accuracy: 0.5850\n",
            "Epoch 33/35\n",
            "144/144 [==============================] - 20s 139ms/step - loss: 0.6920 - accuracy: 0.5242 - val_loss: 0.6859 - val_accuracy: 0.5850\n",
            "Epoch 34/35\n",
            "144/144 [==============================] - 20s 138ms/step - loss: 0.6920 - accuracy: 0.5242 - val_loss: 0.6859 - val_accuracy: 0.5850\n",
            "Epoch 35/35\n",
            "144/144 [==============================] - 23s 158ms/step - loss: 0.6920 - accuracy: 0.5242 - val_loss: 0.6861 - val_accuracy: 0.5850\n"
          ]
        }
      ]
    },
    {
      "cell_type": "code",
      "source": [
        "import matplotlib.pyplot as plt\n",
        "import numpy\n",
        "# summarize history for accuracy\n",
        "plt.plot(history1.history['loss'])\n",
        "plt.plot(history1.history['val_loss'])\n",
        "plt.title('model loss')\n",
        "plt.ylabel('loss')\n",
        "plt.xlabel('epoch')\n",
        "plt.legend(['train', 'test'], loc='upper left')\n",
        "plt.show()\n",
        "# summarize history for loss\n",
        "plt.plot(history1.history['accuracy'])\n",
        "plt.plot(history1.history['val_accuracy'])\n",
        "plt.title('model accuracy')\n",
        "plt.ylabel('accuracy')\n",
        "plt.xlabel('epoch')\n",
        "plt.legend(['train', 'test'], loc='upper left')\n",
        "plt.show()\n",
        "\n",
        "# summarize history for accuracy\n",
        "plt.plot(history2.history['loss'])\n",
        "plt.plot(history2.history['val_loss'])\n",
        "plt.title('model loss')\n",
        "plt.ylabel('loss')\n",
        "plt.xlabel('epoch')\n",
        "plt.legend(['train', 'test'], loc='upper left')\n",
        "plt.show()\n",
        "# summarize history for loss\n",
        "plt.plot(history2.history['accuracy'])\n",
        "plt.plot(history2.history['val_accuracy'])\n",
        "plt.title('model accuracy')\n",
        "plt.ylabel('accuracy')\n",
        "plt.xlabel('epoch')\n",
        "plt.legend(['train', 'test'], loc='upper left')\n",
        "plt.show()\n",
        "\n",
        "# summarize history for accuracy\n",
        "plt.plot(history3.history['loss'])\n",
        "plt.plot(history3.history['val_loss'])\n",
        "plt.title('model loss')\n",
        "plt.ylabel('loss')\n",
        "plt.xlabel('epoch')\n",
        "plt.legend(['train', 'test'], loc='upper left')\n",
        "plt.show()\n",
        "# summarize history for loss\n",
        "plt.plot(history3.history['accuracy'])\n",
        "plt.plot(history3.history['val_accuracy'])\n",
        "plt.title('model accuracy')\n",
        "plt.ylabel('accuracy')\n",
        "plt.xlabel('epoch')\n",
        "plt.legend(['train', 'test'], loc='upper left')\n",
        "plt.show()"
      ],
      "metadata": {
        "colab": {
          "base_uri": "https://localhost:8080/",
          "height": 1000
        },
        "id": "Zq20o1oq2Yc7",
        "outputId": "fbb3acb8-39c5-47c2-e39e-ba5cb7747521"
      },
      "execution_count": 15,
      "outputs": [
        {
          "output_type": "display_data",
          "data": {
            "text/plain": [
              "<Figure size 432x288 with 1 Axes>"
            ],
            "image/png": "[encoded data removed]"
          },
          "metadata": {
            "needs_background": "light"
          }
        },
        {
          "output_type": "display_data",
          "data": {
            "text/plain": [
              "<Figure size 432x288 with 1 Axes>"
            ],
            "image/png": "[encoded data removed]"
          },
          "metadata": {
            "needs_background": "light"
          }
        },
        {
          "output_type": "display_data",
          "data": {
            "text/plain": [
              "<Figure size 432x288 with 1 Axes>"
            ],
            "image/png": "[encoded data removed]"
          },
          "metadata": {
            "needs_background": "light"
          }
        },
        {
          "output_type": "display_data",
          "data": {
            "text/plain": [
              "<Figure size 432x288 with 1 Axes>"
            ],
            "image/png": "[encoded data removed]"
          },
          "metadata": {
            "needs_background": "light"
          }
        },
        {
          "output_type": "display_data",
          "data": {
            "text/plain": [
              "<Figure size 432x288 with 1 Axes>"
            ],
            "image/png": "[encoded data removed]"
          },
          "metadata": {
            "needs_background": "light"
          }
        },
        {
          "output_type": "display_data",
          "data": {
            "text/plain": [
              "<Figure size 432x288 with 1 Axes>"
            ],
            "image/png": "[encoded data removed]"
          },
          "metadata": {
            "needs_background": "light"
          }
        }
      ]
    },
    {
      "cell_type": "code",
      "source": [
        "import tensorflow as tf\n",
        "import matplotlib.pyplot as plt\n",
        "import numpy\n",
        "\n",
        "model3=tf.keras.models.Sequential ([\n",
        "                                   tf.keras.layers.Embedding(vocab_size, embedding_dim, input_length=max_length),\n",
        "                                   tf.keras.layers.Conv1D(128, 5, activation='relu'),\n",
        "                                   tf.keras.layers.Conv1D(filters=32, kernel_size=1, activation='selu'),\n",
        "                                   tf.keras.layers.Bidirectional(tf.keras.layers.LSTM(32,return_sequences=True)),\n",
        "                                   tf.keras.layers.Bidirectional(tf.keras.layers.LSTM(32,return_sequences=True)),\n",
        "                                   tf.keras.layers.Bidirectional(tf.keras.layers.LSTM(16,return_sequences=True)),\n",
        "                                   tf.keras.layers.Flatten(),\n",
        "                                   tf.keras.layers.Dense(units=24,activation='relu'),\n",
        "                                   tf.keras.layers.Dense(units=1, activation='sigmoid')])\n",
        "\n",
        "\n",
        "model3.compile(loss=\"binary_crossentropy\",optimizer='adam',metrics=['accuracy'],run_eagerly=True)\n",
        "history3 = model3.fit(training_padded3, training_labels3, batch_size=128, epochs=35, validation_data=(testing_padded3, testing_labels3), verbose=1)\n",
        "\n",
        "# summarize history for accuracy\n",
        "plt.plot(history3.history['loss'])\n",
        "plt.plot(history3.history['val_loss'])\n",
        "plt.title('model loss')\n",
        "plt.ylabel('loss')\n",
        "plt.xlabel('epoch')\n",
        "plt.legend(['train', 'test'], loc='upper left')\n",
        "plt.show()\n",
        "# summarize history for loss\n",
        "plt.plot(history3.history['accuracy'])\n",
        "plt.plot(history3.history['val_accuracy'])\n",
        "plt.title('model accuracy')\n",
        "plt.ylabel('accuracy')\n",
        "plt.xlabel('epoch')\n",
        "plt.legend(['train', 'test'], loc='upper left')\n",
        "plt.show()"
      ],
      "metadata": {
        "id": "eIIl6znSnuAj",
        "outputId": "097b0c71-3c19-405a-eb7f-2eb62264f166",
        "colab": {
          "base_uri": "https://localhost:8080/",
          "height": 1000
        }
      },
      "execution_count": 12,
      "outputs": [
        {
          "output_type": "stream",
          "name": "stdout",
          "text": [
            "Epoch 1/35\n",
            "144/144 [==============================] - 21s 144ms/step - loss: 0.6182 - accuracy: 0.6312 - val_loss: 0.3944 - val_accuracy: 0.8398\n",
            "Epoch 2/35\n",
            "144/144 [==============================] - 20s 137ms/step - loss: 0.4236 - accuracy: 0.8090 - val_loss: 0.3138 - val_accuracy: 0.8654\n",
            "Epoch 3/35\n",
            "144/144 [==============================] - 21s 146ms/step - loss: 0.3720 - accuracy: 0.8401 - val_loss: 0.2938 - val_accuracy: 0.8791\n",
            "Epoch 4/35\n",
            "144/144 [==============================] - 20s 136ms/step - loss: 0.3439 - accuracy: 0.8540 - val_loss: 0.2840 - val_accuracy: 0.8813\n",
            "Epoch 5/35\n",
            "144/144 [==============================] - 20s 137ms/step - loss: 0.3146 - accuracy: 0.8693 - val_loss: 0.2620 - val_accuracy: 0.8945\n",
            "Epoch 6/35\n",
            "144/144 [==============================] - 20s 136ms/step - loss: 0.2813 - accuracy: 0.8845 - val_loss: 0.2356 - val_accuracy: 0.9060\n",
            "Epoch 7/35\n",
            "144/144 [==============================] - 20s 138ms/step - loss: 0.2497 - accuracy: 0.8998 - val_loss: 0.2353 - val_accuracy: 0.9067\n",
            "Epoch 8/35\n",
            "144/144 [==============================] - 21s 147ms/step - loss: 0.2139 - accuracy: 0.9157 - val_loss: 0.2357 - val_accuracy: 0.9073\n",
            "Epoch 9/35\n",
            "144/144 [==============================] - 20s 137ms/step - loss: 0.1890 - accuracy: 0.9243 - val_loss: 0.2196 - val_accuracy: 0.9138\n",
            "Epoch 10/35\n",
            "144/144 [==============================] - 20s 141ms/step - loss: 0.1666 - accuracy: 0.9350 - val_loss: 0.2249 - val_accuracy: 0.9136\n",
            "Epoch 11/35\n",
            "144/144 [==============================] - 21s 144ms/step - loss: 0.1483 - accuracy: 0.9426 - val_loss: 0.2363 - val_accuracy: 0.9180\n",
            "Epoch 12/35\n",
            "144/144 [==============================] - 20s 141ms/step - loss: 0.1327 - accuracy: 0.9496 - val_loss: 0.2716 - val_accuracy: 0.9075\n",
            "Epoch 13/35\n",
            "144/144 [==============================] - 20s 141ms/step - loss: 0.1271 - accuracy: 0.9496 - val_loss: 0.2413 - val_accuracy: 0.9203\n",
            "Epoch 14/35\n",
            "144/144 [==============================] - 20s 138ms/step - loss: 0.1177 - accuracy: 0.9546 - val_loss: 0.2563 - val_accuracy: 0.9190\n",
            "Epoch 15/35\n",
            "144/144 [==============================] - 20s 137ms/step - loss: 0.1092 - accuracy: 0.9563 - val_loss: 0.2501 - val_accuracy: 0.9284\n",
            "Epoch 16/35\n",
            "144/144 [==============================] - 20s 140ms/step - loss: 0.1033 - accuracy: 0.9592 - val_loss: 0.2423 - val_accuracy: 0.9258\n",
            "Epoch 17/35\n",
            "144/144 [==============================] - 20s 137ms/step - loss: 0.0998 - accuracy: 0.9610 - val_loss: 0.2343 - val_accuracy: 0.9255\n",
            "Epoch 18/35\n",
            "144/144 [==============================] - 24s 166ms/step - loss: 0.0937 - accuracy: 0.9616 - val_loss: 0.2458 - val_accuracy: 0.9260\n",
            "Epoch 19/35\n",
            "144/144 [==============================] - 20s 139ms/step - loss: 0.0896 - accuracy: 0.9630 - val_loss: 0.2589 - val_accuracy: 0.9275\n",
            "Epoch 20/35\n",
            "144/144 [==============================] - 20s 139ms/step - loss: 0.0846 - accuracy: 0.9640 - val_loss: 0.2744 - val_accuracy: 0.9273\n",
            "Epoch 21/35\n",
            "144/144 [==============================] - 21s 149ms/step - loss: 0.0820 - accuracy: 0.9645 - val_loss: 0.2797 - val_accuracy: 0.9303\n",
            "Epoch 22/35\n",
            "144/144 [==============================] - 21s 143ms/step - loss: 0.0769 - accuracy: 0.9666 - val_loss: 0.2868 - val_accuracy: 0.9279\n",
            "Epoch 23/35\n",
            "144/144 [==============================] - 20s 139ms/step - loss: 0.0747 - accuracy: 0.9659 - val_loss: 0.2758 - val_accuracy: 0.9314\n",
            "Epoch 24/35\n",
            "144/144 [==============================] - 20s 137ms/step - loss: 0.0750 - accuracy: 0.9649 - val_loss: 0.2973 - val_accuracy: 0.9273\n",
            "Epoch 25/35\n",
            "144/144 [==============================] - 20s 140ms/step - loss: 0.0723 - accuracy: 0.9672 - val_loss: 0.3078 - val_accuracy: 0.9247\n",
            "Epoch 26/35\n",
            "144/144 [==============================] - 20s 137ms/step - loss: 0.0703 - accuracy: 0.9667 - val_loss: 0.2939 - val_accuracy: 0.9290\n",
            "Epoch 27/35\n",
            "144/144 [==============================] - 20s 141ms/step - loss: 0.0715 - accuracy: 0.9653 - val_loss: 0.3823 - val_accuracy: 0.9214\n",
            "Epoch 28/35\n",
            "144/144 [==============================] - 21s 144ms/step - loss: 0.0721 - accuracy: 0.9659 - val_loss: 0.2997 - val_accuracy: 0.9305\n",
            "Epoch 29/35\n",
            "144/144 [==============================] - 20s 139ms/step - loss: 0.0706 - accuracy: 0.9664 - val_loss: 0.2917 - val_accuracy: 0.9284\n",
            "Epoch 30/35\n",
            "144/144 [==============================] - 21s 143ms/step - loss: 0.0751 - accuracy: 0.9649 - val_loss: 0.3450 - val_accuracy: 0.9221\n",
            "Epoch 31/35\n",
            "144/144 [==============================] - 20s 139ms/step - loss: 0.0660 - accuracy: 0.9671 - val_loss: 0.3229 - val_accuracy: 0.9271\n",
            "Epoch 32/35\n",
            "144/144 [==============================] - 20s 138ms/step - loss: 0.0624 - accuracy: 0.9685 - val_loss: 0.3644 - val_accuracy: 0.9292\n",
            "Epoch 33/35\n",
            "144/144 [==============================] - 20s 141ms/step - loss: 0.0688 - accuracy: 0.9667 - val_loss: 0.3319 - val_accuracy: 0.9292\n",
            "Epoch 34/35\n",
            "144/144 [==============================] - 20s 139ms/step - loss: 0.0616 - accuracy: 0.9690 - val_loss: 0.3327 - val_accuracy: 0.9318\n",
            "Epoch 35/35\n",
            "144/144 [==============================] - 20s 141ms/step - loss: 0.0590 - accuracy: 0.9700 - val_loss: 0.4139 - val_accuracy: 0.9114\n"
          ]
        },
        {
          "output_type": "display_data",
          "data": {
            "text/plain": [
              "<Figure size 432x288 with 1 Axes>"
            ],
            "image/png": "[encoded data removed]"
          },
          "metadata": {
            "needs_background": "light"
          }
        },
        {
          "output_type": "display_data",
          "data": {
            "text/plain": [
              "<Figure size 432x288 with 1 Axes>"
            ],
            "image/png": "[encoded data removed]"
          },
          "metadata": {
            "needs_background": "light"
          }
        }
      ]
    },
    {
      "cell_type": "code",
      "source": [
        "model3.save(\"ECOCM3Unbalenced.h5\")"
      ],
      "metadata": {
        "id": "sB-bTlDRoBpS"
      },
      "execution_count": 13,
      "outputs": []
    },
    {
      "cell_type": "code",
      "source": [
        "model1.save(\"ECOCM1Unbalenced.h5\")\n",
        "model2.save(\"ECOCM2Unbalenced.h5\")\n",
        "model3.save(\"ECOCM3Unbalenced.h5\")"
      ],
      "metadata": {
        "id": "WJAaAJf5esL6"
      },
      "execution_count": 16,
      "outputs": []
    },
    {
      "cell_type": "code",
      "source": [
        "model1=tf.keras.models.load_model(\"ECOCM1Unbalenced.h5\")\n",
        "model2=tf.keras.models.load_model(\"ECOCM2Unbalenced.h5\")\n",
        "model3=tf.keras.models.load_model(\"ECOCM3Unbalenced.h5\")"
      ],
      "metadata": {
        "id": "e9ddxKHWoEOU"
      },
      "execution_count": 21,
      "outputs": []
    },
    {
      "cell_type": "code",
      "source": [
        "L1=model1.predict(testing_padded)\n",
        "L2=model2.predict(testing_padded)\n",
        "L3=model3.predict(testing_padded)\n",
        "\n",
        "for i in range(len(L1)):\n",
        "  if (L1[i]<0.5):\n",
        "    L1[i]=0\n",
        "  else:\n",
        "    L1[i]=1\n",
        "  if (L2[i]<0.5):\n",
        "    L2[i]=0\n",
        "  else:\n",
        "    L2[i]=1\n",
        "  if (L3[i]<0.5):\n",
        "    L3[i]=0\n",
        "  else:\n",
        "    L3[i]=1\n",
        "P=[]\n",
        "for i in range(len(L1)):\n",
        "  P.append(str(int(L1[i][0]))+str(int(L2[i][0]))+str(int(L3[i][0])))\n",
        "\n",
        "print(P[2])"
      ],
      "metadata": {
        "colab": {
          "base_uri": "https://localhost:8080/"
        },
        "id": "GJM_EkfzxRYD",
        "outputId": "d68e951b-91a6-435c-d78e-ce5134d0a5f2"
      },
      "execution_count": 22,
      "outputs": [
        {
          "output_type": "stream",
          "name": "stdout",
          "text": [
            "110\n"
          ]
        }
      ]
    },
    {
      "cell_type": "code",
      "source": [
        "def hamming_distance(string1, string2):\n",
        "\tdist_counter = 0\n",
        "\tfor n in range(len(string1)):\n",
        "\t\tif string1[n] != string2[n]:\n",
        "\t\t\tdist_counter += 1\n",
        "\treturn dist_counter\n",
        "\n",
        "pred=[]\n",
        "for i in range(len(P)):\n",
        "  if (min(min(hamming_distance(P[i],'110'),hamming_distance(P[i],'101')),hamming_distance(P[i],'011'))==hamming_distance(P[i],'110')):\n",
        "    pred.append(0)\n",
        "  elif (min(min(hamming_distance(P[i],'110'),hamming_distance(P[i],'101')),hamming_distance(P[i],'011'))==hamming_distance(P[i],'101')):\n",
        "    pred.append(1)\n",
        "  else:\n",
        "    pred.append(2)"
      ],
      "metadata": {
        "id": "ci_yxTAFEIf6"
      },
      "execution_count": 23,
      "outputs": []
    },
    {
      "cell_type": "code",
      "source": [
        "from sklearn.metrics import confusion_matrix\n",
        "from sklearn.metrics import classification_report\n",
        "cm = confusion_matrix(testing_labels, pred)\n",
        "print(\"For the Ensemblist methode: \\n\",cm)\n",
        "print(classification_report(testing_labels, pred, labels=[0,1,2]))"
      ],
      "metadata": {
        "colab": {
          "base_uri": "https://localhost:8080/"
        },
        "id": "-XzjG5nC0qit",
        "outputId": "b623f507-c72e-4b9e-915a-e9d05abeab20"
      },
      "execution_count": 24,
      "outputs": [
        {
          "output_type": "stream",
          "name": "stdout",
          "text": [
            "For the Ensemblist methode: \n",
            " [[2597   32   66]\n",
            " [  94  655   49]\n",
            " [ 171  113  830]]\n",
            "              precision    recall  f1-score   support\n",
            "\n",
            "           0       0.91      0.96      0.93      2695\n",
            "           1       0.82      0.82      0.82       798\n",
            "           2       0.88      0.75      0.81      1114\n",
            "\n",
            "    accuracy                           0.89      4607\n",
            "   macro avg       0.87      0.84      0.85      4607\n",
            "weighted avg       0.89      0.89      0.88      4607\n",
            "\n"
          ]
        }
      ]
    },
    {
      "cell_type": "code",
      "source": [
        "L1=model1.predict(testing_padded12)\n",
        "L2=model2.predict(testing_padded12)\n",
        "L3=model3.predict(testing_padded12)\n",
        "\n",
        "for i in range(len(L1)):\n",
        "  if (L1[i]<0.5):\n",
        "    L1[i]=0\n",
        "  else:\n",
        "    L1[i]=1\n",
        "  if (L2[i]<0.5):\n",
        "    L2[i]=0\n",
        "  else:\n",
        "    L2[i]=1\n",
        "  if (L3[i]<0.5):\n",
        "    L3[i]=0\n",
        "  else:\n",
        "    L3[i]=1\n",
        "P=[]\n",
        "for i in range(len(L1)):\n",
        "  P.append(str(int(L1[i][0]))+str(int(L2[i][0]))+str(int(L3[i][0])))\n",
        "\n",
        "pred=[]\n",
        "for i in range(len(P)):\n",
        "  if (min(min(hamming_distance(P[i],'110'),hamming_distance(P[i],'101')),hamming_distance(P[i],'011'))==hamming_distance(P[i],'110')):\n",
        "    pred.append(0)\n",
        "  elif (min(min(hamming_distance(P[i],'110'),hamming_distance(P[i],'101')),hamming_distance(P[i],'011'))==hamming_distance(P[i],'101')):\n",
        "    pred.append(1)\n",
        "  else:\n",
        "    pred.append(2)\n",
        "\n",
        "\n",
        "cm = confusion_matrix(testing_labels12, pred)\n",
        "print(\"For the Ensembling methode, ECOC Algorithm: \\n\",cm)\n",
        "print(classification_report(testing_labels12, pred, labels=[0,1,2]))"
      ],
      "metadata": {
        "colab": {
          "base_uri": "https://localhost:8080/"
        },
        "id": "vEoKfNMZLHK9",
        "outputId": "751d5fd9-c8db-414c-c3d4-10eef58f0664"
      },
      "execution_count": 25,
      "outputs": [
        {
          "output_type": "stream",
          "name": "stdout",
          "text": [
            "For the Ensembling methode, ECOC Algorithm: \n",
            " [[515  34  38]\n",
            " [ 62 182   9]\n",
            " [ 89 137 226]]\n",
            "              precision    recall  f1-score   support\n",
            "\n",
            "           0       0.77      0.88      0.82       587\n",
            "           1       0.52      0.72      0.60       253\n",
            "           2       0.83      0.50      0.62       452\n",
            "\n",
            "    accuracy                           0.71      1292\n",
            "   macro avg       0.71      0.70      0.68      1292\n",
            "weighted avg       0.74      0.71      0.71      1292\n",
            "\n"
          ]
        }
      ]
    },
    {
      "cell_type": "code",
      "source": [
        "L1=model1.predict(testing_padded34)\n",
        "L2=model2.predict(testing_padded34)\n",
        "L3=model3.predict(testing_padded34)\n",
        "\n",
        "for i in range(len(L1)):\n",
        "  if (L1[i]<0.5):\n",
        "    L1[i]=0\n",
        "  else:\n",
        "    L1[i]=1\n",
        "  if (L2[i]<0.5):\n",
        "    L2[i]=0\n",
        "  else:\n",
        "    L2[i]=1\n",
        "  if (L3[i]<0.5):\n",
        "    L3[i]=0\n",
        "  else:\n",
        "    L3[i]=1\n",
        "P=[]\n",
        "for i in range(len(L1)):\n",
        "  P.append(str(int(L1[i][0]))+str(int(L2[i][0]))+str(int(L3[i][0])))\n",
        "\n",
        "pred=[]\n",
        "for i in range(len(P)):\n",
        "  if (min(min(hamming_distance(P[i],'110'),hamming_distance(P[i],'101')),hamming_distance(P[i],'011'))==hamming_distance(P[i],'110')):\n",
        "    pred.append(0)\n",
        "  elif (min(min(hamming_distance(P[i],'110'),hamming_distance(P[i],'101')),hamming_distance(P[i],'011'))==hamming_distance(P[i],'101')):\n",
        "    pred.append(1)\n",
        "  else:\n",
        "    pred.append(2)\n",
        "\n",
        "\n",
        "cm = confusion_matrix(testing_labels34, pred)\n",
        "print(\"For the Ensembling methode, ECOC Algorithm: \\n\",cm)\n",
        "print(classification_report(testing_labels34, pred, labels=[0,1,2]))"
      ],
      "metadata": {
        "colab": {
          "base_uri": "https://localhost:8080/"
        },
        "id": "y3z0RzeILVi8",
        "outputId": "fe6ed1d3-6cfa-48cc-d74a-600ccf2eb441"
      },
      "execution_count": 26,
      "outputs": [
        {
          "output_type": "stream",
          "name": "stdout",
          "text": [
            "For the Ensembling methode, ECOC Algorithm: \n",
            " [[ 515    0   11]\n",
            " [   0    7    0]\n",
            " [  19    1 1287]]\n",
            "              precision    recall  f1-score   support\n",
            "\n",
            "           0       0.96      0.98      0.97       526\n",
            "           1       0.88      1.00      0.93         7\n",
            "           2       0.99      0.98      0.99      1307\n",
            "\n",
            "    accuracy                           0.98      1840\n",
            "   macro avg       0.94      0.99      0.96      1840\n",
            "weighted avg       0.98      0.98      0.98      1840\n",
            "\n"
          ]
        }
      ]
    },
    {
      "cell_type": "code",
      "source": [
        "L1=model1.predict(testing_padded5)\n",
        "L2=model2.predict(testing_padded5)\n",
        "L3=model3.predict(testing_padded5)\n",
        "\n",
        "for i in range(len(L1)):\n",
        "  if (L1[i]<0.5):\n",
        "    L1[i]=0\n",
        "  else:\n",
        "    L1[i]=1\n",
        "  if (L2[i]<0.5):\n",
        "    L2[i]=0\n",
        "  else:\n",
        "    L2[i]=1\n",
        "  if (L3[i]<0.5):\n",
        "    L3[i]=0\n",
        "  else:\n",
        "    L3[i]=1\n",
        "P=[]\n",
        "for i in range(len(L1)):\n",
        "  P.append(str(int(L1[i][0]))+str(int(L2[i][0]))+str(int(L3[i][0])))\n",
        "\n",
        "pred=[]\n",
        "for i in range(len(P)):\n",
        "  if (min(min(hamming_distance(P[i],'110'),hamming_distance(P[i],'101')),hamming_distance(P[i],'011'))==hamming_distance(P[i],'110')):\n",
        "    pred.append(0)\n",
        "  elif (min(min(hamming_distance(P[i],'110'),hamming_distance(P[i],'101')),hamming_distance(P[i],'011'))==hamming_distance(P[i],'101')):\n",
        "    pred.append(1)\n",
        "  else:\n",
        "    pred.append(2)\n",
        "\n",
        "\n",
        "cm = confusion_matrix(testing_labels5, pred)\n",
        "print(\"For the Ensembling methode, ECOC Algorithm: \\n\",cm)\n",
        "print(classification_report(testing_labels5, pred, labels=[0,1,2]))"
      ],
      "metadata": {
        "id": "Mw0-oQjV3gov",
        "colab": {
          "base_uri": "https://localhost:8080/"
        },
        "outputId": "4354a2a3-3ae8-4458-9124-5021457fced8"
      },
      "execution_count": 27,
      "outputs": [
        {
          "output_type": "stream",
          "name": "stdout",
          "text": [
            "For the Ensembling methode, ECOC Algorithm: \n",
            " [[3780   67  188]\n",
            " [ 399  513  542]\n",
            " [ 144  154 2529]]\n",
            "              precision    recall  f1-score   support\n",
            "\n",
            "           0       0.87      0.94      0.90      4035\n",
            "           1       0.70      0.35      0.47      1454\n",
            "           2       0.78      0.89      0.83      2827\n",
            "\n",
            "    accuracy                           0.82      8316\n",
            "   macro avg       0.78      0.73      0.73      8316\n",
            "weighted avg       0.81      0.82      0.80      8316\n",
            "\n"
          ]
        }
      ]
    }
  ]
}