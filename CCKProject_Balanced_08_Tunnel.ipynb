{
  "nbformat": 4,
  "nbformat_minor": 0,
  "metadata": {
    "colab": {
      "name": "CCKProject-Balanced-08-Tunnel.ipynb",
      "provenance": [],
      "collapsed_sections": [
        "-CRh9Gqc7KxQ",
        "2DGrTNt17GKc",
        "FRfELBgw7A3Z"
      ],
      "include_colab_link": true
    },
    "kernelspec": {
      "name": "python3",
      "display_name": "Python 3"
    },
    "language_info": {
      "name": "python"
    },
    "gpuClass": "standard",
    "accelerator": "GPU"
  },
  "cells": [
    {
      "cell_type": "markdown",
      "metadata": {
        "id": "view-in-github",
        "colab_type": "text"
      },
      "source": [
        "<a href=\"https://colab.research.google.com/github/ImenMasmoudiEm/CCKInternshipProject/blob/main/CCKProject_Balanced_08_Tunnel.ipynb\" target=\"_parent\"><img src=\"https://colab.research.google.com/assets/colab-badge.svg\" alt=\"Open In Colab\"/></a>"
      ]
    },
    {
      "cell_type": "markdown",
      "source": [
        "# Text Classification: Primary work"
      ],
      "metadata": {
        "id": "Iiruy8t57ISt"
      }
    },
    {
      "cell_type": "markdown",
      "source": [
        "##Connecting to drive & importing data"
      ],
      "metadata": {
        "id": "6A7gIEXP7oqV"
      }
    },
    {
      "cell_type": "code",
      "source": [
        "from google.colab import drive\n",
        "drive.mount('/content/drive')"
      ],
      "metadata": {
        "colab": {
          "base_uri": "https://localhost:8080/"
        },
        "id": "KwJf5Jnk9iw8",
        "outputId": "fca76321-06ac-4160-bead-5d64103930c5"
      },
      "execution_count": 1,
      "outputs": [
        {
          "output_type": "stream",
          "name": "stdout",
          "text": [
            "Mounted at /content/drive\n"
          ]
        }
      ]
    },
    {
      "cell_type": "code",
      "execution_count": 2,
      "metadata": {
        "id": "u6Xmp6Sf7Ay4"
      },
      "outputs": [],
      "source": [
        "import os \n",
        "os.chdir('/content/drive/MyDrive/All/Projects/Ing Internship/Data')"
      ]
    },
    {
      "cell_type": "code",
      "source": [
        "import pandas as pd\n",
        "data=pd.read_excel(\"/content/drive/MyDrive/All/Projects/Ing Internship/Data/final-dataset.xlsx\")\n",
        "data"
      ],
      "metadata": {
        "colab": {
          "base_uri": "https://localhost:8080/",
          "height": 424
        },
        "id": "hjV2FNxa-FDa",
        "outputId": "6664a47b-9c35-484c-e57c-cb4899647fe4"
      },
      "execution_count": 3,
      "outputs": [
        {
          "output_type": "execute_result",
          "data": {
            "text/plain": [
              "                                             commentaire  classe\n",
              "0      مبروك و سامحونا لعجزنا التام. عقبال اللي جوه. ...  normal\n",
              "1      كلنا بره ومش هنبطل نزايد على العجايز الي جابون...    hate\n",
              "2              بدل ما انت قاعد بره كده تعالي ازرع الصحرا  normal\n",
              "3          قذر اتفووو ماتيجى مصر وتورينا نفسك كدا ياجبان    hate\n",
              "4      وهكذا رجال الشو اللي محرومين من عمل برنامج الغ...    hate\n",
              "...                                                  ...     ...\n",
              "23028    يلا ولا خنزير الله يرحم صدام حسين لي كان داعسكن    hate\n",
              "23029            وبلدك سوريا لا تبغي سوا القتل والاجرام     hate\n",
              "23030  معالي الوزير نؤمن بك دائما لأنك الدرع المنيع ف...  normal\n",
              "23031  حياة سندي مستشارة امين عام الامم المتحدة بان ك...  normal\n",
              "23032  انت يا جبران باسيل بعقليتك الفجة النتنة تقولرب...    hate\n",
              "\n",
              "[23033 rows x 2 columns]"
            ],
            "text/html": [
              "\n",
              "  <div id=\"df-b9725064-29d5-457a-9dae-1ea2d4b2cc85\">\n",
              "    <div class=\"colab-df-container\">\n",
              "      <div>\n",
              "<style scoped>\n",
              "    .dataframe tbody tr th:only-of-type {\n",
              "        vertical-align: middle;\n",
              "    }\n",
              "\n",
              "    .dataframe tbody tr th {\n",
              "        vertical-align: top;\n",
              "    }\n",
              "\n",
              "    .dataframe thead th {\n",
              "        text-align: right;\n",
              "    }\n",
              "</style>\n",
              "<table border=\"1\" class=\"dataframe\">\n",
              "  <thead>\n",
              "    <tr style=\"text-align: right;\">\n",
              "      <th></th>\n",
              "      <th>commentaire</th>\n",
              "      <th>classe</th>\n",
              "    </tr>\n",
              "  </thead>\n",
              "  <tbody>\n",
              "    <tr>\n",
              "      <th>0</th>\n",
              "      <td>مبروك و سامحونا لعجزنا التام. عقبال اللي جوه. ...</td>\n",
              "      <td>normal</td>\n",
              "    </tr>\n",
              "    <tr>\n",
              "      <th>1</th>\n",
              "      <td>كلنا بره ومش هنبطل نزايد على العجايز الي جابون...</td>\n",
              "      <td>hate</td>\n",
              "    </tr>\n",
              "    <tr>\n",
              "      <th>2</th>\n",
              "      <td>بدل ما انت قاعد بره كده تعالي ازرع الصحرا</td>\n",
              "      <td>normal</td>\n",
              "    </tr>\n",
              "    <tr>\n",
              "      <th>3</th>\n",
              "      <td>قذر اتفووو ماتيجى مصر وتورينا نفسك كدا ياجبان</td>\n",
              "      <td>hate</td>\n",
              "    </tr>\n",
              "    <tr>\n",
              "      <th>4</th>\n",
              "      <td>وهكذا رجال الشو اللي محرومين من عمل برنامج الغ...</td>\n",
              "      <td>hate</td>\n",
              "    </tr>\n",
              "    <tr>\n",
              "      <th>...</th>\n",
              "      <td>...</td>\n",
              "      <td>...</td>\n",
              "    </tr>\n",
              "    <tr>\n",
              "      <th>23028</th>\n",
              "      <td>يلا ولا خنزير الله يرحم صدام حسين لي كان داعسكن</td>\n",
              "      <td>hate</td>\n",
              "    </tr>\n",
              "    <tr>\n",
              "      <th>23029</th>\n",
              "      <td>وبلدك سوريا لا تبغي سوا القتل والاجرام</td>\n",
              "      <td>hate</td>\n",
              "    </tr>\n",
              "    <tr>\n",
              "      <th>23030</th>\n",
              "      <td>معالي الوزير نؤمن بك دائما لأنك الدرع المنيع ف...</td>\n",
              "      <td>normal</td>\n",
              "    </tr>\n",
              "    <tr>\n",
              "      <th>23031</th>\n",
              "      <td>حياة سندي مستشارة امين عام الامم المتحدة بان ك...</td>\n",
              "      <td>normal</td>\n",
              "    </tr>\n",
              "    <tr>\n",
              "      <th>23032</th>\n",
              "      <td>انت يا جبران باسيل بعقليتك الفجة النتنة تقولرب...</td>\n",
              "      <td>hate</td>\n",
              "    </tr>\n",
              "  </tbody>\n",
              "</table>\n",
              "<p>23033 rows × 2 columns</p>\n",
              "</div>\n",
              "      <button class=\"colab-df-convert\" onclick=\"convertToInteractive('df-b9725064-29d5-457a-9dae-1ea2d4b2cc85')\"\n",
              "              title=\"Convert this dataframe to an interactive table.\"\n",
              "              style=\"display:none;\">\n",
              "        \n",
              "  <svg xmlns=\"http://www.w3.org/2000/svg\" height=\"24px\"viewBox=\"0 0 24 24\"\n",
              "       width=\"24px\">\n",
              "    <path d=\"M0 0h24v24H0V0z\" fill=\"none\"/>\n",
              "    <path d=\"M18.56 5.44l.94 2.06.94-2.06 2.06-.94-2.06-.94-.94-2.06-.94 2.06-2.06.94zm-11 1L8.5 8.5l.94-2.06 2.06-.94-2.06-.94L8.5 2.5l-.94 2.06-2.06.94zm10 10l.94 2.06.94-2.06 2.06-.94-2.06-.94-.94-2.06-.94 2.06-2.06.94z\"/><path d=\"M17.41 7.96l-1.37-1.37c-.4-.4-.92-.59-1.43-.59-.52 0-1.04.2-1.43.59L10.3 9.45l-7.72 7.72c-.78.78-.78 2.05 0 2.83L4 21.41c.39.39.9.59 1.41.59.51 0 1.02-.2 1.41-.59l7.78-7.78 2.81-2.81c.8-.78.8-2.07 0-2.86zM5.41 20L4 18.59l7.72-7.72 1.47 1.35L5.41 20z\"/>\n",
              "  </svg>\n",
              "      </button>\n",
              "      \n",
              "  <style>\n",
              "    .colab-df-container {\n",
              "      display:flex;\n",
              "      flex-wrap:wrap;\n",
              "      gap: 12px;\n",
              "    }\n",
              "\n",
              "    .colab-df-convert {\n",
              "      background-color: #E8F0FE;\n",
              "      border: none;\n",
              "      border-radius: 50%;\n",
              "      cursor: pointer;\n",
              "      display: none;\n",
              "      fill: #1967D2;\n",
              "      height: 32px;\n",
              "      padding: 0 0 0 0;\n",
              "      width: 32px;\n",
              "    }\n",
              "\n",
              "    .colab-df-convert:hover {\n",
              "      background-color: #E2EBFA;\n",
              "      box-shadow: 0px 1px 2px rgba(60, 64, 67, 0.3), 0px 1px 3px 1px rgba(60, 64, 67, 0.15);\n",
              "      fill: #174EA6;\n",
              "    }\n",
              "\n",
              "    [theme=dark] .colab-df-convert {\n",
              "      background-color: #3B4455;\n",
              "      fill: #D2E3FC;\n",
              "    }\n",
              "\n",
              "    [theme=dark] .colab-df-convert:hover {\n",
              "      background-color: #434B5C;\n",
              "      box-shadow: 0px 1px 3px 1px rgba(0, 0, 0, 0.15);\n",
              "      filter: drop-shadow(0px 1px 2px rgba(0, 0, 0, 0.3));\n",
              "      fill: #FFFFFF;\n",
              "    }\n",
              "  </style>\n",
              "\n",
              "      <script>\n",
              "        const buttonEl =\n",
              "          document.querySelector('#df-b9725064-29d5-457a-9dae-1ea2d4b2cc85 button.colab-df-convert');\n",
              "        buttonEl.style.display =\n",
              "          google.colab.kernel.accessAllowed ? 'block' : 'none';\n",
              "\n",
              "        async function convertToInteractive(key) {\n",
              "          const element = document.querySelector('#df-b9725064-29d5-457a-9dae-1ea2d4b2cc85');\n",
              "          const dataTable =\n",
              "            await google.colab.kernel.invokeFunction('convertToInteractive',\n",
              "                                                     [key], {});\n",
              "          if (!dataTable) return;\n",
              "\n",
              "          const docLinkHtml = 'Like what you see? Visit the ' +\n",
              "            '<a target=\"_blank\" href=https://colab.research.google.com/notebooks/data_table.ipynb>data table notebook</a>'\n",
              "            + ' to learn more about interactive tables.';\n",
              "          element.innerHTML = '';\n",
              "          dataTable['output_type'] = 'display_data';\n",
              "          await google.colab.output.renderOutput(dataTable, element);\n",
              "          const docLink = document.createElement('div');\n",
              "          docLink.innerHTML = docLinkHtml;\n",
              "          element.appendChild(docLink);\n",
              "        }\n",
              "      </script>\n",
              "    </div>\n",
              "  </div>\n",
              "  "
            ]
          },
          "metadata": {},
          "execution_count": 3
        }
      ]
    },
    {
      "cell_type": "markdown",
      "source": [
        "##Data Preprocessing"
      ],
      "metadata": {
        "id": "E78jh1K4ATql"
      }
    },
    {
      "cell_type": "markdown",
      "source": [
        "1/ Changing the Class into bin"
      ],
      "metadata": {
        "id": "4WPH66dgAsdv"
      }
    },
    {
      "cell_type": "code",
      "source": [
        "data['classe']=data['classe'].replace(\"hate\", int(2))\n",
        "data['classe']=data['classe'].replace(\"normal\", int(0)) \n",
        "data['classe']=data['classe'].replace(\"abusive\", int(1))"
      ],
      "metadata": {
        "id": "g0G8MT47A3Z_"
      },
      "execution_count": 4,
      "outputs": []
    },
    {
      "cell_type": "code",
      "source": [
        "data"
      ],
      "metadata": {
        "colab": {
          "base_uri": "https://localhost:8080/",
          "height": 424
        },
        "id": "1Ml3TDjMBley",
        "outputId": "c35038ba-5c2e-4464-9c68-803ee4ec5e41"
      },
      "execution_count": 5,
      "outputs": [
        {
          "output_type": "execute_result",
          "data": {
            "text/plain": [
              "                                             commentaire  classe\n",
              "0      مبروك و سامحونا لعجزنا التام. عقبال اللي جوه. ...       0\n",
              "1      كلنا بره ومش هنبطل نزايد على العجايز الي جابون...       2\n",
              "2              بدل ما انت قاعد بره كده تعالي ازرع الصحرا       0\n",
              "3          قذر اتفووو ماتيجى مصر وتورينا نفسك كدا ياجبان       2\n",
              "4      وهكذا رجال الشو اللي محرومين من عمل برنامج الغ...       2\n",
              "...                                                  ...     ...\n",
              "23028    يلا ولا خنزير الله يرحم صدام حسين لي كان داعسكن       2\n",
              "23029            وبلدك سوريا لا تبغي سوا القتل والاجرام        2\n",
              "23030  معالي الوزير نؤمن بك دائما لأنك الدرع المنيع ف...       0\n",
              "23031  حياة سندي مستشارة امين عام الامم المتحدة بان ك...       0\n",
              "23032  انت يا جبران باسيل بعقليتك الفجة النتنة تقولرب...       2\n",
              "\n",
              "[23033 rows x 2 columns]"
            ],
            "text/html": [
              "\n",
              "  <div id=\"df-9c21ed27-d2fb-4d1f-9579-6ffea12b486b\">\n",
              "    <div class=\"colab-df-container\">\n",
              "      <div>\n",
              "<style scoped>\n",
              "    .dataframe tbody tr th:only-of-type {\n",
              "        vertical-align: middle;\n",
              "    }\n",
              "\n",
              "    .dataframe tbody tr th {\n",
              "        vertical-align: top;\n",
              "    }\n",
              "\n",
              "    .dataframe thead th {\n",
              "        text-align: right;\n",
              "    }\n",
              "</style>\n",
              "<table border=\"1\" class=\"dataframe\">\n",
              "  <thead>\n",
              "    <tr style=\"text-align: right;\">\n",
              "      <th></th>\n",
              "      <th>commentaire</th>\n",
              "      <th>classe</th>\n",
              "    </tr>\n",
              "  </thead>\n",
              "  <tbody>\n",
              "    <tr>\n",
              "      <th>0</th>\n",
              "      <td>مبروك و سامحونا لعجزنا التام. عقبال اللي جوه. ...</td>\n",
              "      <td>0</td>\n",
              "    </tr>\n",
              "    <tr>\n",
              "      <th>1</th>\n",
              "      <td>كلنا بره ومش هنبطل نزايد على العجايز الي جابون...</td>\n",
              "      <td>2</td>\n",
              "    </tr>\n",
              "    <tr>\n",
              "      <th>2</th>\n",
              "      <td>بدل ما انت قاعد بره كده تعالي ازرع الصحرا</td>\n",
              "      <td>0</td>\n",
              "    </tr>\n",
              "    <tr>\n",
              "      <th>3</th>\n",
              "      <td>قذر اتفووو ماتيجى مصر وتورينا نفسك كدا ياجبان</td>\n",
              "      <td>2</td>\n",
              "    </tr>\n",
              "    <tr>\n",
              "      <th>4</th>\n",
              "      <td>وهكذا رجال الشو اللي محرومين من عمل برنامج الغ...</td>\n",
              "      <td>2</td>\n",
              "    </tr>\n",
              "    <tr>\n",
              "      <th>...</th>\n",
              "      <td>...</td>\n",
              "      <td>...</td>\n",
              "    </tr>\n",
              "    <tr>\n",
              "      <th>23028</th>\n",
              "      <td>يلا ولا خنزير الله يرحم صدام حسين لي كان داعسكن</td>\n",
              "      <td>2</td>\n",
              "    </tr>\n",
              "    <tr>\n",
              "      <th>23029</th>\n",
              "      <td>وبلدك سوريا لا تبغي سوا القتل والاجرام</td>\n",
              "      <td>2</td>\n",
              "    </tr>\n",
              "    <tr>\n",
              "      <th>23030</th>\n",
              "      <td>معالي الوزير نؤمن بك دائما لأنك الدرع المنيع ف...</td>\n",
              "      <td>0</td>\n",
              "    </tr>\n",
              "    <tr>\n",
              "      <th>23031</th>\n",
              "      <td>حياة سندي مستشارة امين عام الامم المتحدة بان ك...</td>\n",
              "      <td>0</td>\n",
              "    </tr>\n",
              "    <tr>\n",
              "      <th>23032</th>\n",
              "      <td>انت يا جبران باسيل بعقليتك الفجة النتنة تقولرب...</td>\n",
              "      <td>2</td>\n",
              "    </tr>\n",
              "  </tbody>\n",
              "</table>\n",
              "<p>23033 rows × 2 columns</p>\n",
              "</div>\n",
              "      <button class=\"colab-df-convert\" onclick=\"convertToInteractive('df-9c21ed27-d2fb-4d1f-9579-6ffea12b486b')\"\n",
              "              title=\"Convert this dataframe to an interactive table.\"\n",
              "              style=\"display:none;\">\n",
              "        \n",
              "  <svg xmlns=\"http://www.w3.org/2000/svg\" height=\"24px\"viewBox=\"0 0 24 24\"\n",
              "       width=\"24px\">\n",
              "    <path d=\"M0 0h24v24H0V0z\" fill=\"none\"/>\n",
              "    <path d=\"M18.56 5.44l.94 2.06.94-2.06 2.06-.94-2.06-.94-.94-2.06-.94 2.06-2.06.94zm-11 1L8.5 8.5l.94-2.06 2.06-.94-2.06-.94L8.5 2.5l-.94 2.06-2.06.94zm10 10l.94 2.06.94-2.06 2.06-.94-2.06-.94-.94-2.06-.94 2.06-2.06.94z\"/><path d=\"M17.41 7.96l-1.37-1.37c-.4-.4-.92-.59-1.43-.59-.52 0-1.04.2-1.43.59L10.3 9.45l-7.72 7.72c-.78.78-.78 2.05 0 2.83L4 21.41c.39.39.9.59 1.41.59.51 0 1.02-.2 1.41-.59l7.78-7.78 2.81-2.81c.8-.78.8-2.07 0-2.86zM5.41 20L4 18.59l7.72-7.72 1.47 1.35L5.41 20z\"/>\n",
              "  </svg>\n",
              "      </button>\n",
              "      \n",
              "  <style>\n",
              "    .colab-df-container {\n",
              "      display:flex;\n",
              "      flex-wrap:wrap;\n",
              "      gap: 12px;\n",
              "    }\n",
              "\n",
              "    .colab-df-convert {\n",
              "      background-color: #E8F0FE;\n",
              "      border: none;\n",
              "      border-radius: 50%;\n",
              "      cursor: pointer;\n",
              "      display: none;\n",
              "      fill: #1967D2;\n",
              "      height: 32px;\n",
              "      padding: 0 0 0 0;\n",
              "      width: 32px;\n",
              "    }\n",
              "\n",
              "    .colab-df-convert:hover {\n",
              "      background-color: #E2EBFA;\n",
              "      box-shadow: 0px 1px 2px rgba(60, 64, 67, 0.3), 0px 1px 3px 1px rgba(60, 64, 67, 0.15);\n",
              "      fill: #174EA6;\n",
              "    }\n",
              "\n",
              "    [theme=dark] .colab-df-convert {\n",
              "      background-color: #3B4455;\n",
              "      fill: #D2E3FC;\n",
              "    }\n",
              "\n",
              "    [theme=dark] .colab-df-convert:hover {\n",
              "      background-color: #434B5C;\n",
              "      box-shadow: 0px 1px 3px 1px rgba(0, 0, 0, 0.15);\n",
              "      filter: drop-shadow(0px 1px 2px rgba(0, 0, 0, 0.3));\n",
              "      fill: #FFFFFF;\n",
              "    }\n",
              "  </style>\n",
              "\n",
              "      <script>\n",
              "        const buttonEl =\n",
              "          document.querySelector('#df-9c21ed27-d2fb-4d1f-9579-6ffea12b486b button.colab-df-convert');\n",
              "        buttonEl.style.display =\n",
              "          google.colab.kernel.accessAllowed ? 'block' : 'none';\n",
              "\n",
              "        async function convertToInteractive(key) {\n",
              "          const element = document.querySelector('#df-9c21ed27-d2fb-4d1f-9579-6ffea12b486b');\n",
              "          const dataTable =\n",
              "            await google.colab.kernel.invokeFunction('convertToInteractive',\n",
              "                                                     [key], {});\n",
              "          if (!dataTable) return;\n",
              "\n",
              "          const docLinkHtml = 'Like what you see? Visit the ' +\n",
              "            '<a target=\"_blank\" href=https://colab.research.google.com/notebooks/data_table.ipynb>data table notebook</a>'\n",
              "            + ' to learn more about interactive tables.';\n",
              "          element.innerHTML = '';\n",
              "          dataTable['output_type'] = 'display_data';\n",
              "          await google.colab.output.renderOutput(dataTable, element);\n",
              "          const docLink = document.createElement('div');\n",
              "          docLink.innerHTML = docLinkHtml;\n",
              "          element.appendChild(docLink);\n",
              "        }\n",
              "      </script>\n",
              "    </div>\n",
              "  </div>\n",
              "  "
            ]
          },
          "metadata": {},
          "execution_count": 5
        }
      ]
    },
    {
      "cell_type": "code",
      "source": [
        "import matplotlib.pyplot as plt\n",
        "import seaborn as sns\n",
        "plt.figure(1 , figsize = (15 , 5))\n",
        "sns.countplot(y = 'classe' , data = data)\n",
        "plt.show()"
      ],
      "metadata": {
        "colab": {
          "base_uri": "https://localhost:8080/",
          "height": 334
        },
        "id": "QWAQiWYVAzQN",
        "outputId": "cf0d91e2-b448-4311-d214-d2c5298aa872"
      },
      "execution_count": 6,
      "outputs": [
        {
          "output_type": "display_data",
          "data": {
            "text/plain": [
              "<Figure size 1080x360 with 1 Axes>"
            ],
            "image/png": "[encoded data removed]"
          },
          "metadata": {
            "needs_background": "light"
          }
        }
      ]
    },
    {
      "cell_type": "code",
      "source": [
        "print(data.loc[data.classe==0].groupby('classe')[\"classe\"].count())\n",
        "print(data.loc[data.classe==1].groupby('classe')[\"classe\"].count())\n",
        "print(data.loc[data.classe==2].groupby('classe')[\"classe\"].count())"
      ],
      "metadata": {
        "colab": {
          "base_uri": "https://localhost:8080/"
        },
        "id": "mWndFEOiC4pP",
        "outputId": "05db6fb7-31a4-4309-956f-5864c0b4a186"
      },
      "execution_count": 7,
      "outputs": [
        {
          "output_type": "stream",
          "name": "stdout",
          "text": [
            "classe\n",
            "0    12353\n",
            "Name: classe, dtype: int64\n",
            "classe\n",
            "1    3850\n",
            "Name: classe, dtype: int64\n",
            "classe\n",
            "2    6830\n",
            "Name: classe, dtype: int64\n"
          ]
        }
      ]
    },
    {
      "cell_type": "markdown",
      "source": [
        "2/ NLP Data Preparations: Data Balancing"
      ],
      "metadata": {
        "id": "nWDDcwDwA32H"
      }
    },
    {
      "cell_type": "code",
      "source": [
        "from tensorflow.keras.preprocessing.text import Tokenizer\n",
        "from tensorflow.keras.preprocessing.sequence import pad_sequences\n",
        "import numpy as np\n",
        "\n",
        "\n",
        "sentences = data['commentaire']\n",
        "labels = data['classe']\n",
        "L=[]\n",
        "\n",
        "labels = [int(i) for i in labels]"
      ],
      "metadata": {
        "id": "BgMfbCVpBAOB"
      },
      "execution_count": 8,
      "outputs": []
    },
    {
      "cell_type": "code",
      "source": [
        "i=0\n",
        "c=0\n",
        "Nlables=[]\n",
        "Nsentences=[]\n",
        "\n",
        "while (c<5500):\n",
        "  if (labels[i]!= 0):\n",
        "    Nlables.append(labels[i])\n",
        "    Nsentences.append(sentences[i])\n",
        "  else:\n",
        "    c+=1\n",
        "  i+=1\n",
        "while (i<len(labels)):\n",
        "  Nlables.append(labels[i])\n",
        "  Nsentences.append(sentences[i])\n",
        "  i+=1\n",
        "\n",
        "sentences=[str(i) for i in sentences]\n",
        "\n",
        "i=0\n",
        "c=0\n",
        "\n",
        "while (c<3000):\n",
        "  if (Nlables[i]==1):\n",
        "    Nlables.append(Nlables[i])\n",
        "    Nsentences.append(Nsentences[i])\n",
        "    c+=1\n",
        "  i+=1"
      ],
      "metadata": {
        "id": "Vp_qjUMwT6PI"
      },
      "execution_count": 9,
      "outputs": []
    },
    {
      "cell_type": "code",
      "source": [
        "print(len(sentences))\n",
        "print(len(labels))"
      ],
      "metadata": {
        "colab": {
          "base_uri": "https://localhost:8080/"
        },
        "id": "4O3GcwGvx83O",
        "outputId": "7f2a383c-6fd8-41ec-a8c8-772d50d29cc2"
      },
      "execution_count": 10,
      "outputs": [
        {
          "output_type": "stream",
          "name": "stdout",
          "text": [
            "23033\n",
            "23033\n"
          ]
        }
      ]
    },
    {
      "cell_type": "code",
      "source": [
        "import pandas as pd\n",
        "\n",
        "data=[[i,j] for i,j in zip(Nsentences , Nlables)]\n",
        "\n",
        "data=pd.DataFrame(data,columns=[\"sentences\",\"classe\"])\n",
        "\n",
        "data"
      ],
      "metadata": {
        "colab": {
          "base_uri": "https://localhost:8080/",
          "height": 424
        },
        "id": "zQgP6WSIbrNm",
        "outputId": "436d55b4-7795-4c47-f4bf-53fd30f1a189"
      },
      "execution_count": 11,
      "outputs": [
        {
          "output_type": "execute_result",
          "data": {
            "text/plain": [
              "                                               sentences  classe\n",
              "0      كلنا بره ومش هنبطل نزايد على العجايز الي جابون...       2\n",
              "1          قذر اتفووو ماتيجى مصر وتورينا نفسك كدا ياجبان       2\n",
              "2      وهكذا رجال الشو اللي محرومين من عمل برنامج الغ...       2\n",
              "3                                   أنت أزاي لبؤة كدة ؟        1\n",
              "4      دول عبيد باسم !! انت ما تعرفش غير ستات كده يعن...       2\n",
              "...                                                  ...     ...\n",
              "20528                   انت حمار وابن حمار وابن ابن حمار       1\n",
              "20529            يلعن روحك يا هنية على هالتصريح الصرّحتو       1\n",
              "20530                                        بيكفيكن عهر       1\n",
              "20531                 كل عمري إسمع عن أعور الدجيل و حمار       1\n",
              "20532                  انت الزمن الخرى لجابك كلب ابن كلب       1\n",
              "\n",
              "[20533 rows x 2 columns]"
            ],
            "text/html": [
              "\n",
              "  <div id=\"df-08fafda6-34db-480b-84a6-4b4d59ca2897\">\n",
              "    <div class=\"colab-df-container\">\n",
              "      <div>\n",
              "<style scoped>\n",
              "    .dataframe tbody tr th:only-of-type {\n",
              "        vertical-align: middle;\n",
              "    }\n",
              "\n",
              "    .dataframe tbody tr th {\n",
              "        vertical-align: top;\n",
              "    }\n",
              "\n",
              "    .dataframe thead th {\n",
              "        text-align: right;\n",
              "    }\n",
              "</style>\n",
              "<table border=\"1\" class=\"dataframe\">\n",
              "  <thead>\n",
              "    <tr style=\"text-align: right;\">\n",
              "      <th></th>\n",
              "      <th>sentences</th>\n",
              "      <th>classe</th>\n",
              "    </tr>\n",
              "  </thead>\n",
              "  <tbody>\n",
              "    <tr>\n",
              "      <th>0</th>\n",
              "      <td>كلنا بره ومش هنبطل نزايد على العجايز الي جابون...</td>\n",
              "      <td>2</td>\n",
              "    </tr>\n",
              "    <tr>\n",
              "      <th>1</th>\n",
              "      <td>قذر اتفووو ماتيجى مصر وتورينا نفسك كدا ياجبان</td>\n",
              "      <td>2</td>\n",
              "    </tr>\n",
              "    <tr>\n",
              "      <th>2</th>\n",
              "      <td>وهكذا رجال الشو اللي محرومين من عمل برنامج الغ...</td>\n",
              "      <td>2</td>\n",
              "    </tr>\n",
              "    <tr>\n",
              "      <th>3</th>\n",
              "      <td>أنت أزاي لبؤة كدة ؟</td>\n",
              "      <td>1</td>\n",
              "    </tr>\n",
              "    <tr>\n",
              "      <th>4</th>\n",
              "      <td>دول عبيد باسم !! انت ما تعرفش غير ستات كده يعن...</td>\n",
              "      <td>2</td>\n",
              "    </tr>\n",
              "    <tr>\n",
              "      <th>...</th>\n",
              "      <td>...</td>\n",
              "      <td>...</td>\n",
              "    </tr>\n",
              "    <tr>\n",
              "      <th>20528</th>\n",
              "      <td>انت حمار وابن حمار وابن ابن حمار</td>\n",
              "      <td>1</td>\n",
              "    </tr>\n",
              "    <tr>\n",
              "      <th>20529</th>\n",
              "      <td>يلعن روحك يا هنية على هالتصريح الصرّحتو</td>\n",
              "      <td>1</td>\n",
              "    </tr>\n",
              "    <tr>\n",
              "      <th>20530</th>\n",
              "      <td>بيكفيكن عهر</td>\n",
              "      <td>1</td>\n",
              "    </tr>\n",
              "    <tr>\n",
              "      <th>20531</th>\n",
              "      <td>كل عمري إسمع عن أعور الدجيل و حمار</td>\n",
              "      <td>1</td>\n",
              "    </tr>\n",
              "    <tr>\n",
              "      <th>20532</th>\n",
              "      <td>انت الزمن الخرى لجابك كلب ابن كلب</td>\n",
              "      <td>1</td>\n",
              "    </tr>\n",
              "  </tbody>\n",
              "</table>\n",
              "<p>20533 rows × 2 columns</p>\n",
              "</div>\n",
              "      <button class=\"colab-df-convert\" onclick=\"convertToInteractive('df-08fafda6-34db-480b-84a6-4b4d59ca2897')\"\n",
              "              title=\"Convert this dataframe to an interactive table.\"\n",
              "              style=\"display:none;\">\n",
              "        \n",
              "  <svg xmlns=\"http://www.w3.org/2000/svg\" height=\"24px\"viewBox=\"0 0 24 24\"\n",
              "       width=\"24px\">\n",
              "    <path d=\"M0 0h24v24H0V0z\" fill=\"none\"/>\n",
              "    <path d=\"M18.56 5.44l.94 2.06.94-2.06 2.06-.94-2.06-.94-.94-2.06-.94 2.06-2.06.94zm-11 1L8.5 8.5l.94-2.06 2.06-.94-2.06-.94L8.5 2.5l-.94 2.06-2.06.94zm10 10l.94 2.06.94-2.06 2.06-.94-2.06-.94-.94-2.06-.94 2.06-2.06.94z\"/><path d=\"M17.41 7.96l-1.37-1.37c-.4-.4-.92-.59-1.43-.59-.52 0-1.04.2-1.43.59L10.3 9.45l-7.72 7.72c-.78.78-.78 2.05 0 2.83L4 21.41c.39.39.9.59 1.41.59.51 0 1.02-.2 1.41-.59l7.78-7.78 2.81-2.81c.8-.78.8-2.07 0-2.86zM5.41 20L4 18.59l7.72-7.72 1.47 1.35L5.41 20z\"/>\n",
              "  </svg>\n",
              "      </button>\n",
              "      \n",
              "  <style>\n",
              "    .colab-df-container {\n",
              "      display:flex;\n",
              "      flex-wrap:wrap;\n",
              "      gap: 12px;\n",
              "    }\n",
              "\n",
              "    .colab-df-convert {\n",
              "      background-color: #E8F0FE;\n",
              "      border: none;\n",
              "      border-radius: 50%;\n",
              "      cursor: pointer;\n",
              "      display: none;\n",
              "      fill: #1967D2;\n",
              "      height: 32px;\n",
              "      padding: 0 0 0 0;\n",
              "      width: 32px;\n",
              "    }\n",
              "\n",
              "    .colab-df-convert:hover {\n",
              "      background-color: #E2EBFA;\n",
              "      box-shadow: 0px 1px 2px rgba(60, 64, 67, 0.3), 0px 1px 3px 1px rgba(60, 64, 67, 0.15);\n",
              "      fill: #174EA6;\n",
              "    }\n",
              "\n",
              "    [theme=dark] .colab-df-convert {\n",
              "      background-color: #3B4455;\n",
              "      fill: #D2E3FC;\n",
              "    }\n",
              "\n",
              "    [theme=dark] .colab-df-convert:hover {\n",
              "      background-color: #434B5C;\n",
              "      box-shadow: 0px 1px 3px 1px rgba(0, 0, 0, 0.15);\n",
              "      filter: drop-shadow(0px 1px 2px rgba(0, 0, 0, 0.3));\n",
              "      fill: #FFFFFF;\n",
              "    }\n",
              "  </style>\n",
              "\n",
              "      <script>\n",
              "        const buttonEl =\n",
              "          document.querySelector('#df-08fafda6-34db-480b-84a6-4b4d59ca2897 button.colab-df-convert');\n",
              "        buttonEl.style.display =\n",
              "          google.colab.kernel.accessAllowed ? 'block' : 'none';\n",
              "\n",
              "        async function convertToInteractive(key) {\n",
              "          const element = document.querySelector('#df-08fafda6-34db-480b-84a6-4b4d59ca2897');\n",
              "          const dataTable =\n",
              "            await google.colab.kernel.invokeFunction('convertToInteractive',\n",
              "                                                     [key], {});\n",
              "          if (!dataTable) return;\n",
              "\n",
              "          const docLinkHtml = 'Like what you see? Visit the ' +\n",
              "            '<a target=\"_blank\" href=https://colab.research.google.com/notebooks/data_table.ipynb>data table notebook</a>'\n",
              "            + ' to learn more about interactive tables.';\n",
              "          element.innerHTML = '';\n",
              "          dataTable['output_type'] = 'display_data';\n",
              "          await google.colab.output.renderOutput(dataTable, element);\n",
              "          const docLink = document.createElement('div');\n",
              "          docLink.innerHTML = docLinkHtml;\n",
              "          element.appendChild(docLink);\n",
              "        }\n",
              "      </script>\n",
              "    </div>\n",
              "  </div>\n",
              "  "
            ]
          },
          "metadata": {},
          "execution_count": 11
        }
      ]
    },
    {
      "cell_type": "code",
      "source": [
        "import matplotlib.pyplot as plt\n",
        "import seaborn as sns\n",
        "plt.figure(1 , figsize = (15 , 5))\n",
        "sns.countplot(y = 'classe' , data = data)\n",
        "plt.show()\n",
        "\n",
        "print(data.loc[data.classe==0].groupby('classe')[\"classe\"].count())\n",
        "print(data.loc[data.classe==1].groupby('classe')[\"classe\"].count())\n",
        "print(data.loc[data.classe==2].groupby('classe')[\"classe\"].count())"
      ],
      "metadata": {
        "colab": {
          "base_uri": "https://localhost:8080/",
          "height": 490
        },
        "id": "Fz8P60LwbLjI",
        "outputId": "75f10eb2-c840-414f-9bd0-04c711fe433f"
      },
      "execution_count": 12,
      "outputs": [
        {
          "output_type": "display_data",
          "data": {
            "text/plain": [
              "<Figure size 1080x360 with 1 Axes>"
            ],
            "image/png": "[encoded data removed]"
          },
          "metadata": {
            "needs_background": "light"
          }
        },
        {
          "output_type": "stream",
          "name": "stdout",
          "text": [
            "classe\n",
            "0    6853\n",
            "Name: classe, dtype: int64\n",
            "classe\n",
            "1    6850\n",
            "Name: classe, dtype: int64\n",
            "classe\n",
            "2    6830\n",
            "Name: classe, dtype: int64\n"
          ]
        }
      ]
    },
    {
      "cell_type": "code",
      "source": [
        "#Figure out the longest comment\n",
        "\n",
        "def count_words(input):\n",
        "  return len(input.split())\n",
        "max_length=count_words(max(Nsentences,key=count_words))\n",
        "max_length"
      ],
      "metadata": {
        "colab": {
          "base_uri": "https://localhost:8080/"
        },
        "id": "A37mvaVcD-ji",
        "outputId": "ee06dc0e-6358-40f2-da6b-67e3f3740c18"
      },
      "execution_count": 13,
      "outputs": [
        {
          "output_type": "execute_result",
          "data": {
            "text/plain": [
              "207"
            ]
          },
          "metadata": {},
          "execution_count": 13
        }
      ]
    },
    {
      "cell_type": "markdown",
      "source": [
        "#Importing extra data"
      ],
      "metadata": {
        "id": "cCJNbJcEzes_"
      }
    },
    {
      "cell_type": "code",
      "source": [
        "data12=pd.read_excel(\"/content/drive/MyDrive/All/Projects/Ing Internship/Data/dataset1and2.xlsx\")\n",
        "data34=pd.read_excel(\"/content/drive/MyDrive/All/Projects/Ing Internship/Data/dataset3and4.xlsx\")\n",
        "\n",
        "data12['classe']=data12['classe'].replace(\"hate\", int(2))\n",
        "data12['classe']=data12['classe'].replace(\"normal\", int(0)) \n",
        "data12['classe']=data12['classe'].replace(\"abusive\", int(1))\n",
        "\n",
        "data34['classe']=data34['classe'].replace(\"hate\", int(2))\n",
        "data34['classe']=data34['classe'].replace(\"normal\", int(0)) \n",
        "data34['classe']=data34['classe'].replace(\"abusive\", int(1))\n",
        "\n",
        "\n",
        "C1=data12[\"commentaire\"]\n",
        "C2=data34[\"commentaire\"]\n",
        "L1=data12[\"classe\"]\n",
        "L2=data34[\"classe\"]\n",
        "\n",
        "\n",
        "data12=[[i,j] for i,j in zip(C1 , L1)]\n",
        "data34=[[i,j] for i,j in zip(C2 , L2)]\n",
        "\n",
        "data12=pd.DataFrame(data12,columns=[\"sentences\",\"classe\"])\n",
        "data34=pd.DataFrame(data34,columns=[\"sentences\",\"classe\"])"
      ],
      "metadata": {
        "id": "lJ4ViTx6zc-7"
      },
      "execution_count": 14,
      "outputs": []
    },
    {
      "cell_type": "code",
      "source": [
        "data12"
      ],
      "metadata": {
        "colab": {
          "base_uri": "https://localhost:8080/",
          "height": 424
        },
        "id": "IhOSM1XP17Oy",
        "outputId": "2a249472-a761-40c8-a2ed-5296f4e31f54"
      },
      "execution_count": 15,
      "outputs": [
        {
          "output_type": "execute_result",
          "data": {
            "text/plain": [
              "                                              sentences  classe\n",
              "0     اسغي ياشعب تونس تدعوا بالاسلام كفار الحمدلله ن...       2\n",
              "1     قطع يد السارق توفرت الشروط شرط الحد الأدنى قيم...       0\n",
              "2                                تلوموش لطفي لعبدلي شرف       0\n",
              "3     مستغرب شعب يسمع تفاهة شانو لى الدرجة الشعب تاف...       0\n",
              "4     هههخ غزلتني مافهمتش شمدخلها الموضوع تتنطر وحده...       0\n",
              "...                                                 ...     ...\n",
              "6455                               وجهو وجه الطحين ورخس       1\n",
              "6456  الله لا يبارك فيكم و في الي تزرعوا فيه اليوم ل...       2\n",
              "6457  ملا حثالة مستدعيه ، قواد ولحاس ، طيح مستوى الب...       2\n",
              "6458                          شبعة خمج.اينما يقيم الجهل       2\n",
              "6459     عدم إحترام المشاهد من جميع الأطراف هي قلة حياء       2\n",
              "\n",
              "[6460 rows x 2 columns]"
            ],
            "text/html": [
              "\n",
              "  <div id=\"df-5ac80f5c-8de1-433d-836c-9e3ecb87ab6c\">\n",
              "    <div class=\"colab-df-container\">\n",
              "      <div>\n",
              "<style scoped>\n",
              "    .dataframe tbody tr th:only-of-type {\n",
              "        vertical-align: middle;\n",
              "    }\n",
              "\n",
              "    .dataframe tbody tr th {\n",
              "        vertical-align: top;\n",
              "    }\n",
              "\n",
              "    .dataframe thead th {\n",
              "        text-align: right;\n",
              "    }\n",
              "</style>\n",
              "<table border=\"1\" class=\"dataframe\">\n",
              "  <thead>\n",
              "    <tr style=\"text-align: right;\">\n",
              "      <th></th>\n",
              "      <th>sentences</th>\n",
              "      <th>classe</th>\n",
              "    </tr>\n",
              "  </thead>\n",
              "  <tbody>\n",
              "    <tr>\n",
              "      <th>0</th>\n",
              "      <td>اسغي ياشعب تونس تدعوا بالاسلام كفار الحمدلله ن...</td>\n",
              "      <td>2</td>\n",
              "    </tr>\n",
              "    <tr>\n",
              "      <th>1</th>\n",
              "      <td>قطع يد السارق توفرت الشروط شرط الحد الأدنى قيم...</td>\n",
              "      <td>0</td>\n",
              "    </tr>\n",
              "    <tr>\n",
              "      <th>2</th>\n",
              "      <td>تلوموش لطفي لعبدلي شرف</td>\n",
              "      <td>0</td>\n",
              "    </tr>\n",
              "    <tr>\n",
              "      <th>3</th>\n",
              "      <td>مستغرب شعب يسمع تفاهة شانو لى الدرجة الشعب تاف...</td>\n",
              "      <td>0</td>\n",
              "    </tr>\n",
              "    <tr>\n",
              "      <th>4</th>\n",
              "      <td>هههخ غزلتني مافهمتش شمدخلها الموضوع تتنطر وحده...</td>\n",
              "      <td>0</td>\n",
              "    </tr>\n",
              "    <tr>\n",
              "      <th>...</th>\n",
              "      <td>...</td>\n",
              "      <td>...</td>\n",
              "    </tr>\n",
              "    <tr>\n",
              "      <th>6455</th>\n",
              "      <td>وجهو وجه الطحين ورخس</td>\n",
              "      <td>1</td>\n",
              "    </tr>\n",
              "    <tr>\n",
              "      <th>6456</th>\n",
              "      <td>الله لا يبارك فيكم و في الي تزرعوا فيه اليوم ل...</td>\n",
              "      <td>2</td>\n",
              "    </tr>\n",
              "    <tr>\n",
              "      <th>6457</th>\n",
              "      <td>ملا حثالة مستدعيه ، قواد ولحاس ، طيح مستوى الب...</td>\n",
              "      <td>2</td>\n",
              "    </tr>\n",
              "    <tr>\n",
              "      <th>6458</th>\n",
              "      <td>شبعة خمج.اينما يقيم الجهل</td>\n",
              "      <td>2</td>\n",
              "    </tr>\n",
              "    <tr>\n",
              "      <th>6459</th>\n",
              "      <td>عدم إحترام المشاهد من جميع الأطراف هي قلة حياء</td>\n",
              "      <td>2</td>\n",
              "    </tr>\n",
              "  </tbody>\n",
              "</table>\n",
              "<p>6460 rows × 2 columns</p>\n",
              "</div>\n",
              "      <button class=\"colab-df-convert\" onclick=\"convertToInteractive('df-5ac80f5c-8de1-433d-836c-9e3ecb87ab6c')\"\n",
              "              title=\"Convert this dataframe to an interactive table.\"\n",
              "              style=\"display:none;\">\n",
              "        \n",
              "  <svg xmlns=\"http://www.w3.org/2000/svg\" height=\"24px\"viewBox=\"0 0 24 24\"\n",
              "       width=\"24px\">\n",
              "    <path d=\"M0 0h24v24H0V0z\" fill=\"none\"/>\n",
              "    <path d=\"M18.56 5.44l.94 2.06.94-2.06 2.06-.94-2.06-.94-.94-2.06-.94 2.06-2.06.94zm-11 1L8.5 8.5l.94-2.06 2.06-.94-2.06-.94L8.5 2.5l-.94 2.06-2.06.94zm10 10l.94 2.06.94-2.06 2.06-.94-2.06-.94-.94-2.06-.94 2.06-2.06.94z\"/><path d=\"M17.41 7.96l-1.37-1.37c-.4-.4-.92-.59-1.43-.59-.52 0-1.04.2-1.43.59L10.3 9.45l-7.72 7.72c-.78.78-.78 2.05 0 2.83L4 21.41c.39.39.9.59 1.41.59.51 0 1.02-.2 1.41-.59l7.78-7.78 2.81-2.81c.8-.78.8-2.07 0-2.86zM5.41 20L4 18.59l7.72-7.72 1.47 1.35L5.41 20z\"/>\n",
              "  </svg>\n",
              "      </button>\n",
              "      \n",
              "  <style>\n",
              "    .colab-df-container {\n",
              "      display:flex;\n",
              "      flex-wrap:wrap;\n",
              "      gap: 12px;\n",
              "    }\n",
              "\n",
              "    .colab-df-convert {\n",
              "      background-color: #E8F0FE;\n",
              "      border: none;\n",
              "      border-radius: 50%;\n",
              "      cursor: pointer;\n",
              "      display: none;\n",
              "      fill: #1967D2;\n",
              "      height: 32px;\n",
              "      padding: 0 0 0 0;\n",
              "      width: 32px;\n",
              "    }\n",
              "\n",
              "    .colab-df-convert:hover {\n",
              "      background-color: #E2EBFA;\n",
              "      box-shadow: 0px 1px 2px rgba(60, 64, 67, 0.3), 0px 1px 3px 1px rgba(60, 64, 67, 0.15);\n",
              "      fill: #174EA6;\n",
              "    }\n",
              "\n",
              "    [theme=dark] .colab-df-convert {\n",
              "      background-color: #3B4455;\n",
              "      fill: #D2E3FC;\n",
              "    }\n",
              "\n",
              "    [theme=dark] .colab-df-convert:hover {\n",
              "      background-color: #434B5C;\n",
              "      box-shadow: 0px 1px 3px 1px rgba(0, 0, 0, 0.15);\n",
              "      filter: drop-shadow(0px 1px 2px rgba(0, 0, 0, 0.3));\n",
              "      fill: #FFFFFF;\n",
              "    }\n",
              "  </style>\n",
              "\n",
              "      <script>\n",
              "        const buttonEl =\n",
              "          document.querySelector('#df-5ac80f5c-8de1-433d-836c-9e3ecb87ab6c button.colab-df-convert');\n",
              "        buttonEl.style.display =\n",
              "          google.colab.kernel.accessAllowed ? 'block' : 'none';\n",
              "\n",
              "        async function convertToInteractive(key) {\n",
              "          const element = document.querySelector('#df-5ac80f5c-8de1-433d-836c-9e3ecb87ab6c');\n",
              "          const dataTable =\n",
              "            await google.colab.kernel.invokeFunction('convertToInteractive',\n",
              "                                                     [key], {});\n",
              "          if (!dataTable) return;\n",
              "\n",
              "          const docLinkHtml = 'Like what you see? Visit the ' +\n",
              "            '<a target=\"_blank\" href=https://colab.research.google.com/notebooks/data_table.ipynb>data table notebook</a>'\n",
              "            + ' to learn more about interactive tables.';\n",
              "          element.innerHTML = '';\n",
              "          dataTable['output_type'] = 'display_data';\n",
              "          await google.colab.output.renderOutput(dataTable, element);\n",
              "          const docLink = document.createElement('div');\n",
              "          docLink.innerHTML = docLinkHtml;\n",
              "          element.appendChild(docLink);\n",
              "        }\n",
              "      </script>\n",
              "    </div>\n",
              "  </div>\n",
              "  "
            ]
          },
          "metadata": {},
          "execution_count": 15
        }
      ]
    },
    {
      "cell_type": "code",
      "source": [
        "plt.figure(1 , figsize = (15 , 5))\n",
        "sns.countplot(y = 'classe' , data = data12)\n",
        "plt.show()\n",
        "print(data12.loc[data12.classe==0].groupby('classe')[\"classe\"].count())\n",
        "print(data12.loc[data12.classe==1].groupby('classe')[\"classe\"].count())\n",
        "print(data12.loc[data12.classe==2].groupby('classe')[\"classe\"].count())"
      ],
      "metadata": {
        "colab": {
          "base_uri": "https://localhost:8080/",
          "height": 490
        },
        "id": "15BM6cRP0Wrl",
        "outputId": "c8fe0328-9087-4d0c-817d-9ef3a20ff90f"
      },
      "execution_count": 16,
      "outputs": [
        {
          "output_type": "display_data",
          "data": {
            "text/plain": [
              "<Figure size 1080x360 with 1 Axes>"
            ],
            "image/png": "[encoded data removed]"
          },
          "metadata": {
            "needs_background": "light"
          }
        },
        {
          "output_type": "stream",
          "name": "stdout",
          "text": [
            "classe\n",
            "0    3857\n",
            "Name: classe, dtype: int64\n",
            "classe\n",
            "1    1204\n",
            "Name: classe, dtype: int64\n",
            "classe\n",
            "2    1399\n",
            "Name: classe, dtype: int64\n"
          ]
        }
      ]
    },
    {
      "cell_type": "code",
      "source": [
        "plt.figure(1 , figsize = (15 , 5))\n",
        "sns.countplot(y = 'classe' , data = data34)\n",
        "plt.show()\n",
        "print(data34.loc[data34.classe==0].groupby('classe')[\"classe\"].count())\n",
        "print(data34.loc[data34.classe==1].groupby('classe')[\"classe\"].count())\n",
        "print(data34.loc[data34.classe==2].groupby('classe')[\"classe\"].count())"
      ],
      "metadata": {
        "colab": {
          "base_uri": "https://localhost:8080/",
          "height": 490
        },
        "id": "OOiCKJ4y1I5T",
        "outputId": "d072fd50-c07a-43a0-d3e6-7a9b96f6950e"
      },
      "execution_count": 17,
      "outputs": [
        {
          "output_type": "display_data",
          "data": {
            "text/plain": [
              "<Figure size 1080x360 with 1 Axes>"
            ],
            "image/png": "[encoded data removed]"
          },
          "metadata": {
            "needs_background": "light"
          }
        },
        {
          "output_type": "stream",
          "name": "stdout",
          "text": [
            "classe\n",
            "0    4565\n",
            "Name: classe, dtype: int64\n",
            "classe\n",
            "1    1746\n",
            "Name: classe, dtype: int64\n",
            "classe\n",
            "2    2885\n",
            "Name: classe, dtype: int64\n"
          ]
        }
      ]
    },
    {
      "cell_type": "markdown",
      "source": [
        "##The way that the computers percieve words and phrases is diffrent from the way that we preceve it as human beings. There are a veriety of ways for us that we can utilise to program the data type that we have and to make it numerical so that the model can get some meaning out of it. We call this part encoding text.\n",
        "##we can transfor each alphabet and caracter to it's ASCII Code, but this approach wasn't proven to give great results [To Research] !!!\n",
        "#What I did in the code was: Continus or distributed Embeddings Vectors representation:\n",
        "* First: Build a dictionary of tokens: I defined a dictionnary That has the words as keys and a unique number as a value\n",
        "* I then changed all of the phrases into Lists that has integers that indicate which word is in that particular place\n",
        "* Use One-Hot Vector\n",
        "\n",
        "##After doing this process, we have a numerical data that the model can use to get some meaning out of the labels"
      ],
      "metadata": {
        "id": "qbiHzGSbw8sE"
      }
    },
    {
      "cell_type": "code",
      "source": [
        "training_size=int(len(Nsentences)*0.8)   #Experimenting setup\n",
        "\n",
        "training_sentences = Nsentences[0:training_size]\n",
        "testing_sentences = Nsentences[training_size:]\n",
        "training_labels = Nlables[0:training_size]\n",
        "testing_labels = Nlables[training_size:]\n",
        "\n",
        "embedding_dim = 16\n",
        "\n",
        "tokenizer = Tokenizer(num_words=3000, oov_token=\"<OOV>\")\n",
        "tokenizer.fit_on_texts(training_sentences)\n",
        "\n",
        "vocab_size = len(tokenizer.word_index) + 1 \n",
        "\n",
        "word_index = tokenizer.word_index\n",
        "\n",
        "training_sequences = tokenizer.texts_to_sequences(training_sentences)\n",
        "training_padded = pad_sequences(training_sequences, maxlen=max_length, padding='post', truncating='post')\n",
        "\n",
        "testing_sequences = tokenizer.texts_to_sequences(testing_sentences)\n",
        "testing_padded = pad_sequences(testing_sequences, maxlen=max_length, padding='post', truncating='post')"
      ],
      "metadata": {
        "id": "FrNFMsATGjbL"
      },
      "execution_count": 18,
      "outputs": []
    },
    {
      "cell_type": "code",
      "source": [
        "vocab_size"
      ],
      "metadata": {
        "id": "GCD5XHrK8HaL",
        "outputId": "8c8ebe6b-9e12-4215-90d0-429f63bdef5b",
        "colab": {
          "base_uri": "https://localhost:8080/"
        }
      },
      "execution_count": 19,
      "outputs": [
        {
          "output_type": "execute_result",
          "data": {
            "text/plain": [
              "39925"
            ]
          },
          "metadata": {},
          "execution_count": 19
        }
      ]
    },
    {
      "cell_type": "code",
      "source": [
        "len(word_index)"
      ],
      "metadata": {
        "id": "PB3wZKaR8MXq",
        "outputId": "c92dd66d-7380-4106-b1ff-f67c324db587",
        "colab": {
          "base_uri": "https://localhost:8080/"
        }
      },
      "execution_count": 20,
      "outputs": [
        {
          "output_type": "execute_result",
          "data": {
            "text/plain": [
              "39924"
            ]
          },
          "metadata": {},
          "execution_count": 20
        }
      ]
    },
    {
      "cell_type": "code",
      "source": [
        "Nsentences12=data12[\"sentences\"]\n",
        "Nlables12=data12['classe']\n",
        "\n",
        "training_size=int(len(Nsentences12)*0.8)\n",
        "\n",
        "testing_sentences12 = Nsentences12[training_size:]\n",
        "testing_labels12 = Nlables12[training_size:]\n",
        "\n",
        "Nsentences34=data34[\"sentences\"]\n",
        "Nlables34=data34['classe']\n",
        "\n",
        "training_size=int(len(Nsentences34)*0.8)\n",
        "\n",
        "testing_sentences34 = Nsentences34[training_size:]\n",
        "testing_labels34 = Nlables34[training_size:]"
      ],
      "metadata": {
        "id": "mkUjHchx4FaT"
      },
      "execution_count": 21,
      "outputs": []
    },
    {
      "cell_type": "code",
      "source": [
        "max_length12=count_words(max(testing_sentences12,key=count_words))\n",
        "max_length12"
      ],
      "metadata": {
        "id": "NPn7XcNo5qUy",
        "outputId": "cf8ab232-1e90-47f5-b515-edb6fa4d73e0",
        "colab": {
          "base_uri": "https://localhost:8080/"
        }
      },
      "execution_count": 22,
      "outputs": [
        {
          "output_type": "execute_result",
          "data": {
            "text/plain": [
              "206"
            ]
          },
          "metadata": {},
          "execution_count": 22
        }
      ]
    },
    {
      "cell_type": "code",
      "source": [
        "max_length34=count_words(max(testing_sentences34,key=count_words))\n",
        "max_length34"
      ],
      "metadata": {
        "id": "5FkaUBXI60-_",
        "outputId": "0361a6ba-59ba-4f62-91e9-edc9b1ba2778",
        "colab": {
          "base_uri": "https://localhost:8080/"
        }
      },
      "execution_count": 23,
      "outputs": [
        {
          "output_type": "execute_result",
          "data": {
            "text/plain": [
              "29"
            ]
          },
          "metadata": {},
          "execution_count": 23
        }
      ]
    },
    {
      "cell_type": "markdown",
      "source": [
        "###The Maximum length in the new data is less than 207, so we can padd them without losing information."
      ],
      "metadata": {
        "id": "AFubPmEL7Qrh"
      }
    },
    {
      "cell_type": "code",
      "source": [
        "testing_sequences12 = tokenizer.texts_to_sequences(testing_sentences12)\n",
        "testing_padded12 = pad_sequences(testing_sequences12, maxlen=max_length, padding='post', truncating='post')\n",
        "\n",
        "testing_sequences34 = tokenizer.texts_to_sequences(testing_sentences34)\n",
        "testing_padded34 = pad_sequences(testing_sequences34, maxlen=max_length, padding='post', truncating='post')"
      ],
      "metadata": {
        "id": "e0p6r_d_7O58"
      },
      "execution_count": 24,
      "outputs": []
    },
    {
      "cell_type": "markdown",
      "source": [
        "#Modelling"
      ],
      "metadata": {
        "id": "TzmCjIfYBA8G"
      }
    },
    {
      "cell_type": "markdown",
      "source": [
        "##For The First Model"
      ],
      "metadata": {
        "id": "-CRh9Gqc7KxQ"
      }
    },
    {
      "cell_type": "code",
      "source": [
        "import tensorflow as tf\n",
        "\n",
        "model=tf.keras.models.Sequential ([\n",
        "                                   tf.keras.layers.Embedding(vocab_size, embedding_dim, input_length=max_length),\n",
        "                                   tf.keras.layers.Conv1D(128, 5, activation='relu'),\n",
        "                                   tf.keras.layers.Conv1D(filters=32, kernel_size=1, activation='selu'),\n",
        "                                   tf.keras.layers.Bidirectional(tf.keras.layers.LSTM(32,return_sequences=True)),\n",
        "                                   tf.keras.layers.Bidirectional(tf.keras.layers.LSTM(32,return_sequences=True)),\n",
        "                                   tf.keras.layers.Bidirectional(tf.keras.layers.LSTM(16,return_sequences=True)),\n",
        "                                   tf.keras.layers.Flatten(),\n",
        "                                   tf.keras.layers.Dense(units=3, activation='softmax')])\n",
        "model.summary()"
      ],
      "metadata": {
        "colab": {
          "base_uri": "https://localhost:8080/"
        },
        "id": "attb9Ze4BGlm",
        "outputId": "8c5e2cf6-9273-4e2e-8858-9d1a9f6ad099"
      },
      "execution_count": 25,
      "outputs": [
        {
          "output_type": "stream",
          "name": "stdout",
          "text": [
            "Model: \"sequential\"\n",
            "_________________________________________________________________\n",
            " Layer (type)                Output Shape              Param #   \n",
            "=================================================================\n",
            " embedding (Embedding)       (None, 207, 16)           638800    \n",
            "                                                                 \n",
            " conv1d (Conv1D)             (None, 203, 128)          10368     \n",
            "                                                                 \n",
            " conv1d_1 (Conv1D)           (None, 203, 32)           4128      \n",
            "                                                                 \n",
            " bidirectional (Bidirectiona  (None, 203, 64)          16640     \n",
            " l)                                                              \n",
            "                                                                 \n",
            " bidirectional_1 (Bidirectio  (None, 203, 64)          24832     \n",
            " nal)                                                            \n",
            "                                                                 \n",
            " bidirectional_2 (Bidirectio  (None, 203, 32)          10368     \n",
            " nal)                                                            \n",
            "                                                                 \n",
            " flatten (Flatten)           (None, 6496)              0         \n",
            "                                                                 \n",
            " dense (Dense)               (None, 3)                 19491     \n",
            "                                                                 \n",
            "=================================================================\n",
            "Total params: 724,627\n",
            "Trainable params: 724,627\n",
            "Non-trainable params: 0\n",
            "_________________________________________________________________\n"
          ]
        }
      ]
    },
    {
      "cell_type": "code",
      "source": [
        "#For the First Model\n",
        "model.compile(loss=\"sparse_categorical_crossentropy\",optimizer='adam',metrics=['accuracy'],run_eagerly=True)\n",
        "\n",
        "training_padded = np.asarray(training_padded).astype(np.int)\n",
        "training_labels = np.asarray(training_labels).astype(np.int)\n",
        "testing_padded = np.asarray(testing_padded).astype(np.int)\n",
        "testing_labels = np.asarray(testing_labels).astype(np.int)\n",
        "\n",
        "\n",
        "training_labels = np.expand_dims(training_labels, axis=1)\n",
        "testing_labels = np.expand_dims(testing_labels, axis=1)\n",
        "\n",
        "history = model.fit(training_padded, training_labels, batch_size=128, epochs=50, validation_data=(testing_padded, testing_labels), verbose=1)"
      ],
      "metadata": {
        "colab": {
          "base_uri": "https://localhost:8080/"
        },
        "id": "YK8y9kQFL5T5",
        "outputId": "e9891dd1-ad9b-4d1c-c0c1-a1afe5cadeaf"
      },
      "execution_count": 26,
      "outputs": [
        {
          "output_type": "stream",
          "name": "stdout",
          "text": [
            "Epoch 1/50\n"
          ]
        },
        {
          "output_type": "stream",
          "name": "stderr",
          "text": [
            "/usr/local/lib/python3.7/dist-packages/ipykernel_launcher.py:4: DeprecationWarning: `np.int` is a deprecated alias for the builtin `int`. To silence this warning, use `int` by itself. Doing this will not modify any behavior and is safe. When replacing `np.int`, you may wish to use e.g. `np.int64` or `np.int32` to specify the precision. If you wish to review your current use, check the release note link for additional information.\n",
            "Deprecated in NumPy 1.20; for more details and guidance: https://numpy.org/devdocs/release/1.20.0-notes.html#deprecations\n",
            "  after removing the cwd from sys.path.\n",
            "/usr/local/lib/python3.7/dist-packages/ipykernel_launcher.py:5: DeprecationWarning: `np.int` is a deprecated alias for the builtin `int`. To silence this warning, use `int` by itself. Doing this will not modify any behavior and is safe. When replacing `np.int`, you may wish to use e.g. `np.int64` or `np.int32` to specify the precision. If you wish to review your current use, check the release note link for additional information.\n",
            "Deprecated in NumPy 1.20; for more details and guidance: https://numpy.org/devdocs/release/1.20.0-notes.html#deprecations\n",
            "  \"\"\"\n",
            "/usr/local/lib/python3.7/dist-packages/ipykernel_launcher.py:6: DeprecationWarning: `np.int` is a deprecated alias for the builtin `int`. To silence this warning, use `int` by itself. Doing this will not modify any behavior and is safe. When replacing `np.int`, you may wish to use e.g. `np.int64` or `np.int32` to specify the precision. If you wish to review your current use, check the release note link for additional information.\n",
            "Deprecated in NumPy 1.20; for more details and guidance: https://numpy.org/devdocs/release/1.20.0-notes.html#deprecations\n",
            "  \n",
            "/usr/local/lib/python3.7/dist-packages/ipykernel_launcher.py:7: DeprecationWarning: `np.int` is a deprecated alias for the builtin `int`. To silence this warning, use `int` by itself. Doing this will not modify any behavior and is safe. When replacing `np.int`, you may wish to use e.g. `np.int64` or `np.int32` to specify the precision. If you wish to review your current use, check the release note link for additional information.\n",
            "Deprecated in NumPy 1.20; for more details and guidance: https://numpy.org/devdocs/release/1.20.0-notes.html#deprecations\n",
            "  import sys\n"
          ]
        },
        {
          "output_type": "stream",
          "name": "stdout",
          "text": [
            "129/129 [==============================] - 27s 120ms/step - loss: 0.9055 - accuracy: 0.5476 - val_loss: 0.7940 - val_accuracy: 0.5520\n",
            "Epoch 2/50\n",
            "129/129 [==============================] - 14s 109ms/step - loss: 0.5853 - accuracy: 0.7605 - val_loss: 0.6046 - val_accuracy: 0.7073\n",
            "Epoch 3/50\n",
            "129/129 [==============================] - 14s 107ms/step - loss: 0.4459 - accuracy: 0.8299 - val_loss: 0.6195 - val_accuracy: 0.7407\n",
            "Epoch 4/50\n",
            "129/129 [==============================] - 14s 109ms/step - loss: 0.3874 - accuracy: 0.8502 - val_loss: 0.5012 - val_accuracy: 0.7967\n",
            "Epoch 5/50\n",
            "129/129 [==============================] - 15s 116ms/step - loss: 0.3532 - accuracy: 0.8645 - val_loss: 0.4533 - val_accuracy: 0.8045\n",
            "Epoch 6/50\n",
            "129/129 [==============================] - 14s 108ms/step - loss: 0.3211 - accuracy: 0.8767 - val_loss: 0.3713 - val_accuracy: 0.8627\n",
            "Epoch 7/50\n",
            "129/129 [==============================] - 14s 107ms/step - loss: 0.2967 - accuracy: 0.8856 - val_loss: 0.4751 - val_accuracy: 0.8055\n",
            "Epoch 8/50\n",
            "129/129 [==============================] - 15s 115ms/step - loss: 0.2716 - accuracy: 0.8957 - val_loss: 0.2351 - val_accuracy: 0.9199\n",
            "Epoch 9/50\n",
            "129/129 [==============================] - 15s 120ms/step - loss: 0.2466 - accuracy: 0.9034 - val_loss: 0.3632 - val_accuracy: 0.8473\n",
            "Epoch 10/50\n",
            "129/129 [==============================] - 14s 109ms/step - loss: 0.2270 - accuracy: 0.9127 - val_loss: 0.3003 - val_accuracy: 0.8790\n",
            "Epoch 11/50\n",
            "129/129 [==============================] - 15s 116ms/step - loss: 0.2121 - accuracy: 0.9181 - val_loss: 0.2371 - val_accuracy: 0.8953\n",
            "Epoch 12/50\n",
            "129/129 [==============================] - 15s 119ms/step - loss: 0.1974 - accuracy: 0.9216 - val_loss: 0.2208 - val_accuracy: 0.9140\n",
            "Epoch 13/50\n",
            "129/129 [==============================] - 14s 108ms/step - loss: 0.1834 - accuracy: 0.9285 - val_loss: 0.2049 - val_accuracy: 0.9265\n",
            "Epoch 14/50\n",
            "129/129 [==============================] - 15s 116ms/step - loss: 0.1717 - accuracy: 0.9315 - val_loss: 0.1630 - val_accuracy: 0.9537\n",
            "Epoch 15/50\n",
            "129/129 [==============================] - 14s 108ms/step - loss: 0.1621 - accuracy: 0.9338 - val_loss: 0.1489 - val_accuracy: 0.9403\n",
            "Epoch 16/50\n",
            "129/129 [==============================] - 14s 109ms/step - loss: 0.1569 - accuracy: 0.9366 - val_loss: 0.2015 - val_accuracy: 0.9131\n",
            "Epoch 17/50\n",
            "129/129 [==============================] - 14s 110ms/step - loss: 0.1492 - accuracy: 0.9383 - val_loss: 0.1811 - val_accuracy: 0.9209\n",
            "Epoch 18/50\n",
            "129/129 [==============================] - 14s 108ms/step - loss: 0.1428 - accuracy: 0.9411 - val_loss: 0.1576 - val_accuracy: 0.9384\n",
            "Epoch 19/50\n",
            "129/129 [==============================] - 15s 117ms/step - loss: 0.1414 - accuracy: 0.9387 - val_loss: 0.1447 - val_accuracy: 0.9450\n",
            "Epoch 20/50\n",
            "129/129 [==============================] - 14s 107ms/step - loss: 0.1358 - accuracy: 0.9426 - val_loss: 0.1554 - val_accuracy: 0.9313\n",
            "Epoch 21/50\n",
            "129/129 [==============================] - 14s 108ms/step - loss: 0.1358 - accuracy: 0.9410 - val_loss: 0.1709 - val_accuracy: 0.9184\n",
            "Epoch 22/50\n",
            "129/129 [==============================] - 15s 117ms/step - loss: 0.1278 - accuracy: 0.9445 - val_loss: 0.1903 - val_accuracy: 0.9123\n",
            "Epoch 23/50\n",
            "129/129 [==============================] - 15s 117ms/step - loss: 0.1239 - accuracy: 0.9439 - val_loss: 0.1463 - val_accuracy: 0.9408\n",
            "Epoch 24/50\n",
            "129/129 [==============================] - 14s 108ms/step - loss: 0.1200 - accuracy: 0.9464 - val_loss: 0.1660 - val_accuracy: 0.9333\n",
            "Epoch 25/50\n",
            "129/129 [==============================] - 15s 115ms/step - loss: 0.1194 - accuracy: 0.9479 - val_loss: 0.1758 - val_accuracy: 0.9201\n",
            "Epoch 26/50\n",
            "129/129 [==============================] - 15s 116ms/step - loss: 0.1162 - accuracy: 0.9476 - val_loss: 0.1616 - val_accuracy: 0.9196\n",
            "Epoch 27/50\n",
            "129/129 [==============================] - 15s 117ms/step - loss: 0.1148 - accuracy: 0.9462 - val_loss: 0.1426 - val_accuracy: 0.9403\n",
            "Epoch 28/50\n",
            "129/129 [==============================] - 15s 116ms/step - loss: 0.1105 - accuracy: 0.9489 - val_loss: 0.1399 - val_accuracy: 0.9352\n",
            "Epoch 29/50\n",
            "129/129 [==============================] - 14s 107ms/step - loss: 0.1079 - accuracy: 0.9490 - val_loss: 0.1628 - val_accuracy: 0.9231\n",
            "Epoch 30/50\n",
            "129/129 [==============================] - 14s 108ms/step - loss: 0.1128 - accuracy: 0.9483 - val_loss: 0.1730 - val_accuracy: 0.9294\n",
            "Epoch 31/50\n",
            "129/129 [==============================] - 15s 115ms/step - loss: 0.1057 - accuracy: 0.9479 - val_loss: 0.1701 - val_accuracy: 0.9211\n",
            "Epoch 32/50\n",
            "129/129 [==============================] - 14s 107ms/step - loss: 0.1026 - accuracy: 0.9502 - val_loss: 0.1427 - val_accuracy: 0.9367\n",
            "Epoch 33/50\n",
            "129/129 [==============================] - 15s 116ms/step - loss: 0.0993 - accuracy: 0.9499 - val_loss: 0.1788 - val_accuracy: 0.9092\n",
            "Epoch 34/50\n",
            "129/129 [==============================] - 14s 109ms/step - loss: 0.0978 - accuracy: 0.9500 - val_loss: 0.1292 - val_accuracy: 0.9503\n",
            "Epoch 35/50\n",
            "129/129 [==============================] - 15s 116ms/step - loss: 0.1022 - accuracy: 0.9511 - val_loss: 0.1602 - val_accuracy: 0.9313\n",
            "Epoch 36/50\n",
            "129/129 [==============================] - 14s 108ms/step - loss: 0.1047 - accuracy: 0.9492 - val_loss: 0.2039 - val_accuracy: 0.9033\n",
            "Epoch 37/50\n",
            "129/129 [==============================] - 14s 108ms/step - loss: 0.1009 - accuracy: 0.9517 - val_loss: 0.1468 - val_accuracy: 0.9296\n",
            "Epoch 38/50\n",
            "129/129 [==============================] - 15s 117ms/step - loss: 0.0980 - accuracy: 0.9524 - val_loss: 0.1423 - val_accuracy: 0.9384\n",
            "Epoch 39/50\n",
            "129/129 [==============================] - 15s 116ms/step - loss: 0.0956 - accuracy: 0.9518 - val_loss: 0.1653 - val_accuracy: 0.9272\n",
            "Epoch 40/50\n",
            "129/129 [==============================] - 15s 116ms/step - loss: 0.0906 - accuracy: 0.9509 - val_loss: 0.1481 - val_accuracy: 0.9343\n",
            "Epoch 41/50\n",
            "129/129 [==============================] - 14s 107ms/step - loss: 0.0883 - accuracy: 0.9532 - val_loss: 0.1559 - val_accuracy: 0.9328\n",
            "Epoch 42/50\n",
            "129/129 [==============================] - 14s 107ms/step - loss: 0.0950 - accuracy: 0.9527 - val_loss: 0.1430 - val_accuracy: 0.9333\n",
            "Epoch 43/50\n",
            "129/129 [==============================] - 14s 107ms/step - loss: 0.0943 - accuracy: 0.9526 - val_loss: 0.1323 - val_accuracy: 0.9413\n",
            "Epoch 44/50\n",
            "129/129 [==============================] - 15s 116ms/step - loss: 0.0911 - accuracy: 0.9536 - val_loss: 0.1460 - val_accuracy: 0.9284\n",
            "Epoch 45/50\n",
            "129/129 [==============================] - 15s 116ms/step - loss: 0.0896 - accuracy: 0.9531 - val_loss: 0.1347 - val_accuracy: 0.9550\n",
            "Epoch 46/50\n",
            "129/129 [==============================] - 15s 115ms/step - loss: 0.0876 - accuracy: 0.9548 - val_loss: 0.1283 - val_accuracy: 0.9574\n",
            "Epoch 47/50\n",
            "129/129 [==============================] - 15s 116ms/step - loss: 0.0888 - accuracy: 0.9527 - val_loss: 0.1512 - val_accuracy: 0.9272\n",
            "Epoch 48/50\n",
            "129/129 [==============================] - 15s 116ms/step - loss: 0.0860 - accuracy: 0.9541 - val_loss: 0.1464 - val_accuracy: 0.9284\n",
            "Epoch 49/50\n",
            "129/129 [==============================] - 15s 116ms/step - loss: 0.0879 - accuracy: 0.9548 - val_loss: 0.1376 - val_accuracy: 0.9372\n",
            "Epoch 50/50\n",
            "129/129 [==============================] - 14s 107ms/step - loss: 0.0833 - accuracy: 0.9546 - val_loss: 0.1435 - val_accuracy: 0.9328\n"
          ]
        }
      ]
    },
    {
      "cell_type": "code",
      "source": [
        "#Epoch 20/20\n",
        "#144/144 [==============================] - 245s 2s/step - loss: 0.1099 - accuracy: 0.9551 - val_loss: 0.2792 - val_accuracy: 0.9184\n",
        "#Epoch 15/15\n",
        "#107/107 [==============================] - 12s 108ms/step - loss: 0.2000 - accuracy: 0.9226 - val_loss: 0.8032 - val_accuracy: 0.7934\n",
        "#Epoch 50/50\n",
        "#107/107 [==============================] - 12s 109ms/step - loss: 0.1048 - accuracy: 0.9466 - val_loss: 1.1665 - val_accuracy: 0.8201\n",
        "#Epoch 50/50\n",
        "#107/107 [==============================] - 12s 108ms/step - loss: 0.0983 - accuracy: 0.9478 - val_loss: 1.3881 - val_accuracy: 0.8045"
      ],
      "metadata": {
        "id": "87O-L-vRBuy-"
      },
      "execution_count": null,
      "outputs": []
    },
    {
      "cell_type": "code",
      "source": [
        "tf.keras.utils.plot_model(model, show_shapes=True)"
      ],
      "metadata": {
        "id": "fpzHswneMSZv",
        "colab": {
          "base_uri": "https://localhost:8080/",
          "height": 976
        },
        "outputId": "7b35fbc5-2706-45f6-d3fd-9e6046a8a5d3"
      },
      "execution_count": 27,
      "outputs": [
        {
          "output_type": "execute_result",
          "data": {
            "text/plain": [
              "<IPython.core.display.Image object>"
            ],
            "image/png": "[encoded data removed]"
          },
          "metadata": {},
          "execution_count": 27
        }
      ]
    },
    {
      "cell_type": "code",
      "source": [
        "from sklearn.metrics import confusion_matrix\n",
        "import numpy as np\n",
        "pred=model.predict(testing_padded)\n",
        "rounded_labels1=np.argmax(pred, axis=1).astype(int)\n",
        "cm = confusion_matrix(testing_labels, rounded_labels1)\n",
        "cm"
      ],
      "metadata": {
        "colab": {
          "base_uri": "https://localhost:8080/"
        },
        "id": "ctfA3AV-NbFv",
        "outputId": "ffc5ec2a-7242-4ac7-938b-d1efc7374938"
      },
      "execution_count": 29,
      "outputs": [
        {
          "output_type": "execute_result",
          "data": {
            "text/plain": [
              "array([[ 696,   12,   30],\n",
              "       [  46, 2932,  162],\n",
              "       [  18,    8,  203]])"
            ]
          },
          "metadata": {},
          "execution_count": 29
        }
      ]
    },
    {
      "cell_type": "code",
      "source": [
        "from sklearn.metrics import classification_report\n",
        "\n",
        "print(classification_report(testing_labels, rounded_labels1, labels=[0,1,2]))"
      ],
      "metadata": {
        "colab": {
          "base_uri": "https://localhost:8080/"
        },
        "id": "aHeRqiyHPrxY",
        "outputId": "423926c5-2839-4c94-b00a-184c435e4f99"
      },
      "execution_count": 30,
      "outputs": [
        {
          "output_type": "stream",
          "name": "stdout",
          "text": [
            "              precision    recall  f1-score   support\n",
            "\n",
            "           0       0.92      0.94      0.93       738\n",
            "           1       0.99      0.93      0.96      3140\n",
            "           2       0.51      0.89      0.65       229\n",
            "\n",
            "    accuracy                           0.93      4107\n",
            "   macro avg       0.81      0.92      0.85      4107\n",
            "weighted avg       0.95      0.93      0.94      4107\n",
            "\n"
          ]
        }
      ]
    },
    {
      "cell_type": "code",
      "source": [
        "pred12=model.predict(testing_padded12)\n",
        "rounded_labels112=np.argmax(pred12, axis=1).astype(int)\n",
        "cm12 = confusion_matrix(testing_labels12, rounded_labels112)\n",
        "print(cm12)\n",
        "print(classification_report(testing_labels12, rounded_labels112, labels=[0,1,2]))"
      ],
      "metadata": {
        "colab": {
          "base_uri": "https://localhost:8080/"
        },
        "id": "zhxyhB-19XNo",
        "outputId": "438c336c-9a89-4243-c748-f56e10e164d8"
      },
      "execution_count": 31,
      "outputs": [
        {
          "output_type": "stream",
          "name": "stdout",
          "text": [
            "[[268 132 187]\n",
            " [  8 214  31]\n",
            " [  7 169 276]]\n",
            "              precision    recall  f1-score   support\n",
            "\n",
            "           0       0.95      0.46      0.62       587\n",
            "           1       0.42      0.85      0.56       253\n",
            "           2       0.56      0.61      0.58       452\n",
            "\n",
            "    accuracy                           0.59      1292\n",
            "   macro avg       0.64      0.64      0.59      1292\n",
            "weighted avg       0.71      0.59      0.59      1292\n",
            "\n"
          ]
        }
      ]
    },
    {
      "cell_type": "code",
      "source": [
        "pred34=model.predict(testing_padded34)\n",
        "rounded_labels134=np.argmax(pred34, axis=1).astype(int)\n",
        "cm34 = confusion_matrix(testing_labels34, rounded_labels134)\n",
        "print(cm34)\n",
        "print(classification_report(testing_labels34, rounded_labels134, labels=[0,1,2]))"
      ],
      "metadata": {
        "colab": {
          "base_uri": "https://localhost:8080/"
        },
        "id": "r8LFe8Lr9fZ9",
        "outputId": "be83e6a0-9ec8-4e91-baab-a7d09c566028"
      },
      "execution_count": 32,
      "outputs": [
        {
          "output_type": "stream",
          "name": "stdout",
          "text": [
            "[[  68   16  442]\n",
            " [   0    7    0]\n",
            " [   0    2 1305]]\n",
            "              precision    recall  f1-score   support\n",
            "\n",
            "           0       1.00      0.13      0.23       526\n",
            "           1       0.28      1.00      0.44         7\n",
            "           2       0.75      1.00      0.85      1307\n",
            "\n",
            "    accuracy                           0.75      1840\n",
            "   macro avg       0.68      0.71      0.51      1840\n",
            "weighted avg       0.82      0.75      0.67      1840\n",
            "\n"
          ]
        }
      ]
    },
    {
      "cell_type": "code",
      "source": [
        "import matplotlib.pyplot as plt\n",
        "import numpy\n",
        "# summarize history for accuracy\n",
        "plt.plot(history.history['loss'])\n",
        "plt.plot(history.history['val_loss'])\n",
        "plt.title('model loss')\n",
        "plt.ylabel('loss')\n",
        "plt.xlabel('epoch')\n",
        "plt.legend(['train', 'test'], loc='upper left')\n",
        "plt.show()\n",
        "# summarize history for loss\n",
        "plt.plot(history.history['accuracy'])\n",
        "plt.plot(history.history['val_accuracy'])\n",
        "plt.title('model accuracy')\n",
        "plt.ylabel('accuracy')\n",
        "plt.xlabel('epoch')\n",
        "plt.legend(['train', 'test'], loc='upper left')\n",
        "plt.show()"
      ],
      "metadata": {
        "colab": {
          "base_uri": "https://localhost:8080/",
          "height": 573
        },
        "id": "QXLyKWWv58Qd",
        "outputId": "2c018f74-2700-441d-a61d-a07fc1154043"
      },
      "execution_count": 33,
      "outputs": [
        {
          "output_type": "display_data",
          "data": {
            "text/plain": [
              "<Figure size 432x288 with 1 Axes>"
            ],
            "image/png": "[encoded data removed]"
          },
          "metadata": {
            "needs_background": "light"
          }
        },
        {
          "output_type": "display_data",
          "data": {
            "text/plain": [
              "<Figure size 432x288 with 1 Axes>"
            ],
            "image/png": "[encoded data removed]"
          },
          "metadata": {
            "needs_background": "light"
          }
        }
      ]
    },
    {
      "cell_type": "markdown",
      "source": [
        "##For the Second Model"
      ],
      "metadata": {
        "id": "2DGrTNt17GKc"
      }
    },
    {
      "cell_type": "code",
      "source": [
        "import tensorflow as tf\n",
        "model2 = tf.keras.Sequential([\n",
        "    tf.keras.layers.Embedding(vocab_size, embedding_dim, input_length=max_length),\n",
        "    tf.keras.layers.Conv1D(128, 5, activation='relu'),\n",
        "    tf.keras.layers.GlobalMaxPooling1D(),\n",
        "    tf.keras.layers.Flatten(),\n",
        "    tf.keras.layers.Dense(24, activation='relu'),\n",
        "    tf.keras.layers.Dense(2, activation='softmax'),\n",
        "    tf.keras.layers.Dense(units=3, activation='softmax')\n",
        "])\n",
        "model2.summary()"
      ],
      "metadata": {
        "colab": {
          "base_uri": "https://localhost:8080/"
        },
        "id": "Vsv2gTUcITR-",
        "outputId": "eaaeb341-8362-4a83-a96f-8444e3a7ac4e"
      },
      "execution_count": 33,
      "outputs": [
        {
          "output_type": "stream",
          "name": "stdout",
          "text": [
            "Model: \"sequential_2\"\n",
            "_________________________________________________________________\n",
            " Layer (type)                Output Shape              Param #   \n",
            "=================================================================\n",
            " embedding_2 (Embedding)     (None, 207, 16)           638800    \n",
            "                                                                 \n",
            " conv1d_3 (Conv1D)           (None, 203, 128)          10368     \n",
            "                                                                 \n",
            " global_max_pooling1d_1 (Glo  (None, 128)              0         \n",
            " balMaxPooling1D)                                                \n",
            "                                                                 \n",
            " flatten_2 (Flatten)         (None, 128)               0         \n",
            "                                                                 \n",
            " dense_4 (Dense)             (None, 24)                3096      \n",
            "                                                                 \n",
            " dense_5 (Dense)             (None, 2)                 50        \n",
            "                                                                 \n",
            " dense_6 (Dense)             (None, 3)                 9         \n",
            "                                                                 \n",
            "=================================================================\n",
            "Total params: 652,323\n",
            "Trainable params: 652,323\n",
            "Non-trainable params: 0\n",
            "_________________________________________________________________\n"
          ]
        }
      ]
    },
    {
      "cell_type": "code",
      "source": [
        "model2.compile(loss=\"sparse_categorical_crossentropy\",optimizer='adam',metrics=['accuracy'])\n",
        "\n",
        "\n",
        "history = model2.fit(training_padded, training_labels, batch_size=128, epochs=50, validation_data=(testing_padded, testing_labels), verbose=1)"
      ],
      "metadata": {
        "colab": {
          "base_uri": "https://localhost:8080/"
        },
        "id": "-edaUQlH57pA",
        "outputId": "1010d28e-4a96-4630-b1fa-046e9f25007a"
      },
      "execution_count": 34,
      "outputs": [
        {
          "output_type": "stream",
          "name": "stdout",
          "text": [
            "Epoch 1/50\n",
            "129/129 [==============================] - 2s 8ms/step - loss: 1.0577 - accuracy: 0.4019 - val_loss: 1.1703 - val_accuracy: 0.0558\n",
            "Epoch 2/50\n",
            "129/129 [==============================] - 1s 7ms/step - loss: 0.9750 - accuracy: 0.4946 - val_loss: 0.9965 - val_accuracy: 0.7884\n",
            "Epoch 3/50\n",
            "129/129 [==============================] - 1s 7ms/step - loss: 0.9051 - accuracy: 0.5794 - val_loss: 0.8896 - val_accuracy: 0.8388\n",
            "Epoch 4/50\n",
            "129/129 [==============================] - 1s 6ms/step - loss: 0.8576 - accuracy: 0.5855 - val_loss: 0.8161 - val_accuracy: 0.8468\n",
            "Epoch 5/50\n",
            "129/129 [==============================] - 1s 7ms/step - loss: 0.8239 - accuracy: 0.5939 - val_loss: 0.7383 - val_accuracy: 0.8561\n",
            "Epoch 6/50\n",
            "129/129 [==============================] - 1s 7ms/step - loss: 0.7985 - accuracy: 0.5872 - val_loss: 0.6676 - val_accuracy: 0.8717\n",
            "Epoch 7/50\n",
            "129/129 [==============================] - 1s 6ms/step - loss: 0.7761 - accuracy: 0.5864 - val_loss: 0.6628 - val_accuracy: 0.8576\n",
            "Epoch 8/50\n",
            "129/129 [==============================] - 1s 6ms/step - loss: 0.7588 - accuracy: 0.5910 - val_loss: 0.5882 - val_accuracy: 0.7638\n",
            "Epoch 9/50\n",
            "129/129 [==============================] - 1s 7ms/step - loss: 0.7471 - accuracy: 0.5855 - val_loss: 0.5648 - val_accuracy: 0.7592\n",
            "Epoch 10/50\n",
            "129/129 [==============================] - 1s 7ms/step - loss: 0.7368 - accuracy: 0.5780 - val_loss: 0.5599 - val_accuracy: 0.7524\n",
            "Epoch 11/50\n",
            "129/129 [==============================] - 1s 7ms/step - loss: 0.7283 - accuracy: 0.5761 - val_loss: 0.5448 - val_accuracy: 0.7524\n",
            "Epoch 12/50\n",
            "129/129 [==============================] - 1s 6ms/step - loss: 0.7220 - accuracy: 0.5887 - val_loss: 0.5200 - val_accuracy: 0.7587\n",
            "Epoch 13/50\n",
            "129/129 [==============================] - 1s 7ms/step - loss: 0.7152 - accuracy: 0.5821 - val_loss: 0.5080 - val_accuracy: 0.7624\n",
            "Epoch 14/50\n",
            "129/129 [==============================] - 1s 7ms/step - loss: 0.7106 - accuracy: 0.5817 - val_loss: 0.5255 - val_accuracy: 0.7487\n",
            "Epoch 15/50\n",
            "129/129 [==============================] - 1s 6ms/step - loss: 0.7074 - accuracy: 0.5793 - val_loss: 0.5222 - val_accuracy: 0.8710\n",
            "Epoch 16/50\n",
            "129/129 [==============================] - 1s 6ms/step - loss: 0.7019 - accuracy: 0.6135 - val_loss: 0.4886 - val_accuracy: 0.7589\n",
            "Epoch 17/50\n",
            "129/129 [==============================] - 1s 6ms/step - loss: 0.6982 - accuracy: 0.6139 - val_loss: 0.4853 - val_accuracy: 0.7551\n",
            "Epoch 18/50\n",
            "129/129 [==============================] - 1s 6ms/step - loss: 0.6943 - accuracy: 0.5901 - val_loss: 0.4842 - val_accuracy: 0.8753\n",
            "Epoch 19/50\n",
            "129/129 [==============================] - 1s 7ms/step - loss: 0.6906 - accuracy: 0.6204 - val_loss: 0.4933 - val_accuracy: 0.7434\n",
            "Epoch 20/50\n",
            "129/129 [==============================] - 1s 7ms/step - loss: 0.6857 - accuracy: 0.6338 - val_loss: 0.4650 - val_accuracy: 0.8846\n",
            "Epoch 21/50\n",
            "129/129 [==============================] - 1s 7ms/step - loss: 0.6820 - accuracy: 0.6381 - val_loss: 0.4849 - val_accuracy: 0.8641\n",
            "Epoch 22/50\n",
            "129/129 [==============================] - 1s 6ms/step - loss: 0.6784 - accuracy: 0.6283 - val_loss: 0.4730 - val_accuracy: 0.8783\n",
            "Epoch 23/50\n",
            "129/129 [==============================] - 1s 7ms/step - loss: 0.6745 - accuracy: 0.6515 - val_loss: 0.4574 - val_accuracy: 0.8826\n",
            "Epoch 24/50\n",
            "129/129 [==============================] - 1s 6ms/step - loss: 0.6709 - accuracy: 0.6573 - val_loss: 0.4602 - val_accuracy: 0.8758\n",
            "Epoch 25/50\n",
            "129/129 [==============================] - 1s 6ms/step - loss: 0.6641 - accuracy: 0.6726 - val_loss: 0.4537 - val_accuracy: 0.8899\n",
            "Epoch 26/50\n",
            "129/129 [==============================] - 1s 7ms/step - loss: 0.6574 - accuracy: 0.6871 - val_loss: 0.4279 - val_accuracy: 0.8980\n",
            "Epoch 27/50\n",
            "129/129 [==============================] - 1s 7ms/step - loss: 0.6493 - accuracy: 0.7041 - val_loss: 0.4518 - val_accuracy: 0.8924\n",
            "Epoch 28/50\n",
            "129/129 [==============================] - 1s 6ms/step - loss: 0.6366 - accuracy: 0.7293 - val_loss: 0.4368 - val_accuracy: 0.8919\n",
            "Epoch 29/50\n",
            "129/129 [==============================] - 1s 6ms/step - loss: 0.6226 - accuracy: 0.7480 - val_loss: 0.4318 - val_accuracy: 0.8919\n",
            "Epoch 30/50\n",
            "129/129 [==============================] - 1s 6ms/step - loss: 0.6022 - accuracy: 0.7775 - val_loss: 0.4066 - val_accuracy: 0.9038\n",
            "Epoch 31/50\n",
            "129/129 [==============================] - 1s 6ms/step - loss: 0.5751 - accuracy: 0.8163 - val_loss: 0.4193 - val_accuracy: 0.9043\n",
            "Epoch 32/50\n",
            "129/129 [==============================] - 1s 6ms/step - loss: 0.5438 - accuracy: 0.8485 - val_loss: 0.4117 - val_accuracy: 0.9097\n",
            "Epoch 33/50\n",
            "129/129 [==============================] - 1s 6ms/step - loss: 0.5122 - accuracy: 0.8725 - val_loss: 0.4225 - val_accuracy: 0.9070\n",
            "Epoch 34/50\n",
            "129/129 [==============================] - 1s 6ms/step - loss: 0.4831 - accuracy: 0.8910 - val_loss: 0.4150 - val_accuracy: 0.9104\n",
            "Epoch 35/50\n",
            "129/129 [==============================] - 1s 6ms/step - loss: 0.4567 - accuracy: 0.9028 - val_loss: 0.4108 - val_accuracy: 0.9148\n",
            "Epoch 36/50\n",
            "129/129 [==============================] - 1s 6ms/step - loss: 0.4341 - accuracy: 0.9137 - val_loss: 0.4088 - val_accuracy: 0.9167\n",
            "Epoch 37/50\n",
            "129/129 [==============================] - 1s 6ms/step - loss: 0.4177 - accuracy: 0.9172 - val_loss: 0.4470 - val_accuracy: 0.9033\n",
            "Epoch 38/50\n",
            "129/129 [==============================] - 1s 6ms/step - loss: 0.4016 - accuracy: 0.9236 - val_loss: 0.4105 - val_accuracy: 0.9165\n",
            "Epoch 39/50\n",
            "129/129 [==============================] - 1s 6ms/step - loss: 0.3843 - accuracy: 0.9281 - val_loss: 0.3900 - val_accuracy: 0.9243\n",
            "Epoch 40/50\n",
            "129/129 [==============================] - 1s 7ms/step - loss: 0.3711 - accuracy: 0.9322 - val_loss: 0.4066 - val_accuracy: 0.9187\n",
            "Epoch 41/50\n",
            "129/129 [==============================] - 1s 6ms/step - loss: 0.3598 - accuracy: 0.9338 - val_loss: 0.3907 - val_accuracy: 0.9194\n",
            "Epoch 42/50\n",
            "129/129 [==============================] - 1s 7ms/step - loss: 0.3471 - accuracy: 0.9376 - val_loss: 0.3805 - val_accuracy: 0.9255\n",
            "Epoch 43/50\n",
            "129/129 [==============================] - 1s 7ms/step - loss: 0.3368 - accuracy: 0.9372 - val_loss: 0.3727 - val_accuracy: 0.9216\n",
            "Epoch 44/50\n",
            "129/129 [==============================] - 1s 7ms/step - loss: 0.3313 - accuracy: 0.9402 - val_loss: 0.3701 - val_accuracy: 0.9228\n",
            "Epoch 45/50\n",
            "129/129 [==============================] - 1s 7ms/step - loss: 0.3207 - accuracy: 0.9402 - val_loss: 0.3519 - val_accuracy: 0.9282\n",
            "Epoch 46/50\n",
            "129/129 [==============================] - 1s 7ms/step - loss: 0.3128 - accuracy: 0.9417 - val_loss: 0.3547 - val_accuracy: 0.9265\n",
            "Epoch 47/50\n",
            "129/129 [==============================] - 1s 6ms/step - loss: 0.3068 - accuracy: 0.9415 - val_loss: 0.3721 - val_accuracy: 0.9214\n",
            "Epoch 48/50\n",
            "129/129 [==============================] - 1s 6ms/step - loss: 0.2987 - accuracy: 0.9428 - val_loss: 0.3520 - val_accuracy: 0.9265\n",
            "Epoch 49/50\n",
            "129/129 [==============================] - 1s 7ms/step - loss: 0.2922 - accuracy: 0.9437 - val_loss: 0.3303 - val_accuracy: 0.9291\n",
            "Epoch 50/50\n",
            "129/129 [==============================] - 1s 6ms/step - loss: 0.2834 - accuracy: 0.9450 - val_loss: 0.3291 - val_accuracy: 0.9255\n"
          ]
        }
      ]
    },
    {
      "cell_type": "code",
      "source": [
        "model2.save('model2Balanced08.h5')"
      ],
      "metadata": {
        "id": "5CBMnvQi4_fs"
      },
      "execution_count": 41,
      "outputs": []
    },
    {
      "cell_type": "code",
      "source": [
        "tf.keras.utils.plot_model(model2, show_shapes=True)"
      ],
      "metadata": {
        "colab": {
          "base_uri": "https://localhost:8080/",
          "height": 865
        },
        "id": "Djs_EiWq6Sc1",
        "outputId": "d4120a26-9f8a-47c8-cbc1-b33972f395a6"
      },
      "execution_count": 35,
      "outputs": [
        {
          "output_type": "execute_result",
          "data": {
            "text/plain": [
              "<IPython.core.display.Image object>"
            ],
            "image/png": "[encoded data removed]"
          },
          "metadata": {},
          "execution_count": 35
        }
      ]
    },
    {
      "cell_type": "code",
      "source": [
        "pred1=model2.predict(testing_padded)\n",
        "\n",
        "pred11=[]\n",
        "for i in pred1:\n",
        "  if i[0]==max(i):\n",
        "    pred11.append(0)\n",
        "  elif i[1]==max(i):\n",
        "    pred11.append(1)\n",
        "  else:\n",
        "    pred11.append(2)\n",
        "#rounded_labels11=np.argmax(pred11, axis=1).astype(int)\n",
        "cm = confusion_matrix(testing_labels, pred11)\n",
        "cm"
      ],
      "metadata": {
        "colab": {
          "base_uri": "https://localhost:8080/"
        },
        "id": "5RAIZlNi58Ht",
        "outputId": "098a63ab-0748-4c62-d152-98bbd6b1c22a"
      },
      "execution_count": 36,
      "outputs": [
        {
          "output_type": "execute_result",
          "data": {
            "text/plain": [
              "array([[ 686,    8,   44],\n",
              "       [  10, 2915,  215],\n",
              "       [  23,    6,  200]])"
            ]
          },
          "metadata": {},
          "execution_count": 36
        }
      ]
    },
    {
      "cell_type": "code",
      "source": [
        "#Epoch 50/50\n",
        "#107/107 [==============================] - 1s 6ms/step - loss: 0.4205 - accuracy: 0.9095 - val_loss: 0.7803 - val_accuracy: 0.7828\n",
        "#Epoch 50/50\n",
        "#107/107 [==============================] - 1s 6ms/step - loss: 0.3440 - accuracy: 0.9345 - val_loss: 0.7823 - val_accuracy: 0.7913"
      ],
      "metadata": {
        "id": "ygLUBjc6meLZ"
      },
      "execution_count": null,
      "outputs": []
    },
    {
      "cell_type": "code",
      "source": [
        "print(classification_report(testing_labels, pred11, labels=[0,1,2]))"
      ],
      "metadata": {
        "colab": {
          "base_uri": "https://localhost:8080/"
        },
        "id": "kZ3sDFpUbw9j",
        "outputId": "6f771763-c3d5-423f-cab9-7da50dd02d20"
      },
      "execution_count": 37,
      "outputs": [
        {
          "output_type": "stream",
          "name": "stdout",
          "text": [
            "              precision    recall  f1-score   support\n",
            "\n",
            "           0       0.95      0.93      0.94       738\n",
            "           1       1.00      0.93      0.96      3140\n",
            "           2       0.44      0.87      0.58       229\n",
            "\n",
            "    accuracy                           0.93      4107\n",
            "   macro avg       0.80      0.91      0.83      4107\n",
            "weighted avg       0.96      0.93      0.94      4107\n",
            "\n"
          ]
        }
      ]
    },
    {
      "cell_type": "code",
      "source": [
        "pred12=model2.predict(testing_padded12)\n",
        "rounded_labels212=np.argmax(pred12, axis=1).astype(int)\n",
        "cm12 = confusion_matrix(testing_labels12, rounded_labels212)\n",
        "print(cm12)\n",
        "print(classification_report(testing_labels12, rounded_labels212, labels=[0,1,2]))"
      ],
      "metadata": {
        "colab": {
          "base_uri": "https://localhost:8080/"
        },
        "id": "3Xwbbual80um",
        "outputId": "a28d1fc2-607e-4739-898d-bc374609ad61"
      },
      "execution_count": 58,
      "outputs": [
        {
          "output_type": "stream",
          "name": "stdout",
          "text": [
            "[[249 100 238]\n",
            " [  6 211  36]\n",
            " [ 14 152 286]]\n",
            "              precision    recall  f1-score   support\n",
            "\n",
            "           0       0.93      0.42      0.58       587\n",
            "           1       0.46      0.83      0.59       253\n",
            "           2       0.51      0.63      0.57       452\n",
            "\n",
            "    accuracy                           0.58      1292\n",
            "   macro avg       0.63      0.63      0.58      1292\n",
            "weighted avg       0.69      0.58      0.58      1292\n",
            "\n"
          ]
        }
      ]
    },
    {
      "cell_type": "code",
      "source": [
        "pred34=model2.predict(testing_padded34)\n",
        "rounded_labels234=np.argmax(pred34, axis=1).astype(int)\n",
        "cm34 = confusion_matrix(testing_labels34, rounded_labels234)\n",
        "print(cm34)\n",
        "print(classification_report(testing_labels34, rounded_labels234, labels=[0,1,2]))"
      ],
      "metadata": {
        "colab": {
          "base_uri": "https://localhost:8080/"
        },
        "id": "mSckKvvu9CR_",
        "outputId": "d1c8dcb9-3029-4e88-bd1d-539879baa057"
      },
      "execution_count": 59,
      "outputs": [
        {
          "output_type": "stream",
          "name": "stdout",
          "text": [
            "[[ 159   35  332]\n",
            " [   0    6    1]\n",
            " [   1    9 1297]]\n",
            "              precision    recall  f1-score   support\n",
            "\n",
            "           0       0.99      0.30      0.46       526\n",
            "           1       0.12      0.86      0.21         7\n",
            "           2       0.80      0.99      0.88      1307\n",
            "\n",
            "    accuracy                           0.79      1840\n",
            "   macro avg       0.64      0.72      0.52      1840\n",
            "weighted avg       0.85      0.79      0.76      1840\n",
            "\n"
          ]
        }
      ]
    },
    {
      "cell_type": "code",
      "source": [
        "import matplotlib.pyplot as plt\n",
        "import numpy\n",
        "# summarize history for accuracy\n",
        "plt.plot(history.history['loss'])\n",
        "plt.plot(history.history['val_loss'])\n",
        "plt.title('model loss')\n",
        "plt.ylabel('loss')\n",
        "plt.xlabel('epoch')\n",
        "plt.legend(['train', 'test'], loc='upper left')\n",
        "plt.show()\n",
        "# summarize history for loss\n",
        "plt.plot(history.history['accuracy'])\n",
        "plt.plot(history.history['val_accuracy'])\n",
        "plt.title('model accuracy')\n",
        "plt.ylabel('accuracy')\n",
        "plt.xlabel('epoch')\n",
        "plt.legend(['train', 'test'], loc='upper left')\n",
        "plt.show()"
      ],
      "metadata": {
        "colab": {
          "base_uri": "https://localhost:8080/",
          "height": 573
        },
        "id": "R2WgOyeb_PHC",
        "outputId": "27e0b329-9e36-4e04-a6d7-4ed387eb2053"
      },
      "execution_count": 38,
      "outputs": [
        {
          "output_type": "display_data",
          "data": {
            "text/plain": [
              "<Figure size 432x288 with 1 Axes>"
            ],
            "image/png": "[encoded data removed]"
          },
          "metadata": {
            "needs_background": "light"
          }
        },
        {
          "output_type": "display_data",
          "data": {
            "text/plain": [
              "<Figure size 432x288 with 1 Axes>"
            ],
            "image/png": "[encoded data removed]"
          },
          "metadata": {
            "needs_background": "light"
          }
        }
      ]
    },
    {
      "cell_type": "markdown",
      "source": [
        "##For The Third Model"
      ],
      "metadata": {
        "id": "FRfELBgw7A3Z"
      }
    },
    {
      "cell_type": "code",
      "source": [
        "model3 = tf.keras.Sequential([\n",
        "    tf.keras.layers.Embedding(vocab_size, embedding_dim, input_length=max_length),\n",
        "    tf.keras.layers.Bidirectional(tf.keras.layers.LSTM(32)),\n",
        "    tf.keras.layers.Flatten(),\n",
        "    tf.keras.layers.Dense(24, activation='relu'),\n",
        "    tf.keras.layers.Dense(3, activation='softmax')\n",
        "])\n",
        "model3.summary()"
      ],
      "metadata": {
        "colab": {
          "base_uri": "https://localhost:8080/"
        },
        "id": "JvX2b2nORvKS",
        "outputId": "4324bcb0-6221-4996-cb05-c27ff91abffb"
      },
      "execution_count": 39,
      "outputs": [
        {
          "output_type": "stream",
          "name": "stdout",
          "text": [
            "Model: \"sequential_3\"\n",
            "_________________________________________________________________\n",
            " Layer (type)                Output Shape              Param #   \n",
            "=================================================================\n",
            " embedding_3 (Embedding)     (None, 207, 16)           638800    \n",
            "                                                                 \n",
            " bidirectional_3 (Bidirectio  (None, 64)               12544     \n",
            " nal)                                                            \n",
            "                                                                 \n",
            " flatten_3 (Flatten)         (None, 64)                0         \n",
            "                                                                 \n",
            " dense_7 (Dense)             (None, 24)                1560      \n",
            "                                                                 \n",
            " dense_8 (Dense)             (None, 3)                 75        \n",
            "                                                                 \n",
            "=================================================================\n",
            "Total params: 652,979\n",
            "Trainable params: 652,979\n",
            "Non-trainable params: 0\n",
            "_________________________________________________________________\n"
          ]
        }
      ]
    },
    {
      "cell_type": "code",
      "source": [
        "model3.compile(loss=\"sparse_categorical_crossentropy\",optimizer='adam',metrics=['accuracy'])\n",
        "history = model3.fit(training_padded, training_labels, batch_size=128, epochs=50, validation_data=(testing_padded, testing_labels), verbose=1)"
      ],
      "metadata": {
        "colab": {
          "base_uri": "https://localhost:8080/"
        },
        "id": "El4d_GRU6x2l",
        "outputId": "85cbe442-d194-43c9-8a20-9600a8ed213b"
      },
      "execution_count": 40,
      "outputs": [
        {
          "output_type": "stream",
          "name": "stdout",
          "text": [
            "Epoch 1/50\n",
            "129/129 [==============================] - 6s 25ms/step - loss: 0.9522 - accuracy: 0.5117 - val_loss: 1.0621 - val_accuracy: 0.1860\n",
            "Epoch 2/50\n",
            "129/129 [==============================] - 2s 19ms/step - loss: 0.6521 - accuracy: 0.7199 - val_loss: 0.7292 - val_accuracy: 0.6564\n",
            "Epoch 3/50\n",
            "129/129 [==============================] - 3s 20ms/step - loss: 0.5022 - accuracy: 0.8024 - val_loss: 0.5175 - val_accuracy: 0.8006\n",
            "Epoch 4/50\n",
            "129/129 [==============================] - 2s 19ms/step - loss: 0.4266 - accuracy: 0.8367 - val_loss: 0.6069 - val_accuracy: 0.7477\n",
            "Epoch 5/50\n",
            "129/129 [==============================] - 2s 19ms/step - loss: 0.3834 - accuracy: 0.8532 - val_loss: 0.4465 - val_accuracy: 0.8210\n",
            "Epoch 6/50\n",
            "129/129 [==============================] - 2s 19ms/step - loss: 0.3575 - accuracy: 0.8642 - val_loss: 0.4686 - val_accuracy: 0.7974\n",
            "Epoch 7/50\n",
            "129/129 [==============================] - 3s 25ms/step - loss: 0.3398 - accuracy: 0.8709 - val_loss: 0.4318 - val_accuracy: 0.8242\n",
            "Epoch 8/50\n",
            "129/129 [==============================] - 4s 32ms/step - loss: 0.3243 - accuracy: 0.8770 - val_loss: 0.3923 - val_accuracy: 0.8417\n",
            "Epoch 9/50\n",
            "129/129 [==============================] - 5s 41ms/step - loss: 0.3097 - accuracy: 0.8804 - val_loss: 0.3692 - val_accuracy: 0.8483\n",
            "Epoch 10/50\n",
            "129/129 [==============================] - 5s 37ms/step - loss: 0.2999 - accuracy: 0.8854 - val_loss: 0.3280 - val_accuracy: 0.8590\n",
            "Epoch 11/50\n",
            "129/129 [==============================] - 4s 33ms/step - loss: 0.2938 - accuracy: 0.8854 - val_loss: 0.3398 - val_accuracy: 0.8615\n",
            "Epoch 12/50\n",
            "129/129 [==============================] - 4s 32ms/step - loss: 0.2807 - accuracy: 0.8916 - val_loss: 0.3563 - val_accuracy: 0.8517\n",
            "Epoch 13/50\n",
            "129/129 [==============================] - 4s 30ms/step - loss: 0.2727 - accuracy: 0.8945 - val_loss: 0.3689 - val_accuracy: 0.8335\n",
            "Epoch 14/50\n",
            "129/129 [==============================] - 4s 28ms/step - loss: 0.2647 - accuracy: 0.8949 - val_loss: 0.3502 - val_accuracy: 0.8454\n",
            "Epoch 15/50\n",
            "129/129 [==============================] - 3s 24ms/step - loss: 0.2555 - accuracy: 0.9023 - val_loss: 0.2915 - val_accuracy: 0.8753\n",
            "Epoch 16/50\n",
            "129/129 [==============================] - 2s 19ms/step - loss: 0.2461 - accuracy: 0.9017 - val_loss: 0.3115 - val_accuracy: 0.8607\n",
            "Epoch 17/50\n",
            "129/129 [==============================] - 2s 19ms/step - loss: 0.2397 - accuracy: 0.9052 - val_loss: 0.3040 - val_accuracy: 0.8639\n",
            "Epoch 18/50\n",
            "129/129 [==============================] - 2s 19ms/step - loss: 0.2303 - accuracy: 0.9098 - val_loss: 0.2744 - val_accuracy: 0.8819\n",
            "Epoch 19/50\n",
            "129/129 [==============================] - 3s 20ms/step - loss: 0.2223 - accuracy: 0.9118 - val_loss: 0.2304 - val_accuracy: 0.9265\n",
            "Epoch 20/50\n",
            "129/129 [==============================] - 2s 19ms/step - loss: 0.2195 - accuracy: 0.9142 - val_loss: 0.2624 - val_accuracy: 0.8887\n",
            "Epoch 21/50\n",
            "129/129 [==============================] - 2s 19ms/step - loss: 0.2117 - accuracy: 0.9167 - val_loss: 0.2660 - val_accuracy: 0.8839\n",
            "Epoch 22/50\n",
            "129/129 [==============================] - 2s 19ms/step - loss: 0.2047 - accuracy: 0.9187 - val_loss: 0.2368 - val_accuracy: 0.8997\n",
            "Epoch 23/50\n",
            "129/129 [==============================] - 2s 19ms/step - loss: 0.1999 - accuracy: 0.9210 - val_loss: 0.2137 - val_accuracy: 0.9089\n",
            "Epoch 24/50\n",
            "129/129 [==============================] - 2s 19ms/step - loss: 0.1948 - accuracy: 0.9229 - val_loss: 0.2388 - val_accuracy: 0.8990\n",
            "Epoch 25/50\n",
            "129/129 [==============================] - 3s 22ms/step - loss: 0.1862 - accuracy: 0.9245 - val_loss: 0.2374 - val_accuracy: 0.8997\n",
            "Epoch 26/50\n",
            "129/129 [==============================] - 4s 31ms/step - loss: 0.1820 - accuracy: 0.9259 - val_loss: 0.2906 - val_accuracy: 0.8780\n",
            "Epoch 27/50\n",
            "129/129 [==============================] - 4s 30ms/step - loss: 0.1768 - accuracy: 0.9274 - val_loss: 0.1848 - val_accuracy: 0.9396\n",
            "Epoch 28/50\n",
            "129/129 [==============================] - 3s 27ms/step - loss: 0.1745 - accuracy: 0.9290 - val_loss: 0.2305 - val_accuracy: 0.9075\n",
            "Epoch 29/50\n",
            "129/129 [==============================] - 3s 22ms/step - loss: 0.1716 - accuracy: 0.9276 - val_loss: 0.1853 - val_accuracy: 0.9391\n",
            "Epoch 30/50\n",
            "129/129 [==============================] - 2s 19ms/step - loss: 0.1673 - accuracy: 0.9311 - val_loss: 0.1815 - val_accuracy: 0.9194\n",
            "Epoch 31/50\n",
            "129/129 [==============================] - 2s 19ms/step - loss: 0.1665 - accuracy: 0.9307 - val_loss: 0.1879 - val_accuracy: 0.9145\n",
            "Epoch 32/50\n",
            "129/129 [==============================] - 2s 18ms/step - loss: 0.1618 - accuracy: 0.9323 - val_loss: 0.1618 - val_accuracy: 0.9491\n",
            "Epoch 33/50\n",
            "129/129 [==============================] - 2s 19ms/step - loss: 0.1590 - accuracy: 0.9337 - val_loss: 0.2167 - val_accuracy: 0.9019\n",
            "Epoch 34/50\n",
            "129/129 [==============================] - 2s 18ms/step - loss: 0.1559 - accuracy: 0.9336 - val_loss: 0.1711 - val_accuracy: 0.9228\n",
            "Epoch 35/50\n",
            "129/129 [==============================] - 2s 19ms/step - loss: 0.1579 - accuracy: 0.9346 - val_loss: 0.1636 - val_accuracy: 0.9265\n",
            "Epoch 36/50\n",
            "129/129 [==============================] - 2s 19ms/step - loss: 0.1501 - accuracy: 0.9362 - val_loss: 0.1913 - val_accuracy: 0.9128\n",
            "Epoch 37/50\n",
            "129/129 [==============================] - 2s 18ms/step - loss: 0.1513 - accuracy: 0.9355 - val_loss: 0.1857 - val_accuracy: 0.9162\n",
            "Epoch 38/50\n",
            "129/129 [==============================] - 2s 19ms/step - loss: 0.1495 - accuracy: 0.9371 - val_loss: 0.2011 - val_accuracy: 0.9055\n",
            "Epoch 39/50\n",
            "129/129 [==============================] - 2s 18ms/step - loss: 0.1447 - accuracy: 0.9380 - val_loss: 0.1383 - val_accuracy: 0.9557\n",
            "Epoch 40/50\n",
            "129/129 [==============================] - 2s 19ms/step - loss: 0.1492 - accuracy: 0.9357 - val_loss: 0.1593 - val_accuracy: 0.9462\n",
            "Epoch 41/50\n",
            "129/129 [==============================] - 2s 19ms/step - loss: 0.1440 - accuracy: 0.9372 - val_loss: 0.1953 - val_accuracy: 0.9128\n",
            "Epoch 42/50\n",
            "129/129 [==============================] - 2s 19ms/step - loss: 0.1388 - accuracy: 0.9371 - val_loss: 0.1871 - val_accuracy: 0.9179\n",
            "Epoch 43/50\n",
            "129/129 [==============================] - 2s 18ms/step - loss: 0.1376 - accuracy: 0.9405 - val_loss: 0.1858 - val_accuracy: 0.9194\n",
            "Epoch 44/50\n",
            "129/129 [==============================] - 2s 19ms/step - loss: 0.1364 - accuracy: 0.9395 - val_loss: 0.1856 - val_accuracy: 0.9170\n",
            "Epoch 45/50\n",
            "129/129 [==============================] - 2s 19ms/step - loss: 0.1359 - accuracy: 0.9388 - val_loss: 0.1697 - val_accuracy: 0.9435\n",
            "Epoch 46/50\n",
            "129/129 [==============================] - 2s 19ms/step - loss: 0.1357 - accuracy: 0.9378 - val_loss: 0.1510 - val_accuracy: 0.9345\n",
            "Epoch 47/50\n",
            "129/129 [==============================] - 3s 22ms/step - loss: 0.1355 - accuracy: 0.9386 - val_loss: 0.2033 - val_accuracy: 0.9070\n",
            "Epoch 48/50\n",
            "129/129 [==============================] - 3s 23ms/step - loss: 0.1359 - accuracy: 0.9378 - val_loss: 0.1571 - val_accuracy: 0.9523\n",
            "Epoch 49/50\n",
            "129/129 [==============================] - 2s 19ms/step - loss: 0.1346 - accuracy: 0.9385 - val_loss: 0.1795 - val_accuracy: 0.9184\n",
            "Epoch 50/50\n",
            "129/129 [==============================] - 2s 18ms/step - loss: 0.1292 - accuracy: 0.9407 - val_loss: 0.1349 - val_accuracy: 0.9589\n"
          ]
        }
      ]
    },
    {
      "cell_type": "code",
      "source": [
        "model3.save('model3Balanced08.h5')"
      ],
      "metadata": {
        "id": "SNt0_urX5N1n"
      },
      "execution_count": 42,
      "outputs": []
    },
    {
      "cell_type": "code",
      "source": [
        "#Epoch 50/50\n",
        "#107/107 [==============================] - 2s 18ms/step - loss: 0.1754 - accuracy: 0.9260 - val_loss: 1.2077 - val_accuracy: 0.7878\n",
        "#Epoch 50/50\n",
        "#107/107 [==============================] - 2s 21ms/step - loss: 0.1698 - accuracy: 0.9259 - val_loss: 1.0955 - val_accuracy: 0.7940"
      ],
      "metadata": {
        "id": "BHRXgvpCoku9"
      },
      "execution_count": null,
      "outputs": []
    },
    {
      "cell_type": "code",
      "source": [
        "tf.keras.utils.plot_model(model3, show_shapes=True)"
      ],
      "metadata": {
        "colab": {
          "base_uri": "https://localhost:8080/",
          "height": 644
        },
        "id": "1dVvLzBo61G8",
        "outputId": "67cd8365-d53b-4909-a812-dad15d0e4ec5"
      },
      "execution_count": 43,
      "outputs": [
        {
          "output_type": "execute_result",
          "data": {
            "text/plain": [
              "<IPython.core.display.Image object>"
            ],
            "image/png": "[encoded data removed]"
          },
          "metadata": {},
          "execution_count": 43
        }
      ]
    },
    {
      "cell_type": "code",
      "source": [
        "pred3=model3.predict(testing_padded)\n",
        "rounded_labels3=np.argmax(pred3, axis=1).astype(int)\n",
        "cm2 = confusion_matrix(testing_labels, rounded_labels3)\n",
        "cm2"
      ],
      "metadata": {
        "colab": {
          "base_uri": "https://localhost:8080/"
        },
        "id": "Vg0RP9_k63Ri",
        "outputId": "ab71ff61-87ab-4ff7-c714-9edbda6e6bbb"
      },
      "execution_count": 44,
      "outputs": [
        {
          "output_type": "execute_result",
          "data": {
            "text/plain": [
              "array([[ 692,   27,   19],\n",
              "       [  33, 3051,   56],\n",
              "       [  24,   10,  195]])"
            ]
          },
          "metadata": {},
          "execution_count": 44
        }
      ]
    },
    {
      "cell_type": "code",
      "source": [
        "print(classification_report(testing_labels, rounded_labels3, labels=[0,1,2]))"
      ],
      "metadata": {
        "colab": {
          "base_uri": "https://localhost:8080/"
        },
        "id": "r-QZWcpDdy6N",
        "outputId": "d5c9dc49-aeec-4379-bcd5-e80d4e17463c"
      },
      "execution_count": 45,
      "outputs": [
        {
          "output_type": "stream",
          "name": "stdout",
          "text": [
            "              precision    recall  f1-score   support\n",
            "\n",
            "           0       0.92      0.94      0.93       738\n",
            "           1       0.99      0.97      0.98      3140\n",
            "           2       0.72      0.85      0.78       229\n",
            "\n",
            "    accuracy                           0.96      4107\n",
            "   macro avg       0.88      0.92      0.90      4107\n",
            "weighted avg       0.96      0.96      0.96      4107\n",
            "\n"
          ]
        }
      ]
    },
    {
      "cell_type": "code",
      "source": [
        "pred12=model3.predict(testing_padded12)\n",
        "rounded_labels312=np.argmax(pred12, axis=1).astype(int)\n",
        "cm12 = confusion_matrix(testing_labels12, rounded_labels312)\n",
        "print(cm12)\n",
        "print(classification_report(testing_labels12, rounded_labels312, labels=[0,1,2]))"
      ],
      "metadata": {
        "colab": {
          "base_uri": "https://localhost:8080/"
        },
        "id": "HK7_koem5xmn",
        "outputId": "956d87f2-0e4d-41b2-e436-3425d4a3cdc5"
      },
      "execution_count": 60,
      "outputs": [
        {
          "output_type": "stream",
          "name": "stdout",
          "text": [
            "[[274 213 100]\n",
            " [ 11 228  14]\n",
            " [ 13 192 247]]\n",
            "              precision    recall  f1-score   support\n",
            "\n",
            "           0       0.92      0.47      0.62       587\n",
            "           1       0.36      0.90      0.51       253\n",
            "           2       0.68      0.55      0.61       452\n",
            "\n",
            "    accuracy                           0.58      1292\n",
            "   macro avg       0.65      0.64      0.58      1292\n",
            "weighted avg       0.73      0.58      0.59      1292\n",
            "\n"
          ]
        }
      ]
    },
    {
      "cell_type": "code",
      "source": [
        "pred34=model3.predict(testing_padded34)\n",
        "rounded_labels334=np.argmax(pred34, axis=1).astype(int)\n",
        "cm34 = confusion_matrix(testing_labels34, rounded_labels334)\n",
        "print(cm34)\n",
        "print(classification_report(testing_labels34, rounded_labels334, labels=[0,1,2]))"
      ],
      "metadata": {
        "colab": {
          "base_uri": "https://localhost:8080/"
        },
        "id": "hU62iDph7ysw",
        "outputId": "a27504dd-1870-48e9-f6ec-e0b5dab63fd8"
      },
      "execution_count": 57,
      "outputs": [
        {
          "output_type": "stream",
          "name": "stdout",
          "text": [
            "[[  86   22  418]\n",
            " [   0    7    0]\n",
            " [   3    8 1296]]\n",
            "              precision    recall  f1-score   support\n",
            "\n",
            "           0       0.97      0.16      0.28       526\n",
            "           1       0.19      1.00      0.32         7\n",
            "           2       0.76      0.99      0.86      1307\n",
            "\n",
            "    accuracy                           0.75      1840\n",
            "   macro avg       0.64      0.72      0.49      1840\n",
            "weighted avg       0.81      0.75      0.69      1840\n",
            "\n"
          ]
        }
      ]
    },
    {
      "cell_type": "code",
      "source": [
        "import matplotlib.pyplot as plt\n",
        "import numpy\n",
        "# summarize history for accuracy\n",
        "plt.plot(history.history['loss'])\n",
        "plt.plot(history.history['val_loss'])\n",
        "plt.title('model loss')\n",
        "plt.ylabel('loss')\n",
        "plt.xlabel('epoch')\n",
        "plt.legend(['train', 'test'], loc='upper left')\n",
        "plt.show()\n",
        "# summarize history for loss\n",
        "plt.plot(history.history['accuracy'])\n",
        "plt.plot(history.history['val_accuracy'])\n",
        "plt.title('model accuracy')\n",
        "plt.ylabel('accuracy')\n",
        "plt.xlabel('epoch')\n",
        "plt.legend(['train', 'test'], loc='upper left')\n",
        "plt.show()"
      ],
      "metadata": {
        "colab": {
          "base_uri": "https://localhost:8080/",
          "height": 573
        },
        "id": "ddbAtRKXatG3",
        "outputId": "c629659f-e4f0-45f6-a557-92544f5ebe8b"
      },
      "execution_count": 46,
      "outputs": [
        {
          "output_type": "display_data",
          "data": {
            "text/plain": [
              "<Figure size 432x288 with 1 Axes>"
            ],
            "image/png": "[encoded data removed]"
          },
          "metadata": {
            "needs_background": "light"
          }
        },
        {
          "output_type": "display_data",
          "data": {
            "text/plain": [
              "<Figure size 432x288 with 1 Axes>"
            ],
            "image/png": "[encoded data removed]"
          },
          "metadata": {
            "needs_background": "light"
          }
        }
      ]
    },
    {
      "cell_type": "code",
      "source": [
        "[print(i.shape, i.dtype) for i in model.inputs]\n",
        "[print(o.shape, o.dtype) for o in model.outputs]\n",
        "[print(l.name, l.input_shape, l.dtype) for l in model.layers]"
      ],
      "metadata": {
        "id": "wRVI93y5P6OY"
      },
      "execution_count": null,
      "outputs": []
    },
    {
      "cell_type": "markdown",
      "source": [
        "##Conclusion\n",
        "###The accuracy for the three models is 58% yet the complexity varies. The first model has 690 579 trainale parameters which makes it the most complex amongs the three of them with the second having 618 083 trainable parameters and the third having 618 739 trainable parameters.\n",
        "###After giving the problem a first look, we can suspect that:\n",
        "* This is a deep Learning Problem where we need more data and a bigger model so we can track the pattern and better the model's accuracy\n",
        "* Te model is not getting the pattern in the data well so this can be due to some data imbalence \n",
        "* We need to further explore our data and to create a bigger model"
      ],
      "metadata": {
        "id": "__2IcBnQa-4Y"
      }
    },
    {
      "cell_type": "markdown",
      "source": [
        "#Terms\n",
        "##BURT: is a transformar model\n",
        "##Sentiment Classification: A prabability distrubution over two classes\n",
        "##Text Encoding: How to encode the texts into a numerical presentation that we can be handled by the machine learning model\n",
        "##Transformers: The State-Of-The-Art architecture for language modeling\n",
        "#Word2vec: 2013, The Model that introduced distributed representations for language modeling"
      ],
      "metadata": {
        "id": "5SNCH0-6Eq4I"
      }
    }
  ]
}