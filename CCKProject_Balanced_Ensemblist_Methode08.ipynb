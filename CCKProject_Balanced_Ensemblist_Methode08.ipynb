{
  "nbformat": 4,
  "nbformat_minor": 0,
  "metadata": {
    "colab": {
      "provenance": [],
      "authorship_tag": "ABX9TyOlHh6nECG9LKvpko3lIkK9",
      "include_colab_link": true
    },
    "kernelspec": {
      "name": "python3",
      "display_name": "Python 3"
    },
    "language_info": {
      "name": "python"
    },
    "accelerator": "GPU",
    "gpuClass": "standard"
  },
  "cells": [
    {
      "cell_type": "markdown",
      "metadata": {
        "id": "view-in-github",
        "colab_type": "text"
      },
      "source": [
        "<a href=\"https://colab.research.google.com/github/ImenMasmoudiEm/CCKInternshipProject/blob/main/CCKProject_Balanced_Ensemblist_Methode08.ipynb\" target=\"_parent\"><img src=\"https://colab.research.google.com/assets/colab-badge.svg\" alt=\"Open In Colab\"/></a>"
      ]
    },
    {
      "cell_type": "code",
      "execution_count": 1,
      "metadata": {
        "id": "eGu-CKtm0mh3",
        "colab": {
          "base_uri": "https://localhost:8080/"
        },
        "outputId": "16203d07-15d5-4f80-e805-cb592804bd7a"
      },
      "outputs": [
        {
          "output_type": "stream",
          "name": "stdout",
          "text": [
            "Mounted at /content/drive\n"
          ]
        }
      ],
      "source": [
        "from google.colab import drive\n",
        "drive.mount('/content/drive')"
      ]
    },
    {
      "cell_type": "code",
      "source": [
        "import os \n",
        "import pandas as pd\n",
        "\n",
        "os.chdir('/content/drive/MyDrive/All/Projects/Ing Internship/Data')\n",
        "data=pd.read_excel(\"/content/drive/MyDrive/All/Projects/Ing Internship/Data/final-dataset.xlsx\")\n",
        "data['classe']=data['classe'].replace(\"hate\", int(2))\n",
        "data['classe']=data['classe'].replace(\"normal\", int(0)) \n",
        "data['classe']=data['classe'].replace(\"abusive\", int(1))"
      ],
      "metadata": {
        "id": "BZi4L6aE1NlZ"
      },
      "execution_count": 2,
      "outputs": []
    },
    {
      "cell_type": "code",
      "source": [
        "from tensorflow.keras.preprocessing.text import Tokenizer\n",
        "from tensorflow.keras.preprocessing.sequence import pad_sequences\n",
        "import numpy as np\n",
        "\n",
        "sentences = data['commentaire']\n",
        "labels = data['classe']\n",
        "\n",
        "labels = [int(i) for i in labels]\n",
        "\n",
        "def count_words(input):\n",
        "  return len(input.split())\n",
        "max_length=count_words(max(sentences,key=count_words))\n",
        "max_length"
      ],
      "metadata": {
        "id": "KEtxjGnn1gOr",
        "colab": {
          "base_uri": "https://localhost:8080/"
        },
        "outputId": "3935f899-cb15-47ce-b825-52f1284f3e94"
      },
      "execution_count": 3,
      "outputs": [
        {
          "output_type": "execute_result",
          "data": {
            "text/plain": [
              "388"
            ]
          },
          "metadata": {},
          "execution_count": 3
        }
      ]
    },
    {
      "cell_type": "code",
      "source": [
        "data12=pd.read_excel(\"/content/drive/MyDrive/All/Projects/Ing Internship/Data/dataset1and2.xlsx\")\n",
        "data34=pd.read_excel(\"/content/drive/MyDrive/All/Projects/Ing Internship/Data/dataset3and4.xlsx\")\n",
        "data5=pd.read_excel(\"/content/drive/MyDrive/All/Projects/Ing Internship/Data/D5.xlsx\")\n",
        "\n",
        "data12['classe']=data12['classe'].replace(\"hate\", int(2))\n",
        "data12['classe']=data12['classe'].replace(\"normal\", int(0)) \n",
        "data12['classe']=data12['classe'].replace(\"abusive\", int(1))\n",
        "\n",
        "data34['classe']=data34['classe'].replace(\"hate\", int(2))\n",
        "data34['classe']=data34['classe'].replace(\"normal\", int(0)) \n",
        "data34['classe']=data34['classe'].replace(\"abusive\", int(1))\n",
        "\n",
        "\n",
        "data5['classe']=data5['classe'].replace(\"hate\", int(2))\n",
        "data5['classe']=data5['classe'].replace(\"normal\", int(0)) \n",
        "data5['classe']=data5['classe'].replace(\"abusive\", int(1))\n",
        "\n",
        "\n",
        "C1=data12[\"commentaire\"]\n",
        "C2=data34[\"commentaire\"]\n",
        "C3=data5[\"commentaire\"]\n",
        "L1=data12[\"classe\"]\n",
        "L2=data34[\"classe\"]\n",
        "L3=data5[\"classe\"]\n",
        "\n",
        "\n",
        "data12=[[i,j] for i,j in zip(C1 , L1)]\n",
        "data34=[[i,j] for i,j in zip(C2 , L2)]\n",
        "data5=[[i,j] for i,j in zip(C3 , L3)]\n",
        "\n",
        "data12=pd.DataFrame(data12,columns=[\"sentences\",\"classe\"])\n",
        "data34=pd.DataFrame(data34,columns=[\"sentences\",\"classe\"])\n",
        "data5=pd.DataFrame(data5,columns=[\"sentences\",\"classe\"])"
      ],
      "metadata": {
        "id": "P3-FuA1k1uG7"
      },
      "execution_count": 4,
      "outputs": []
    },
    {
      "cell_type": "code",
      "source": [
        "training_size=int(len(sentences)*0.8)   #Experimenting setup\n",
        "\n",
        "training_sentences = sentences[0:training_size]\n",
        "testing_sentences = sentences[training_size:]\n",
        "training_labels = labels[0:training_size]\n",
        "testing_labels = labels[training_size:]\n",
        "\n",
        "embedding_dim = 16\n",
        "\n",
        "tokenizer = Tokenizer(num_words=3000, oov_token=\"<OOV>\")\n",
        "tokenizer.fit_on_texts(training_sentences)\n",
        "\n",
        "vocab_size = len(tokenizer.word_index) + 1 \n",
        "\n",
        "word_index = tokenizer.word_index\n",
        "\n",
        "training_sequences = tokenizer.texts_to_sequences(training_sentences)\n",
        "training_padded = pad_sequences(training_sequences, maxlen=max_length, padding='post', truncating='post')\n",
        "\n",
        "testing_sequences = tokenizer.texts_to_sequences(testing_sentences)\n",
        "testing_padded = pad_sequences(testing_sequences, maxlen=max_length, padding='post', truncating='post')"
      ],
      "metadata": {
        "id": "N3re3K0q11cA"
      },
      "execution_count": 5,
      "outputs": []
    },
    {
      "cell_type": "code",
      "source": [
        "Nsentences12=data12[\"sentences\"]\n",
        "Nlabels12=data12[\"classe\"]\n",
        "\n",
        "training_size12=int(len(Nsentences12)*0.8)\n",
        "\n",
        "testing_sentences12 = Nsentences12[training_size12:]\n",
        "testing_labels12 = Nlabels12[training_size12:]\n",
        "\n",
        "##########\n",
        "\n",
        "Nsentences34=data34[\"sentences\"]\n",
        "Nlabels34=data34[\"classe\"]\n",
        "\n",
        "training_size34=int(len(Nsentences34)*0.8)\n",
        "\n",
        "testing_sentences34 = Nsentences34[training_size34:]\n",
        "testing_labels34 = Nlabels34[training_size34:]\n",
        "\n",
        "##########\n",
        "\n",
        "Nsentences5=data5[\"sentences\"]\n",
        "Nlabels5=data5[\"classe\"]\n",
        "\n",
        "training_size5=int(len(Nsentences5)*0.8)\n",
        "\n",
        "testing_sentences5 = Nsentences34[training_size5:]\n",
        "testing_labels5 = Nlabels34[training_size5:]\n",
        "\n",
        "####################\n",
        "\n",
        "testing_sequences12 = tokenizer.texts_to_sequences(testing_sentences12)\n",
        "testing_padded12 = pad_sequences(testing_sequences12, maxlen=max_length, padding='post', truncating='post')\n",
        "\n",
        "###########\n",
        "\n",
        "testing_sequences34 = tokenizer.texts_to_sequences(testing_sentences34)\n",
        "testing_padded34 = pad_sequences(testing_sequences34, maxlen=max_length, padding='post', truncating='post')\n",
        "\n",
        "###########\n",
        "\n",
        "testing_sequences5 = tokenizer.texts_to_sequences(testing_sentences5)\n",
        "testing_padded5 = pad_sequences(testing_sequences5, maxlen=max_length, padding='post', truncating='post')"
      ],
      "metadata": {
        "id": "iibkoyk733f5"
      },
      "execution_count": 6,
      "outputs": []
    },
    {
      "cell_type": "markdown",
      "source": [
        "#ECOC Algorithm: Classification multi-classes"
      ],
      "metadata": {
        "id": "rMG43cmjmmTK"
      }
    },
    {
      "cell_type": "markdown",
      "source": [
        "##First Decomposition: A=0+1 , B=2\n",
        "##Second Decomposition: A=0+2 , B=1\n",
        "##Third Decomposition: A=1+2 , B=0\n",
        "##A-->1 , B-->0"
      ],
      "metadata": {
        "id": "5a4wf7rTpi-i"
      }
    },
    {
      "cell_type": "code",
      "source": [
        "training_padded1 = np.asarray(training_padded).astype(np.int)\n",
        "training_labels1 = np.asarray(training_labels).astype(np.int)\n",
        "testing_padded1 = np.asarray(testing_padded).astype(np.int)\n",
        "testing_labels1 = np.asarray(testing_labels).astype(np.int)\n",
        "\n",
        "training_labels1 = np.expand_dims(training_labels, axis=1)\n",
        "testing_labels1 = np.expand_dims(testing_labels, axis=1)\n",
        "\n",
        "\n",
        "for i in range(len(training_labels1)):\n",
        "  if training_labels1[i]==0:\n",
        "    training_labels1[i]=1\n",
        "  elif training_labels1[i]==2:\n",
        "    training_labels1[i]=0\n",
        "\n",
        "for i in range(len(testing_labels1)):\n",
        "  if testing_labels1[i]==0:\n",
        "    testing_labels1[i]=1\n",
        "  elif testing_labels1[i]==2:\n",
        "    testing_labels1[i]=0\n",
        " \n",
        "#**********\n",
        "\n",
        "training_padded2 = training_padded1 \n",
        "training_labels2 = np.asarray(training_labels).astype(np.int)\n",
        "testing_padded2 = testing_padded1\n",
        "testing_labels2 = np.asarray(testing_labels).astype(np.int)\n",
        "\n",
        "training_labels2 = np.expand_dims(training_labels, axis=1)\n",
        "testing_labels2 = np.expand_dims(testing_labels, axis=1)\n",
        "\n",
        "\n",
        "for i in range(len(training_labels2)):\n",
        "  if training_labels2[i]==1:\n",
        "    training_labels2[i]=0\n",
        "  else:\n",
        "    training_labels2[i]=1\n",
        "\n",
        "\n",
        "for i in range(len(testing_labels2)):\n",
        "  if testing_labels2[i]==1:\n",
        "    testing_labels2[i]=0\n",
        "  else:\n",
        "    testing_labels2[i]=1\n",
        "\n",
        "#**********\n",
        "\n",
        "training_padded3 = training_padded1 \n",
        "training_labels3 = np.asarray(training_labels).astype(np.int)\n",
        "testing_padded3 = testing_padded1\n",
        "testing_labels3 = np.asarray(testing_labels).astype(np.int)\n",
        "\n",
        "training_labels3 = np.expand_dims(training_labels, axis=1)\n",
        "testing_labels3 = np.expand_dims(testing_labels, axis=1)\n",
        "\n",
        "\n",
        "for i in range(len(training_labels3)):\n",
        "  if training_labels3[i]==2:\n",
        "    training_labels3[i]=1\n",
        "\n",
        "for i in range(len(testing_labels3)):\n",
        "  if testing_labels3[i]==2:\n",
        "    testing_labels3[i]=1"
      ],
      "metadata": {
        "colab": {
          "base_uri": "https://localhost:8080/"
        },
        "id": "CNqvL7lJpdE2",
        "outputId": "b1cbdefb-9cf8-4ef3-b7cf-54e6a2d1ceed"
      },
      "execution_count": 7,
      "outputs": [
        {
          "output_type": "stream",
          "name": "stderr",
          "text": [
            "/usr/local/lib/python3.7/dist-packages/ipykernel_launcher.py:1: DeprecationWarning: `np.int` is a deprecated alias for the builtin `int`. To silence this warning, use `int` by itself. Doing this will not modify any behavior and is safe. When replacing `np.int`, you may wish to use e.g. `np.int64` or `np.int32` to specify the precision. If you wish to review your current use, check the release note link for additional information.\n",
            "Deprecated in NumPy 1.20; for more details and guidance: https://numpy.org/devdocs/release/1.20.0-notes.html#deprecations\n",
            "  \"\"\"Entry point for launching an IPython kernel.\n",
            "/usr/local/lib/python3.7/dist-packages/ipykernel_launcher.py:2: DeprecationWarning: `np.int` is a deprecated alias for the builtin `int`. To silence this warning, use `int` by itself. Doing this will not modify any behavior and is safe. When replacing `np.int`, you may wish to use e.g. `np.int64` or `np.int32` to specify the precision. If you wish to review your current use, check the release note link for additional information.\n",
            "Deprecated in NumPy 1.20; for more details and guidance: https://numpy.org/devdocs/release/1.20.0-notes.html#deprecations\n",
            "  \n",
            "/usr/local/lib/python3.7/dist-packages/ipykernel_launcher.py:3: DeprecationWarning: `np.int` is a deprecated alias for the builtin `int`. To silence this warning, use `int` by itself. Doing this will not modify any behavior and is safe. When replacing `np.int`, you may wish to use e.g. `np.int64` or `np.int32` to specify the precision. If you wish to review your current use, check the release note link for additional information.\n",
            "Deprecated in NumPy 1.20; for more details and guidance: https://numpy.org/devdocs/release/1.20.0-notes.html#deprecations\n",
            "  This is separate from the ipykernel package so we can avoid doing imports until\n",
            "/usr/local/lib/python3.7/dist-packages/ipykernel_launcher.py:4: DeprecationWarning: `np.int` is a deprecated alias for the builtin `int`. To silence this warning, use `int` by itself. Doing this will not modify any behavior and is safe. When replacing `np.int`, you may wish to use e.g. `np.int64` or `np.int32` to specify the precision. If you wish to review your current use, check the release note link for additional information.\n",
            "Deprecated in NumPy 1.20; for more details and guidance: https://numpy.org/devdocs/release/1.20.0-notes.html#deprecations\n",
            "  after removing the cwd from sys.path.\n",
            "/usr/local/lib/python3.7/dist-packages/ipykernel_launcher.py:25: DeprecationWarning: `np.int` is a deprecated alias for the builtin `int`. To silence this warning, use `int` by itself. Doing this will not modify any behavior and is safe. When replacing `np.int`, you may wish to use e.g. `np.int64` or `np.int32` to specify the precision. If you wish to review your current use, check the release note link for additional information.\n",
            "Deprecated in NumPy 1.20; for more details and guidance: https://numpy.org/devdocs/release/1.20.0-notes.html#deprecations\n",
            "/usr/local/lib/python3.7/dist-packages/ipykernel_launcher.py:27: DeprecationWarning: `np.int` is a deprecated alias for the builtin `int`. To silence this warning, use `int` by itself. Doing this will not modify any behavior and is safe. When replacing `np.int`, you may wish to use e.g. `np.int64` or `np.int32` to specify the precision. If you wish to review your current use, check the release note link for additional information.\n",
            "Deprecated in NumPy 1.20; for more details and guidance: https://numpy.org/devdocs/release/1.20.0-notes.html#deprecations\n",
            "/usr/local/lib/python3.7/dist-packages/ipykernel_launcher.py:49: DeprecationWarning: `np.int` is a deprecated alias for the builtin `int`. To silence this warning, use `int` by itself. Doing this will not modify any behavior and is safe. When replacing `np.int`, you may wish to use e.g. `np.int64` or `np.int32` to specify the precision. If you wish to review your current use, check the release note link for additional information.\n",
            "Deprecated in NumPy 1.20; for more details and guidance: https://numpy.org/devdocs/release/1.20.0-notes.html#deprecations\n",
            "/usr/local/lib/python3.7/dist-packages/ipykernel_launcher.py:51: DeprecationWarning: `np.int` is a deprecated alias for the builtin `int`. To silence this warning, use `int` by itself. Doing this will not modify any behavior and is safe. When replacing `np.int`, you may wish to use e.g. `np.int64` or `np.int32` to specify the precision. If you wish to review your current use, check the release note link for additional information.\n",
            "Deprecated in NumPy 1.20; for more details and guidance: https://numpy.org/devdocs/release/1.20.0-notes.html#deprecations\n"
          ]
        }
      ]
    },
    {
      "cell_type": "code",
      "source": [
        "training_labels1Y=training_labels1.reshape(18426)\n",
        "training_labels2Y=training_labels2.reshape(18426)\n",
        "training_labels3Y=training_labels3.reshape(18426)"
      ],
      "metadata": {
        "id": "aGEU0giwztF8"
      },
      "execution_count": 9,
      "outputs": []
    },
    {
      "cell_type": "code",
      "source": [
        "import pandas as pd\n",
        "\n",
        "data1=[[i,j] for i,j in zip(training_padded1  , training_labels1Y)]\n",
        "data2=[[i,j] for i,j in zip(training_padded1  , training_labels2Y)]\n",
        "data3=[[i,j] for i,j in zip(training_padded1  , training_labels3Y)]\n",
        "\n",
        "data1=pd.DataFrame(data1,columns=[\"sentences\",\"classe\"])\n",
        "data2=pd.DataFrame(data2,columns=[\"sentences\",\"classe\"])\n",
        "data3=pd.DataFrame(data3,columns=[\"sentences\",\"classe\"])"
      ],
      "metadata": {
        "id": "tGYX6NRcyMqk"
      },
      "execution_count": 10,
      "outputs": []
    },
    {
      "cell_type": "code",
      "source": [
        "import matplotlib.pyplot as plt\n",
        "import seaborn as sns\n",
        "plt.figure(1 , figsize = (15 , 5))\n",
        "sns.countplot(y = 'classe' , data = data1)\n",
        "plt.show()\n",
        "print(data1.loc[data1.classe==0].groupby('classe')[\"classe\"].count())\n",
        "print(data1.loc[data1.classe==1].groupby('classe')[\"classe\"].count())"
      ],
      "metadata": {
        "id": "GqrN0VQbze2L",
        "outputId": "e81685f6-90b8-4461-af1d-79d737eb0270",
        "colab": {
          "base_uri": "https://localhost:8080/",
          "height": 438
        }
      },
      "execution_count": 11,
      "outputs": [
        {
          "output_type": "display_data",
          "data": {
            "text/plain": [
              "<Figure size 1080x360 with 1 Axes>"
            ],
            "image/png": "[encoded data removed]"
          },
          "metadata": {
            "needs_background": "light"
          }
        },
        {
          "output_type": "stream",
          "name": "stdout",
          "text": [
            "classe\n",
            "0    5716\n",
            "Name: classe, dtype: int64\n",
            "classe\n",
            "1    12710\n",
            "Name: classe, dtype: int64\n"
          ]
        }
      ]
    },
    {
      "cell_type": "code",
      "source": [
        "#To Balence our data\n",
        "S0=[]\n",
        "L0=[]\n",
        "S1=[]\n",
        "L1=[]\n",
        "for i in range(len(data1)):\n",
        "  if data1['classe'][i]==1:\n",
        "    S1.append(np.asarray(data1['sentences'][i]))\n",
        "    L1.append(1)\n",
        "  else:\n",
        "    S0.append(np.asarray(data1['sentences'][i]))\n",
        "    L0.append(0)\n",
        "S1=S1[:5716]\n",
        "L1=L1[:5716]\n",
        "\n",
        "S=[]\n",
        "L=[]\n",
        "for i in range(5716):\n",
        "  S.append(S0[i])\n",
        "  S.append(S1[i])\n",
        "  L.append(0)\n",
        "  L.append(1)\n",
        "S=np.asarray(S)\n",
        "data1=[[i,j] for i,j in zip(S  , L)]\n",
        "data1=pd.DataFrame(data1,columns=[\"sentences\",\"classe\"])\n",
        "training_padded1=S"
      ],
      "metadata": {
        "id": "eElG2-LsiIrs"
      },
      "execution_count": 12,
      "outputs": []
    },
    {
      "cell_type": "code",
      "source": [
        "np.shape(S)"
      ],
      "metadata": {
        "colab": {
          "base_uri": "https://localhost:8080/"
        },
        "id": "Bij5rmzMwY9H",
        "outputId": "41e8a27e-f796-46ff-ad16-d826f3c7c458"
      },
      "execution_count": null,
      "outputs": [
        {
          "output_type": "execute_result",
          "data": {
            "text/plain": [
              "(12410, 388)"
            ]
          },
          "metadata": {},
          "execution_count": 12
        }
      ]
    },
    {
      "cell_type": "code",
      "source": [
        "plt.figure(1 , figsize = (15 , 5))\n",
        "sns.countplot(y = 'classe' , data = data1)\n",
        "plt.show()\n",
        "print(data1.loc[data1.classe==0].groupby('classe')[\"classe\"].count())\n",
        "print(data1.loc[data1.classe==1].groupby('classe')[\"classe\"].count())"
      ],
      "metadata": {
        "colab": {
          "base_uri": "https://localhost:8080/",
          "height": 438
        },
        "id": "VY2zJJnYcVSY",
        "outputId": "47f5a746-517c-472a-f753-4831f1335a76"
      },
      "execution_count": 13,
      "outputs": [
        {
          "output_type": "display_data",
          "data": {
            "text/plain": [
              "<Figure size 1080x360 with 1 Axes>"
            ],
            "image/png": "[encoded data removed]"
          },
          "metadata": {
            "needs_background": "light"
          }
        },
        {
          "output_type": "stream",
          "name": "stdout",
          "text": [
            "classe\n",
            "0    5716\n",
            "Name: classe, dtype: int64\n",
            "classe\n",
            "1    5716\n",
            "Name: classe, dtype: int64\n"
          ]
        }
      ]
    },
    {
      "cell_type": "code",
      "source": [
        "plt.figure(1 , figsize = (15 , 5))\n",
        "sns.countplot(y = 'classe' , data = data2)\n",
        "plt.show()\n",
        "print(data2.loc[data2.classe==0].groupby('classe')[\"classe\"].count())\n",
        "print(data2.loc[data2.classe==1].groupby('classe')[\"classe\"].count())"
      ],
      "metadata": {
        "id": "KKzaOl4Nzvfz",
        "outputId": "ee3b7dc5-1d5d-4d43-9b72-3d24d914098d",
        "colab": {
          "base_uri": "https://localhost:8080/",
          "height": 438
        }
      },
      "execution_count": 14,
      "outputs": [
        {
          "output_type": "display_data",
          "data": {
            "text/plain": [
              "<Figure size 1080x360 with 1 Axes>"
            ],
            "image/png": "[encoded data removed]"
          },
          "metadata": {
            "needs_background": "light"
          }
        },
        {
          "output_type": "stream",
          "name": "stdout",
          "text": [
            "classe\n",
            "0    3052\n",
            "Name: classe, dtype: int64\n",
            "classe\n",
            "1    15374\n",
            "Name: classe, dtype: int64\n"
          ]
        }
      ]
    },
    {
      "cell_type": "code",
      "source": [
        "#To Balence our data2\n",
        "S0=[]\n",
        "L0=[]\n",
        "S1=[]\n",
        "L1=[]\n",
        "for i in range(len(data2)):\n",
        "  if data2['classe'][i]==1:\n",
        "    S1.append(data2['sentences'][i])\n",
        "    L1.append(1)\n",
        "  else:\n",
        "    S0.append(data2['sentences'][i])\n",
        "    L0.append(0)\n",
        "S1=S1[:3052]\n",
        "L1=L1[:3052]\n",
        "\n",
        "S=[]\n",
        "L=[]\n",
        "for i in range(3052):\n",
        "  S.append(S0[i])\n",
        "  S.append(S1[i])\n",
        "  L.append(0)\n",
        "  L.append(1)\n",
        "S=np.asarray(S)\n",
        "data2=[[i,j] for i,j in zip(S  , L)]\n",
        "data2=pd.DataFrame(data2,columns=[\"sentences\",\"classe\"])\n",
        "training_padded2=S"
      ],
      "metadata": {
        "id": "QkeDJAhgcq60"
      },
      "execution_count": 15,
      "outputs": []
    },
    {
      "cell_type": "code",
      "source": [
        "plt.figure(1 , figsize = (15 , 5))\n",
        "sns.countplot(y = 'classe' , data = data2)\n",
        "plt.show()\n",
        "print(data2.loc[data2.classe==0].groupby('classe')[\"classe\"].count())\n",
        "print(data2.loc[data2.classe==1].groupby('classe')[\"classe\"].count())"
      ],
      "metadata": {
        "colab": {
          "base_uri": "https://localhost:8080/",
          "height": 438
        },
        "id": "1tqCKKBFdabx",
        "outputId": "25f16889-f443-4118-96e2-7a7c723af7c2"
      },
      "execution_count": 16,
      "outputs": [
        {
          "output_type": "display_data",
          "data": {
            "text/plain": [
              "<Figure size 1080x360 with 1 Axes>"
            ],
            "image/png": "[encoded data removed]"
          },
          "metadata": {
            "needs_background": "light"
          }
        },
        {
          "output_type": "stream",
          "name": "stdout",
          "text": [
            "classe\n",
            "0    3052\n",
            "Name: classe, dtype: int64\n",
            "classe\n",
            "1    3052\n",
            "Name: classe, dtype: int64\n"
          ]
        }
      ]
    },
    {
      "cell_type": "code",
      "source": [
        "plt.figure(1 , figsize = (15 , 5))\n",
        "sns.countplot(y = 'classe' , data = data3)\n",
        "plt.show()\n",
        "print(data3.loc[data3.classe==0].groupby('classe')[\"classe\"].count())\n",
        "print(data3.loc[data3.classe==1].groupby('classe')[\"classe\"].count())"
      ],
      "metadata": {
        "id": "p54ZQycbz1BF",
        "outputId": "74a61ccc-71d8-4257-b11b-5341199badcc",
        "colab": {
          "base_uri": "https://localhost:8080/",
          "height": 438
        }
      },
      "execution_count": 17,
      "outputs": [
        {
          "output_type": "display_data",
          "data": {
            "text/plain": [
              "<Figure size 1080x360 with 1 Axes>"
            ],
            "image/png": "[encoded data removed]"
          },
          "metadata": {
            "needs_background": "light"
          }
        },
        {
          "output_type": "stream",
          "name": "stdout",
          "text": [
            "classe\n",
            "0    9658\n",
            "Name: classe, dtype: int64\n",
            "classe\n",
            "1    8768\n",
            "Name: classe, dtype: int64\n"
          ]
        }
      ]
    },
    {
      "cell_type": "code",
      "source": [
        "#To Balence our data3\n",
        "S0=[]\n",
        "L0=[]\n",
        "S1=[]\n",
        "L1=[]\n",
        "for i in range(len(data3)):\n",
        "  if data3['classe'][i]==1:\n",
        "    S1.append(data3['sentences'][i])\n",
        "    L1.append(1)\n",
        "  else:\n",
        "    S0.append(data3['sentences'][i])\n",
        "    L0.append(0)\n",
        "S0=S0[:8768]\n",
        "L0=L0[:8768]\n",
        "\n",
        "S=[]\n",
        "L=[]\n",
        "for i in range(8768):\n",
        "  S.append(S0[i])\n",
        "  S.append(S1[i])\n",
        "  L.append(0)\n",
        "  L.append(1)\n",
        "S=np.asarray(S)\n",
        "data3=[[i,j] for i,j in zip(S  , L)]\n",
        "data3=pd.DataFrame(data3,columns=[\"sentences\",\"classe\"])\n",
        "training_padded3=S"
      ],
      "metadata": {
        "id": "tdHWVmMMdnlz"
      },
      "execution_count": 18,
      "outputs": []
    },
    {
      "cell_type": "code",
      "source": [
        "plt.figure(1 , figsize = (15 , 5))\n",
        "sns.countplot(y = 'classe' , data = data3)\n",
        "plt.show()\n",
        "print(data3.loc[data3.classe==0].groupby('classe')[\"classe\"].count())\n",
        "print(data3.loc[data3.classe==1].groupby('classe')[\"classe\"].count())"
      ],
      "metadata": {
        "colab": {
          "base_uri": "https://localhost:8080/",
          "height": 438
        },
        "id": "T5eH5S2EeDFr",
        "outputId": "1bf6fad1-b647-4388-83d1-12bb1ed64354"
      },
      "execution_count": 19,
      "outputs": [
        {
          "output_type": "display_data",
          "data": {
            "text/plain": [
              "<Figure size 1080x360 with 1 Axes>"
            ],
            "image/png": "[encoded data removed]"
          },
          "metadata": {
            "needs_background": "light"
          }
        },
        {
          "output_type": "stream",
          "name": "stdout",
          "text": [
            "classe\n",
            "0    8768\n",
            "Name: classe, dtype: int64\n",
            "classe\n",
            "1    8768\n",
            "Name: classe, dtype: int64\n"
          ]
        }
      ]
    },
    {
      "cell_type": "code",
      "source": [
        "#training_padded1=np.asarray(data1['sentences']).reshape(12410,388)\n",
        "training_labels1=np.asarray(data1['classe']).astype('float32')\n",
        "#training_padded2=np.asarray(data2['sentences'])\n",
        "training_labels2=np.asarray(data2['classe']).astype('float32')\n",
        "#training_padded3=np.asarray(data3['sentences'])\n",
        "training_labels3=np.asarray(data3['classe']).astype('float32')"
      ],
      "metadata": {
        "id": "-lmpBDYefzx-"
      },
      "execution_count": 20,
      "outputs": []
    },
    {
      "cell_type": "code",
      "source": [
        "import tensorflow as tf\n",
        "\n",
        "model1=tf.keras.models.Sequential ([\n",
        "                                   tf.keras.layers.Embedding(vocab_size, embedding_dim, input_length=max_length),\n",
        "                                   tf.keras.layers.Conv1D(128, 5, activation='relu'),\n",
        "                                   tf.keras.layers.Conv1D(filters=32, kernel_size=1, activation='selu'),\n",
        "                                   tf.keras.layers.Bidirectional(tf.keras.layers.LSTM(32,return_sequences=True)),\n",
        "                                   tf.keras.layers.Bidirectional(tf.keras.layers.LSTM(16,return_sequences=True)),\n",
        "                                   tf.keras.layers.Flatten(),\n",
        "                                   tf.keras.layers.Dropout(0.3),\n",
        "                                   tf.keras.layers.Dense(units=24,activation='relu'),\n",
        "                                   tf.keras.layers.Dense(units=1, activation='sigmoid')])\n",
        "\n",
        "model2=tf.keras.models.Sequential ([\n",
        "                                   tf.keras.layers.Embedding(vocab_size, embedding_dim, input_length=max_length),\n",
        "                                   tf.keras.layers.Conv1D(128, 5, activation='relu'),\n",
        "                                   tf.keras.layers.Conv1D(filters=32, kernel_size=1, activation='selu'),\n",
        "                                   tf.keras.layers.Bidirectional(tf.keras.layers.LSTM(32,return_sequences=True)),\n",
        "                                   tf.keras.layers.Bidirectional(tf.keras.layers.LSTM(16,return_sequences=True)),\n",
        "                                   tf.keras.layers.Flatten(),\n",
        "                                   tf.keras.layers.Dropout(0.3),\n",
        "                                   tf.keras.layers.Dense(units=24,activation='relu'),\n",
        "                                   tf.keras.layers.Dense(units=1, activation='sigmoid')])\n",
        "\n",
        "model3=tf.keras.models.Sequential ([\n",
        "                                   tf.keras.layers.Embedding(vocab_size, embedding_dim, input_length=max_length),\n",
        "                                   tf.keras.layers.Conv1D(128, 5, activation='relu'),\n",
        "                                   tf.keras.layers.Conv1D(filters=32, kernel_size=1, activation='selu'),\n",
        "                                   tf.keras.layers.Bidirectional(tf.keras.layers.LSTM(32,return_sequences=True)),\n",
        "                                   tf.keras.layers.Bidirectional(tf.keras.layers.LSTM(32,return_sequences=True)),\n",
        "                                   tf.keras.layers.Bidirectional(tf.keras.layers.LSTM(16,return_sequences=True)),\n",
        "                                   tf.keras.layers.Flatten(),\n",
        "                                   tf.keras.layers.Dense(units=24,activation='relu'),\n",
        "                                   tf.keras.layers.Dense(units=1, activation='sigmoid')])\n",
        "\n",
        "model1.summary()"
      ],
      "metadata": {
        "colab": {
          "base_uri": "https://localhost:8080/"
        },
        "id": "6doHB9-omN9b",
        "outputId": "88002d69-fcd9-49c9-c1b0-bbd66aa7056e"
      },
      "execution_count": 24,
      "outputs": [
        {
          "output_type": "stream",
          "name": "stdout",
          "text": [
            "Model: \"sequential_3\"\n",
            "_________________________________________________________________\n",
            " Layer (type)                Output Shape              Param #   \n",
            "=================================================================\n",
            " embedding_3 (Embedding)     (None, 388, 16)           834688    \n",
            "                                                                 \n",
            " conv1d_6 (Conv1D)           (None, 384, 128)          10368     \n",
            "                                                                 \n",
            " conv1d_7 (Conv1D)           (None, 384, 32)           4128      \n",
            "                                                                 \n",
            " bidirectional_9 (Bidirectio  (None, 384, 64)          16640     \n",
            " nal)                                                            \n",
            "                                                                 \n",
            " bidirectional_10 (Bidirecti  (None, 384, 32)          10368     \n",
            " onal)                                                           \n",
            "                                                                 \n",
            " flatten_3 (Flatten)         (None, 12288)             0         \n",
            "                                                                 \n",
            " dropout_2 (Dropout)         (None, 12288)             0         \n",
            "                                                                 \n",
            " dense_6 (Dense)             (None, 24)                294936    \n",
            "                                                                 \n",
            " dense_7 (Dense)             (None, 1)                 25        \n",
            "                                                                 \n",
            "=================================================================\n",
            "Total params: 1,171,153\n",
            "Trainable params: 1,171,153\n",
            "Non-trainable params: 0\n",
            "_________________________________________________________________\n"
          ]
        }
      ]
    },
    {
      "cell_type": "code",
      "source": [
        "model1.compile(loss=\"binary_crossentropy\",optimizer='adam',metrics=['accuracy'],run_eagerly=True)\n",
        "history1 = model1.fit(training_padded1, training_labels1, batch_size=128, epochs=35, validation_data=(testing_padded1, testing_labels1), verbose=1)\n",
        "\n",
        "model2.compile(loss=\"binary_crossentropy\",optimizer='adam',metrics=['accuracy'],run_eagerly=True)\n",
        "history2 = model2.fit(training_padded2, training_labels2, batch_size=128, epochs=35, validation_data=(testing_padded2, testing_labels2), verbose=1)\n",
        "\n",
        "model3.compile(loss=\"binary_crossentropy\",optimizer='adam',metrics=['accuracy'],run_eagerly=True)\n",
        "history3 = model3.fit(training_padded3, training_labels3, batch_size=128, epochs=35, validation_data=(testing_padded3, testing_labels3), verbose=1)"
      ],
      "metadata": {
        "colab": {
          "base_uri": "https://localhost:8080/"
        },
        "id": "p7Q5vrb5nOSU",
        "outputId": "73c7f6d1-27d9-4ba8-a100-a5d461d3003e"
      },
      "execution_count": 25,
      "outputs": [
        {
          "output_type": "stream",
          "name": "stdout",
          "text": [
            "Epoch 1/35\n",
            "90/90 [==============================] - 11s 120ms/step - loss: 0.6481 - accuracy: 0.5967 - val_loss: 1.1699 - val_accuracy: 0.3655\n",
            "Epoch 2/35\n",
            "90/90 [==============================] - 11s 118ms/step - loss: 0.4582 - accuracy: 0.7900 - val_loss: 1.3175 - val_accuracy: 0.3903\n",
            "Epoch 3/35\n",
            "90/90 [==============================] - 10s 107ms/step - loss: 0.3774 - accuracy: 0.8368 - val_loss: 1.4349 - val_accuracy: 0.4845\n",
            "Epoch 4/35\n",
            "90/90 [==============================] - 11s 119ms/step - loss: 0.3207 - accuracy: 0.8692 - val_loss: 1.8141 - val_accuracy: 0.4767\n",
            "Epoch 5/35\n",
            "90/90 [==============================] - 10s 111ms/step - loss: 0.2672 - accuracy: 0.8941 - val_loss: 2.9266 - val_accuracy: 0.4665\n",
            "Epoch 6/35\n",
            "90/90 [==============================] - 11s 119ms/step - loss: 0.2137 - accuracy: 0.9165 - val_loss: 2.9921 - val_accuracy: 0.5259\n",
            "Epoch 7/35\n",
            "90/90 [==============================] - 10s 115ms/step - loss: 0.1682 - accuracy: 0.9363 - val_loss: 4.4255 - val_accuracy: 0.4984\n",
            "Epoch 8/35\n",
            "90/90 [==============================] - 10s 106ms/step - loss: 0.1367 - accuracy: 0.9491 - val_loss: 4.5286 - val_accuracy: 0.5136\n",
            "Epoch 9/35\n",
            "90/90 [==============================] - 11s 125ms/step - loss: 0.1160 - accuracy: 0.9563 - val_loss: 4.7960 - val_accuracy: 0.5372\n",
            "Epoch 10/35\n",
            "90/90 [==============================] - 11s 120ms/step - loss: 0.1025 - accuracy: 0.9614 - val_loss: 6.5658 - val_accuracy: 0.4995\n",
            "Epoch 11/35\n",
            "90/90 [==============================] - 10s 107ms/step - loss: 0.0907 - accuracy: 0.9647 - val_loss: 5.9834 - val_accuracy: 0.5246\n",
            "Epoch 12/35\n",
            "90/90 [==============================] - 11s 118ms/step - loss: 0.0840 - accuracy: 0.9687 - val_loss: 5.8519 - val_accuracy: 0.4982\n",
            "Epoch 13/35\n",
            "90/90 [==============================] - 10s 107ms/step - loss: 0.0739 - accuracy: 0.9711 - val_loss: 5.5147 - val_accuracy: 0.5283\n",
            "Epoch 14/35\n",
            "90/90 [==============================] - 10s 116ms/step - loss: 0.0688 - accuracy: 0.9733 - val_loss: 6.9212 - val_accuracy: 0.4969\n",
            "Epoch 15/35\n",
            "90/90 [==============================] - 10s 111ms/step - loss: 0.0691 - accuracy: 0.9727 - val_loss: 5.9630 - val_accuracy: 0.5329\n",
            "Epoch 16/35\n",
            "90/90 [==============================] - 10s 109ms/step - loss: 0.0618 - accuracy: 0.9754 - val_loss: 6.7780 - val_accuracy: 0.4925\n",
            "Epoch 17/35\n",
            "90/90 [==============================] - 11s 119ms/step - loss: 0.0662 - accuracy: 0.9717 - val_loss: 6.9022 - val_accuracy: 0.5142\n",
            "Epoch 18/35\n",
            "90/90 [==============================] - 11s 125ms/step - loss: 0.0588 - accuracy: 0.9770 - val_loss: 6.4942 - val_accuracy: 0.5077\n",
            "Epoch 19/35\n",
            "90/90 [==============================] - 10s 110ms/step - loss: 0.0567 - accuracy: 0.9780 - val_loss: 7.2195 - val_accuracy: 0.5103\n",
            "Epoch 20/35\n",
            "90/90 [==============================] - 10s 115ms/step - loss: 0.0509 - accuracy: 0.9794 - val_loss: 7.3639 - val_accuracy: 0.5262\n",
            "Epoch 21/35\n",
            "90/90 [==============================] - 11s 121ms/step - loss: 0.0491 - accuracy: 0.9800 - val_loss: 6.9753 - val_accuracy: 0.5288\n",
            "Epoch 22/35\n",
            "90/90 [==============================] - 11s 118ms/step - loss: 0.0487 - accuracy: 0.9799 - val_loss: 7.1779 - val_accuracy: 0.5036\n",
            "Epoch 23/35\n",
            "90/90 [==============================] - 10s 108ms/step - loss: 0.0491 - accuracy: 0.9784 - val_loss: 8.3391 - val_accuracy: 0.4756\n",
            "Epoch 24/35\n",
            "90/90 [==============================] - 10s 107ms/step - loss: 0.0479 - accuracy: 0.9797 - val_loss: 7.8022 - val_accuracy: 0.5348\n",
            "Epoch 25/35\n",
            "90/90 [==============================] - 10s 107ms/step - loss: 0.0525 - accuracy: 0.9772 - val_loss: 8.6140 - val_accuracy: 0.4914\n",
            "Epoch 26/35\n",
            "90/90 [==============================] - 10s 107ms/step - loss: 0.0545 - accuracy: 0.9773 - val_loss: 8.3681 - val_accuracy: 0.5103\n",
            "Epoch 27/35\n",
            "90/90 [==============================] - 10s 107ms/step - loss: 0.0523 - accuracy: 0.9787 - val_loss: 7.8962 - val_accuracy: 0.5164\n",
            "Epoch 28/35\n",
            "90/90 [==============================] - 11s 119ms/step - loss: 0.0488 - accuracy: 0.9803 - val_loss: 8.5070 - val_accuracy: 0.5010\n",
            "Epoch 29/35\n",
            "90/90 [==============================] - 11s 118ms/step - loss: 0.0471 - accuracy: 0.9806 - val_loss: 8.1591 - val_accuracy: 0.5173\n",
            "Epoch 30/35\n",
            "90/90 [==============================] - 10s 107ms/step - loss: 0.0451 - accuracy: 0.9808 - val_loss: 8.1374 - val_accuracy: 0.4919\n",
            "Epoch 31/35\n",
            "90/90 [==============================] - 11s 118ms/step - loss: 0.0449 - accuracy: 0.9823 - val_loss: 8.5330 - val_accuracy: 0.5023\n",
            "Epoch 32/35\n",
            "90/90 [==============================] - 10s 107ms/step - loss: 0.0495 - accuracy: 0.9795 - val_loss: 8.3758 - val_accuracy: 0.4923\n",
            "Epoch 33/35\n",
            "90/90 [==============================] - 11s 119ms/step - loss: 0.0509 - accuracy: 0.9788 - val_loss: 8.5161 - val_accuracy: 0.4964\n",
            "Epoch 34/35\n",
            "90/90 [==============================] - 11s 118ms/step - loss: 0.0458 - accuracy: 0.9801 - val_loss: 8.9604 - val_accuracy: 0.4799\n",
            "Epoch 35/35\n",
            "90/90 [==============================] - 11s 119ms/step - loss: 0.0435 - accuracy: 0.9818 - val_loss: 7.9544 - val_accuracy: 0.4997\n",
            "Epoch 1/35\n",
            "48/48 [==============================] - 6s 125ms/step - loss: 0.6936 - accuracy: 0.4982 - val_loss: 0.6929 - val_accuracy: 0.8268\n",
            "Epoch 2/35\n",
            "48/48 [==============================] - 6s 125ms/step - loss: 0.6932 - accuracy: 0.4961 - val_loss: 0.6922 - val_accuracy: 0.8268\n",
            "Epoch 3/35\n",
            "48/48 [==============================] - 6s 123ms/step - loss: 0.6932 - accuracy: 0.5000 - val_loss: 0.6929 - val_accuracy: 0.8268\n",
            "Epoch 4/35\n",
            "48/48 [==============================] - 6s 123ms/step - loss: 0.6932 - accuracy: 0.4954 - val_loss: 0.6929 - val_accuracy: 0.8268\n",
            "Epoch 5/35\n",
            "48/48 [==============================] - 6s 123ms/step - loss: 0.6932 - accuracy: 0.5000 - val_loss: 0.6922 - val_accuracy: 0.8268\n",
            "Epoch 6/35\n",
            "48/48 [==============================] - 6s 122ms/step - loss: 0.6932 - accuracy: 0.5000 - val_loss: 0.6917 - val_accuracy: 0.8268\n",
            "Epoch 7/35\n",
            "48/48 [==============================] - 6s 120ms/step - loss: 0.6932 - accuracy: 0.5000 - val_loss: 0.6922 - val_accuracy: 0.8268\n",
            "Epoch 8/35\n",
            "48/48 [==============================] - 6s 121ms/step - loss: 0.6932 - accuracy: 0.4892 - val_loss: 0.6930 - val_accuracy: 0.8268\n",
            "Epoch 9/35\n",
            "48/48 [==============================] - 7s 142ms/step - loss: 0.6932 - accuracy: 0.4934 - val_loss: 0.6929 - val_accuracy: 0.8268\n",
            "Epoch 10/35\n",
            "48/48 [==============================] - 6s 120ms/step - loss: 0.6932 - accuracy: 0.4964 - val_loss: 0.6938 - val_accuracy: 0.1732\n",
            "Epoch 11/35\n",
            "48/48 [==============================] - 7s 144ms/step - loss: 0.6932 - accuracy: 0.5000 - val_loss: 0.6932 - val_accuracy: 0.1732\n",
            "Epoch 12/35\n",
            "48/48 [==============================] - 7s 144ms/step - loss: 0.6932 - accuracy: 0.4859 - val_loss: 0.6936 - val_accuracy: 0.1732\n",
            "Epoch 13/35\n",
            "48/48 [==============================] - 6s 123ms/step - loss: 0.6932 - accuracy: 0.5000 - val_loss: 0.6944 - val_accuracy: 0.1732\n",
            "Epoch 14/35\n",
            "48/48 [==============================] - 6s 121ms/step - loss: 0.6932 - accuracy: 0.4954 - val_loss: 0.6928 - val_accuracy: 0.8268\n",
            "Epoch 15/35\n",
            "48/48 [==============================] - 6s 121ms/step - loss: 0.6932 - accuracy: 0.4846 - val_loss: 0.6929 - val_accuracy: 0.8268\n",
            "Epoch 16/35\n",
            "48/48 [==============================] - 6s 123ms/step - loss: 0.6932 - accuracy: 0.5000 - val_loss: 0.6924 - val_accuracy: 0.8268\n",
            "Epoch 17/35\n",
            "48/48 [==============================] - 6s 121ms/step - loss: 0.6932 - accuracy: 0.4967 - val_loss: 0.6935 - val_accuracy: 0.1732\n",
            "Epoch 18/35\n",
            "48/48 [==============================] - 6s 120ms/step - loss: 0.6932 - accuracy: 0.4892 - val_loss: 0.6935 - val_accuracy: 0.1732\n",
            "Epoch 19/35\n",
            "48/48 [==============================] - 6s 120ms/step - loss: 0.6932 - accuracy: 0.4872 - val_loss: 0.6931 - val_accuracy: 0.8268\n",
            "Epoch 20/35\n",
            "48/48 [==============================] - 7s 142ms/step - loss: 0.6932 - accuracy: 0.4984 - val_loss: 0.6932 - val_accuracy: 0.1732\n",
            "Epoch 21/35\n",
            "48/48 [==============================] - 7s 143ms/step - loss: 0.6932 - accuracy: 0.4921 - val_loss: 0.6927 - val_accuracy: 0.8268\n",
            "Epoch 22/35\n",
            "48/48 [==============================] - 7s 144ms/step - loss: 0.6932 - accuracy: 0.4971 - val_loss: 0.6933 - val_accuracy: 0.1732\n",
            "Epoch 23/35\n",
            "48/48 [==============================] - 6s 120ms/step - loss: 0.6932 - accuracy: 0.4944 - val_loss: 0.6938 - val_accuracy: 0.1732\n",
            "Epoch 24/35\n",
            "48/48 [==============================] - 7s 144ms/step - loss: 0.6932 - accuracy: 0.4866 - val_loss: 0.6925 - val_accuracy: 0.8268\n",
            "Epoch 25/35\n",
            "48/48 [==============================] - 7s 144ms/step - loss: 0.6932 - accuracy: 0.4954 - val_loss: 0.6934 - val_accuracy: 0.1732\n",
            "Epoch 26/35\n",
            "48/48 [==============================] - 7s 143ms/step - loss: 0.6932 - accuracy: 0.4938 - val_loss: 0.6936 - val_accuracy: 0.1732\n",
            "Epoch 27/35\n",
            "48/48 [==============================] - 7s 143ms/step - loss: 0.6932 - accuracy: 0.4925 - val_loss: 0.6929 - val_accuracy: 0.8268\n",
            "Epoch 28/35\n",
            "48/48 [==============================] - 7s 144ms/step - loss: 0.6932 - accuracy: 0.4964 - val_loss: 0.6937 - val_accuracy: 0.1732\n",
            "Epoch 29/35\n",
            "48/48 [==============================] - 7s 143ms/step - loss: 0.6932 - accuracy: 0.4928 - val_loss: 0.6935 - val_accuracy: 0.1732\n",
            "Epoch 30/35\n",
            "48/48 [==============================] - 6s 120ms/step - loss: 0.6932 - accuracy: 0.4990 - val_loss: 0.6930 - val_accuracy: 0.8268\n",
            "Epoch 31/35\n",
            "48/48 [==============================] - 6s 120ms/step - loss: 0.6932 - accuracy: 0.5000 - val_loss: 0.6925 - val_accuracy: 0.8268\n",
            "Epoch 32/35\n",
            "48/48 [==============================] - 7s 144ms/step - loss: 0.6932 - accuracy: 0.4908 - val_loss: 0.6932 - val_accuracy: 0.1732\n",
            "Epoch 33/35\n",
            "48/48 [==============================] - 7s 143ms/step - loss: 0.6932 - accuracy: 0.4934 - val_loss: 0.6930 - val_accuracy: 0.8268\n",
            "Epoch 34/35\n",
            "48/48 [==============================] - 7s 144ms/step - loss: 0.6932 - accuracy: 0.5000 - val_loss: 0.6929 - val_accuracy: 0.8268\n",
            "Epoch 35/35\n",
            "48/48 [==============================] - 6s 121ms/step - loss: 0.6932 - accuracy: 0.4941 - val_loss: 0.6929 - val_accuracy: 0.8268\n",
            "Epoch 1/35\n",
            "137/137 [==============================] - 19s 141ms/step - loss: 0.6218 - accuracy: 0.6199 - val_loss: 0.4245 - val_accuracy: 0.8326\n",
            "Epoch 2/35\n",
            "137/137 [==============================] - 19s 140ms/step - loss: 0.4462 - accuracy: 0.7986 - val_loss: 0.3320 - val_accuracy: 0.8643\n",
            "Epoch 3/35\n",
            "137/137 [==============================] - 19s 138ms/step - loss: 0.3900 - accuracy: 0.8305 - val_loss: 0.3053 - val_accuracy: 0.8769\n",
            "Epoch 4/35\n",
            "137/137 [==============================] - 19s 138ms/step - loss: 0.3570 - accuracy: 0.8505 - val_loss: 0.2883 - val_accuracy: 0.8824\n",
            "Epoch 5/35\n",
            "137/137 [==============================] - 19s 139ms/step - loss: 0.3282 - accuracy: 0.8621 - val_loss: 0.2700 - val_accuracy: 0.8919\n",
            "Epoch 6/35\n",
            "137/137 [==============================] - 19s 139ms/step - loss: 0.2915 - accuracy: 0.8800 - val_loss: 0.2487 - val_accuracy: 0.8995\n",
            "Epoch 7/35\n",
            "137/137 [==============================] - 19s 142ms/step - loss: 0.2568 - accuracy: 0.8939 - val_loss: 0.2346 - val_accuracy: 0.9067\n",
            "Epoch 8/35\n",
            "137/137 [==============================] - 19s 136ms/step - loss: 0.2145 - accuracy: 0.9128 - val_loss: 0.2335 - val_accuracy: 0.9125\n",
            "Epoch 9/35\n",
            "137/137 [==============================] - 19s 138ms/step - loss: 0.1856 - accuracy: 0.9271 - val_loss: 0.2261 - val_accuracy: 0.9143\n",
            "Epoch 10/35\n",
            "137/137 [==============================] - 19s 142ms/step - loss: 0.1665 - accuracy: 0.9339 - val_loss: 0.2179 - val_accuracy: 0.9212\n",
            "Epoch 11/35\n",
            "137/137 [==============================] - 19s 141ms/step - loss: 0.1486 - accuracy: 0.9427 - val_loss: 0.2383 - val_accuracy: 0.9156\n",
            "Epoch 12/35\n",
            "137/137 [==============================] - 19s 140ms/step - loss: 0.1355 - accuracy: 0.9481 - val_loss: 0.2282 - val_accuracy: 0.9227\n",
            "Epoch 13/35\n",
            "137/137 [==============================] - 19s 139ms/step - loss: 0.1218 - accuracy: 0.9534 - val_loss: 0.2298 - val_accuracy: 0.9251\n",
            "Epoch 14/35\n",
            "137/137 [==============================] - 19s 139ms/step - loss: 0.1167 - accuracy: 0.9553 - val_loss: 0.2358 - val_accuracy: 0.9255\n",
            "Epoch 15/35\n",
            "137/137 [==============================] - 19s 137ms/step - loss: 0.1079 - accuracy: 0.9582 - val_loss: 0.2446 - val_accuracy: 0.9264\n",
            "Epoch 16/35\n",
            "137/137 [==============================] - 19s 141ms/step - loss: 0.1047 - accuracy: 0.9593 - val_loss: 0.2281 - val_accuracy: 0.9236\n",
            "Epoch 17/35\n",
            "137/137 [==============================] - 20s 147ms/step - loss: 0.0963 - accuracy: 0.9620 - val_loss: 0.2491 - val_accuracy: 0.9277\n",
            "Epoch 18/35\n",
            "137/137 [==============================] - 20s 144ms/step - loss: 0.0942 - accuracy: 0.9615 - val_loss: 0.2540 - val_accuracy: 0.9201\n",
            "Epoch 19/35\n",
            "137/137 [==============================] - 19s 142ms/step - loss: 0.0918 - accuracy: 0.9630 - val_loss: 0.2425 - val_accuracy: 0.9290\n",
            "Epoch 20/35\n",
            "137/137 [==============================] - 19s 136ms/step - loss: 0.0845 - accuracy: 0.9654 - val_loss: 0.2567 - val_accuracy: 0.9290\n",
            "Epoch 21/35\n",
            "137/137 [==============================] - 19s 141ms/step - loss: 0.0851 - accuracy: 0.9642 - val_loss: 0.2438 - val_accuracy: 0.9277\n",
            "Epoch 22/35\n",
            "137/137 [==============================] - 20s 144ms/step - loss: 0.0806 - accuracy: 0.9661 - val_loss: 0.2450 - val_accuracy: 0.9277\n",
            "Epoch 23/35\n",
            "137/137 [==============================] - 20s 147ms/step - loss: 0.0774 - accuracy: 0.9677 - val_loss: 0.2517 - val_accuracy: 0.9316\n",
            "Epoch 24/35\n",
            "137/137 [==============================] - 19s 140ms/step - loss: 0.0768 - accuracy: 0.9656 - val_loss: 0.2793 - val_accuracy: 0.9284\n",
            "Epoch 25/35\n",
            "137/137 [==============================] - 19s 141ms/step - loss: 0.0749 - accuracy: 0.9660 - val_loss: 0.2567 - val_accuracy: 0.9284\n",
            "Epoch 26/35\n",
            "137/137 [==============================] - 19s 139ms/step - loss: 0.0725 - accuracy: 0.9675 - val_loss: 0.2944 - val_accuracy: 0.9295\n",
            "Epoch 27/35\n",
            "137/137 [==============================] - 19s 141ms/step - loss: 0.0704 - accuracy: 0.9687 - val_loss: 0.2697 - val_accuracy: 0.9310\n",
            "Epoch 28/35\n",
            "137/137 [==============================] - 19s 142ms/step - loss: 0.0718 - accuracy: 0.9673 - val_loss: 0.3026 - val_accuracy: 0.9203\n",
            "Epoch 29/35\n",
            "137/137 [==============================] - 19s 138ms/step - loss: 0.0800 - accuracy: 0.9641 - val_loss: 0.3042 - val_accuracy: 0.9262\n",
            "Epoch 30/35\n",
            "137/137 [==============================] - 19s 140ms/step - loss: 0.0737 - accuracy: 0.9670 - val_loss: 0.2681 - val_accuracy: 0.9334\n",
            "Epoch 31/35\n",
            "137/137 [==============================] - 19s 140ms/step - loss: 0.0679 - accuracy: 0.9683 - val_loss: 0.3202 - val_accuracy: 0.9292\n",
            "Epoch 32/35\n",
            "137/137 [==============================] - 19s 140ms/step - loss: 0.0693 - accuracy: 0.9678 - val_loss: 0.3055 - val_accuracy: 0.9299\n",
            "Epoch 33/35\n",
            "137/137 [==============================] - 19s 140ms/step - loss: 0.0665 - accuracy: 0.9681 - val_loss: 0.3296 - val_accuracy: 0.9260\n",
            "Epoch 34/35\n",
            "137/137 [==============================] - 20s 143ms/step - loss: 0.0611 - accuracy: 0.9705 - val_loss: 0.3429 - val_accuracy: 0.9284\n",
            "Epoch 35/35\n",
            "137/137 [==============================] - 19s 140ms/step - loss: 0.0590 - accuracy: 0.9690 - val_loss: 0.3969 - val_accuracy: 0.9262\n"
          ]
        }
      ]
    },
    {
      "cell_type": "code",
      "source": [
        "import matplotlib.pyplot as plt\n",
        "import numpy\n",
        "# summarize history for accuracy\n",
        "plt.plot(history1.history['loss'])\n",
        "plt.plot(history1.history['val_loss'])\n",
        "plt.title('model loss')\n",
        "plt.ylabel('loss')\n",
        "plt.xlabel('epoch')\n",
        "plt.legend(['train', 'test'], loc='upper left')\n",
        "plt.show()\n",
        "# summarize history for loss\n",
        "plt.plot(history1.history['accuracy'])\n",
        "plt.plot(history1.history['val_accuracy'])\n",
        "plt.title('model accuracy')\n",
        "plt.ylabel('accuracy')\n",
        "plt.xlabel('epoch')\n",
        "plt.legend(['train', 'test'], loc='upper left')\n",
        "plt.show()\n",
        "\n",
        "# summarize history for accuracy\n",
        "plt.plot(history2.history['loss'])\n",
        "plt.plot(history2.history['val_loss'])\n",
        "plt.title('model loss')\n",
        "plt.ylabel('loss')\n",
        "plt.xlabel('epoch')\n",
        "plt.legend(['train', 'test'], loc='upper left')\n",
        "plt.show()\n",
        "# summarize history for loss\n",
        "plt.plot(history2.history['accuracy'])\n",
        "plt.plot(history2.history['val_accuracy'])\n",
        "plt.title('model accuracy')\n",
        "plt.ylabel('accuracy')\n",
        "plt.xlabel('epoch')\n",
        "plt.legend(['train', 'test'], loc='upper left')\n",
        "plt.show()\n",
        "\n",
        "# summarize history for accuracy\n",
        "plt.plot(history3.history['loss'])\n",
        "plt.plot(history3.history['val_loss'])\n",
        "plt.title('model loss')\n",
        "plt.ylabel('loss')\n",
        "plt.xlabel('epoch')\n",
        "plt.legend(['train', 'test'], loc='upper left')\n",
        "plt.show()\n",
        "# summarize history for loss\n",
        "plt.plot(history3.history['accuracy'])\n",
        "plt.plot(history3.history['val_accuracy'])\n",
        "plt.title('model accuracy')\n",
        "plt.ylabel('accuracy')\n",
        "plt.xlabel('epoch')\n",
        "plt.legend(['train', 'test'], loc='upper left')\n",
        "plt.show()"
      ],
      "metadata": {
        "colab": {
          "base_uri": "https://localhost:8080/",
          "height": 1000
        },
        "id": "Zq20o1oq2Yc7",
        "outputId": "b73055d7-6b6b-4b7b-d526-9093a7bba26e"
      },
      "execution_count": 26,
      "outputs": [
        {
          "output_type": "display_data",
          "data": {
            "text/plain": [
              "<Figure size 432x288 with 1 Axes>"
            ],
            "image/png": "[encoded data removed]"
          },
          "metadata": {
            "needs_background": "light"
          }
        },
        {
          "output_type": "display_data",
          "data": {
            "text/plain": [
              "<Figure size 432x288 with 1 Axes>"
            ],
            "image/png": "[encoded data removed]"
          },
          "metadata": {
            "needs_background": "light"
          }
        },
        {
          "output_type": "display_data",
          "data": {
            "text/plain": [
              "<Figure size 432x288 with 1 Axes>"
            ],
            "image/png": "[encoded data removed]"
          },
          "metadata": {
            "needs_background": "light"
          }
        },
        {
          "output_type": "display_data",
          "data": {
            "text/plain": [
              "<Figure size 432x288 with 1 Axes>"
            ],
            "image/png": "[encoded data removed]"
          },
          "metadata": {
            "needs_background": "light"
          }
        },
        {
          "output_type": "display_data",
          "data": {
            "text/plain": [
              "<Figure size 432x288 with 1 Axes>"
            ],
            "image/png": "[encoded data removed]"
          },
          "metadata": {
            "needs_background": "light"
          }
        },
        {
          "output_type": "display_data",
          "data": {
            "text/plain": [
              "<Figure size 432x288 with 1 Axes>"
            ],
            "image/png": "[encoded data removed]"
          },
          "metadata": {
            "needs_background": "light"
          }
        }
      ]
    },
    {
      "cell_type": "code",
      "source": [
        "model1.save(\"BalancedEnsemblistModel108.h5\")\n",
        "model2.save(\"BalancedEnsemblistModel208.h5\")\n",
        "model3.save(\"BalancedEnsemblistModel308.h5\")"
      ],
      "metadata": {
        "id": "HfusuNnD0jzJ"
      },
      "execution_count": 27,
      "outputs": []
    },
    {
      "cell_type": "code",
      "source": [
        "L1=model1.predict(testing_padded)\n",
        "L2=model2.predict(testing_padded)\n",
        "L3=model3.predict(testing_padded)\n",
        "\n",
        "for i in range(len(L1)):\n",
        "  if (L1[i]<0.5):\n",
        "    L1[i]=0\n",
        "  else:\n",
        "    L1[i]=1\n",
        "  if (L2[i]<0.5):\n",
        "    L2[i]=0\n",
        "  else:\n",
        "    L2[i]=1\n",
        "  if (L3[i]<0.5):\n",
        "    L3[i]=0\n",
        "  else:\n",
        "    L3[i]=1\n",
        "P=[]\n",
        "for i in range(len(L1)):\n",
        "  P.append(str(int(L1[i][0]))+str(int(L2[i][0]))+str(int(L3[i][0])))\n",
        "\n",
        "print(P[2])"
      ],
      "metadata": {
        "colab": {
          "base_uri": "https://localhost:8080/"
        },
        "id": "GJM_EkfzxRYD",
        "outputId": "a442c990-9a09-454f-f80b-89400b40fe3b"
      },
      "execution_count": 28,
      "outputs": [
        {
          "output_type": "stream",
          "name": "stdout",
          "text": [
            "010\n"
          ]
        }
      ]
    },
    {
      "cell_type": "code",
      "source": [
        "def hamming_distance(string1, string2):\n",
        "\tdist_counter = 0\n",
        "\tfor n in range(len(string1)):\n",
        "\t\tif string1[n] != string2[n]:\n",
        "\t\t\tdist_counter += 1\n",
        "\treturn dist_counter\n",
        "\n",
        "pred=[]\n",
        "for i in range(len(P)):\n",
        "  if (min(min(hamming_distance(P[i],'110'),hamming_distance(P[i],'101')),hamming_distance(P[i],'011'))==hamming_distance(P[i],'110')):\n",
        "    pred.append(0)\n",
        "  elif (min(min(hamming_distance(P[i],'110'),hamming_distance(P[i],'101')),hamming_distance(P[i],'011'))==hamming_distance(P[i],'101')):\n",
        "    pred.append(1)\n",
        "  else:\n",
        "    pred.append(2)"
      ],
      "metadata": {
        "id": "ci_yxTAFEIf6"
      },
      "execution_count": 29,
      "outputs": []
    },
    {
      "cell_type": "code",
      "source": [
        "from sklearn.metrics import confusion_matrix\n",
        "from sklearn.metrics import classification_report\n",
        "cm = confusion_matrix(testing_labels, pred)\n",
        "print(\"For the Ensemblist methode: \\n\",cm)\n",
        "print(classification_report(testing_labels, pred, labels=[0,1,2]))"
      ],
      "metadata": {
        "colab": {
          "base_uri": "https://localhost:8080/"
        },
        "id": "-XzjG5nC0qit",
        "outputId": "b3d16a62-eca9-4345-fac1-beaed863b73e"
      },
      "execution_count": 30,
      "outputs": [
        {
          "output_type": "stream",
          "name": "stdout",
          "text": [
            "For the Ensemblist methode: \n",
            " [[2543    0  152]\n",
            " [ 372    0  426]\n",
            " [ 156    0  958]]\n",
            "              precision    recall  f1-score   support\n",
            "\n",
            "           0       0.83      0.94      0.88      2695\n",
            "           1       0.00      0.00      0.00       798\n",
            "           2       0.62      0.86      0.72      1114\n",
            "\n",
            "    accuracy                           0.76      4607\n",
            "   macro avg       0.48      0.60      0.54      4607\n",
            "weighted avg       0.64      0.76      0.69      4607\n",
            "\n"
          ]
        },
        {
          "output_type": "stream",
          "name": "stderr",
          "text": [
            "/usr/local/lib/python3.7/dist-packages/sklearn/metrics/_classification.py:1318: UndefinedMetricWarning: Precision and F-score are ill-defined and being set to 0.0 in labels with no predicted samples. Use `zero_division` parameter to control this behavior.\n",
            "  _warn_prf(average, modifier, msg_start, len(result))\n",
            "/usr/local/lib/python3.7/dist-packages/sklearn/metrics/_classification.py:1318: UndefinedMetricWarning: Precision and F-score are ill-defined and being set to 0.0 in labels with no predicted samples. Use `zero_division` parameter to control this behavior.\n",
            "  _warn_prf(average, modifier, msg_start, len(result))\n",
            "/usr/local/lib/python3.7/dist-packages/sklearn/metrics/_classification.py:1318: UndefinedMetricWarning: Precision and F-score are ill-defined and being set to 0.0 in labels with no predicted samples. Use `zero_division` parameter to control this behavior.\n",
            "  _warn_prf(average, modifier, msg_start, len(result))\n"
          ]
        }
      ]
    },
    {
      "cell_type": "code",
      "source": [
        "L1=model1.predict(testing_padded12)\n",
        "L2=model2.predict(testing_padded12)\n",
        "L3=model3.predict(testing_padded12)\n",
        "\n",
        "for i in range(len(L1)):\n",
        "  if (L1[i]<0.5):\n",
        "    L1[i]=0\n",
        "  else:\n",
        "    L1[i]=1\n",
        "  if (L2[i]<0.5):\n",
        "    L2[i]=0\n",
        "  else:\n",
        "    L2[i]=1\n",
        "  if (L3[i]<0.5):\n",
        "    L3[i]=0\n",
        "  else:\n",
        "    L3[i]=1\n",
        "P=[]\n",
        "for i in range(len(L1)):\n",
        "  P.append(str(int(L1[i][0]))+str(int(L2[i][0]))+str(int(L3[i][0])))\n",
        "\n",
        "pred=[]\n",
        "for i in range(len(P)):\n",
        "  if (min(min(hamming_distance(P[i],'110'),hamming_distance(P[i],'101')),hamming_distance(P[i],'011'))==hamming_distance(P[i],'110')):\n",
        "    pred.append(0)\n",
        "  elif (min(min(hamming_distance(P[i],'110'),hamming_distance(P[i],'101')),hamming_distance(P[i],'011'))==hamming_distance(P[i],'101')):\n",
        "    pred.append(1)\n",
        "  else:\n",
        "    pred.append(2)\n",
        "\n",
        "\n",
        "cm = confusion_matrix(testing_labels12, pred)\n",
        "print(\"For the Ensembling methode, ECOC Algorithm: \\n\",cm)\n",
        "print(classification_report(testing_labels12, pred, labels=[0,1,2]))"
      ],
      "metadata": {
        "colab": {
          "base_uri": "https://localhost:8080/"
        },
        "id": "vEoKfNMZLHK9",
        "outputId": "0129d5ac-428d-49e6-93ff-522206341311"
      },
      "execution_count": 31,
      "outputs": [
        {
          "output_type": "stream",
          "name": "stdout",
          "text": [
            "For the Ensembling methode, ECOC Algorithm: \n",
            " [[551   0  36]\n",
            " [235   0  18]\n",
            " [219   0 233]]\n",
            "              precision    recall  f1-score   support\n",
            "\n",
            "           0       0.55      0.94      0.69       587\n",
            "           1       0.00      0.00      0.00       253\n",
            "           2       0.81      0.52      0.63       452\n",
            "\n",
            "    accuracy                           0.61      1292\n",
            "   macro avg       0.45      0.48      0.44      1292\n",
            "weighted avg       0.53      0.61      0.54      1292\n",
            "\n"
          ]
        },
        {
          "output_type": "stream",
          "name": "stderr",
          "text": [
            "/usr/local/lib/python3.7/dist-packages/sklearn/metrics/_classification.py:1318: UndefinedMetricWarning: Precision and F-score are ill-defined and being set to 0.0 in labels with no predicted samples. Use `zero_division` parameter to control this behavior.\n",
            "  _warn_prf(average, modifier, msg_start, len(result))\n",
            "/usr/local/lib/python3.7/dist-packages/sklearn/metrics/_classification.py:1318: UndefinedMetricWarning: Precision and F-score are ill-defined and being set to 0.0 in labels with no predicted samples. Use `zero_division` parameter to control this behavior.\n",
            "  _warn_prf(average, modifier, msg_start, len(result))\n",
            "/usr/local/lib/python3.7/dist-packages/sklearn/metrics/_classification.py:1318: UndefinedMetricWarning: Precision and F-score are ill-defined and being set to 0.0 in labels with no predicted samples. Use `zero_division` parameter to control this behavior.\n",
            "  _warn_prf(average, modifier, msg_start, len(result))\n"
          ]
        }
      ]
    },
    {
      "cell_type": "code",
      "source": [
        "L1=model1.predict(testing_padded34)\n",
        "L2=model2.predict(testing_padded34)\n",
        "L3=model3.predict(testing_padded34)\n",
        "\n",
        "for i in range(len(L1)):\n",
        "  if (L1[i]<0.5):\n",
        "    L1[i]=0\n",
        "  else:\n",
        "    L1[i]=1\n",
        "  if (L2[i]<0.5):\n",
        "    L2[i]=0\n",
        "  else:\n",
        "    L2[i]=1\n",
        "  if (L3[i]<0.5):\n",
        "    L3[i]=0\n",
        "  else:\n",
        "    L3[i]=1\n",
        "P=[]\n",
        "for i in range(len(L1)):\n",
        "  P.append(str(int(L1[i][0]))+str(int(L2[i][0]))+str(int(L3[i][0])))\n",
        "\n",
        "pred=[]\n",
        "for i in range(len(P)):\n",
        "  if (min(min(hamming_distance(P[i],'110'),hamming_distance(P[i],'101')),hamming_distance(P[i],'011'))==hamming_distance(P[i],'110')):\n",
        "    pred.append(0)\n",
        "  elif (min(min(hamming_distance(P[i],'110'),hamming_distance(P[i],'101')),hamming_distance(P[i],'011'))==hamming_distance(P[i],'101')):\n",
        "    pred.append(1)\n",
        "  else:\n",
        "    pred.append(2)\n",
        "\n",
        "\n",
        "cm = confusion_matrix(testing_labels34, pred)\n",
        "print(\"For the Ensembling methode, ECOC Algorithm: \\n\",cm)\n",
        "print(classification_report(testing_labels34, pred, labels=[0,1,2]))"
      ],
      "metadata": {
        "colab": {
          "base_uri": "https://localhost:8080/"
        },
        "id": "y3z0RzeILVi8",
        "outputId": "77b313d4-2523-43dd-bc71-244b38a9f09e"
      },
      "execution_count": 32,
      "outputs": [
        {
          "output_type": "stream",
          "name": "stdout",
          "text": [
            "For the Ensembling methode, ECOC Algorithm: \n",
            " [[ 513    0   13]\n",
            " [   7    0    0]\n",
            " [  14    0 1293]]\n",
            "              precision    recall  f1-score   support\n",
            "\n",
            "           0       0.96      0.98      0.97       526\n",
            "           1       0.00      0.00      0.00         7\n",
            "           2       0.99      0.99      0.99      1307\n",
            "\n",
            "    accuracy                           0.98      1840\n",
            "   macro avg       0.65      0.65      0.65      1840\n",
            "weighted avg       0.98      0.98      0.98      1840\n",
            "\n"
          ]
        },
        {
          "output_type": "stream",
          "name": "stderr",
          "text": [
            "/usr/local/lib/python3.7/dist-packages/sklearn/metrics/_classification.py:1318: UndefinedMetricWarning: Precision and F-score are ill-defined and being set to 0.0 in labels with no predicted samples. Use `zero_division` parameter to control this behavior.\n",
            "  _warn_prf(average, modifier, msg_start, len(result))\n",
            "/usr/local/lib/python3.7/dist-packages/sklearn/metrics/_classification.py:1318: UndefinedMetricWarning: Precision and F-score are ill-defined and being set to 0.0 in labels with no predicted samples. Use `zero_division` parameter to control this behavior.\n",
            "  _warn_prf(average, modifier, msg_start, len(result))\n",
            "/usr/local/lib/python3.7/dist-packages/sklearn/metrics/_classification.py:1318: UndefinedMetricWarning: Precision and F-score are ill-defined and being set to 0.0 in labels with no predicted samples. Use `zero_division` parameter to control this behavior.\n",
            "  _warn_prf(average, modifier, msg_start, len(result))\n"
          ]
        }
      ]
    },
    {
      "cell_type": "code",
      "source": [
        "L1=model1.predict(testing_padded5)\n",
        "L2=model2.predict(testing_padded5)\n",
        "L3=model3.predict(testing_padded5)\n",
        "\n",
        "for i in range(len(L1)):\n",
        "  if (L1[i]<0.5):\n",
        "    L1[i]=0\n",
        "  else:\n",
        "    L1[i]=1\n",
        "  if (L2[i]<0.5):\n",
        "    L2[i]=0\n",
        "  else:\n",
        "    L2[i]=1\n",
        "  if (L3[i]<0.5):\n",
        "    L3[i]=0\n",
        "  else:\n",
        "    L3[i]=1\n",
        "P=[]\n",
        "for i in range(len(L1)):\n",
        "  P.append(str(int(L1[i][0]))+str(int(L2[i][0]))+str(int(L3[i][0])))\n",
        "\n",
        "pred=[]\n",
        "for i in range(len(P)):\n",
        "  if (min(min(hamming_distance(P[i],'110'),hamming_distance(P[i],'101')),hamming_distance(P[i],'011'))==hamming_distance(P[i],'110')):\n",
        "    pred.append(0)\n",
        "  elif (min(min(hamming_distance(P[i],'110'),hamming_distance(P[i],'101')),hamming_distance(P[i],'011'))==hamming_distance(P[i],'101')):\n",
        "    pred.append(1)\n",
        "  else:\n",
        "    pred.append(2)\n",
        "\n",
        "\n",
        "cm = confusion_matrix(testing_labels5, pred)\n",
        "print(\"For the Ensembling methode, ECOC Algorithm: \\n\",cm)\n",
        "print(classification_report(testing_labels5, pred, labels=[0,1,2]))"
      ],
      "metadata": {
        "id": "Mw0-oQjV3gov",
        "colab": {
          "base_uri": "https://localhost:8080/"
        },
        "outputId": "9f8f05b3-5f19-46af-c76e-b246509101c8"
      },
      "execution_count": 33,
      "outputs": [
        {
          "output_type": "stream",
          "name": "stdout",
          "text": [
            "For the Ensembling methode, ECOC Algorithm: \n",
            " [[3650    0  385]\n",
            " [ 438    0 1016]\n",
            " [ 110    0 2717]]\n",
            "              precision    recall  f1-score   support\n",
            "\n",
            "           0       0.87      0.90      0.89      4035\n",
            "           1       0.00      0.00      0.00      1454\n",
            "           2       0.66      0.96      0.78      2827\n",
            "\n",
            "    accuracy                           0.77      8316\n",
            "   macro avg       0.51      0.62      0.56      8316\n",
            "weighted avg       0.65      0.77      0.70      8316\n",
            "\n"
          ]
        },
        {
          "output_type": "stream",
          "name": "stderr",
          "text": [
            "/usr/local/lib/python3.7/dist-packages/sklearn/metrics/_classification.py:1318: UndefinedMetricWarning: Precision and F-score are ill-defined and being set to 0.0 in labels with no predicted samples. Use `zero_division` parameter to control this behavior.\n",
            "  _warn_prf(average, modifier, msg_start, len(result))\n",
            "/usr/local/lib/python3.7/dist-packages/sklearn/metrics/_classification.py:1318: UndefinedMetricWarning: Precision and F-score are ill-defined and being set to 0.0 in labels with no predicted samples. Use `zero_division` parameter to control this behavior.\n",
            "  _warn_prf(average, modifier, msg_start, len(result))\n",
            "/usr/local/lib/python3.7/dist-packages/sklearn/metrics/_classification.py:1318: UndefinedMetricWarning: Precision and F-score are ill-defined and being set to 0.0 in labels with no predicted samples. Use `zero_division` parameter to control this behavior.\n",
            "  _warn_prf(average, modifier, msg_start, len(result))\n"
          ]
        }
      ]
    }
  ]
}