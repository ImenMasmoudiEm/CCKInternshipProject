{
  "nbformat": 4,
  "nbformat_minor": 0,
  "metadata": {
    "colab": {
      "name": "CCK Project Unbalanced-09-Tunnel.ipynb",
      "provenance": [],
      "collapsed_sections": [
        "-CRh9Gqc7KxQ",
        "2DGrTNt17GKc",
        "FRfELBgw7A3Z"
      ],
      "include_colab_link": true
    },
    "kernelspec": {
      "name": "python3",
      "display_name": "Python 3"
    },
    "language_info": {
      "name": "python"
    },
    "gpuClass": "standard",
    "accelerator": "GPU"
  },
  "cells": [
    {
      "cell_type": "markdown",
      "metadata": {
        "id": "view-in-github",
        "colab_type": "text"
      },
      "source": [
        "<a href=\"https://colab.research.google.com/github/ImenMasmoudiEm/CCKInternshipProject/blob/main/CCK_Project_Unbalanced_09_Tunnel.ipynb\" target=\"_parent\"><img src=\"https://colab.research.google.com/assets/colab-badge.svg\" alt=\"Open In Colab\"/></a>"
      ]
    },
    {
      "cell_type": "markdown",
      "source": [
        "# Text Classification: Primary work"
      ],
      "metadata": {
        "id": "Iiruy8t57ISt"
      }
    },
    {
      "cell_type": "markdown",
      "source": [
        "##Connecting to drive & importing data"
      ],
      "metadata": {
        "id": "6A7gIEXP7oqV"
      }
    },
    {
      "cell_type": "code",
      "source": [
        "from google.colab import drive\n",
        "drive.mount('/content/drive')"
      ],
      "metadata": {
        "colab": {
          "base_uri": "https://localhost:8080/"
        },
        "id": "KwJf5Jnk9iw8",
        "outputId": "05a55938-33a5-44ae-b085-0a020b49c4d4"
      },
      "execution_count": null,
      "outputs": [
        {
          "output_type": "stream",
          "name": "stdout",
          "text": [
            "Mounted at /content/drive\n"
          ]
        }
      ]
    },
    {
      "cell_type": "code",
      "execution_count": null,
      "metadata": {
        "id": "u6Xmp6Sf7Ay4"
      },
      "outputs": [],
      "source": [
        "import os \n",
        "os.chdir('/content/drive/MyDrive/All/Projects/Ing Internship/Data')"
      ]
    },
    {
      "cell_type": "code",
      "source": [
        "import pandas as pd\n",
        "data=pd.read_excel(\"/content/drive/MyDrive/All/Projects/Ing Internship/Data/final-dataset.xlsx\")\n",
        "data"
      ],
      "metadata": {
        "colab": {
          "base_uri": "https://localhost:8080/",
          "height": 424
        },
        "id": "hjV2FNxa-FDa",
        "outputId": "d6da4cc9-eec8-472b-c6c5-e255ae1bc88c"
      },
      "execution_count": null,
      "outputs": [
        {
          "output_type": "execute_result",
          "data": {
            "text/plain": [
              "                                             commentaire  classe\n",
              "0      مبروك و سامحونا لعجزنا التام. عقبال اللي جوه. ...  normal\n",
              "1      كلنا بره ومش هنبطل نزايد على العجايز الي جابون...    hate\n",
              "2              بدل ما انت قاعد بره كده تعالي ازرع الصحرا  normal\n",
              "3          قذر اتفووو ماتيجى مصر وتورينا نفسك كدا ياجبان    hate\n",
              "4      وهكذا رجال الشو اللي محرومين من عمل برنامج الغ...    hate\n",
              "...                                                  ...     ...\n",
              "23028    يلا ولا خنزير الله يرحم صدام حسين لي كان داعسكن    hate\n",
              "23029            وبلدك سوريا لا تبغي سوا القتل والاجرام     hate\n",
              "23030  معالي الوزير نؤمن بك دائما لأنك الدرع المنيع ف...  normal\n",
              "23031  حياة سندي مستشارة امين عام الامم المتحدة بان ك...  normal\n",
              "23032  انت يا جبران باسيل بعقليتك الفجة النتنة تقولرب...    hate\n",
              "\n",
              "[23033 rows x 2 columns]"
            ],
            "text/html": [
              "\n",
              "  <div id=\"df-a3dfd2a0-4a1c-4e24-a0f5-50377c604cfd\">\n",
              "    <div class=\"colab-df-container\">\n",
              "      <div>\n",
              "<style scoped>\n",
              "    .dataframe tbody tr th:only-of-type {\n",
              "        vertical-align: middle;\n",
              "    }\n",
              "\n",
              "    .dataframe tbody tr th {\n",
              "        vertical-align: top;\n",
              "    }\n",
              "\n",
              "    .dataframe thead th {\n",
              "        text-align: right;\n",
              "    }\n",
              "</style>\n",
              "<table border=\"1\" class=\"dataframe\">\n",
              "  <thead>\n",
              "    <tr style=\"text-align: right;\">\n",
              "      <th></th>\n",
              "      <th>commentaire</th>\n",
              "      <th>classe</th>\n",
              "    </tr>\n",
              "  </thead>\n",
              "  <tbody>\n",
              "    <tr>\n",
              "      <th>0</th>\n",
              "      <td>مبروك و سامحونا لعجزنا التام. عقبال اللي جوه. ...</td>\n",
              "      <td>normal</td>\n",
              "    </tr>\n",
              "    <tr>\n",
              "      <th>1</th>\n",
              "      <td>كلنا بره ومش هنبطل نزايد على العجايز الي جابون...</td>\n",
              "      <td>hate</td>\n",
              "    </tr>\n",
              "    <tr>\n",
              "      <th>2</th>\n",
              "      <td>بدل ما انت قاعد بره كده تعالي ازرع الصحرا</td>\n",
              "      <td>normal</td>\n",
              "    </tr>\n",
              "    <tr>\n",
              "      <th>3</th>\n",
              "      <td>قذر اتفووو ماتيجى مصر وتورينا نفسك كدا ياجبان</td>\n",
              "      <td>hate</td>\n",
              "    </tr>\n",
              "    <tr>\n",
              "      <th>4</th>\n",
              "      <td>وهكذا رجال الشو اللي محرومين من عمل برنامج الغ...</td>\n",
              "      <td>hate</td>\n",
              "    </tr>\n",
              "    <tr>\n",
              "      <th>...</th>\n",
              "      <td>...</td>\n",
              "      <td>...</td>\n",
              "    </tr>\n",
              "    <tr>\n",
              "      <th>23028</th>\n",
              "      <td>يلا ولا خنزير الله يرحم صدام حسين لي كان داعسكن</td>\n",
              "      <td>hate</td>\n",
              "    </tr>\n",
              "    <tr>\n",
              "      <th>23029</th>\n",
              "      <td>وبلدك سوريا لا تبغي سوا القتل والاجرام</td>\n",
              "      <td>hate</td>\n",
              "    </tr>\n",
              "    <tr>\n",
              "      <th>23030</th>\n",
              "      <td>معالي الوزير نؤمن بك دائما لأنك الدرع المنيع ف...</td>\n",
              "      <td>normal</td>\n",
              "    </tr>\n",
              "    <tr>\n",
              "      <th>23031</th>\n",
              "      <td>حياة سندي مستشارة امين عام الامم المتحدة بان ك...</td>\n",
              "      <td>normal</td>\n",
              "    </tr>\n",
              "    <tr>\n",
              "      <th>23032</th>\n",
              "      <td>انت يا جبران باسيل بعقليتك الفجة النتنة تقولرب...</td>\n",
              "      <td>hate</td>\n",
              "    </tr>\n",
              "  </tbody>\n",
              "</table>\n",
              "<p>23033 rows × 2 columns</p>\n",
              "</div>\n",
              "      <button class=\"colab-df-convert\" onclick=\"convertToInteractive('df-a3dfd2a0-4a1c-4e24-a0f5-50377c604cfd')\"\n",
              "              title=\"Convert this dataframe to an interactive table.\"\n",
              "              style=\"display:none;\">\n",
              "        \n",
              "  <svg xmlns=\"http://www.w3.org/2000/svg\" height=\"24px\"viewBox=\"0 0 24 24\"\n",
              "       width=\"24px\">\n",
              "    <path d=\"M0 0h24v24H0V0z\" fill=\"none\"/>\n",
              "    <path d=\"M18.56 5.44l.94 2.06.94-2.06 2.06-.94-2.06-.94-.94-2.06-.94 2.06-2.06.94zm-11 1L8.5 8.5l.94-2.06 2.06-.94-2.06-.94L8.5 2.5l-.94 2.06-2.06.94zm10 10l.94 2.06.94-2.06 2.06-.94-2.06-.94-.94-2.06-.94 2.06-2.06.94z\"/><path d=\"M17.41 7.96l-1.37-1.37c-.4-.4-.92-.59-1.43-.59-.52 0-1.04.2-1.43.59L10.3 9.45l-7.72 7.72c-.78.78-.78 2.05 0 2.83L4 21.41c.39.39.9.59 1.41.59.51 0 1.02-.2 1.41-.59l7.78-7.78 2.81-2.81c.8-.78.8-2.07 0-2.86zM5.41 20L4 18.59l7.72-7.72 1.47 1.35L5.41 20z\"/>\n",
              "  </svg>\n",
              "      </button>\n",
              "      \n",
              "  <style>\n",
              "    .colab-df-container {\n",
              "      display:flex;\n",
              "      flex-wrap:wrap;\n",
              "      gap: 12px;\n",
              "    }\n",
              "\n",
              "    .colab-df-convert {\n",
              "      background-color: #E8F0FE;\n",
              "      border: none;\n",
              "      border-radius: 50%;\n",
              "      cursor: pointer;\n",
              "      display: none;\n",
              "      fill: #1967D2;\n",
              "      height: 32px;\n",
              "      padding: 0 0 0 0;\n",
              "      width: 32px;\n",
              "    }\n",
              "\n",
              "    .colab-df-convert:hover {\n",
              "      background-color: #E2EBFA;\n",
              "      box-shadow: 0px 1px 2px rgba(60, 64, 67, 0.3), 0px 1px 3px 1px rgba(60, 64, 67, 0.15);\n",
              "      fill: #174EA6;\n",
              "    }\n",
              "\n",
              "    [theme=dark] .colab-df-convert {\n",
              "      background-color: #3B4455;\n",
              "      fill: #D2E3FC;\n",
              "    }\n",
              "\n",
              "    [theme=dark] .colab-df-convert:hover {\n",
              "      background-color: #434B5C;\n",
              "      box-shadow: 0px 1px 3px 1px rgba(0, 0, 0, 0.15);\n",
              "      filter: drop-shadow(0px 1px 2px rgba(0, 0, 0, 0.3));\n",
              "      fill: #FFFFFF;\n",
              "    }\n",
              "  </style>\n",
              "\n",
              "      <script>\n",
              "        const buttonEl =\n",
              "          document.querySelector('#df-a3dfd2a0-4a1c-4e24-a0f5-50377c604cfd button.colab-df-convert');\n",
              "        buttonEl.style.display =\n",
              "          google.colab.kernel.accessAllowed ? 'block' : 'none';\n",
              "\n",
              "        async function convertToInteractive(key) {\n",
              "          const element = document.querySelector('#df-a3dfd2a0-4a1c-4e24-a0f5-50377c604cfd');\n",
              "          const dataTable =\n",
              "            await google.colab.kernel.invokeFunction('convertToInteractive',\n",
              "                                                     [key], {});\n",
              "          if (!dataTable) return;\n",
              "\n",
              "          const docLinkHtml = 'Like what you see? Visit the ' +\n",
              "            '<a target=\"_blank\" href=https://colab.research.google.com/notebooks/data_table.ipynb>data table notebook</a>'\n",
              "            + ' to learn more about interactive tables.';\n",
              "          element.innerHTML = '';\n",
              "          dataTable['output_type'] = 'display_data';\n",
              "          await google.colab.output.renderOutput(dataTable, element);\n",
              "          const docLink = document.createElement('div');\n",
              "          docLink.innerHTML = docLinkHtml;\n",
              "          element.appendChild(docLink);\n",
              "        }\n",
              "      </script>\n",
              "    </div>\n",
              "  </div>\n",
              "  "
            ]
          },
          "metadata": {},
          "execution_count": 3
        }
      ]
    },
    {
      "cell_type": "markdown",
      "source": [
        "##Data Preprocessing"
      ],
      "metadata": {
        "id": "E78jh1K4ATql"
      }
    },
    {
      "cell_type": "markdown",
      "source": [
        "1/ Changing the Class into bin"
      ],
      "metadata": {
        "id": "4WPH66dgAsdv"
      }
    },
    {
      "cell_type": "code",
      "source": [
        "data['classe']=data['classe'].replace(\"hate\", int(2))\n",
        "data['classe']=data['classe'].replace(\"normal\", int(0)) \n",
        "data['classe']=data['classe'].replace(\"abusive\", int(1))"
      ],
      "metadata": {
        "id": "g0G8MT47A3Z_"
      },
      "execution_count": null,
      "outputs": []
    },
    {
      "cell_type": "code",
      "source": [
        "data"
      ],
      "metadata": {
        "colab": {
          "base_uri": "https://localhost:8080/",
          "height": 424
        },
        "id": "1Ml3TDjMBley",
        "outputId": "d903b570-1405-4301-9d06-dcaf97dea059"
      },
      "execution_count": null,
      "outputs": [
        {
          "output_type": "execute_result",
          "data": {
            "text/plain": [
              "                                             commentaire  classe\n",
              "0      مبروك و سامحونا لعجزنا التام. عقبال اللي جوه. ...       0\n",
              "1      كلنا بره ومش هنبطل نزايد على العجايز الي جابون...       2\n",
              "2              بدل ما انت قاعد بره كده تعالي ازرع الصحرا       0\n",
              "3          قذر اتفووو ماتيجى مصر وتورينا نفسك كدا ياجبان       2\n",
              "4      وهكذا رجال الشو اللي محرومين من عمل برنامج الغ...       2\n",
              "...                                                  ...     ...\n",
              "23028    يلا ولا خنزير الله يرحم صدام حسين لي كان داعسكن       2\n",
              "23029            وبلدك سوريا لا تبغي سوا القتل والاجرام        2\n",
              "23030  معالي الوزير نؤمن بك دائما لأنك الدرع المنيع ف...       0\n",
              "23031  حياة سندي مستشارة امين عام الامم المتحدة بان ك...       0\n",
              "23032  انت يا جبران باسيل بعقليتك الفجة النتنة تقولرب...       2\n",
              "\n",
              "[23033 rows x 2 columns]"
            ],
            "text/html": [
              "\n",
              "  <div id=\"df-a2b06466-515a-4257-87a5-f45a65171a89\">\n",
              "    <div class=\"colab-df-container\">\n",
              "      <div>\n",
              "<style scoped>\n",
              "    .dataframe tbody tr th:only-of-type {\n",
              "        vertical-align: middle;\n",
              "    }\n",
              "\n",
              "    .dataframe tbody tr th {\n",
              "        vertical-align: top;\n",
              "    }\n",
              "\n",
              "    .dataframe thead th {\n",
              "        text-align: right;\n",
              "    }\n",
              "</style>\n",
              "<table border=\"1\" class=\"dataframe\">\n",
              "  <thead>\n",
              "    <tr style=\"text-align: right;\">\n",
              "      <th></th>\n",
              "      <th>commentaire</th>\n",
              "      <th>classe</th>\n",
              "    </tr>\n",
              "  </thead>\n",
              "  <tbody>\n",
              "    <tr>\n",
              "      <th>0</th>\n",
              "      <td>مبروك و سامحونا لعجزنا التام. عقبال اللي جوه. ...</td>\n",
              "      <td>0</td>\n",
              "    </tr>\n",
              "    <tr>\n",
              "      <th>1</th>\n",
              "      <td>كلنا بره ومش هنبطل نزايد على العجايز الي جابون...</td>\n",
              "      <td>2</td>\n",
              "    </tr>\n",
              "    <tr>\n",
              "      <th>2</th>\n",
              "      <td>بدل ما انت قاعد بره كده تعالي ازرع الصحرا</td>\n",
              "      <td>0</td>\n",
              "    </tr>\n",
              "    <tr>\n",
              "      <th>3</th>\n",
              "      <td>قذر اتفووو ماتيجى مصر وتورينا نفسك كدا ياجبان</td>\n",
              "      <td>2</td>\n",
              "    </tr>\n",
              "    <tr>\n",
              "      <th>4</th>\n",
              "      <td>وهكذا رجال الشو اللي محرومين من عمل برنامج الغ...</td>\n",
              "      <td>2</td>\n",
              "    </tr>\n",
              "    <tr>\n",
              "      <th>...</th>\n",
              "      <td>...</td>\n",
              "      <td>...</td>\n",
              "    </tr>\n",
              "    <tr>\n",
              "      <th>23028</th>\n",
              "      <td>يلا ولا خنزير الله يرحم صدام حسين لي كان داعسكن</td>\n",
              "      <td>2</td>\n",
              "    </tr>\n",
              "    <tr>\n",
              "      <th>23029</th>\n",
              "      <td>وبلدك سوريا لا تبغي سوا القتل والاجرام</td>\n",
              "      <td>2</td>\n",
              "    </tr>\n",
              "    <tr>\n",
              "      <th>23030</th>\n",
              "      <td>معالي الوزير نؤمن بك دائما لأنك الدرع المنيع ف...</td>\n",
              "      <td>0</td>\n",
              "    </tr>\n",
              "    <tr>\n",
              "      <th>23031</th>\n",
              "      <td>حياة سندي مستشارة امين عام الامم المتحدة بان ك...</td>\n",
              "      <td>0</td>\n",
              "    </tr>\n",
              "    <tr>\n",
              "      <th>23032</th>\n",
              "      <td>انت يا جبران باسيل بعقليتك الفجة النتنة تقولرب...</td>\n",
              "      <td>2</td>\n",
              "    </tr>\n",
              "  </tbody>\n",
              "</table>\n",
              "<p>23033 rows × 2 columns</p>\n",
              "</div>\n",
              "      <button class=\"colab-df-convert\" onclick=\"convertToInteractive('df-a2b06466-515a-4257-87a5-f45a65171a89')\"\n",
              "              title=\"Convert this dataframe to an interactive table.\"\n",
              "              style=\"display:none;\">\n",
              "        \n",
              "  <svg xmlns=\"http://www.w3.org/2000/svg\" height=\"24px\"viewBox=\"0 0 24 24\"\n",
              "       width=\"24px\">\n",
              "    <path d=\"M0 0h24v24H0V0z\" fill=\"none\"/>\n",
              "    <path d=\"M18.56 5.44l.94 2.06.94-2.06 2.06-.94-2.06-.94-.94-2.06-.94 2.06-2.06.94zm-11 1L8.5 8.5l.94-2.06 2.06-.94-2.06-.94L8.5 2.5l-.94 2.06-2.06.94zm10 10l.94 2.06.94-2.06 2.06-.94-2.06-.94-.94-2.06-.94 2.06-2.06.94z\"/><path d=\"M17.41 7.96l-1.37-1.37c-.4-.4-.92-.59-1.43-.59-.52 0-1.04.2-1.43.59L10.3 9.45l-7.72 7.72c-.78.78-.78 2.05 0 2.83L4 21.41c.39.39.9.59 1.41.59.51 0 1.02-.2 1.41-.59l7.78-7.78 2.81-2.81c.8-.78.8-2.07 0-2.86zM5.41 20L4 18.59l7.72-7.72 1.47 1.35L5.41 20z\"/>\n",
              "  </svg>\n",
              "      </button>\n",
              "      \n",
              "  <style>\n",
              "    .colab-df-container {\n",
              "      display:flex;\n",
              "      flex-wrap:wrap;\n",
              "      gap: 12px;\n",
              "    }\n",
              "\n",
              "    .colab-df-convert {\n",
              "      background-color: #E8F0FE;\n",
              "      border: none;\n",
              "      border-radius: 50%;\n",
              "      cursor: pointer;\n",
              "      display: none;\n",
              "      fill: #1967D2;\n",
              "      height: 32px;\n",
              "      padding: 0 0 0 0;\n",
              "      width: 32px;\n",
              "    }\n",
              "\n",
              "    .colab-df-convert:hover {\n",
              "      background-color: #E2EBFA;\n",
              "      box-shadow: 0px 1px 2px rgba(60, 64, 67, 0.3), 0px 1px 3px 1px rgba(60, 64, 67, 0.15);\n",
              "      fill: #174EA6;\n",
              "    }\n",
              "\n",
              "    [theme=dark] .colab-df-convert {\n",
              "      background-color: #3B4455;\n",
              "      fill: #D2E3FC;\n",
              "    }\n",
              "\n",
              "    [theme=dark] .colab-df-convert:hover {\n",
              "      background-color: #434B5C;\n",
              "      box-shadow: 0px 1px 3px 1px rgba(0, 0, 0, 0.15);\n",
              "      filter: drop-shadow(0px 1px 2px rgba(0, 0, 0, 0.3));\n",
              "      fill: #FFFFFF;\n",
              "    }\n",
              "  </style>\n",
              "\n",
              "      <script>\n",
              "        const buttonEl =\n",
              "          document.querySelector('#df-a2b06466-515a-4257-87a5-f45a65171a89 button.colab-df-convert');\n",
              "        buttonEl.style.display =\n",
              "          google.colab.kernel.accessAllowed ? 'block' : 'none';\n",
              "\n",
              "        async function convertToInteractive(key) {\n",
              "          const element = document.querySelector('#df-a2b06466-515a-4257-87a5-f45a65171a89');\n",
              "          const dataTable =\n",
              "            await google.colab.kernel.invokeFunction('convertToInteractive',\n",
              "                                                     [key], {});\n",
              "          if (!dataTable) return;\n",
              "\n",
              "          const docLinkHtml = 'Like what you see? Visit the ' +\n",
              "            '<a target=\"_blank\" href=https://colab.research.google.com/notebooks/data_table.ipynb>data table notebook</a>'\n",
              "            + ' to learn more about interactive tables.';\n",
              "          element.innerHTML = '';\n",
              "          dataTable['output_type'] = 'display_data';\n",
              "          await google.colab.output.renderOutput(dataTable, element);\n",
              "          const docLink = document.createElement('div');\n",
              "          docLink.innerHTML = docLinkHtml;\n",
              "          element.appendChild(docLink);\n",
              "        }\n",
              "      </script>\n",
              "    </div>\n",
              "  </div>\n",
              "  "
            ]
          },
          "metadata": {},
          "execution_count": 5
        }
      ]
    },
    {
      "cell_type": "code",
      "source": [
        "import matplotlib.pyplot as plt\n",
        "import seaborn as sns\n",
        "plt.figure(1 , figsize = (15 , 5))\n",
        "sns.countplot(y = 'classe' , data = data)\n",
        "plt.show()"
      ],
      "metadata": {
        "colab": {
          "base_uri": "https://localhost:8080/",
          "height": 250
        },
        "id": "QWAQiWYVAzQN",
        "outputId": "8729ab41-3fcb-49e0-8d7c-f808b609a210"
      },
      "execution_count": null,
      "outputs": [
        {
          "output_type": "display_data",
          "data": {
            "text/plain": [
              "<Figure size 1080x360 with 1 Axes>"
            ],
            "image/png": "[encoded data removed]"
          },
          "metadata": {
            "needs_background": "light"
          }
        }
      ]
    },
    {
      "cell_type": "code",
      "source": [
        "print(data.loc[data.classe==0].groupby('classe')[\"classe\"].count())\n",
        "print(data.loc[data.classe==1].groupby('classe')[\"classe\"].count())\n",
        "print(data.loc[data.classe==2].groupby('classe')[\"classe\"].count())"
      ],
      "metadata": {
        "colab": {
          "base_uri": "https://localhost:8080/"
        },
        "id": "mWndFEOiC4pP",
        "outputId": "ecb49bcf-8a8e-4320-bc92-1a07e1d3ee8e"
      },
      "execution_count": null,
      "outputs": [
        {
          "output_type": "stream",
          "name": "stdout",
          "text": [
            "classe\n",
            "0    12353\n",
            "Name: classe, dtype: int64\n",
            "classe\n",
            "1    3850\n",
            "Name: classe, dtype: int64\n",
            "classe\n",
            "2    6830\n",
            "Name: classe, dtype: int64\n"
          ]
        }
      ]
    },
    {
      "cell_type": "markdown",
      "source": [
        "2/ NLP Data Preparations: Data Balancing"
      ],
      "metadata": {
        "id": "nWDDcwDwA32H"
      }
    },
    {
      "cell_type": "code",
      "source": [
        "from tensorflow.keras.preprocessing.text import Tokenizer\n",
        "from tensorflow.keras.preprocessing.sequence import pad_sequences\n",
        "import numpy as np\n",
        "\n",
        "sentences = []\n",
        "labels = []\n",
        "\n",
        "sentences = data['commentaire']\n",
        "labels = data['classe']\n",
        "\n",
        "\n",
        "labels = [int(i) for i in labels]\n"
      ],
      "metadata": {
        "id": "BgMfbCVpBAOB"
      },
      "execution_count": null,
      "outputs": []
    },
    {
      "cell_type": "code",
      "source": [
        "import matplotlib.pyplot as plt\n",
        "import seaborn as sns\n",
        "plt.figure(1 , figsize = (15 , 5))\n",
        "sns.countplot(y = 'classe' , data = data)\n",
        "plt.show()"
      ],
      "metadata": {
        "colab": {
          "base_uri": "https://localhost:8080/",
          "height": 250
        },
        "id": "Fz8P60LwbLjI",
        "outputId": "3b814c2c-e9f0-4c21-ca20-808b35d2a155"
      },
      "execution_count": null,
      "outputs": [
        {
          "output_type": "display_data",
          "data": {
            "text/plain": [
              "<Figure size 1080x360 with 1 Axes>"
            ],
            "image/png": "[encoded data removed]"
          },
          "metadata": {
            "needs_background": "light"
          }
        }
      ]
    },
    {
      "cell_type": "code",
      "source": [
        "#Figure out the longest comment\n",
        "\n",
        "def count_words(input):\n",
        "  return len(input.split())\n",
        "max_length=count_words(max(sentences,key=count_words))\n",
        "max_length"
      ],
      "metadata": {
        "colab": {
          "base_uri": "https://localhost:8080/"
        },
        "id": "A37mvaVcD-ji",
        "outputId": "d0dc44ec-0560-4684-fb62-75f3496ac024"
      },
      "execution_count": null,
      "outputs": [
        {
          "output_type": "execute_result",
          "data": {
            "text/plain": [
              "388"
            ]
          },
          "metadata": {},
          "execution_count": 10
        }
      ]
    },
    {
      "cell_type": "markdown",
      "source": [
        "#Importing extra data"
      ],
      "metadata": {
        "id": "cCJNbJcEzes_"
      }
    },
    {
      "cell_type": "code",
      "source": [
        "data12=pd.read_excel(\"/content/drive/MyDrive/All/Projects/Ing Internship/Data/dataset1and2.xlsx\")\n",
        "data34=pd.read_excel(\"/content/drive/MyDrive/All/Projects/Ing Internship/Data/dataset3and4.xlsx\")\n",
        "\n",
        "data12['classe']=data12['classe'].replace(\"hate\", int(2))\n",
        "data12['classe']=data12['classe'].replace(\"normal\", int(0)) \n",
        "data12['classe']=data12['classe'].replace(\"abusive\", int(1))\n",
        "\n",
        "data34['classe']=data34['classe'].replace(\"hate\", int(2))\n",
        "data34['classe']=data34['classe'].replace(\"normal\", int(0)) \n",
        "data34['classe']=data34['classe'].replace(\"abusive\", int(1))\n",
        "\n",
        "\n",
        "C1=data12[\"commentaire\"]\n",
        "C2=data34[\"commentaire\"]\n",
        "L1=data12[\"classe\"]\n",
        "L2=data34[\"classe\"]\n",
        "\n",
        "\n",
        "data12=[[i,j] for i,j in zip(C1 , L1)]\n",
        "data34=[[i,j] for i,j in zip(C2 , L2)]\n",
        "\n",
        "data12=pd.DataFrame(data12,columns=[\"sentences\",\"classe\"])\n",
        "data34=pd.DataFrame(data34,columns=[\"sentences\",\"classe\"])"
      ],
      "metadata": {
        "id": "lJ4ViTx6zc-7"
      },
      "execution_count": null,
      "outputs": []
    },
    {
      "cell_type": "code",
      "source": [
        "data12"
      ],
      "metadata": {
        "colab": {
          "base_uri": "https://localhost:8080/",
          "height": 424
        },
        "id": "IhOSM1XP17Oy",
        "outputId": "00512c3b-c64c-438a-966c-307e50c45f8d"
      },
      "execution_count": null,
      "outputs": [
        {
          "output_type": "execute_result",
          "data": {
            "text/plain": [
              "                                              sentences  classe\n",
              "0     اسغي ياشعب تونس تدعوا بالاسلام كفار الحمدلله ن...       2\n",
              "1     قطع يد السارق توفرت الشروط شرط الحد الأدنى قيم...       0\n",
              "2                                تلوموش لطفي لعبدلي شرف       0\n",
              "3     مستغرب شعب يسمع تفاهة شانو لى الدرجة الشعب تاف...       0\n",
              "4     هههخ غزلتني مافهمتش شمدخلها الموضوع تتنطر وحده...       0\n",
              "...                                                 ...     ...\n",
              "6455                               وجهو وجه الطحين ورخس       1\n",
              "6456  الله لا يبارك فيكم و في الي تزرعوا فيه اليوم ل...       2\n",
              "6457  ملا حثالة مستدعيه ، قواد ولحاس ، طيح مستوى الب...       2\n",
              "6458                          شبعة خمج.اينما يقيم الجهل       2\n",
              "6459     عدم إحترام المشاهد من جميع الأطراف هي قلة حياء       2\n",
              "\n",
              "[6460 rows x 2 columns]"
            ],
            "text/html": [
              "\n",
              "  <div id=\"df-cab24539-acd1-49f4-8b72-1594791dd68e\">\n",
              "    <div class=\"colab-df-container\">\n",
              "      <div>\n",
              "<style scoped>\n",
              "    .dataframe tbody tr th:only-of-type {\n",
              "        vertical-align: middle;\n",
              "    }\n",
              "\n",
              "    .dataframe tbody tr th {\n",
              "        vertical-align: top;\n",
              "    }\n",
              "\n",
              "    .dataframe thead th {\n",
              "        text-align: right;\n",
              "    }\n",
              "</style>\n",
              "<table border=\"1\" class=\"dataframe\">\n",
              "  <thead>\n",
              "    <tr style=\"text-align: right;\">\n",
              "      <th></th>\n",
              "      <th>sentences</th>\n",
              "      <th>classe</th>\n",
              "    </tr>\n",
              "  </thead>\n",
              "  <tbody>\n",
              "    <tr>\n",
              "      <th>0</th>\n",
              "      <td>اسغي ياشعب تونس تدعوا بالاسلام كفار الحمدلله ن...</td>\n",
              "      <td>2</td>\n",
              "    </tr>\n",
              "    <tr>\n",
              "      <th>1</th>\n",
              "      <td>قطع يد السارق توفرت الشروط شرط الحد الأدنى قيم...</td>\n",
              "      <td>0</td>\n",
              "    </tr>\n",
              "    <tr>\n",
              "      <th>2</th>\n",
              "      <td>تلوموش لطفي لعبدلي شرف</td>\n",
              "      <td>0</td>\n",
              "    </tr>\n",
              "    <tr>\n",
              "      <th>3</th>\n",
              "      <td>مستغرب شعب يسمع تفاهة شانو لى الدرجة الشعب تاف...</td>\n",
              "      <td>0</td>\n",
              "    </tr>\n",
              "    <tr>\n",
              "      <th>4</th>\n",
              "      <td>هههخ غزلتني مافهمتش شمدخلها الموضوع تتنطر وحده...</td>\n",
              "      <td>0</td>\n",
              "    </tr>\n",
              "    <tr>\n",
              "      <th>...</th>\n",
              "      <td>...</td>\n",
              "      <td>...</td>\n",
              "    </tr>\n",
              "    <tr>\n",
              "      <th>6455</th>\n",
              "      <td>وجهو وجه الطحين ورخس</td>\n",
              "      <td>1</td>\n",
              "    </tr>\n",
              "    <tr>\n",
              "      <th>6456</th>\n",
              "      <td>الله لا يبارك فيكم و في الي تزرعوا فيه اليوم ل...</td>\n",
              "      <td>2</td>\n",
              "    </tr>\n",
              "    <tr>\n",
              "      <th>6457</th>\n",
              "      <td>ملا حثالة مستدعيه ، قواد ولحاس ، طيح مستوى الب...</td>\n",
              "      <td>2</td>\n",
              "    </tr>\n",
              "    <tr>\n",
              "      <th>6458</th>\n",
              "      <td>شبعة خمج.اينما يقيم الجهل</td>\n",
              "      <td>2</td>\n",
              "    </tr>\n",
              "    <tr>\n",
              "      <th>6459</th>\n",
              "      <td>عدم إحترام المشاهد من جميع الأطراف هي قلة حياء</td>\n",
              "      <td>2</td>\n",
              "    </tr>\n",
              "  </tbody>\n",
              "</table>\n",
              "<p>6460 rows × 2 columns</p>\n",
              "</div>\n",
              "      <button class=\"colab-df-convert\" onclick=\"convertToInteractive('df-cab24539-acd1-49f4-8b72-1594791dd68e')\"\n",
              "              title=\"Convert this dataframe to an interactive table.\"\n",
              "              style=\"display:none;\">\n",
              "        \n",
              "  <svg xmlns=\"http://www.w3.org/2000/svg\" height=\"24px\"viewBox=\"0 0 24 24\"\n",
              "       width=\"24px\">\n",
              "    <path d=\"M0 0h24v24H0V0z\" fill=\"none\"/>\n",
              "    <path d=\"M18.56 5.44l.94 2.06.94-2.06 2.06-.94-2.06-.94-.94-2.06-.94 2.06-2.06.94zm-11 1L8.5 8.5l.94-2.06 2.06-.94-2.06-.94L8.5 2.5l-.94 2.06-2.06.94zm10 10l.94 2.06.94-2.06 2.06-.94-2.06-.94-.94-2.06-.94 2.06-2.06.94z\"/><path d=\"M17.41 7.96l-1.37-1.37c-.4-.4-.92-.59-1.43-.59-.52 0-1.04.2-1.43.59L10.3 9.45l-7.72 7.72c-.78.78-.78 2.05 0 2.83L4 21.41c.39.39.9.59 1.41.59.51 0 1.02-.2 1.41-.59l7.78-7.78 2.81-2.81c.8-.78.8-2.07 0-2.86zM5.41 20L4 18.59l7.72-7.72 1.47 1.35L5.41 20z\"/>\n",
              "  </svg>\n",
              "      </button>\n",
              "      \n",
              "  <style>\n",
              "    .colab-df-container {\n",
              "      display:flex;\n",
              "      flex-wrap:wrap;\n",
              "      gap: 12px;\n",
              "    }\n",
              "\n",
              "    .colab-df-convert {\n",
              "      background-color: #E8F0FE;\n",
              "      border: none;\n",
              "      border-radius: 50%;\n",
              "      cursor: pointer;\n",
              "      display: none;\n",
              "      fill: #1967D2;\n",
              "      height: 32px;\n",
              "      padding: 0 0 0 0;\n",
              "      width: 32px;\n",
              "    }\n",
              "\n",
              "    .colab-df-convert:hover {\n",
              "      background-color: #E2EBFA;\n",
              "      box-shadow: 0px 1px 2px rgba(60, 64, 67, 0.3), 0px 1px 3px 1px rgba(60, 64, 67, 0.15);\n",
              "      fill: #174EA6;\n",
              "    }\n",
              "\n",
              "    [theme=dark] .colab-df-convert {\n",
              "      background-color: #3B4455;\n",
              "      fill: #D2E3FC;\n",
              "    }\n",
              "\n",
              "    [theme=dark] .colab-df-convert:hover {\n",
              "      background-color: #434B5C;\n",
              "      box-shadow: 0px 1px 3px 1px rgba(0, 0, 0, 0.15);\n",
              "      filter: drop-shadow(0px 1px 2px rgba(0, 0, 0, 0.3));\n",
              "      fill: #FFFFFF;\n",
              "    }\n",
              "  </style>\n",
              "\n",
              "      <script>\n",
              "        const buttonEl =\n",
              "          document.querySelector('#df-cab24539-acd1-49f4-8b72-1594791dd68e button.colab-df-convert');\n",
              "        buttonEl.style.display =\n",
              "          google.colab.kernel.accessAllowed ? 'block' : 'none';\n",
              "\n",
              "        async function convertToInteractive(key) {\n",
              "          const element = document.querySelector('#df-cab24539-acd1-49f4-8b72-1594791dd68e');\n",
              "          const dataTable =\n",
              "            await google.colab.kernel.invokeFunction('convertToInteractive',\n",
              "                                                     [key], {});\n",
              "          if (!dataTable) return;\n",
              "\n",
              "          const docLinkHtml = 'Like what you see? Visit the ' +\n",
              "            '<a target=\"_blank\" href=https://colab.research.google.com/notebooks/data_table.ipynb>data table notebook</a>'\n",
              "            + ' to learn more about interactive tables.';\n",
              "          element.innerHTML = '';\n",
              "          dataTable['output_type'] = 'display_data';\n",
              "          await google.colab.output.renderOutput(dataTable, element);\n",
              "          const docLink = document.createElement('div');\n",
              "          docLink.innerHTML = docLinkHtml;\n",
              "          element.appendChild(docLink);\n",
              "        }\n",
              "      </script>\n",
              "    </div>\n",
              "  </div>\n",
              "  "
            ]
          },
          "metadata": {},
          "execution_count": 12
        }
      ]
    },
    {
      "cell_type": "code",
      "source": [
        "plt.figure(1 , figsize = (15 , 5))\n",
        "sns.countplot(y = 'classe' , data = data12)\n",
        "plt.show()\n",
        "print(data12.loc[data12.classe==0].groupby('classe')[\"classe\"].count())\n",
        "print(data12.loc[data12.classe==1].groupby('classe')[\"classe\"].count())\n",
        "print(data12.loc[data12.classe==2].groupby('classe')[\"classe\"].count())"
      ],
      "metadata": {
        "colab": {
          "base_uri": "https://localhost:8080/",
          "height": 406
        },
        "id": "15BM6cRP0Wrl",
        "outputId": "49b9061a-12be-4b45-8246-9e004ff0f48a"
      },
      "execution_count": null,
      "outputs": [
        {
          "output_type": "display_data",
          "data": {
            "text/plain": [
              "<Figure size 1080x360 with 1 Axes>"
            ],
            "image/png": "[encoded data removed]"
          },
          "metadata": {
            "needs_background": "light"
          }
        },
        {
          "output_type": "stream",
          "name": "stdout",
          "text": [
            "classe\n",
            "0    3857\n",
            "Name: classe, dtype: int64\n",
            "classe\n",
            "1    1204\n",
            "Name: classe, dtype: int64\n",
            "classe\n",
            "2    1399\n",
            "Name: classe, dtype: int64\n"
          ]
        }
      ]
    },
    {
      "cell_type": "code",
      "source": [
        "plt.figure(1 , figsize = (15 , 5))\n",
        "sns.countplot(y = 'classe' , data = data34)\n",
        "plt.show()\n",
        "print(data34.loc[data34.classe==0].groupby('classe')[\"classe\"].count())\n",
        "print(data34.loc[data34.classe==1].groupby('classe')[\"classe\"].count())\n",
        "print(data34.loc[data34.classe==2].groupby('classe')[\"classe\"].count())"
      ],
      "metadata": {
        "colab": {
          "base_uri": "https://localhost:8080/",
          "height": 406
        },
        "id": "OOiCKJ4y1I5T",
        "outputId": "491e6da0-e624-4500-90cd-da981e6bde56"
      },
      "execution_count": null,
      "outputs": [
        {
          "output_type": "display_data",
          "data": {
            "text/plain": [
              "<Figure size 1080x360 with 1 Axes>"
            ],
            "image/png": "[encoded data removed]"
          },
          "metadata": {
            "needs_background": "light"
          }
        },
        {
          "output_type": "stream",
          "name": "stdout",
          "text": [
            "classe\n",
            "0    4565\n",
            "Name: classe, dtype: int64\n",
            "classe\n",
            "1    1746\n",
            "Name: classe, dtype: int64\n",
            "classe\n",
            "2    2885\n",
            "Name: classe, dtype: int64\n"
          ]
        }
      ]
    },
    {
      "cell_type": "markdown",
      "source": [
        "##The way that the computers percieve words and phrases is diffrent from the way that we preceve it as human beings. There are a veriety of ways for us that we can utilise to program the data type that we have and to make it numerical so that the model can get some meaning out of it. We call this part encoding text.\n",
        "##we can transfor each alphabet and caracter to it's ASCII Code, but this approach wasn't proven to give great results [To Research] !!!\n",
        "#What I did in the code was: Continus or distributed Embeddings Vectors representation:\n",
        "* First: Build a dictionary of tokens: I defined a dictionnary That has the words as keys and a unique number as a value\n",
        "* I then changed all of the phrases into Lists that has integers that indicate which word is in that particular place\n",
        "* Use One-Hot Vector\n",
        "\n",
        "##After doing this process, we have a numerical data that the model can use to get some meaning out of the labels"
      ],
      "metadata": {
        "id": "qbiHzGSbw8sE"
      }
    },
    {
      "cell_type": "code",
      "source": [
        "training_size=int(len(sentences)*0.9)   #Experimenting setup\n",
        "\n",
        "training_sentences = sentences[0:training_size]\n",
        "testing_sentences = sentences[training_size:]\n",
        "training_labels = labels[0:training_size]\n",
        "testing_labels = labels[training_size:]\n",
        "\n",
        "embedding_dim = 16\n",
        "\n",
        "tokenizer = Tokenizer(num_words=3000, oov_token=\"<OOV>\")\n",
        "tokenizer.fit_on_texts(training_sentences)\n",
        "\n",
        "vocab_size = len(tokenizer.word_index) + 1 \n",
        "\n",
        "word_index = tokenizer.word_index\n",
        "\n",
        "training_sequences = tokenizer.texts_to_sequences(training_sentences)\n",
        "training_padded = pad_sequences(training_sequences, maxlen=max_length, padding='post', truncating='post')\n",
        "\n",
        "testing_sequences = tokenizer.texts_to_sequences(testing_sentences)\n",
        "testing_padded = pad_sequences(testing_sequences, maxlen=max_length, padding='post', truncating='post')"
      ],
      "metadata": {
        "id": "FrNFMsATGjbL"
      },
      "execution_count": null,
      "outputs": []
    },
    {
      "cell_type": "code",
      "source": [
        "vocab_size"
      ],
      "metadata": {
        "id": "GCD5XHrK8HaL",
        "outputId": "84d66e87-3234-4c15-b4cc-fd3b99a64fe3",
        "colab": {
          "base_uri": "https://localhost:8080/"
        }
      },
      "execution_count": null,
      "outputs": [
        {
          "output_type": "execute_result",
          "data": {
            "text/plain": [
              "52849"
            ]
          },
          "metadata": {},
          "execution_count": 16
        }
      ]
    },
    {
      "cell_type": "code",
      "source": [
        "len(word_index)"
      ],
      "metadata": {
        "id": "PB3wZKaR8MXq",
        "outputId": "eb6ed48d-73be-4bdd-fb8d-ad01b345cec0",
        "colab": {
          "base_uri": "https://localhost:8080/"
        }
      },
      "execution_count": null,
      "outputs": [
        {
          "output_type": "execute_result",
          "data": {
            "text/plain": [
              "52848"
            ]
          },
          "metadata": {},
          "execution_count": 17
        }
      ]
    },
    {
      "cell_type": "code",
      "source": [
        "Nsentences12=data12[\"sentences\"]\n",
        "Nlabels12=data12[\"classe\"]\n",
        "\n",
        "training_size12=int(len(Nsentences12)*0.8)\n",
        "\n",
        "testing_sentences12 = Nsentences12[training_size12:]\n",
        "testing_labels12 = Nlabels12[training_size12:]\n",
        "\n",
        "Nsentences34=data34[\"sentences\"]\n",
        "Nlabels34=data34[\"classe\"]\n",
        "\n",
        "training_size34=int(len(Nsentences34)*0.8)\n",
        "\n",
        "testing_sentences34 = Nsentences34[training_size34:]\n",
        "testing_labels34 = Nlabels34[training_size34:]"
      ],
      "metadata": {
        "id": "mkUjHchx4FaT"
      },
      "execution_count": null,
      "outputs": []
    },
    {
      "cell_type": "code",
      "source": [
        "max_length12=count_words(max(testing_sentences12,key=count_words))\n",
        "max_length12"
      ],
      "metadata": {
        "id": "NPn7XcNo5qUy",
        "outputId": "6bf0b4cf-dc9f-488b-aaa7-1b050ea1fe30",
        "colab": {
          "base_uri": "https://localhost:8080/"
        }
      },
      "execution_count": null,
      "outputs": [
        {
          "output_type": "execute_result",
          "data": {
            "text/plain": [
              "206"
            ]
          },
          "metadata": {},
          "execution_count": 19
        }
      ]
    },
    {
      "cell_type": "code",
      "source": [
        "max_length34=count_words(max(testing_sentences34,key=count_words))\n",
        "max_length34"
      ],
      "metadata": {
        "id": "5FkaUBXI60-_",
        "outputId": "42f59df7-9ebc-44f4-d255-5624bfe03d02",
        "colab": {
          "base_uri": "https://localhost:8080/"
        }
      },
      "execution_count": null,
      "outputs": [
        {
          "output_type": "execute_result",
          "data": {
            "text/plain": [
              "29"
            ]
          },
          "metadata": {},
          "execution_count": 20
        }
      ]
    },
    {
      "cell_type": "markdown",
      "source": [
        "###The Maximum length in the new data is less than 207, so we can padd them without losing information."
      ],
      "metadata": {
        "id": "AFubPmEL7Qrh"
      }
    },
    {
      "cell_type": "code",
      "source": [
        "testing_sequences12 = tokenizer.texts_to_sequences(testing_sentences12)\n",
        "testing_padded12 = pad_sequences(testing_sequences12, maxlen=max_length, padding='post', truncating='post')\n",
        "\n",
        "testing_sequences34 = tokenizer.texts_to_sequences(testing_sentences34)\n",
        "testing_padded34 = pad_sequences(testing_sequences34, maxlen=max_length, padding='post', truncating='post')"
      ],
      "metadata": {
        "id": "e0p6r_d_7O58"
      },
      "execution_count": null,
      "outputs": []
    },
    {
      "cell_type": "markdown",
      "source": [
        "#Modelling"
      ],
      "metadata": {
        "id": "TzmCjIfYBA8G"
      }
    },
    {
      "cell_type": "markdown",
      "source": [
        "##For The First Model"
      ],
      "metadata": {
        "id": "-CRh9Gqc7KxQ"
      }
    },
    {
      "cell_type": "code",
      "source": [
        "import tensorflow as tf\n",
        "\n",
        "model=tf.keras.models.Sequential ([\n",
        "                                   tf.keras.layers.Embedding(vocab_size, embedding_dim, input_length=max_length),\n",
        "                                   tf.keras.layers.Conv1D(128, 5, activation='relu'),\n",
        "                                   tf.keras.layers.Conv1D(filters=32, kernel_size=1, activation='selu'),\n",
        "                                   tf.keras.layers.Bidirectional(tf.keras.layers.LSTM(32,return_sequences=True)),\n",
        "                                   tf.keras.layers.Bidirectional(tf.keras.layers.LSTM(32,return_sequences=True)),\n",
        "                                   tf.keras.layers.Bidirectional(tf.keras.layers.LSTM(16,return_sequences=True)),\n",
        "                                   tf.keras.layers.Flatten(),\n",
        "                                   tf.keras.layers.Dense(units=3, activation='softmax')])\n",
        "model.summary()"
      ],
      "metadata": {
        "colab": {
          "base_uri": "https://localhost:8080/"
        },
        "id": "attb9Ze4BGlm",
        "outputId": "1fd2521e-52b8-4458-a6cd-dd4b2e2c89d9"
      },
      "execution_count": null,
      "outputs": [
        {
          "output_type": "stream",
          "name": "stdout",
          "text": [
            "Model: \"sequential\"\n",
            "_________________________________________________________________\n",
            " Layer (type)                Output Shape              Param #   \n",
            "=================================================================\n",
            " embedding (Embedding)       (None, 388, 16)           845584    \n",
            "                                                                 \n",
            " conv1d (Conv1D)             (None, 384, 128)          10368     \n",
            "                                                                 \n",
            " conv1d_1 (Conv1D)           (None, 384, 32)           4128      \n",
            "                                                                 \n",
            " bidirectional (Bidirectiona  (None, 384, 64)          16640     \n",
            " l)                                                              \n",
            "                                                                 \n",
            " bidirectional_1 (Bidirectio  (None, 384, 64)          24832     \n",
            " nal)                                                            \n",
            "                                                                 \n",
            " bidirectional_2 (Bidirectio  (None, 384, 32)          10368     \n",
            " nal)                                                            \n",
            "                                                                 \n",
            " flatten (Flatten)           (None, 12288)             0         \n",
            "                                                                 \n",
            " dense (Dense)               (None, 3)                 36867     \n",
            "                                                                 \n",
            "=================================================================\n",
            "Total params: 948,787\n",
            "Trainable params: 948,787\n",
            "Non-trainable params: 0\n",
            "_________________________________________________________________\n"
          ]
        }
      ]
    },
    {
      "cell_type": "code",
      "source": [
        "#For the First Model\n",
        "model.compile(loss=\"sparse_categorical_crossentropy\",optimizer='adam',metrics=['accuracy'],run_eagerly=True)\n",
        "\n",
        "training_padded = np.asarray(training_padded).astype(np.int)\n",
        "training_labels = np.asarray(training_labels).astype(np.int)\n",
        "testing_padded = np.asarray(testing_padded).astype(np.int)\n",
        "testing_labels = np.asarray(testing_labels).astype(np.int)\n",
        "\n",
        "#training_padded = np.expand_dims(training_padded, axis=1)\n",
        "training_labels = np.expand_dims(training_labels, axis=1)\n",
        "#testing_padded = np.expand_dims(testing_padded, axis=1)\n",
        "testing_labels = np.expand_dims(testing_labels, axis=1)\n",
        "\n",
        "history = model.fit(training_padded, training_labels, batch_size=128, epochs=50, validation_data=(testing_padded, testing_labels), verbose=1)"
      ],
      "metadata": {
        "colab": {
          "base_uri": "https://localhost:8080/"
        },
        "id": "YK8y9kQFL5T5",
        "outputId": "5f2bc12f-707f-49b2-a5cf-c454b76a6c53"
      },
      "execution_count": null,
      "outputs": [
        {
          "output_type": "stream",
          "name": "stderr",
          "text": [
            "/usr/local/lib/python3.7/dist-packages/ipykernel_launcher.py:4: DeprecationWarning: `np.int` is a deprecated alias for the builtin `int`. To silence this warning, use `int` by itself. Doing this will not modify any behavior and is safe. When replacing `np.int`, you may wish to use e.g. `np.int64` or `np.int32` to specify the precision. If you wish to review your current use, check the release note link for additional information.\n",
            "Deprecated in NumPy 1.20; for more details and guidance: https://numpy.org/devdocs/release/1.20.0-notes.html#deprecations\n",
            "  after removing the cwd from sys.path.\n",
            "/usr/local/lib/python3.7/dist-packages/ipykernel_launcher.py:5: DeprecationWarning: `np.int` is a deprecated alias for the builtin `int`. To silence this warning, use `int` by itself. Doing this will not modify any behavior and is safe. When replacing `np.int`, you may wish to use e.g. `np.int64` or `np.int32` to specify the precision. If you wish to review your current use, check the release note link for additional information.\n",
            "Deprecated in NumPy 1.20; for more details and guidance: https://numpy.org/devdocs/release/1.20.0-notes.html#deprecations\n",
            "  \"\"\"\n",
            "/usr/local/lib/python3.7/dist-packages/ipykernel_launcher.py:6: DeprecationWarning: `np.int` is a deprecated alias for the builtin `int`. To silence this warning, use `int` by itself. Doing this will not modify any behavior and is safe. When replacing `np.int`, you may wish to use e.g. `np.int64` or `np.int32` to specify the precision. If you wish to review your current use, check the release note link for additional information.\n",
            "Deprecated in NumPy 1.20; for more details and guidance: https://numpy.org/devdocs/release/1.20.0-notes.html#deprecations\n",
            "  \n",
            "/usr/local/lib/python3.7/dist-packages/ipykernel_launcher.py:7: DeprecationWarning: `np.int` is a deprecated alias for the builtin `int`. To silence this warning, use `int` by itself. Doing this will not modify any behavior and is safe. When replacing `np.int`, you may wish to use e.g. `np.int64` or `np.int32` to specify the precision. If you wish to review your current use, check the release note link for additional information.\n",
            "Deprecated in NumPy 1.20; for more details and guidance: https://numpy.org/devdocs/release/1.20.0-notes.html#deprecations\n",
            "  import sys\n"
          ]
        },
        {
          "output_type": "stream",
          "name": "stdout",
          "text": [
            "Epoch 1/50\n",
            "162/162 [==============================] - 33s 132ms/step - loss: 0.8880 - accuracy: 0.5910 - val_loss: 0.6789 - val_accuracy: 0.6884\n",
            "Epoch 2/50\n",
            "162/162 [==============================] - 21s 128ms/step - loss: 0.6647 - accuracy: 0.7278 - val_loss: 0.5421 - val_accuracy: 0.7860\n",
            "Epoch 3/50\n",
            "162/162 [==============================] - 21s 129ms/step - loss: 0.5573 - accuracy: 0.7836 - val_loss: 0.4685 - val_accuracy: 0.8190\n",
            "Epoch 4/50\n",
            "162/162 [==============================] - 21s 129ms/step - loss: 0.4910 - accuracy: 0.8117 - val_loss: 0.3986 - val_accuracy: 0.8468\n",
            "Epoch 5/50\n",
            "162/162 [==============================] - 21s 128ms/step - loss: 0.4372 - accuracy: 0.8318 - val_loss: 0.3633 - val_accuracy: 0.8559\n",
            "Epoch 6/50\n",
            "162/162 [==============================] - 21s 132ms/step - loss: 0.3869 - accuracy: 0.8558 - val_loss: 0.2804 - val_accuracy: 0.8993\n",
            "Epoch 7/50\n",
            "162/162 [==============================] - 21s 129ms/step - loss: 0.3432 - accuracy: 0.8716 - val_loss: 0.2618 - val_accuracy: 0.8997\n",
            "Epoch 8/50\n",
            "162/162 [==============================] - 21s 129ms/step - loss: 0.3023 - accuracy: 0.8893 - val_loss: 0.2336 - val_accuracy: 0.9219\n",
            "Epoch 9/50\n",
            "162/162 [==============================] - 21s 129ms/step - loss: 0.2771 - accuracy: 0.8991 - val_loss: 0.1894 - val_accuracy: 0.9366\n",
            "Epoch 10/50\n",
            "162/162 [==============================] - 21s 129ms/step - loss: 0.2475 - accuracy: 0.9108 - val_loss: 0.1868 - val_accuracy: 0.9306\n",
            "Epoch 11/50\n",
            "162/162 [==============================] - 21s 130ms/step - loss: 0.2248 - accuracy: 0.9196 - val_loss: 0.1665 - val_accuracy: 0.9371\n",
            "Epoch 12/50\n",
            "162/162 [==============================] - 21s 129ms/step - loss: 0.2114 - accuracy: 0.9242 - val_loss: 0.1871 - val_accuracy: 0.9414\n",
            "Epoch 13/50\n",
            "162/162 [==============================] - 21s 129ms/step - loss: 0.1960 - accuracy: 0.9302 - val_loss: 0.1401 - val_accuracy: 0.9505\n",
            "Epoch 14/50\n",
            "162/162 [==============================] - 21s 127ms/step - loss: 0.1795 - accuracy: 0.9356 - val_loss: 0.1471 - val_accuracy: 0.9470\n",
            "Epoch 15/50\n",
            "162/162 [==============================] - 21s 129ms/step - loss: 0.1753 - accuracy: 0.9380 - val_loss: 0.1240 - val_accuracy: 0.9549\n",
            "Epoch 16/50\n",
            "162/162 [==============================] - 21s 130ms/step - loss: 0.1660 - accuracy: 0.9391 - val_loss: 0.1199 - val_accuracy: 0.9540\n",
            "Epoch 17/50\n",
            "162/162 [==============================] - 21s 130ms/step - loss: 0.1628 - accuracy: 0.9408 - val_loss: 0.1236 - val_accuracy: 0.9484\n",
            "Epoch 18/50\n",
            "162/162 [==============================] - 21s 129ms/step - loss: 0.1560 - accuracy: 0.9422 - val_loss: 0.1217 - val_accuracy: 0.9553\n",
            "Epoch 19/50\n",
            "162/162 [==============================] - 21s 129ms/step - loss: 0.1512 - accuracy: 0.9438 - val_loss: 0.1132 - val_accuracy: 0.9557\n",
            "Epoch 20/50\n",
            "162/162 [==============================] - 21s 129ms/step - loss: 0.1464 - accuracy: 0.9464 - val_loss: 0.1163 - val_accuracy: 0.9527\n",
            "Epoch 21/50\n",
            "162/162 [==============================] - 21s 130ms/step - loss: 0.1415 - accuracy: 0.9464 - val_loss: 0.1405 - val_accuracy: 0.9457\n",
            "Epoch 22/50\n",
            "162/162 [==============================] - 21s 128ms/step - loss: 0.1396 - accuracy: 0.9462 - val_loss: 0.1296 - val_accuracy: 0.9527\n",
            "Epoch 23/50\n",
            "162/162 [==============================] - 21s 130ms/step - loss: 0.1339 - accuracy: 0.9488 - val_loss: 0.0991 - val_accuracy: 0.9609\n",
            "Epoch 24/50\n",
            "162/162 [==============================] - 21s 130ms/step - loss: 0.1299 - accuracy: 0.9495 - val_loss: 0.1131 - val_accuracy: 0.9540\n",
            "Epoch 25/50\n",
            "162/162 [==============================] - 21s 130ms/step - loss: 0.1280 - accuracy: 0.9497 - val_loss: 0.1017 - val_accuracy: 0.9596\n",
            "Epoch 26/50\n",
            "162/162 [==============================] - 21s 127ms/step - loss: 0.1244 - accuracy: 0.9499 - val_loss: 0.1029 - val_accuracy: 0.9566\n",
            "Epoch 27/50\n",
            "162/162 [==============================] - 21s 129ms/step - loss: 0.1245 - accuracy: 0.9496 - val_loss: 0.0962 - val_accuracy: 0.9609\n",
            "Epoch 28/50\n",
            "162/162 [==============================] - 21s 128ms/step - loss: 0.1224 - accuracy: 0.9506 - val_loss: 0.1036 - val_accuracy: 0.9601\n",
            "Epoch 29/50\n",
            "162/162 [==============================] - 21s 129ms/step - loss: 0.1198 - accuracy: 0.9509 - val_loss: 0.0908 - val_accuracy: 0.9622\n",
            "Epoch 30/50\n",
            "162/162 [==============================] - 21s 129ms/step - loss: 0.1151 - accuracy: 0.9524 - val_loss: 0.0980 - val_accuracy: 0.9570\n",
            "Epoch 31/50\n",
            "162/162 [==============================] - 21s 129ms/step - loss: 0.1164 - accuracy: 0.9521 - val_loss: 0.0986 - val_accuracy: 0.9583\n",
            "Epoch 32/50\n",
            "162/162 [==============================] - 21s 130ms/step - loss: 0.1132 - accuracy: 0.9513 - val_loss: 0.0926 - val_accuracy: 0.9596\n",
            "Epoch 33/50\n",
            "162/162 [==============================] - 21s 128ms/step - loss: 0.1100 - accuracy: 0.9525 - val_loss: 0.0945 - val_accuracy: 0.9570\n",
            "Epoch 34/50\n",
            "162/162 [==============================] - 21s 128ms/step - loss: 0.1108 - accuracy: 0.9516 - val_loss: 0.0945 - val_accuracy: 0.9592\n",
            "Epoch 35/50\n",
            "162/162 [==============================] - 21s 128ms/step - loss: 0.1130 - accuracy: 0.9517 - val_loss: 0.1004 - val_accuracy: 0.9553\n",
            "Epoch 36/50\n",
            "162/162 [==============================] - 21s 128ms/step - loss: 0.1108 - accuracy: 0.9517 - val_loss: 0.0854 - val_accuracy: 0.9588\n",
            "Epoch 37/50\n",
            "162/162 [==============================] - 21s 129ms/step - loss: 0.1059 - accuracy: 0.9529 - val_loss: 0.0829 - val_accuracy: 0.9631\n",
            "Epoch 38/50\n",
            "162/162 [==============================] - 21s 128ms/step - loss: 0.1022 - accuracy: 0.9560 - val_loss: 0.0861 - val_accuracy: 0.9609\n",
            "Epoch 39/50\n",
            "162/162 [==============================] - 21s 128ms/step - loss: 0.1028 - accuracy: 0.9535 - val_loss: 0.0889 - val_accuracy: 0.9588\n",
            "Epoch 40/50\n",
            "162/162 [==============================] - 21s 129ms/step - loss: 0.1011 - accuracy: 0.9547 - val_loss: 0.0857 - val_accuracy: 0.9605\n",
            "Epoch 41/50\n",
            "162/162 [==============================] - 21s 129ms/step - loss: 0.0992 - accuracy: 0.9549 - val_loss: 0.0893 - val_accuracy: 0.9575\n",
            "Epoch 42/50\n",
            "162/162 [==============================] - 21s 129ms/step - loss: 0.1063 - accuracy: 0.9544 - val_loss: 0.0932 - val_accuracy: 0.9579\n",
            "Epoch 43/50\n",
            "162/162 [==============================] - 21s 128ms/step - loss: 0.1000 - accuracy: 0.9545 - val_loss: 0.0803 - val_accuracy: 0.9609\n",
            "Epoch 44/50\n",
            "162/162 [==============================] - 21s 129ms/step - loss: 0.0993 - accuracy: 0.9545 - val_loss: 0.0875 - val_accuracy: 0.9583\n",
            "Epoch 45/50\n",
            "162/162 [==============================] - 21s 127ms/step - loss: 0.0999 - accuracy: 0.9555 - val_loss: 0.0823 - val_accuracy: 0.9601\n",
            "Epoch 46/50\n",
            "162/162 [==============================] - 21s 127ms/step - loss: 0.0963 - accuracy: 0.9548 - val_loss: 0.0909 - val_accuracy: 0.9570\n",
            "Epoch 47/50\n",
            "162/162 [==============================] - 21s 129ms/step - loss: 0.0978 - accuracy: 0.9555 - val_loss: 0.0862 - val_accuracy: 0.9627\n",
            "Epoch 48/50\n",
            "162/162 [==============================] - 21s 129ms/step - loss: 0.0931 - accuracy: 0.9561 - val_loss: 0.0782 - val_accuracy: 0.9657\n",
            "Epoch 49/50\n",
            "162/162 [==============================] - 21s 127ms/step - loss: 0.0912 - accuracy: 0.9567 - val_loss: 0.0813 - val_accuracy: 0.9583\n",
            "Epoch 50/50\n",
            "162/162 [==============================] - 21s 129ms/step - loss: 0.0881 - accuracy: 0.9584 - val_loss: 0.0812 - val_accuracy: 0.9596\n"
          ]
        }
      ]
    },
    {
      "cell_type": "code",
      "source": [
        "model.save(\"09greatmodel1.h5\")"
      ],
      "metadata": {
        "id": "rOOxcWJXQq2F"
      },
      "execution_count": null,
      "outputs": []
    },
    {
      "cell_type": "code",
      "source": [
        "#Epoch 50/50\n",
        "#144/144 [==============================] - 20s 136ms/step - loss: 0.0813 - accuracy: 0.9614 - val_loss: 0.6606 - val_accuracy: 0.8817\n",
        "#Epoch 30/30\n",
        "#162/162 [==============================] - 21s 128ms/step - loss: 0.1041 - accuracy: 0.9544 - val_loss: 0.0967 - val_accuracy: 0.9583\n",
        "#Epoch 50/50\n",
        "#162/162 [==============================] - 21s 129ms/step - loss: 0.0881 - accuracy: 0.9584 - val_loss: 0.0812 - val_accuracy: 0.9596"
      ],
      "metadata": {
        "id": "87O-L-vRBuy-"
      },
      "execution_count": null,
      "outputs": []
    },
    {
      "cell_type": "code",
      "source": [
        "tf.keras.utils.plot_model(model, show_shapes=True)"
      ],
      "metadata": {
        "id": "fpzHswneMSZv",
        "colab": {
          "base_uri": "https://localhost:8080/",
          "height": 976
        },
        "outputId": "a32148cb-9df9-4cdb-8745-4b6bb6a6d5fb"
      },
      "execution_count": null,
      "outputs": [
        {
          "output_type": "execute_result",
          "data": {
            "text/plain": [
              "<IPython.core.display.Image object>"
            ],
            "image/png": "[encoded data removed]"
          },
          "metadata": {},
          "execution_count": 25
        }
      ]
    },
    {
      "cell_type": "code",
      "source": [
        "from sklearn.metrics import confusion_matrix\n",
        "import numpy as np\n",
        "pred=model.predict(testing_padded)\n",
        "rounded_labels1=np.argmax(pred, axis=1).astype(int)\n",
        "cm = confusion_matrix(testing_labels, rounded_labels1)\n",
        "print(cm)"
      ],
      "metadata": {
        "colab": {
          "base_uri": "https://localhost:8080/"
        },
        "id": "ctfA3AV-NbFv",
        "outputId": "61a17ba2-0598-4bef-eb4e-ff8b47102179"
      },
      "execution_count": null,
      "outputs": [
        {
          "output_type": "stream",
          "name": "stdout",
          "text": [
            "[[1259    2    4]\n",
            " [  15  381   18]\n",
            " [  37   17  571]]\n"
          ]
        }
      ]
    },
    {
      "cell_type": "code",
      "source": [
        "from sklearn.metrics import classification_report\n",
        "print(classification_report(testing_labels, rounded_labels1, labels=[0,1,2]))"
      ],
      "metadata": {
        "colab": {
          "base_uri": "https://localhost:8080/"
        },
        "id": "aHeRqiyHPrxY",
        "outputId": "34bd1b8b-7540-4d4f-c8fe-25d263aa9834"
      },
      "execution_count": null,
      "outputs": [
        {
          "output_type": "stream",
          "name": "stdout",
          "text": [
            "              precision    recall  f1-score   support\n",
            "\n",
            "           0       0.96      1.00      0.98      1265\n",
            "           1       0.95      0.92      0.94       414\n",
            "           2       0.96      0.91      0.94       625\n",
            "\n",
            "    accuracy                           0.96      2304\n",
            "   macro avg       0.96      0.94      0.95      2304\n",
            "weighted avg       0.96      0.96      0.96      2304\n",
            "\n"
          ]
        }
      ]
    },
    {
      "cell_type": "code",
      "source": [
        "pred12=model.predict(testing_padded12)\n",
        "rounded_labels112=np.argmax(pred12, axis=1).astype(int)\n",
        "cm12 = confusion_matrix(testing_labels12, rounded_labels112)\n",
        "print(cm12)\n",
        "print(classification_report(testing_labels12, rounded_labels112, labels=[0,1,2]))"
      ],
      "metadata": {
        "id": "XP0QbLyyJiJl",
        "colab": {
          "base_uri": "https://localhost:8080/"
        },
        "outputId": "8092a68b-69e6-472e-a43a-9786ee58327f"
      },
      "execution_count": null,
      "outputs": [
        {
          "output_type": "stream",
          "name": "stdout",
          "text": [
            "[[513  29  45]\n",
            " [ 56 184  13]\n",
            " [ 87 143 222]]\n",
            "              precision    recall  f1-score   support\n",
            "\n",
            "           0       0.78      0.87      0.83       587\n",
            "           1       0.52      0.73      0.60       253\n",
            "           2       0.79      0.49      0.61       452\n",
            "\n",
            "    accuracy                           0.71      1292\n",
            "   macro avg       0.70      0.70      0.68      1292\n",
            "weighted avg       0.73      0.71      0.71      1292\n",
            "\n"
          ]
        }
      ]
    },
    {
      "cell_type": "code",
      "source": [
        "pred34=model.predict(testing_padded34)\n",
        "rounded_labels134=np.argmax(pred34, axis=1).astype(int)\n",
        "cm34 = confusion_matrix(testing_labels34, rounded_labels134)\n",
        "print(cm34)\n",
        "print(classification_report(testing_labels34, rounded_labels134, labels=[0,1,2]))"
      ],
      "metadata": {
        "id": "xKHQnnggJ3PJ",
        "colab": {
          "base_uri": "https://localhost:8080/"
        },
        "outputId": "98166686-2768-4341-da06-b32b56f9c591"
      },
      "execution_count": null,
      "outputs": [
        {
          "output_type": "stream",
          "name": "stdout",
          "text": [
            "[[ 510    0   16]\n",
            " [   0    7    0]\n",
            " [  12    2 1293]]\n",
            "              precision    recall  f1-score   support\n",
            "\n",
            "           0       0.98      0.97      0.97       526\n",
            "           1       0.78      1.00      0.88         7\n",
            "           2       0.99      0.99      0.99      1307\n",
            "\n",
            "    accuracy                           0.98      1840\n",
            "   macro avg       0.91      0.99      0.95      1840\n",
            "weighted avg       0.98      0.98      0.98      1840\n",
            "\n"
          ]
        }
      ]
    },
    {
      "cell_type": "code",
      "source": [
        "import matplotlib.pyplot as plt\n",
        "import numpy\n",
        "# summarize history for accuracy\n",
        "plt.plot(history.history['loss'])\n",
        "plt.plot(history.history['val_loss'])\n",
        "plt.title('model loss')\n",
        "plt.ylabel('loss')\n",
        "plt.xlabel('epoch')\n",
        "plt.legend(['train', 'test'], loc='upper left')\n",
        "plt.show()\n",
        "# summarize history for loss\n",
        "plt.plot(history.history['accuracy'])\n",
        "plt.plot(history.history['val_accuracy'])\n",
        "plt.title('model accuracy')\n",
        "plt.ylabel('accuracy')\n",
        "plt.xlabel('epoch')\n",
        "plt.legend(['train', 'test'], loc='upper left')\n",
        "plt.show()"
      ],
      "metadata": {
        "colab": {
          "base_uri": "https://localhost:8080/",
          "height": 573
        },
        "id": "QXLyKWWv58Qd",
        "outputId": "8e9ee0b0-c1c9-465c-a0b6-a3807b0917ef"
      },
      "execution_count": null,
      "outputs": [
        {
          "output_type": "display_data",
          "data": {
            "text/plain": [
              "<Figure size 432x288 with 1 Axes>"
            ],
            "image/png": "[encoded data removed]"
          },
          "metadata": {
            "needs_background": "light"
          }
        },
        {
          "output_type": "display_data",
          "data": {
            "text/plain": [
              "<Figure size 432x288 with 1 Axes>"
            ],
            "image/png": "[encoded data removed]"
          },
          "metadata": {
            "needs_background": "light"
          }
        }
      ]
    },
    {
      "cell_type": "markdown",
      "source": [
        "##For the Second Model"
      ],
      "metadata": {
        "id": "2DGrTNt17GKc"
      }
    },
    {
      "cell_type": "code",
      "source": [
        "import tensorflow as tf\n",
        "model2 = tf.keras.Sequential([\n",
        "    tf.keras.layers.Embedding(vocab_size, embedding_dim, input_length=max_length),\n",
        "    tf.keras.layers.Conv1D(128, 5, activation='relu'),\n",
        "    tf.keras.layers.GlobalMaxPooling1D(),\n",
        "    tf.keras.layers.Flatten(),\n",
        "    tf.keras.layers.Dense(24, activation='relu'),\n",
        "    tf.keras.layers.Dense(2, activation='softmax'),\n",
        "    tf.keras.layers.Dense(units=3, activation='softmax')\n",
        "])\n",
        "model2.summary()"
      ],
      "metadata": {
        "colab": {
          "base_uri": "https://localhost:8080/"
        },
        "id": "Vsv2gTUcITR-",
        "outputId": "968a39ff-9bd1-4362-d95a-14df37a40c47"
      },
      "execution_count": null,
      "outputs": [
        {
          "output_type": "stream",
          "name": "stdout",
          "text": [
            "Model: \"sequential_5\"\n",
            "_________________________________________________________________\n",
            " Layer (type)                Output Shape              Param #   \n",
            "=================================================================\n",
            " embedding_5 (Embedding)     (None, 388, 16)           845584    \n",
            "                                                                 \n",
            " conv1d_4 (Conv1D)           (None, 384, 128)          10368     \n",
            "                                                                 \n",
            " global_max_pooling1d_2 (Glo  (None, 128)              0         \n",
            " balMaxPooling1D)                                                \n",
            "                                                                 \n",
            " flatten_5 (Flatten)         (None, 128)               0         \n",
            "                                                                 \n",
            " dense_11 (Dense)            (None, 24)                3096      \n",
            "                                                                 \n",
            " dense_12 (Dense)            (None, 2)                 50        \n",
            "                                                                 \n",
            " dense_13 (Dense)            (None, 3)                 9         \n",
            "                                                                 \n",
            "=================================================================\n",
            "Total params: 859,107\n",
            "Trainable params: 859,107\n",
            "Non-trainable params: 0\n",
            "_________________________________________________________________\n"
          ]
        }
      ]
    },
    {
      "cell_type": "code",
      "source": [
        "model2.compile(loss=\"sparse_categorical_crossentropy\",optimizer='adam',metrics=['accuracy'])\n",
        "\n",
        "\n",
        "history = model2.fit(training_padded, training_labels, batch_size=128, epochs=50, validation_data=(testing_padded, testing_labels), verbose=1)"
      ],
      "metadata": {
        "colab": {
          "base_uri": "https://localhost:8080/"
        },
        "id": "-edaUQlH57pA",
        "outputId": "1b7eab72-40b7-4f70-fdea-31c6fa4500fd"
      },
      "execution_count": null,
      "outputs": [
        {
          "output_type": "stream",
          "name": "stdout",
          "text": [
            "Epoch 1/50\n",
            "162/162 [==============================] - 2s 9ms/step - loss: 0.9675 - accuracy: 0.5484 - val_loss: 0.8455 - val_accuracy: 0.6458\n",
            "Epoch 2/50\n",
            "162/162 [==============================] - 1s 8ms/step - loss: 0.8244 - accuracy: 0.6373 - val_loss: 0.7574 - val_accuracy: 0.6858\n",
            "Epoch 3/50\n",
            "162/162 [==============================] - 1s 8ms/step - loss: 0.7709 - accuracy: 0.6636 - val_loss: 0.7062 - val_accuracy: 0.7300\n",
            "Epoch 4/50\n",
            "162/162 [==============================] - 1s 8ms/step - loss: 0.7299 - accuracy: 0.7014 - val_loss: 0.6609 - val_accuracy: 0.7752\n",
            "Epoch 5/50\n",
            "162/162 [==============================] - 1s 8ms/step - loss: 0.6955 - accuracy: 0.7198 - val_loss: 0.6274 - val_accuracy: 0.7222\n",
            "Epoch 6/50\n",
            "162/162 [==============================] - 1s 8ms/step - loss: 0.6657 - accuracy: 0.7140 - val_loss: 0.6005 - val_accuracy: 0.7383\n",
            "Epoch 7/50\n",
            "162/162 [==============================] - 1s 8ms/step - loss: 0.6385 - accuracy: 0.7297 - val_loss: 0.5744 - val_accuracy: 0.7509\n",
            "Epoch 8/50\n",
            "162/162 [==============================] - 1s 8ms/step - loss: 0.6142 - accuracy: 0.7399 - val_loss: 0.5519 - val_accuracy: 0.7595\n",
            "Epoch 9/50\n",
            "162/162 [==============================] - 1s 8ms/step - loss: 0.5925 - accuracy: 0.7513 - val_loss: 0.5310 - val_accuracy: 0.7656\n",
            "Epoch 10/50\n",
            "162/162 [==============================] - 1s 8ms/step - loss: 0.5730 - accuracy: 0.7585 - val_loss: 0.5204 - val_accuracy: 0.7678\n",
            "Epoch 11/50\n",
            "162/162 [==============================] - 1s 8ms/step - loss: 0.5586 - accuracy: 0.7661 - val_loss: 0.5202 - val_accuracy: 0.7643\n",
            "Epoch 12/50\n",
            "162/162 [==============================] - 1s 8ms/step - loss: 0.5459 - accuracy: 0.7704 - val_loss: 0.5071 - val_accuracy: 0.7708\n",
            "Epoch 13/50\n",
            "162/162 [==============================] - 1s 8ms/step - loss: 0.5335 - accuracy: 0.7749 - val_loss: 0.4919 - val_accuracy: 0.7778\n",
            "Epoch 14/50\n",
            "162/162 [==============================] - 1s 8ms/step - loss: 0.5233 - accuracy: 0.7794 - val_loss: 0.4864 - val_accuracy: 0.7760\n",
            "Epoch 15/50\n",
            "162/162 [==============================] - 1s 8ms/step - loss: 0.5140 - accuracy: 0.7828 - val_loss: 0.4741 - val_accuracy: 0.7791\n",
            "Epoch 16/50\n",
            "162/162 [==============================] - 1s 8ms/step - loss: 0.5070 - accuracy: 0.7849 - val_loss: 0.4676 - val_accuracy: 0.7839\n",
            "Epoch 17/50\n",
            "162/162 [==============================] - 1s 8ms/step - loss: 0.4999 - accuracy: 0.7876 - val_loss: 0.4682 - val_accuracy: 0.7756\n",
            "Epoch 18/50\n",
            "162/162 [==============================] - 1s 8ms/step - loss: 0.4957 - accuracy: 0.7884 - val_loss: 0.4594 - val_accuracy: 0.7847\n",
            "Epoch 19/50\n",
            "162/162 [==============================] - 1s 8ms/step - loss: 0.4895 - accuracy: 0.7900 - val_loss: 0.4534 - val_accuracy: 0.7852\n",
            "Epoch 20/50\n",
            "162/162 [==============================] - 1s 8ms/step - loss: 0.4862 - accuracy: 0.7902 - val_loss: 0.4469 - val_accuracy: 0.7865\n",
            "Epoch 21/50\n",
            "162/162 [==============================] - 1s 8ms/step - loss: 0.4816 - accuracy: 0.7920 - val_loss: 0.4483 - val_accuracy: 0.7830\n",
            "Epoch 22/50\n",
            "162/162 [==============================] - 1s 8ms/step - loss: 0.4743 - accuracy: 0.7939 - val_loss: 0.4429 - val_accuracy: 0.7878\n",
            "Epoch 23/50\n",
            "162/162 [==============================] - 1s 8ms/step - loss: 0.4715 - accuracy: 0.7950 - val_loss: 0.4367 - val_accuracy: 0.7899\n",
            "Epoch 24/50\n",
            "162/162 [==============================] - 1s 8ms/step - loss: 0.4679 - accuracy: 0.7956 - val_loss: 0.4402 - val_accuracy: 0.7904\n",
            "Epoch 25/50\n",
            "162/162 [==============================] - 1s 8ms/step - loss: 0.4663 - accuracy: 0.7957 - val_loss: 0.4310 - val_accuracy: 0.7917\n",
            "Epoch 26/50\n",
            "162/162 [==============================] - 1s 8ms/step - loss: 0.4626 - accuracy: 0.7969 - val_loss: 0.4240 - val_accuracy: 0.7947\n",
            "Epoch 27/50\n",
            "162/162 [==============================] - 1s 8ms/step - loss: 0.4619 - accuracy: 0.7959 - val_loss: 0.4275 - val_accuracy: 0.7925\n",
            "Epoch 28/50\n",
            "162/162 [==============================] - 1s 8ms/step - loss: 0.4590 - accuracy: 0.7977 - val_loss: 0.4257 - val_accuracy: 0.7921\n",
            "Epoch 29/50\n",
            "162/162 [==============================] - 1s 8ms/step - loss: 0.4566 - accuracy: 0.7986 - val_loss: 0.4185 - val_accuracy: 0.7951\n",
            "Epoch 30/50\n",
            "162/162 [==============================] - 1s 8ms/step - loss: 0.4528 - accuracy: 0.7984 - val_loss: 0.4178 - val_accuracy: 0.7951\n",
            "Epoch 31/50\n",
            "162/162 [==============================] - 1s 8ms/step - loss: 0.4503 - accuracy: 0.7994 - val_loss: 0.4175 - val_accuracy: 0.7925\n",
            "Epoch 32/50\n",
            "162/162 [==============================] - 1s 8ms/step - loss: 0.4479 - accuracy: 0.8001 - val_loss: 0.4144 - val_accuracy: 0.7886\n",
            "Epoch 33/50\n",
            "162/162 [==============================] - 1s 8ms/step - loss: 0.4465 - accuracy: 0.7973 - val_loss: 0.4111 - val_accuracy: 0.7951\n",
            "Epoch 34/50\n",
            "162/162 [==============================] - 1s 8ms/step - loss: 0.4442 - accuracy: 0.7998 - val_loss: 0.4100 - val_accuracy: 0.7951\n",
            "Epoch 35/50\n",
            "162/162 [==============================] - 1s 8ms/step - loss: 0.4394 - accuracy: 0.8002 - val_loss: 0.4086 - val_accuracy: 0.7930\n",
            "Epoch 36/50\n",
            "162/162 [==============================] - 1s 8ms/step - loss: 0.4365 - accuracy: 0.8001 - val_loss: 0.4060 - val_accuracy: 0.7934\n",
            "Epoch 37/50\n",
            "162/162 [==============================] - 1s 8ms/step - loss: 0.4339 - accuracy: 0.8001 - val_loss: 0.4046 - val_accuracy: 0.7917\n",
            "Epoch 38/50\n",
            "162/162 [==============================] - 1s 8ms/step - loss: 0.4282 - accuracy: 0.8019 - val_loss: 0.3964 - val_accuracy: 0.7921\n",
            "Epoch 39/50\n",
            "162/162 [==============================] - 1s 8ms/step - loss: 0.4247 - accuracy: 0.8012 - val_loss: 0.3934 - val_accuracy: 0.7860\n",
            "Epoch 40/50\n",
            "162/162 [==============================] - 1s 8ms/step - loss: 0.4203 - accuracy: 0.8018 - val_loss: 0.3848 - val_accuracy: 0.7934\n",
            "Epoch 41/50\n",
            "162/162 [==============================] - 1s 8ms/step - loss: 0.4166 - accuracy: 0.8005 - val_loss: 0.3804 - val_accuracy: 0.7964\n",
            "Epoch 42/50\n",
            "162/162 [==============================] - 1s 8ms/step - loss: 0.4106 - accuracy: 0.8021 - val_loss: 0.3754 - val_accuracy: 0.7951\n",
            "Epoch 43/50\n",
            "162/162 [==============================] - 1s 8ms/step - loss: 0.4043 - accuracy: 0.8017 - val_loss: 0.3637 - val_accuracy: 0.7964\n",
            "Epoch 44/50\n",
            "162/162 [==============================] - 1s 8ms/step - loss: 0.3971 - accuracy: 0.8007 - val_loss: 0.3564 - val_accuracy: 0.7878\n",
            "Epoch 45/50\n",
            "162/162 [==============================] - 1s 8ms/step - loss: 0.3896 - accuracy: 0.8316 - val_loss: 0.3502 - val_accuracy: 0.8798\n",
            "Epoch 46/50\n",
            "162/162 [==============================] - 1s 8ms/step - loss: 0.3805 - accuracy: 0.8776 - val_loss: 0.3410 - val_accuracy: 0.8837\n",
            "Epoch 47/50\n",
            "162/162 [==============================] - 1s 8ms/step - loss: 0.3708 - accuracy: 0.8925 - val_loss: 0.3276 - val_accuracy: 0.9097\n",
            "Epoch 48/50\n",
            "162/162 [==============================] - 1s 8ms/step - loss: 0.3625 - accuracy: 0.9016 - val_loss: 0.3154 - val_accuracy: 0.9201\n",
            "Epoch 49/50\n",
            "162/162 [==============================] - 1s 8ms/step - loss: 0.3527 - accuracy: 0.9061 - val_loss: 0.3043 - val_accuracy: 0.9232\n",
            "Epoch 50/50\n",
            "162/162 [==============================] - 1s 8ms/step - loss: 0.3423 - accuracy: 0.9115 - val_loss: 0.3146 - val_accuracy: 0.9232\n"
          ]
        }
      ]
    },
    {
      "cell_type": "code",
      "source": [
        "model2.save(\"09AnotherGreatModel.h5\")"
      ],
      "metadata": {
        "id": "tTwMZGybUWZf"
      },
      "execution_count": null,
      "outputs": []
    },
    {
      "cell_type": "code",
      "source": [
        "tf.keras.utils.plot_model(model2, show_shapes=True)"
      ],
      "metadata": {
        "colab": {
          "base_uri": "https://localhost:8080/",
          "height": 865
        },
        "id": "Djs_EiWq6Sc1",
        "outputId": "14dc47ec-c5b9-4b88-bb28-6f9d5a0b32ec"
      },
      "execution_count": null,
      "outputs": [
        {
          "output_type": "execute_result",
          "data": {
            "text/plain": [
              "<IPython.core.display.Image object>"
            ],
            "image/png": "[encoded data removed]"
          },
          "metadata": {},
          "execution_count": 62
        }
      ]
    },
    {
      "cell_type": "code",
      "source": [
        "pred1=model2.predict(testing_padded)\n",
        "\n",
        "pred11=[]\n",
        "for i in pred1:\n",
        "  if i[0]==max(i):\n",
        "    pred11.append(0)\n",
        "  elif i[1]==max(i):\n",
        "    pred11.append(1)\n",
        "  else:\n",
        "    pred11.append(2)\n",
        "#rounded_labels11=np.argmax(pred11, axis=1).astype(int)\n",
        "cm = confusion_matrix(testing_labels, pred11)\n",
        "cm"
      ],
      "metadata": {
        "colab": {
          "base_uri": "https://localhost:8080/"
        },
        "id": "5RAIZlNi58Ht",
        "outputId": "83500be1-ed81-46fd-954e-cd03ad5f2f63"
      },
      "execution_count": null,
      "outputs": [
        {
          "output_type": "execute_result",
          "data": {
            "text/plain": [
              "array([[1262,    0,    3],\n",
              "       [  15,  342,   57],\n",
              "       [  61,   41,  523]])"
            ]
          },
          "metadata": {},
          "execution_count": 63
        }
      ]
    },
    {
      "cell_type": "code",
      "source": [
        "#Epoch 50/50\n",
        "#144/144 [==============================] - 1s 8ms/step - loss: 0.3237 - accuracy: 0.9319 - val_loss: 0.4529 - val_accuracy: 0.8728\n",
        "#Epoch 30/30\n",
        "#162/162 [==============================] - 1s 8ms/step - loss: 0.6225 - accuracy: 0.7719 - val_loss: 0.6345 - val_accuracy: 0.7700"
      ],
      "metadata": {
        "id": "ygLUBjc6meLZ"
      },
      "execution_count": null,
      "outputs": []
    },
    {
      "cell_type": "code",
      "source": [
        "print(classification_report(testing_labels, pred11, labels=[0,1,2]))"
      ],
      "metadata": {
        "colab": {
          "base_uri": "https://localhost:8080/"
        },
        "id": "kZ3sDFpUbw9j",
        "outputId": "63594dfb-2925-4553-cf59-716b48392a43"
      },
      "execution_count": null,
      "outputs": [
        {
          "output_type": "stream",
          "name": "stdout",
          "text": [
            "              precision    recall  f1-score   support\n",
            "\n",
            "           0       0.94      1.00      0.97      1265\n",
            "           1       0.89      0.83      0.86       414\n",
            "           2       0.90      0.84      0.87       625\n",
            "\n",
            "    accuracy                           0.92      2304\n",
            "   macro avg       0.91      0.89      0.90      2304\n",
            "weighted avg       0.92      0.92      0.92      2304\n",
            "\n"
          ]
        }
      ]
    },
    {
      "cell_type": "code",
      "source": [
        "pred12=model2.predict(testing_padded12)\n",
        "rounded_labels212=np.argmax(pred12, axis=1).astype(int)\n",
        "cm12 = confusion_matrix(testing_labels12, rounded_labels212)\n",
        "print(cm12)\n",
        "print(classification_report(testing_labels12, rounded_labels212, labels=[0,1,2]))"
      ],
      "metadata": {
        "id": "p7iWnGdoKkHJ",
        "colab": {
          "base_uri": "https://localhost:8080/"
        },
        "outputId": "ec505c4a-eefa-47fd-81a1-7bf7251fc36d"
      },
      "execution_count": null,
      "outputs": [
        {
          "output_type": "stream",
          "name": "stdout",
          "text": [
            "[[513  12  62]\n",
            " [ 53 166  34]\n",
            " [ 97 116 239]]\n",
            "              precision    recall  f1-score   support\n",
            "\n",
            "           0       0.77      0.87      0.82       587\n",
            "           1       0.56      0.66      0.61       253\n",
            "           2       0.71      0.53      0.61       452\n",
            "\n",
            "    accuracy                           0.71      1292\n",
            "   macro avg       0.68      0.69      0.68      1292\n",
            "weighted avg       0.71      0.71      0.70      1292\n",
            "\n"
          ]
        }
      ]
    },
    {
      "cell_type": "code",
      "source": [
        "pred34=model2.predict(testing_padded34)\n",
        "rounded_labels234=np.argmax(pred34, axis=1).astype(int)\n",
        "cm34 = confusion_matrix(testing_labels34, rounded_labels234)\n",
        "print(cm34)\n",
        "print(classification_report(testing_labels34, rounded_labels234, labels=[0,1,2]))"
      ],
      "metadata": {
        "id": "t3trQk4OKw0Q",
        "colab": {
          "base_uri": "https://localhost:8080/"
        },
        "outputId": "6588083d-fb81-45d2-c38f-b73ac9965375"
      },
      "execution_count": null,
      "outputs": [
        {
          "output_type": "stream",
          "name": "stdout",
          "text": [
            "[[ 514    3    9]\n",
            " [   0    5    2]\n",
            " [  35   69 1203]]\n",
            "              precision    recall  f1-score   support\n",
            "\n",
            "           0       0.94      0.98      0.96       526\n",
            "           1       0.06      0.71      0.12         7\n",
            "           2       0.99      0.92      0.95      1307\n",
            "\n",
            "    accuracy                           0.94      1840\n",
            "   macro avg       0.66      0.87      0.68      1840\n",
            "weighted avg       0.97      0.94      0.95      1840\n",
            "\n"
          ]
        }
      ]
    },
    {
      "cell_type": "code",
      "source": [
        "import matplotlib.pyplot as plt\n",
        "import numpy\n",
        "# summarize history for accuracy\n",
        "plt.plot(history.history['loss'])\n",
        "plt.plot(history.history['val_loss'])\n",
        "plt.title('model loss')\n",
        "plt.ylabel('loss')\n",
        "plt.xlabel('epoch')\n",
        "plt.legend(['train', 'test'], loc='upper left')\n",
        "plt.show()\n",
        "# summarize history for loss\n",
        "plt.plot(history.history['accuracy'])\n",
        "plt.plot(history.history['val_accuracy'])\n",
        "plt.title('model accuracy')\n",
        "plt.ylabel('accuracy')\n",
        "plt.xlabel('epoch')\n",
        "plt.legend(['train', 'test'], loc='upper left')\n",
        "plt.show()"
      ],
      "metadata": {
        "colab": {
          "base_uri": "https://localhost:8080/",
          "height": 573
        },
        "id": "R2WgOyeb_PHC",
        "outputId": "591dcc9b-9f86-471f-ba80-1b2f011e0d6d"
      },
      "execution_count": null,
      "outputs": [
        {
          "output_type": "display_data",
          "data": {
            "text/plain": [
              "<Figure size 432x288 with 1 Axes>"
            ],
            "image/png": "[encoded data removed]"
          },
          "metadata": {
            "needs_background": "light"
          }
        },
        {
          "output_type": "display_data",
          "data": {
            "text/plain": [
              "<Figure size 432x288 with 1 Axes>"
            ],
            "image/png": "[encoded data removed]"
          },
          "metadata": {
            "needs_background": "light"
          }
        }
      ]
    },
    {
      "cell_type": "markdown",
      "source": [
        "##For The Third Model"
      ],
      "metadata": {
        "id": "FRfELBgw7A3Z"
      }
    },
    {
      "cell_type": "code",
      "source": [
        "model3 = tf.keras.Sequential([\n",
        "    tf.keras.layers.Embedding(vocab_size, embedding_dim, input_length=max_length),\n",
        "    tf.keras.layers.Bidirectional(tf.keras.layers.LSTM(32)),\n",
        "    tf.keras.layers.Flatten(),\n",
        "    tf.keras.layers.Dense(24, activation='relu'),\n",
        "    tf.keras.layers.Dense(3, activation='softmax')\n",
        "])\n",
        "model3.summary()"
      ],
      "metadata": {
        "colab": {
          "base_uri": "https://localhost:8080/"
        },
        "id": "JvX2b2nORvKS",
        "outputId": "09453e71-0da4-4944-ec8a-274ba1e5918a"
      },
      "execution_count": null,
      "outputs": [
        {
          "output_type": "stream",
          "name": "stdout",
          "text": [
            "Model: \"sequential_3\"\n",
            "_________________________________________________________________\n",
            " Layer (type)                Output Shape              Param #   \n",
            "=================================================================\n",
            " embedding_3 (Embedding)     (None, 388, 16)           845584    \n",
            "                                                                 \n",
            " bidirectional_4 (Bidirectio  (None, 64)               12544     \n",
            " nal)                                                            \n",
            "                                                                 \n",
            " flatten_3 (Flatten)         (None, 64)                0         \n",
            "                                                                 \n",
            " dense_6 (Dense)             (None, 24)                1560      \n",
            "                                                                 \n",
            " dense_7 (Dense)             (None, 3)                 75        \n",
            "                                                                 \n",
            "=================================================================\n",
            "Total params: 859,763\n",
            "Trainable params: 859,763\n",
            "Non-trainable params: 0\n",
            "_________________________________________________________________\n"
          ]
        }
      ]
    },
    {
      "cell_type": "code",
      "source": [
        "model3.compile(loss=\"sparse_categorical_crossentropy\",optimizer='adam',metrics=['accuracy'])\n",
        "history = model3.fit(training_padded, training_labels, batch_size=128, epochs=50, validation_data=(testing_padded, testing_labels), verbose=1)"
      ],
      "metadata": {
        "colab": {
          "base_uri": "https://localhost:8080/"
        },
        "id": "El4d_GRU6x2l",
        "outputId": "df638fa1-509b-407e-d91e-e9bfa42ee032"
      },
      "execution_count": null,
      "outputs": [
        {
          "output_type": "stream",
          "name": "stdout",
          "text": [
            "Epoch 1/50\n",
            "162/162 [==============================] - 11s 49ms/step - loss: 0.9343 - accuracy: 0.5657 - val_loss: 0.7419 - val_accuracy: 0.6953\n",
            "Epoch 2/50\n",
            "162/162 [==============================] - 6s 39ms/step - loss: 0.7066 - accuracy: 0.7078 - val_loss: 0.5743 - val_accuracy: 0.7739\n",
            "Epoch 3/50\n",
            "162/162 [==============================] - 5s 29ms/step - loss: 0.5771 - accuracy: 0.7741 - val_loss: 0.4905 - val_accuracy: 0.8116\n",
            "Epoch 4/50\n",
            "162/162 [==============================] - 5s 29ms/step - loss: 0.5173 - accuracy: 0.8033 - val_loss: 0.4562 - val_accuracy: 0.8372\n",
            "Epoch 5/50\n",
            "162/162 [==============================] - 5s 29ms/step - loss: 0.4826 - accuracy: 0.8124 - val_loss: 0.4211 - val_accuracy: 0.8472\n",
            "Epoch 6/50\n",
            "162/162 [==============================] - 5s 30ms/step - loss: 0.4647 - accuracy: 0.8221 - val_loss: 0.3977 - val_accuracy: 0.8542\n",
            "Epoch 7/50\n",
            "162/162 [==============================] - 5s 30ms/step - loss: 0.4469 - accuracy: 0.8296 - val_loss: 0.4006 - val_accuracy: 0.8481\n",
            "Epoch 8/50\n",
            "162/162 [==============================] - 5s 30ms/step - loss: 0.4361 - accuracy: 0.8343 - val_loss: 0.3870 - val_accuracy: 0.8511\n",
            "Epoch 9/50\n",
            "162/162 [==============================] - 5s 30ms/step - loss: 0.4296 - accuracy: 0.8391 - val_loss: 0.3651 - val_accuracy: 0.8711\n",
            "Epoch 10/50\n",
            "162/162 [==============================] - 5s 30ms/step - loss: 0.4167 - accuracy: 0.8434 - val_loss: 0.3540 - val_accuracy: 0.8689\n",
            "Epoch 11/50\n",
            "162/162 [==============================] - 5s 30ms/step - loss: 0.4084 - accuracy: 0.8485 - val_loss: 0.3439 - val_accuracy: 0.8724\n",
            "Epoch 12/50\n",
            "162/162 [==============================] - 5s 30ms/step - loss: 0.3968 - accuracy: 0.8530 - val_loss: 0.3383 - val_accuracy: 0.8750\n",
            "Epoch 13/50\n",
            "162/162 [==============================] - 5s 30ms/step - loss: 0.3840 - accuracy: 0.8572 - val_loss: 0.3236 - val_accuracy: 0.8859\n",
            "Epoch 14/50\n",
            "162/162 [==============================] - 5s 30ms/step - loss: 0.3783 - accuracy: 0.8599 - val_loss: 0.3142 - val_accuracy: 0.8872\n",
            "Epoch 15/50\n",
            "162/162 [==============================] - 5s 30ms/step - loss: 0.3650 - accuracy: 0.8650 - val_loss: 0.3062 - val_accuracy: 0.8915\n",
            "Epoch 16/50\n",
            "162/162 [==============================] - 5s 29ms/step - loss: 0.3537 - accuracy: 0.8693 - val_loss: 0.2877 - val_accuracy: 0.8906\n",
            "Epoch 17/50\n",
            "162/162 [==============================] - 5s 29ms/step - loss: 0.3458 - accuracy: 0.8737 - val_loss: 0.2921 - val_accuracy: 0.8945\n",
            "Epoch 18/50\n",
            "162/162 [==============================] - 5s 29ms/step - loss: 0.3368 - accuracy: 0.8773 - val_loss: 0.2709 - val_accuracy: 0.9002\n",
            "Epoch 19/50\n",
            "162/162 [==============================] - 5s 33ms/step - loss: 0.3271 - accuracy: 0.8809 - val_loss: 0.2588 - val_accuracy: 0.9058\n",
            "Epoch 20/50\n",
            "162/162 [==============================] - 5s 29ms/step - loss: 0.3166 - accuracy: 0.8841 - val_loss: 0.2663 - val_accuracy: 0.9054\n",
            "Epoch 21/50\n",
            "162/162 [==============================] - 5s 29ms/step - loss: 0.3112 - accuracy: 0.8851 - val_loss: 0.2449 - val_accuracy: 0.9136\n",
            "Epoch 22/50\n",
            "162/162 [==============================] - 5s 29ms/step - loss: 0.3234 - accuracy: 0.8808 - val_loss: 0.2404 - val_accuracy: 0.9119\n",
            "Epoch 23/50\n",
            "162/162 [==============================] - 5s 29ms/step - loss: 0.2972 - accuracy: 0.8917 - val_loss: 0.2356 - val_accuracy: 0.9128\n",
            "Epoch 24/50\n",
            "162/162 [==============================] - 5s 29ms/step - loss: 0.2891 - accuracy: 0.8936 - val_loss: 0.2284 - val_accuracy: 0.9206\n",
            "Epoch 25/50\n",
            "162/162 [==============================] - 5s 29ms/step - loss: 0.2810 - accuracy: 0.8989 - val_loss: 0.2219 - val_accuracy: 0.9214\n",
            "Epoch 26/50\n",
            "162/162 [==============================] - 5s 30ms/step - loss: 0.2766 - accuracy: 0.8990 - val_loss: 0.2234 - val_accuracy: 0.9184\n",
            "Epoch 27/50\n",
            "162/162 [==============================] - 5s 30ms/step - loss: 0.2687 - accuracy: 0.9015 - val_loss: 0.2021 - val_accuracy: 0.9262\n",
            "Epoch 28/50\n",
            "162/162 [==============================] - 5s 30ms/step - loss: 0.2619 - accuracy: 0.9043 - val_loss: 0.2121 - val_accuracy: 0.9201\n",
            "Epoch 29/50\n",
            "162/162 [==============================] - 5s 30ms/step - loss: 0.2646 - accuracy: 0.9013 - val_loss: 0.1960 - val_accuracy: 0.9284\n",
            "Epoch 30/50\n",
            "162/162 [==============================] - 5s 30ms/step - loss: 0.2509 - accuracy: 0.9077 - val_loss: 0.1905 - val_accuracy: 0.9340\n",
            "Epoch 31/50\n",
            "162/162 [==============================] - 5s 30ms/step - loss: 0.2455 - accuracy: 0.9077 - val_loss: 0.1821 - val_accuracy: 0.9293\n",
            "Epoch 32/50\n",
            "162/162 [==============================] - 5s 30ms/step - loss: 0.2410 - accuracy: 0.9098 - val_loss: 0.1854 - val_accuracy: 0.9314\n",
            "Epoch 33/50\n",
            "162/162 [==============================] - 5s 30ms/step - loss: 0.2342 - accuracy: 0.9123 - val_loss: 0.1777 - val_accuracy: 0.9349\n",
            "Epoch 34/50\n",
            "162/162 [==============================] - 5s 30ms/step - loss: 0.2294 - accuracy: 0.9134 - val_loss: 0.1706 - val_accuracy: 0.9371\n",
            "Epoch 35/50\n",
            "162/162 [==============================] - 5s 30ms/step - loss: 0.2285 - accuracy: 0.9146 - val_loss: 0.1714 - val_accuracy: 0.9340\n",
            "Epoch 36/50\n",
            "162/162 [==============================] - 5s 29ms/step - loss: 0.2228 - accuracy: 0.9156 - val_loss: 0.1628 - val_accuracy: 0.9401\n",
            "Epoch 37/50\n",
            "162/162 [==============================] - 5s 30ms/step - loss: 0.2179 - accuracy: 0.9181 - val_loss: 0.1658 - val_accuracy: 0.9358\n",
            "Epoch 38/50\n",
            "162/162 [==============================] - 5s 30ms/step - loss: 0.2095 - accuracy: 0.9201 - val_loss: 0.1572 - val_accuracy: 0.9388\n",
            "Epoch 39/50\n",
            "162/162 [==============================] - 5s 30ms/step - loss: 0.2129 - accuracy: 0.9193 - val_loss: 0.1518 - val_accuracy: 0.9401\n",
            "Epoch 40/50\n",
            "162/162 [==============================] - 5s 30ms/step - loss: 0.2045 - accuracy: 0.9208 - val_loss: 0.1580 - val_accuracy: 0.9362\n",
            "Epoch 41/50\n",
            "162/162 [==============================] - 5s 30ms/step - loss: 0.2026 - accuracy: 0.9212 - val_loss: 0.1465 - val_accuracy: 0.9414\n",
            "Epoch 42/50\n",
            "162/162 [==============================] - 5s 29ms/step - loss: 0.1964 - accuracy: 0.9242 - val_loss: 0.1560 - val_accuracy: 0.9392\n",
            "Epoch 43/50\n",
            "162/162 [==============================] - 5s 30ms/step - loss: 0.1902 - accuracy: 0.9253 - val_loss: 0.1371 - val_accuracy: 0.9510\n",
            "Epoch 44/50\n",
            "162/162 [==============================] - 5s 29ms/step - loss: 0.1884 - accuracy: 0.9262 - val_loss: 0.1558 - val_accuracy: 0.9397\n",
            "Epoch 45/50\n",
            "162/162 [==============================] - 5s 30ms/step - loss: 0.1847 - accuracy: 0.9265 - val_loss: 0.1335 - val_accuracy: 0.9501\n",
            "Epoch 46/50\n",
            "162/162 [==============================] - 5s 30ms/step - loss: 0.1799 - accuracy: 0.9287 - val_loss: 0.1346 - val_accuracy: 0.9479\n",
            "Epoch 47/50\n",
            "162/162 [==============================] - 5s 30ms/step - loss: 0.1755 - accuracy: 0.9295 - val_loss: 0.1343 - val_accuracy: 0.9505\n",
            "Epoch 48/50\n",
            "162/162 [==============================] - 5s 30ms/step - loss: 0.1711 - accuracy: 0.9300 - val_loss: 0.1277 - val_accuracy: 0.9514\n",
            "Epoch 49/50\n",
            "162/162 [==============================] - 5s 30ms/step - loss: 0.1701 - accuracy: 0.9299 - val_loss: 0.1222 - val_accuracy: 0.9466\n",
            "Epoch 50/50\n",
            "162/162 [==============================] - 5s 30ms/step - loss: 0.1681 - accuracy: 0.9307 - val_loss: 0.1333 - val_accuracy: 0.9414\n"
          ]
        }
      ]
    },
    {
      "cell_type": "code",
      "source": [
        "model3.save(\"09AnotherThirdGreatModel.h5\")"
      ],
      "metadata": {
        "id": "tIAN-r0MVoMB"
      },
      "execution_count": null,
      "outputs": []
    },
    {
      "cell_type": "code",
      "source": [
        "#Epoch 50/50\n",
        "#144/144 [==============================] - 4s 30ms/step - loss: 0.1877 - accuracy: 0.9307 - val_loss: 0.4655 - val_accuracy: 0.8715\n",
        "#Epoch 30/30\n",
        "#162/162 [==============================] - 5s 29ms/step - loss: 0.2697 - accuracy: 0.9025 - val_loss: 0.2184 - val_accuracy: 0.9223\n",
        "#Epoch 50/50\n",
        "#162/162 [==============================] - 5s 30ms/step - loss: 0.1681 - accuracy: 0.9307 - val_loss: 0.1333 - val_accuracy: 0.9414"
      ],
      "metadata": {
        "id": "BHRXgvpCoku9"
      },
      "execution_count": null,
      "outputs": []
    },
    {
      "cell_type": "code",
      "source": [
        "tf.keras.utils.plot_model(model3, show_shapes=True)"
      ],
      "metadata": {
        "colab": {
          "base_uri": "https://localhost:8080/",
          "height": 644
        },
        "id": "1dVvLzBo61G8",
        "outputId": "760b48e9-a8e1-4b56-85f1-ca7c5b6d2a23"
      },
      "execution_count": null,
      "outputs": [
        {
          "output_type": "execute_result",
          "data": {
            "text/plain": [
              "<IPython.core.display.Image object>"
            ],
            "image/png": "[encoded data removed]"
          },
          "metadata": {},
          "execution_count": 44
        }
      ]
    },
    {
      "cell_type": "code",
      "source": [
        "pred3=model3.predict(testing_padded)\n",
        "rounded_labels3=np.argmax(pred3, axis=1).astype(int)\n",
        "cm2 = confusion_matrix(testing_labels, rounded_labels3)\n",
        "cm2"
      ],
      "metadata": {
        "colab": {
          "base_uri": "https://localhost:8080/"
        },
        "id": "Vg0RP9_k63Ri",
        "outputId": "5cac5a97-94b7-4994-96c2-5756fabdbce3"
      },
      "execution_count": null,
      "outputs": [
        {
          "output_type": "execute_result",
          "data": {
            "text/plain": [
              "array([[1249,    2,   14],\n",
              "       [  27,  373,   14],\n",
              "       [  46,   32,  547]])"
            ]
          },
          "metadata": {},
          "execution_count": 52
        }
      ]
    },
    {
      "cell_type": "code",
      "source": [
        "print(classification_report(testing_labels, rounded_labels3, labels=[0,1,2]))"
      ],
      "metadata": {
        "colab": {
          "base_uri": "https://localhost:8080/"
        },
        "id": "r-QZWcpDdy6N",
        "outputId": "2a71e9d7-d93f-4dc8-bd08-a939c2a113dd"
      },
      "execution_count": null,
      "outputs": [
        {
          "output_type": "stream",
          "name": "stdout",
          "text": [
            "              precision    recall  f1-score   support\n",
            "\n",
            "           0       0.94      0.99      0.97      1265\n",
            "           1       0.92      0.90      0.91       414\n",
            "           2       0.95      0.88      0.91       625\n",
            "\n",
            "    accuracy                           0.94      2304\n",
            "   macro avg       0.94      0.92      0.93      2304\n",
            "weighted avg       0.94      0.94      0.94      2304\n",
            "\n"
          ]
        }
      ]
    },
    {
      "cell_type": "code",
      "source": [
        "pred12=model3.predict(testing_padded12)\n",
        "rounded_labels312=np.argmax(pred12, axis=1).astype(int)\n",
        "cm12 = confusion_matrix(testing_labels12, rounded_labels312)\n",
        "print(cm12)\n",
        "print(classification_report(testing_labels12, rounded_labels312, labels=[0,1,2]))"
      ],
      "metadata": {
        "id": "MfclteTGK-_x",
        "colab": {
          "base_uri": "https://localhost:8080/"
        },
        "outputId": "98ee53a9-b554-4fa1-92ff-442d4223b737"
      },
      "execution_count": null,
      "outputs": [
        {
          "output_type": "stream",
          "name": "stdout",
          "text": [
            "[[505  37  45]\n",
            " [ 56 184  13]\n",
            " [ 94 131 227]]\n",
            "              precision    recall  f1-score   support\n",
            "\n",
            "           0       0.77      0.86      0.81       587\n",
            "           1       0.52      0.73      0.61       253\n",
            "           2       0.80      0.50      0.62       452\n",
            "\n",
            "    accuracy                           0.71      1292\n",
            "   macro avg       0.70      0.70      0.68      1292\n",
            "weighted avg       0.73      0.71      0.70      1292\n",
            "\n"
          ]
        }
      ]
    },
    {
      "cell_type": "code",
      "source": [
        "pred34=model3.predict(testing_padded34)\n",
        "rounded_labels334=np.argmax(pred34, axis=1).astype(int)\n",
        "cm34 = confusion_matrix(testing_labels34, rounded_labels334)\n",
        "print(cm34)\n",
        "print(classification_report(testing_labels34, rounded_labels334, labels=[0,1,2]))"
      ],
      "metadata": {
        "id": "zYydjCkILMG-",
        "colab": {
          "base_uri": "https://localhost:8080/"
        },
        "outputId": "a6848571-4291-4e4b-f17a-4711dbbffdbb"
      },
      "execution_count": null,
      "outputs": [
        {
          "output_type": "stream",
          "name": "stdout",
          "text": [
            "[[ 450    0   76]\n",
            " [   1    5    1]\n",
            " [  26    4 1277]]\n",
            "              precision    recall  f1-score   support\n",
            "\n",
            "           0       0.94      0.86      0.90       526\n",
            "           1       0.56      0.71      0.63         7\n",
            "           2       0.94      0.98      0.96      1307\n",
            "\n",
            "    accuracy                           0.94      1840\n",
            "   macro avg       0.81      0.85      0.83      1840\n",
            "weighted avg       0.94      0.94      0.94      1840\n",
            "\n"
          ]
        }
      ]
    },
    {
      "cell_type": "code",
      "source": [
        "import matplotlib.pyplot as plt\n",
        "import numpy\n",
        "# summarize history for accuracy\n",
        "plt.plot(history.history['loss'])\n",
        "plt.plot(history.history['val_loss'])\n",
        "plt.title('model loss')\n",
        "plt.ylabel('loss')\n",
        "plt.xlabel('epoch')\n",
        "plt.legend(['train', 'test'], loc='upper left')\n",
        "plt.show()\n",
        "# summarize history for loss\n",
        "plt.plot(history.history['accuracy'])\n",
        "plt.plot(history.history['val_accuracy'])\n",
        "plt.title('model accuracy')\n",
        "plt.ylabel('accuracy')\n",
        "plt.xlabel('epoch')\n",
        "plt.legend(['train', 'test'], loc='upper left')\n",
        "plt.show()"
      ],
      "metadata": {
        "colab": {
          "base_uri": "https://localhost:8080/",
          "height": 573
        },
        "id": "ddbAtRKXatG3",
        "outputId": "618ade2f-4d4e-4286-da18-8b3a5c702732"
      },
      "execution_count": null,
      "outputs": [
        {
          "output_type": "display_data",
          "data": {
            "text/plain": [
              "<Figure size 432x288 with 1 Axes>"
            ],
            "image/png": "[encoded data removed]"
          },
          "metadata": {
            "needs_background": "light"
          }
        },
        {
          "output_type": "display_data",
          "data": {
            "text/plain": [
              "<Figure size 432x288 with 1 Axes>"
            ],
            "image/png": "[encoded data removed]"
          },
          "metadata": {
            "needs_background": "light"
          }
        }
      ]
    },
    {
      "cell_type": "markdown",
      "source": [
        "##Conclusion\n",
        "###The accuracy for the three models is 88%, 87% and 87%. The complexity varies between them too. The first model has 937 891 trainale parameters which makes it the most complex amongs the three of them with the second having 618 083 trainable parameters and the third having 618 739 trainable parameters.\n"
      ],
      "metadata": {
        "id": "__2IcBnQa-4Y"
      }
    },
    {
      "cell_type": "markdown",
      "source": [
        "#Terms\n",
        "##BURT: is a transformar model\n",
        "##Sentiment Classification: A prabability distrubution over two classes\n",
        "##Text Encoding: How to encode the texts into a numerical presentation that we can be handled by the machine learning model\n",
        "##Transformers: The State-Of-The-Art architecture for language modeling\n",
        "#Word2vec: 2013, The Model that introduced distributed representations for language modeling"
      ],
      "metadata": {
        "id": "5SNCH0-6Eq4I"
      }
    }
  ]
}