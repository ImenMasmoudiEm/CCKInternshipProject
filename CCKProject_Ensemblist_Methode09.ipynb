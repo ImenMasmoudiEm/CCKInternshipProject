{
  "nbformat": 4,
  "nbformat_minor": 0,
  "metadata": {
    "colab": {
      "provenance": [],
      "collapsed_sections": [],
      "authorship_tag": "ABX9TyNgIf8k2Vzw/LXISCoqILiD",
      "include_colab_link": true
    },
    "kernelspec": {
      "name": "python3",
      "display_name": "Python 3"
    },
    "language_info": {
      "name": "python"
    },
    "accelerator": "GPU",
    "gpuClass": "standard"
  },
  "cells": [
    {
      "cell_type": "markdown",
      "metadata": {
        "id": "view-in-github",
        "colab_type": "text"
      },
      "source": [
        "<a href=\"https://colab.research.google.com/github/ImenMasmoudiEm/CCKInternshipProject/blob/main/CCKProject_Ensemblist_Methode09.ipynb\" target=\"_parent\"><img src=\"https://colab.research.google.com/assets/colab-badge.svg\" alt=\"Open In Colab\"/></a>"
      ]
    },
    {
      "cell_type": "code",
      "execution_count": 1,
      "metadata": {
        "id": "eGu-CKtm0mh3",
        "colab": {
          "base_uri": "https://localhost:8080/"
        },
        "outputId": "1724e94e-dc34-4762-9c32-c3a4a0c196a6"
      },
      "outputs": [
        {
          "output_type": "stream",
          "name": "stdout",
          "text": [
            "Mounted at /content/drive\n"
          ]
        }
      ],
      "source": [
        "from google.colab import drive\n",
        "drive.mount('/content/drive')"
      ]
    },
    {
      "cell_type": "code",
      "source": [
        "import os \n",
        "import pandas as pd\n",
        "\n",
        "os.chdir('/content/drive/MyDrive/All/Projects/Ing Internship/Data')\n",
        "data=pd.read_excel(\"/content/drive/MyDrive/All/Projects/Ing Internship/Data/final-dataset.xlsx\")\n",
        "data['classe']=data['classe'].replace(\"hate\", int(2))\n",
        "data['classe']=data['classe'].replace(\"normal\", int(0)) \n",
        "data['classe']=data['classe'].replace(\"abusive\", int(1))"
      ],
      "metadata": {
        "id": "BZi4L6aE1NlZ"
      },
      "execution_count": 13,
      "outputs": []
    },
    {
      "cell_type": "code",
      "source": [
        "from tensorflow.keras.preprocessing.text import Tokenizer\n",
        "from tensorflow.keras.preprocessing.sequence import pad_sequences\n",
        "import numpy as np\n",
        "\n",
        "sentences = data['commentaire']\n",
        "labels = data['classe']\n",
        "\n",
        "labels = [int(i) for i in labels]\n",
        "\n",
        "def count_words(input):\n",
        "  return len(input.split())\n",
        "max_length=count_words(max(sentences,key=count_words))\n",
        "max_length"
      ],
      "metadata": {
        "id": "KEtxjGnn1gOr",
        "colab": {
          "base_uri": "https://localhost:8080/"
        },
        "outputId": "1fc6cdee-81d9-4b20-cd40-d1a4b2cf52a9"
      },
      "execution_count": 14,
      "outputs": [
        {
          "output_type": "execute_result",
          "data": {
            "text/plain": [
              "388"
            ]
          },
          "metadata": {},
          "execution_count": 14
        }
      ]
    },
    {
      "cell_type": "code",
      "source": [
        "data12=pd.read_excel(\"/content/drive/MyDrive/All/Projects/Ing Internship/Data/dataset1and2.xlsx\")\n",
        "data34=pd.read_excel(\"/content/drive/MyDrive/All/Projects/Ing Internship/Data/dataset3and4.xlsx\")\n",
        "data5=pd.read_excel(\"/content/drive/MyDrive/All/Projects/Ing Internship/Data/D5.xlsx\")\n",
        "\n",
        "data12['classe']=data12['classe'].replace(\"hate\", int(2))\n",
        "data12['classe']=data12['classe'].replace(\"normal\", int(0)) \n",
        "data12['classe']=data12['classe'].replace(\"abusive\", int(1))\n",
        "\n",
        "data34['classe']=data34['classe'].replace(\"hate\", int(2))\n",
        "data34['classe']=data34['classe'].replace(\"normal\", int(0)) \n",
        "data34['classe']=data34['classe'].replace(\"abusive\", int(1))\n",
        "\n",
        "\n",
        "data5['classe']=data5['classe'].replace(\"hate\", int(2))\n",
        "data5['classe']=data5['classe'].replace(\"normal\", int(0)) \n",
        "data5['classe']=data5['classe'].replace(\"abusive\", int(1))\n",
        "\n",
        "\n",
        "C1=data12[\"commentaire\"]\n",
        "C2=data34[\"commentaire\"]\n",
        "C3=data5[\"commentaire\"]\n",
        "L1=data12[\"classe\"]\n",
        "L2=data34[\"classe\"]\n",
        "L3=data5[\"classe\"]\n",
        "\n",
        "\n",
        "data12=[[i,j] for i,j in zip(C1 , L1)]\n",
        "data34=[[i,j] for i,j in zip(C2 , L2)]\n",
        "data5=[[i,j] for i,j in zip(C3 , L3)]\n",
        "\n",
        "data12=pd.DataFrame(data12,columns=[\"sentences\",\"classe\"])\n",
        "data34=pd.DataFrame(data34,columns=[\"sentences\",\"classe\"])\n",
        "data5=pd.DataFrame(data5,columns=[\"sentences\",\"classe\"])\n",
        "data5[\"sentences\"]=data5[\"sentences\"].str.replace(\"_\",\" \")"
      ],
      "metadata": {
        "id": "P3-FuA1k1uG7"
      },
      "execution_count": 15,
      "outputs": []
    },
    {
      "cell_type": "code",
      "source": [
        "training_size=int(len(sentences)*0.9)   #Experimenting setup\n",
        "\n",
        "training_sentences = sentences[0:training_size]\n",
        "testing_sentences = sentences[training_size:]\n",
        "training_labels = labels[0:training_size]\n",
        "testing_labels = labels[training_size:]\n",
        "\n",
        "embedding_dim = 16\n",
        "\n",
        "tokenizer = Tokenizer(num_words=3000, oov_token=\"<OOV>\")\n",
        "tokenizer.fit_on_texts(training_sentences)\n",
        "\n",
        "vocab_size = len(tokenizer.word_index) + 1 \n",
        "\n",
        "word_index = tokenizer.word_index\n",
        "\n",
        "training_sequences = tokenizer.texts_to_sequences(training_sentences)\n",
        "training_padded = pad_sequences(training_sequences, maxlen=max_length, padding='post', truncating='post')\n",
        "\n",
        "testing_sequences = tokenizer.texts_to_sequences(testing_sentences)\n",
        "testing_padded = pad_sequences(testing_sequences, maxlen=max_length, padding='post', truncating='post')"
      ],
      "metadata": {
        "id": "N3re3K0q11cA"
      },
      "execution_count": 16,
      "outputs": []
    },
    {
      "cell_type": "code",
      "source": [
        "Nsentences12=data12[\"sentences\"]\n",
        "Nlabels12=data12[\"classe\"]\n",
        "\n",
        "training_size12=int(len(Nsentences12)*0.8)\n",
        "\n",
        "testing_sentences12 = Nsentences12[training_size12:]\n",
        "testing_labels12 = Nlabels12[training_size12:]\n",
        "\n",
        "##########\n",
        "\n",
        "Nsentences34=data34[\"sentences\"]\n",
        "Nlabels34=data34[\"classe\"]\n",
        "\n",
        "training_size34=int(len(Nsentences34)*0.8)\n",
        "\n",
        "testing_sentences34 = Nsentences34[training_size34:]\n",
        "testing_labels34 = Nlabels34[training_size34:]\n",
        "\n",
        "##########\n",
        "\n",
        "Nsentences5=data5[\"sentences\"]\n",
        "Nlabels5=data5[\"classe\"]\n",
        "\n",
        "training_size5=int(len(Nsentences5)*0.8)\n",
        "\n",
        "testing_sentences5 = Nsentences34[training_size5:]\n",
        "testing_labels5 = Nlabels34[training_size5:]\n",
        "\n",
        "####################\n",
        "\n",
        "testing_sequences12 = tokenizer.texts_to_sequences(testing_sentences12)\n",
        "testing_padded12 = pad_sequences(testing_sequences12, maxlen=max_length, padding='post', truncating='post')\n",
        "\n",
        "###########\n",
        "\n",
        "testing_sequences34 = tokenizer.texts_to_sequences(testing_sentences34)\n",
        "testing_padded34 = pad_sequences(testing_sequences34, maxlen=max_length, padding='post', truncating='post')\n",
        "\n",
        "###########\n",
        "\n",
        "testing_sequences5 = tokenizer.texts_to_sequences(testing_sentences5)\n",
        "testing_padded5 = pad_sequences(testing_sequences5, maxlen=max_length, padding='post', truncating='post')"
      ],
      "metadata": {
        "id": "iibkoyk733f5"
      },
      "execution_count": 17,
      "outputs": []
    },
    {
      "cell_type": "markdown",
      "source": [
        "#ECOC Algorithm: Classification multi-classes"
      ],
      "metadata": {
        "id": "rMG43cmjmmTK"
      }
    },
    {
      "cell_type": "markdown",
      "source": [
        "##First Decomposition: A=0+1 , B=2\n",
        "##Second Decomposition: A=0+2 , B=1\n",
        "##Third Decomposition: A=1+2 , B=0\n",
        "##A-->1 , B-->0"
      ],
      "metadata": {
        "id": "5a4wf7rTpi-i"
      }
    },
    {
      "cell_type": "code",
      "source": [
        "training_padded1 = np.asarray(training_padded).astype(np.int)\n",
        "training_labels1 = np.asarray(training_labels).astype(np.int)\n",
        "testing_padded1 = np.asarray(testing_padded).astype(np.int)\n",
        "testing_labels1 = np.asarray(testing_labels).astype(np.int)\n",
        "\n",
        "training_labels1 = np.expand_dims(training_labels, axis=1)\n",
        "testing_labels1 = np.expand_dims(testing_labels, axis=1)\n",
        "\n",
        "\n",
        "for i in range(len(training_labels1)):\n",
        "  if training_labels1[i]==0:\n",
        "    training_labels1[i]=1\n",
        "  elif training_labels1[i]==2:\n",
        "    training_labels1[i]=0\n",
        "\n",
        "for i in range(len(testing_labels1)):\n",
        "  if testing_labels1[i]==0:\n",
        "    testing_labels1[i]=1\n",
        "  elif testing_labels1[i]==2:\n",
        "    testing_labels1[i]=0\n",
        " \n",
        "#**********\n",
        "\n",
        "training_padded2 = training_padded1 \n",
        "training_labels2 = np.asarray(training_labels).astype(np.int)\n",
        "testing_padded2 = testing_padded1\n",
        "testing_labels2 = np.asarray(testing_labels).astype(np.int)\n",
        "\n",
        "training_labels2 = np.expand_dims(training_labels, axis=1)\n",
        "testing_labels2 = np.expand_dims(testing_labels, axis=1)\n",
        "\n",
        "\n",
        "for i in range(len(training_labels2)):\n",
        "  if training_labels2[i]==1:\n",
        "    training_labels2[i]=0\n",
        "  else:\n",
        "    training_labels2[i]=1\n",
        "\n",
        "\n",
        "for i in range(len(testing_labels2)):\n",
        "  if testing_labels2[i]==1:\n",
        "    testing_labels2[i]=0\n",
        "  else:\n",
        "    testing_labels2[i]=1\n",
        "\n",
        "#**********\n",
        "\n",
        "training_padded3 = training_padded1 \n",
        "training_labels3 = np.asarray(training_labels).astype(np.int)\n",
        "testing_padded3 = testing_padded1\n",
        "testing_labels3 = np.asarray(testing_labels).astype(np.int)\n",
        "\n",
        "training_labels3 = np.expand_dims(training_labels, axis=1)\n",
        "testing_labels3 = np.expand_dims(testing_labels, axis=1)\n",
        "\n",
        "\n",
        "for i in range(len(training_labels3)):\n",
        "  if training_labels3[i]==2:\n",
        "    training_labels3[i]=1\n",
        "\n",
        "for i in range(len(testing_labels3)):\n",
        "  if testing_labels3[i]==2:\n",
        "    testing_labels3[i]=1"
      ],
      "metadata": {
        "colab": {
          "base_uri": "https://localhost:8080/"
        },
        "id": "CNqvL7lJpdE2",
        "outputId": "722d9f35-c5be-4d34-945a-a757e84e3e4b"
      },
      "execution_count": 18,
      "outputs": [
        {
          "output_type": "stream",
          "name": "stderr",
          "text": [
            "/usr/local/lib/python3.7/dist-packages/ipykernel_launcher.py:1: DeprecationWarning: `np.int` is a deprecated alias for the builtin `int`. To silence this warning, use `int` by itself. Doing this will not modify any behavior and is safe. When replacing `np.int`, you may wish to use e.g. `np.int64` or `np.int32` to specify the precision. If you wish to review your current use, check the release note link for additional information.\n",
            "Deprecated in NumPy 1.20; for more details and guidance: https://numpy.org/devdocs/release/1.20.0-notes.html#deprecations\n",
            "  \"\"\"Entry point for launching an IPython kernel.\n",
            "/usr/local/lib/python3.7/dist-packages/ipykernel_launcher.py:2: DeprecationWarning: `np.int` is a deprecated alias for the builtin `int`. To silence this warning, use `int` by itself. Doing this will not modify any behavior and is safe. When replacing `np.int`, you may wish to use e.g. `np.int64` or `np.int32` to specify the precision. If you wish to review your current use, check the release note link for additional information.\n",
            "Deprecated in NumPy 1.20; for more details and guidance: https://numpy.org/devdocs/release/1.20.0-notes.html#deprecations\n",
            "  \n",
            "/usr/local/lib/python3.7/dist-packages/ipykernel_launcher.py:3: DeprecationWarning: `np.int` is a deprecated alias for the builtin `int`. To silence this warning, use `int` by itself. Doing this will not modify any behavior and is safe. When replacing `np.int`, you may wish to use e.g. `np.int64` or `np.int32` to specify the precision. If you wish to review your current use, check the release note link for additional information.\n",
            "Deprecated in NumPy 1.20; for more details and guidance: https://numpy.org/devdocs/release/1.20.0-notes.html#deprecations\n",
            "  This is separate from the ipykernel package so we can avoid doing imports until\n",
            "/usr/local/lib/python3.7/dist-packages/ipykernel_launcher.py:4: DeprecationWarning: `np.int` is a deprecated alias for the builtin `int`. To silence this warning, use `int` by itself. Doing this will not modify any behavior and is safe. When replacing `np.int`, you may wish to use e.g. `np.int64` or `np.int32` to specify the precision. If you wish to review your current use, check the release note link for additional information.\n",
            "Deprecated in NumPy 1.20; for more details and guidance: https://numpy.org/devdocs/release/1.20.0-notes.html#deprecations\n",
            "  after removing the cwd from sys.path.\n",
            "/usr/local/lib/python3.7/dist-packages/ipykernel_launcher.py:25: DeprecationWarning: `np.int` is a deprecated alias for the builtin `int`. To silence this warning, use `int` by itself. Doing this will not modify any behavior and is safe. When replacing `np.int`, you may wish to use e.g. `np.int64` or `np.int32` to specify the precision. If you wish to review your current use, check the release note link for additional information.\n",
            "Deprecated in NumPy 1.20; for more details and guidance: https://numpy.org/devdocs/release/1.20.0-notes.html#deprecations\n",
            "/usr/local/lib/python3.7/dist-packages/ipykernel_launcher.py:27: DeprecationWarning: `np.int` is a deprecated alias for the builtin `int`. To silence this warning, use `int` by itself. Doing this will not modify any behavior and is safe. When replacing `np.int`, you may wish to use e.g. `np.int64` or `np.int32` to specify the precision. If you wish to review your current use, check the release note link for additional information.\n",
            "Deprecated in NumPy 1.20; for more details and guidance: https://numpy.org/devdocs/release/1.20.0-notes.html#deprecations\n",
            "/usr/local/lib/python3.7/dist-packages/ipykernel_launcher.py:49: DeprecationWarning: `np.int` is a deprecated alias for the builtin `int`. To silence this warning, use `int` by itself. Doing this will not modify any behavior and is safe. When replacing `np.int`, you may wish to use e.g. `np.int64` or `np.int32` to specify the precision. If you wish to review your current use, check the release note link for additional information.\n",
            "Deprecated in NumPy 1.20; for more details and guidance: https://numpy.org/devdocs/release/1.20.0-notes.html#deprecations\n",
            "/usr/local/lib/python3.7/dist-packages/ipykernel_launcher.py:51: DeprecationWarning: `np.int` is a deprecated alias for the builtin `int`. To silence this warning, use `int` by itself. Doing this will not modify any behavior and is safe. When replacing `np.int`, you may wish to use e.g. `np.int64` or `np.int32` to specify the precision. If you wish to review your current use, check the release note link for additional information.\n",
            "Deprecated in NumPy 1.20; for more details and guidance: https://numpy.org/devdocs/release/1.20.0-notes.html#deprecations\n"
          ]
        }
      ]
    },
    {
      "cell_type": "code",
      "source": [
        "training_labels1Y=training_labels1.reshape(20729)\n",
        "training_labels2Y=training_labels2.reshape(20729)\n",
        "training_labels3Y=training_labels3.reshape(20729)"
      ],
      "metadata": {
        "id": "aGEU0giwztF8"
      },
      "execution_count": 20,
      "outputs": []
    },
    {
      "cell_type": "code",
      "source": [
        "import pandas as pd\n",
        "\n",
        "data1=[[i,j] for i,j in zip(training_padded1  , training_labels1Y)]\n",
        "data2=[[i,j] for i,j in zip(training_padded1  , training_labels2Y)]\n",
        "data3=[[i,j] for i,j in zip(training_padded1  , training_labels3Y)]\n",
        "\n",
        "data1=pd.DataFrame(data1,columns=[\"sentences\",\"classe\"])\n",
        "data2=pd.DataFrame(data2,columns=[\"sentences\",\"classe\"])\n",
        "data3=pd.DataFrame(data3,columns=[\"sentences\",\"classe\"])"
      ],
      "metadata": {
        "id": "tGYX6NRcyMqk"
      },
      "execution_count": 22,
      "outputs": []
    },
    {
      "cell_type": "code",
      "source": [
        "import matplotlib.pyplot as plt\n",
        "import seaborn as sns\n",
        "plt.figure(1 , figsize = (15 , 5))\n",
        "sns.countplot(y = 'classe' , data = data1)\n",
        "plt.show()\n",
        "print(data1.loc[data1.classe==0].groupby('classe')[\"classe\"].count())\n",
        "print(data1.loc[data1.classe==1].groupby('classe')[\"classe\"].count())"
      ],
      "metadata": {
        "id": "GqrN0VQbze2L",
        "outputId": "0f2dec2f-6ea2-4a9e-d432-33ee2a53ad75",
        "colab": {
          "base_uri": "https://localhost:8080/",
          "height": 438
        }
      },
      "execution_count": 23,
      "outputs": [
        {
          "output_type": "display_data",
          "data": {
            "text/plain": [
              "<Figure size 1080x360 with 1 Axes>"
            ],
            "image/png": "[encoded data removed]"
          },
          "metadata": {
            "needs_background": "light"
          }
        },
        {
          "output_type": "stream",
          "name": "stdout",
          "text": [
            "classe\n",
            "0    6205\n",
            "Name: classe, dtype: int64\n",
            "classe\n",
            "1    14524\n",
            "Name: classe, dtype: int64\n"
          ]
        }
      ]
    },
    {
      "cell_type": "code",
      "source": [
        "plt.figure(1 , figsize = (15 , 5))\n",
        "sns.countplot(y = 'classe' , data = data2)\n",
        "plt.show()\n",
        "print(data2.loc[data2.classe==0].groupby('classe')[\"classe\"].count())\n",
        "print(data2.loc[data2.classe==1].groupby('classe')[\"classe\"].count())"
      ],
      "metadata": {
        "id": "KKzaOl4Nzvfz",
        "outputId": "65e3e57e-5c76-40b8-b528-6cfb655b5821",
        "colab": {
          "base_uri": "https://localhost:8080/",
          "height": 438
        }
      },
      "execution_count": 24,
      "outputs": [
        {
          "output_type": "display_data",
          "data": {
            "text/plain": [
              "<Figure size 1080x360 with 1 Axes>"
            ],
            "image/png": "[encoded data removed]"
          },
          "metadata": {
            "needs_background": "light"
          }
        },
        {
          "output_type": "stream",
          "name": "stdout",
          "text": [
            "classe\n",
            "0    3436\n",
            "Name: classe, dtype: int64\n",
            "classe\n",
            "1    17293\n",
            "Name: classe, dtype: int64\n"
          ]
        }
      ]
    },
    {
      "cell_type": "code",
      "source": [
        "plt.figure(1 , figsize = (15 , 5))\n",
        "sns.countplot(y = 'classe' , data = data3)\n",
        "plt.show()\n",
        "print(data3.loc[data3.classe==0].groupby('classe')[\"classe\"].count())\n",
        "print(data3.loc[data3.classe==1].groupby('classe')[\"classe\"].count())"
      ],
      "metadata": {
        "id": "p54ZQycbz1BF",
        "outputId": "b4841972-7962-412b-9899-6ea6b20c72d9",
        "colab": {
          "base_uri": "https://localhost:8080/",
          "height": 438
        }
      },
      "execution_count": 25,
      "outputs": [
        {
          "output_type": "display_data",
          "data": {
            "text/plain": [
              "<Figure size 1080x360 with 1 Axes>"
            ],
            "image/png": "[encoded data removed]"
          },
          "metadata": {
            "needs_background": "light"
          }
        },
        {
          "output_type": "stream",
          "name": "stdout",
          "text": [
            "classe\n",
            "0    11088\n",
            "Name: classe, dtype: int64\n",
            "classe\n",
            "1    9641\n",
            "Name: classe, dtype: int64\n"
          ]
        }
      ]
    },
    {
      "cell_type": "code",
      "source": [
        "import tensorflow as tf\n",
        "\n",
        "model1=tf.keras.models.Sequential ([\n",
        "                                   tf.keras.layers.Embedding(vocab_size, embedding_dim, input_length=max_length),\n",
        "                                   tf.keras.layers.Conv1D(128, 5, activation='relu'),\n",
        "                                   tf.keras.layers.Conv1D(filters=32, kernel_size=1, activation='selu'),\n",
        "                                   tf.keras.layers.Bidirectional(tf.keras.layers.LSTM(32,return_sequences=True)),\n",
        "                                   tf.keras.layers.Bidirectional(tf.keras.layers.LSTM(32,return_sequences=True)),\n",
        "                                   tf.keras.layers.Bidirectional(tf.keras.layers.LSTM(16,return_sequences=True)),\n",
        "                                   tf.keras.layers.Flatten(),\n",
        "                                   tf.keras.layers.Dense(units=24,activation='relu'),\n",
        "                                   tf.keras.layers.Dense(units=1, activation='sigmoid')])\n",
        "\n",
        "model2=tf.keras.models.Sequential ([\n",
        "                                   tf.keras.layers.Embedding(vocab_size, embedding_dim, input_length=max_length),\n",
        "                                   tf.keras.layers.Conv1D(128, 5, activation='relu'),\n",
        "                                   tf.keras.layers.Conv1D(filters=32, kernel_size=1, activation='selu'),\n",
        "                                   tf.keras.layers.Bidirectional(tf.keras.layers.LSTM(32,return_sequences=True)),\n",
        "                                   tf.keras.layers.Bidirectional(tf.keras.layers.LSTM(32,return_sequences=True)),\n",
        "                                   tf.keras.layers.Bidirectional(tf.keras.layers.LSTM(16,return_sequences=True)),\n",
        "                                   tf.keras.layers.Flatten(),\n",
        "                                   tf.keras.layers.Dense(units=24,activation='relu'),\n",
        "                                   tf.keras.layers.Dense(units=1, activation='sigmoid')])\n",
        "\n",
        "model3=tf.keras.models.Sequential ([\n",
        "                                   tf.keras.layers.Embedding(vocab_size, embedding_dim, input_length=max_length),\n",
        "                                   tf.keras.layers.Conv1D(128, 5, activation='relu'),\n",
        "                                   tf.keras.layers.Conv1D(filters=32, kernel_size=1, activation='selu'),\n",
        "                                   tf.keras.layers.Bidirectional(tf.keras.layers.LSTM(32,return_sequences=True)),\n",
        "                                   tf.keras.layers.Bidirectional(tf.keras.layers.LSTM(32,return_sequences=True)),\n",
        "                                   tf.keras.layers.Bidirectional(tf.keras.layers.LSTM(16,return_sequences=True)),\n",
        "                                   tf.keras.layers.Flatten(),\n",
        "                                   tf.keras.layers.Dense(units=24,activation='relu'),\n",
        "                                   tf.keras.layers.Dense(units=1, activation='sigmoid')])\n",
        "\n",
        "model1.summary()"
      ],
      "metadata": {
        "colab": {
          "base_uri": "https://localhost:8080/"
        },
        "id": "6doHB9-omN9b",
        "outputId": "e23cd04e-05b6-431d-8355-961577d362b1"
      },
      "execution_count": 26,
      "outputs": [
        {
          "output_type": "stream",
          "name": "stdout",
          "text": [
            "Model: \"sequential_3\"\n",
            "_________________________________________________________________\n",
            " Layer (type)                Output Shape              Param #   \n",
            "=================================================================\n",
            " embedding_3 (Embedding)     (None, 388, 16)           845584    \n",
            "                                                                 \n",
            " conv1d_6 (Conv1D)           (None, 384, 128)          10368     \n",
            "                                                                 \n",
            " conv1d_7 (Conv1D)           (None, 384, 32)           4128      \n",
            "                                                                 \n",
            " bidirectional_9 (Bidirectio  (None, 384, 64)          16640     \n",
            " nal)                                                            \n",
            "                                                                 \n",
            " bidirectional_10 (Bidirecti  (None, 384, 64)          24832     \n",
            " onal)                                                           \n",
            "                                                                 \n",
            " bidirectional_11 (Bidirecti  (None, 384, 32)          10368     \n",
            " onal)                                                           \n",
            "                                                                 \n",
            " flatten_3 (Flatten)         (None, 12288)             0         \n",
            "                                                                 \n",
            " dense_6 (Dense)             (None, 24)                294936    \n",
            "                                                                 \n",
            " dense_7 (Dense)             (None, 1)                 25        \n",
            "                                                                 \n",
            "=================================================================\n",
            "Total params: 1,206,881\n",
            "Trainable params: 1,206,881\n",
            "Non-trainable params: 0\n",
            "_________________________________________________________________\n"
          ]
        }
      ]
    },
    {
      "cell_type": "code",
      "source": [
        "model1.compile(loss=\"binary_crossentropy\",optimizer='adam',metrics=['accuracy'],run_eagerly=True)\n",
        "history1 = model1.fit(training_padded1, training_labels1, batch_size=128, epochs=35, validation_data=(testing_padded1, testing_labels1), verbose=1)\n",
        "\n",
        "model2.compile(loss=\"binary_crossentropy\",optimizer='adam',metrics=['accuracy'],run_eagerly=True)\n",
        "history2 = model2.fit(training_padded2, training_labels2, batch_size=128, epochs=35, validation_data=(testing_padded2, testing_labels2), verbose=1)\n",
        "\n",
        "model3.compile(loss=\"binary_crossentropy\",optimizer='adam',metrics=['accuracy'],run_eagerly=True)\n",
        "history3 = model3.fit(training_padded3, training_labels3, batch_size=128, epochs=35, validation_data=(testing_padded3, testing_labels3), verbose=1)"
      ],
      "metadata": {
        "colab": {
          "base_uri": "https://localhost:8080/"
        },
        "id": "p7Q5vrb5nOSU",
        "outputId": "f423887c-2ecb-417d-95a7-c76aadb44324"
      },
      "execution_count": 27,
      "outputs": [
        {
          "output_type": "stream",
          "name": "stdout",
          "text": [
            "Epoch 1/35\n",
            "162/162 [==============================] - 45s 199ms/step - loss: 0.5684 - accuracy: 0.7195 - val_loss: 0.4476 - val_accuracy: 0.7934\n",
            "Epoch 2/35\n",
            "162/162 [==============================] - 21s 131ms/step - loss: 0.4204 - accuracy: 0.8171 - val_loss: 0.3665 - val_accuracy: 0.8542\n",
            "Epoch 3/35\n",
            "162/162 [==============================] - 24s 147ms/step - loss: 0.3787 - accuracy: 0.8397 - val_loss: 0.3308 - val_accuracy: 0.8655\n",
            "Epoch 4/35\n",
            "162/162 [==============================] - 25s 156ms/step - loss: 0.3481 - accuracy: 0.8580 - val_loss: 0.2972 - val_accuracy: 0.8898\n",
            "Epoch 5/35\n",
            "162/162 [==============================] - 23s 141ms/step - loss: 0.3150 - accuracy: 0.8711 - val_loss: 0.2678 - val_accuracy: 0.9049\n",
            "Epoch 6/35\n",
            "162/162 [==============================] - 23s 140ms/step - loss: 0.2767 - accuracy: 0.8904 - val_loss: 0.2112 - val_accuracy: 0.9167\n",
            "Epoch 7/35\n",
            "162/162 [==============================] - 21s 129ms/step - loss: 0.2441 - accuracy: 0.9061 - val_loss: 0.1862 - val_accuracy: 0.9297\n",
            "Epoch 8/35\n",
            "162/162 [==============================] - 21s 132ms/step - loss: 0.2121 - accuracy: 0.9199 - val_loss: 0.1617 - val_accuracy: 0.9440\n",
            "Epoch 9/35\n",
            "162/162 [==============================] - 21s 130ms/step - loss: 0.1917 - accuracy: 0.9289 - val_loss: 0.1486 - val_accuracy: 0.9475\n",
            "Epoch 10/35\n",
            "162/162 [==============================] - 21s 130ms/step - loss: 0.1694 - accuracy: 0.9384 - val_loss: 0.1318 - val_accuracy: 0.9553\n",
            "Epoch 11/35\n",
            "162/162 [==============================] - 23s 140ms/step - loss: 0.1568 - accuracy: 0.9432 - val_loss: 0.1183 - val_accuracy: 0.9583\n",
            "Epoch 12/35\n",
            "162/162 [==============================] - 21s 132ms/step - loss: 0.1515 - accuracy: 0.9462 - val_loss: 0.1308 - val_accuracy: 0.9527\n",
            "Epoch 13/35\n",
            "162/162 [==============================] - 21s 131ms/step - loss: 0.1414 - accuracy: 0.9492 - val_loss: 0.1019 - val_accuracy: 0.9622\n",
            "Epoch 14/35\n",
            "162/162 [==============================] - 22s 136ms/step - loss: 0.1315 - accuracy: 0.9522 - val_loss: 0.1001 - val_accuracy: 0.9640\n",
            "Epoch 15/35\n",
            "162/162 [==============================] - 21s 129ms/step - loss: 0.1232 - accuracy: 0.9548 - val_loss: 0.1006 - val_accuracy: 0.9635\n",
            "Epoch 16/35\n",
            "162/162 [==============================] - 21s 131ms/step - loss: 0.1162 - accuracy: 0.9570 - val_loss: 0.0928 - val_accuracy: 0.9661\n",
            "Epoch 17/35\n",
            "162/162 [==============================] - 21s 132ms/step - loss: 0.1080 - accuracy: 0.9590 - val_loss: 0.1001 - val_accuracy: 0.9618\n",
            "Epoch 18/35\n",
            "162/162 [==============================] - 21s 129ms/step - loss: 0.1061 - accuracy: 0.9591 - val_loss: 0.0929 - val_accuracy: 0.9644\n",
            "Epoch 19/35\n",
            "162/162 [==============================] - 21s 128ms/step - loss: 0.1006 - accuracy: 0.9606 - val_loss: 0.0769 - val_accuracy: 0.9688\n",
            "Epoch 20/35\n",
            "162/162 [==============================] - 21s 130ms/step - loss: 0.0923 - accuracy: 0.9614 - val_loss: 0.0756 - val_accuracy: 0.9657\n",
            "Epoch 21/35\n",
            "162/162 [==============================] - 22s 136ms/step - loss: 0.0893 - accuracy: 0.9630 - val_loss: 0.0781 - val_accuracy: 0.9696\n",
            "Epoch 22/35\n",
            "162/162 [==============================] - 21s 129ms/step - loss: 0.0868 - accuracy: 0.9622 - val_loss: 0.0728 - val_accuracy: 0.9679\n",
            "Epoch 23/35\n",
            "162/162 [==============================] - 22s 137ms/step - loss: 0.0849 - accuracy: 0.9640 - val_loss: 0.0775 - val_accuracy: 0.9622\n",
            "Epoch 24/35\n",
            "162/162 [==============================] - 21s 131ms/step - loss: 0.0812 - accuracy: 0.9636 - val_loss: 0.0718 - val_accuracy: 0.9670\n",
            "Epoch 25/35\n",
            "162/162 [==============================] - 21s 129ms/step - loss: 0.0819 - accuracy: 0.9634 - val_loss: 0.0770 - val_accuracy: 0.9601\n",
            "Epoch 26/35\n",
            "162/162 [==============================] - 21s 131ms/step - loss: 0.0794 - accuracy: 0.9645 - val_loss: 0.0808 - val_accuracy: 0.9605\n",
            "Epoch 27/35\n",
            "162/162 [==============================] - 21s 130ms/step - loss: 0.0799 - accuracy: 0.9630 - val_loss: 0.0670 - val_accuracy: 0.9683\n",
            "Epoch 28/35\n",
            "162/162 [==============================] - 21s 129ms/step - loss: 0.0715 - accuracy: 0.9655 - val_loss: 0.0672 - val_accuracy: 0.9657\n",
            "Epoch 29/35\n",
            "162/162 [==============================] - 21s 130ms/step - loss: 0.0720 - accuracy: 0.9672 - val_loss: 0.0724 - val_accuracy: 0.9562\n",
            "Epoch 30/35\n",
            "162/162 [==============================] - 22s 137ms/step - loss: 0.0662 - accuracy: 0.9671 - val_loss: 0.0631 - val_accuracy: 0.9596\n",
            "Epoch 31/35\n",
            "162/162 [==============================] - 21s 129ms/step - loss: 0.0729 - accuracy: 0.9645 - val_loss: 0.0628 - val_accuracy: 0.9622\n",
            "Epoch 32/35\n",
            "162/162 [==============================] - 22s 135ms/step - loss: 0.0714 - accuracy: 0.9657 - val_loss: 0.0696 - val_accuracy: 0.9614\n",
            "Epoch 33/35\n",
            "162/162 [==============================] - 21s 129ms/step - loss: 0.0654 - accuracy: 0.9662 - val_loss: 0.0693 - val_accuracy: 0.9605\n",
            "Epoch 34/35\n",
            "162/162 [==============================] - 21s 129ms/step - loss: 0.0687 - accuracy: 0.9667 - val_loss: 0.0628 - val_accuracy: 0.9635\n",
            "Epoch 35/35\n",
            "162/162 [==============================] - 21s 130ms/step - loss: 0.0629 - accuracy: 0.9675 - val_loss: 0.0645 - val_accuracy: 0.9588\n",
            "Epoch 1/35\n",
            "162/162 [==============================] - 21s 129ms/step - loss: 0.3831 - accuracy: 0.8513 - val_loss: 0.2380 - val_accuracy: 0.9076\n",
            "Epoch 2/35\n",
            "162/162 [==============================] - 21s 130ms/step - loss: 0.2379 - accuracy: 0.9140 - val_loss: 0.2008 - val_accuracy: 0.9336\n",
            "Epoch 3/35\n",
            "162/162 [==============================] - 22s 135ms/step - loss: 0.2055 - accuracy: 0.9263 - val_loss: 0.1705 - val_accuracy: 0.9384\n",
            "Epoch 4/35\n",
            "162/162 [==============================] - 21s 132ms/step - loss: 0.1809 - accuracy: 0.9315 - val_loss: 0.1459 - val_accuracy: 0.9453\n",
            "Epoch 5/35\n",
            "162/162 [==============================] - 23s 140ms/step - loss: 0.1553 - accuracy: 0.9412 - val_loss: 0.1293 - val_accuracy: 0.9484\n",
            "Epoch 6/35\n",
            "162/162 [==============================] - 21s 129ms/step - loss: 0.1361 - accuracy: 0.9487 - val_loss: 0.1208 - val_accuracy: 0.9592\n",
            "Epoch 7/35\n",
            "162/162 [==============================] - 21s 131ms/step - loss: 0.1192 - accuracy: 0.9546 - val_loss: 0.1033 - val_accuracy: 0.9644\n",
            "Epoch 8/35\n",
            "162/162 [==============================] - 21s 130ms/step - loss: 0.1092 - accuracy: 0.9589 - val_loss: 0.0944 - val_accuracy: 0.9683\n",
            "Epoch 9/35\n",
            "162/162 [==============================] - 21s 128ms/step - loss: 0.1000 - accuracy: 0.9628 - val_loss: 0.0951 - val_accuracy: 0.9661\n",
            "Epoch 10/35\n",
            "162/162 [==============================] - 21s 133ms/step - loss: 0.0941 - accuracy: 0.9641 - val_loss: 0.0810 - val_accuracy: 0.9683\n",
            "Epoch 11/35\n",
            "162/162 [==============================] - 21s 131ms/step - loss: 0.0884 - accuracy: 0.9669 - val_loss: 0.1031 - val_accuracy: 0.9635\n",
            "Epoch 12/35\n",
            "162/162 [==============================] - 21s 130ms/step - loss: 0.0833 - accuracy: 0.9693 - val_loss: 0.0789 - val_accuracy: 0.9692\n",
            "Epoch 13/35\n",
            "162/162 [==============================] - 22s 136ms/step - loss: 0.0804 - accuracy: 0.9707 - val_loss: 0.0804 - val_accuracy: 0.9692\n",
            "Epoch 14/35\n",
            "162/162 [==============================] - 21s 130ms/step - loss: 0.0737 - accuracy: 0.9718 - val_loss: 0.0687 - val_accuracy: 0.9718\n",
            "Epoch 15/35\n",
            "162/162 [==============================] - 22s 137ms/step - loss: 0.0722 - accuracy: 0.9731 - val_loss: 0.0754 - val_accuracy: 0.9718\n",
            "Epoch 16/35\n",
            "162/162 [==============================] - 21s 131ms/step - loss: 0.0677 - accuracy: 0.9739 - val_loss: 0.0620 - val_accuracy: 0.9735\n",
            "Epoch 17/35\n",
            "162/162 [==============================] - 21s 130ms/step - loss: 0.0662 - accuracy: 0.9743 - val_loss: 0.0584 - val_accuracy: 0.9766\n",
            "Epoch 18/35\n",
            "162/162 [==============================] - 21s 132ms/step - loss: 0.0632 - accuracy: 0.9747 - val_loss: 0.0668 - val_accuracy: 0.9722\n",
            "Epoch 19/35\n",
            "162/162 [==============================] - 21s 131ms/step - loss: 0.0618 - accuracy: 0.9747 - val_loss: 0.0562 - val_accuracy: 0.9757\n",
            "Epoch 20/35\n",
            "162/162 [==============================] - 21s 131ms/step - loss: 0.0569 - accuracy: 0.9757 - val_loss: 0.0523 - val_accuracy: 0.9779\n",
            "Epoch 21/35\n",
            "162/162 [==============================] - 21s 130ms/step - loss: 0.0547 - accuracy: 0.9768 - val_loss: 0.0574 - val_accuracy: 0.9744\n",
            "Epoch 22/35\n",
            "162/162 [==============================] - 22s 136ms/step - loss: 0.0536 - accuracy: 0.9773 - val_loss: 0.0514 - val_accuracy: 0.9731\n",
            "Epoch 23/35\n",
            "162/162 [==============================] - 21s 130ms/step - loss: 0.0543 - accuracy: 0.9764 - val_loss: 0.0510 - val_accuracy: 0.9744\n",
            "Epoch 24/35\n",
            "162/162 [==============================] - 22s 136ms/step - loss: 0.0517 - accuracy: 0.9767 - val_loss: 0.0488 - val_accuracy: 0.9766\n",
            "Epoch 25/35\n",
            "162/162 [==============================] - 21s 130ms/step - loss: 0.0506 - accuracy: 0.9769 - val_loss: 0.0469 - val_accuracy: 0.9805\n",
            "Epoch 26/35\n",
            "162/162 [==============================] - 21s 132ms/step - loss: 0.0465 - accuracy: 0.9782 - val_loss: 0.0489 - val_accuracy: 0.9770\n",
            "Epoch 27/35\n",
            "162/162 [==============================] - 21s 130ms/step - loss: 0.0481 - accuracy: 0.9775 - val_loss: 0.0526 - val_accuracy: 0.9735\n",
            "Epoch 28/35\n",
            "162/162 [==============================] - 21s 131ms/step - loss: 0.0477 - accuracy: 0.9777 - val_loss: 0.0477 - val_accuracy: 0.9779\n",
            "Epoch 29/35\n",
            "162/162 [==============================] - 21s 131ms/step - loss: 0.0509 - accuracy: 0.9768 - val_loss: 0.0534 - val_accuracy: 0.9722\n",
            "Epoch 30/35\n",
            "162/162 [==============================] - 21s 130ms/step - loss: 0.0506 - accuracy: 0.9774 - val_loss: 0.0463 - val_accuracy: 0.9783\n",
            "Epoch 31/35\n",
            "162/162 [==============================] - 22s 136ms/step - loss: 0.0445 - accuracy: 0.9785 - val_loss: 0.0425 - val_accuracy: 0.9783\n",
            "Epoch 32/35\n",
            "162/162 [==============================] - 21s 131ms/step - loss: 0.0475 - accuracy: 0.9783 - val_loss: 0.0532 - val_accuracy: 0.9744\n",
            "Epoch 33/35\n",
            "162/162 [==============================] - 22s 138ms/step - loss: 0.0490 - accuracy: 0.9778 - val_loss: 0.0456 - val_accuracy: 0.9761\n",
            "Epoch 34/35\n",
            "162/162 [==============================] - 21s 131ms/step - loss: 0.0449 - accuracy: 0.9785 - val_loss: 0.0447 - val_accuracy: 0.9805\n",
            "Epoch 35/35\n",
            "162/162 [==============================] - 21s 131ms/step - loss: 0.0440 - accuracy: 0.9786 - val_loss: 0.0432 - val_accuracy: 0.9770\n",
            "Epoch 1/35\n",
            "162/162 [==============================] - 21s 129ms/step - loss: 0.5710 - accuracy: 0.6852 - val_loss: 0.4172 - val_accuracy: 0.8251\n",
            "Epoch 2/35\n",
            "162/162 [==============================] - 21s 130ms/step - loss: 0.3976 - accuracy: 0.8291 - val_loss: 0.3133 - val_accuracy: 0.8707\n",
            "Epoch 3/35\n",
            "162/162 [==============================] - 21s 132ms/step - loss: 0.3584 - accuracy: 0.8490 - val_loss: 0.2788 - val_accuracy: 0.8919\n",
            "Epoch 4/35\n",
            "162/162 [==============================] - 21s 129ms/step - loss: 0.3335 - accuracy: 0.8599 - val_loss: 0.2508 - val_accuracy: 0.9089\n",
            "Epoch 5/35\n",
            "162/162 [==============================] - 22s 135ms/step - loss: 0.2974 - accuracy: 0.8773 - val_loss: 0.2025 - val_accuracy: 0.9266\n",
            "Epoch 6/35\n",
            "162/162 [==============================] - 21s 132ms/step - loss: 0.2554 - accuracy: 0.8958 - val_loss: 0.1532 - val_accuracy: 0.9453\n",
            "Epoch 7/35\n",
            "162/162 [==============================] - 22s 137ms/step - loss: 0.2186 - accuracy: 0.9132 - val_loss: 0.1307 - val_accuracy: 0.9514\n",
            "Epoch 8/35\n",
            "162/162 [==============================] - 21s 130ms/step - loss: 0.1876 - accuracy: 0.9252 - val_loss: 0.1113 - val_accuracy: 0.9635\n",
            "Epoch 9/35\n",
            "162/162 [==============================] - 21s 130ms/step - loss: 0.1650 - accuracy: 0.9353 - val_loss: 0.1134 - val_accuracy: 0.9540\n",
            "Epoch 10/35\n",
            "162/162 [==============================] - 21s 132ms/step - loss: 0.1492 - accuracy: 0.9417 - val_loss: 0.0864 - val_accuracy: 0.9692\n",
            "Epoch 11/35\n",
            "162/162 [==============================] - 21s 131ms/step - loss: 0.1378 - accuracy: 0.9471 - val_loss: 0.0840 - val_accuracy: 0.9701\n",
            "Epoch 12/35\n",
            "162/162 [==============================] - 21s 132ms/step - loss: 0.1258 - accuracy: 0.9515 - val_loss: 0.0843 - val_accuracy: 0.9701\n",
            "Epoch 13/35\n",
            "162/162 [==============================] - 21s 131ms/step - loss: 0.1151 - accuracy: 0.9565 - val_loss: 0.0703 - val_accuracy: 0.9722\n",
            "Epoch 14/35\n",
            "162/162 [==============================] - 21s 131ms/step - loss: 0.1129 - accuracy: 0.9558 - val_loss: 0.0772 - val_accuracy: 0.9696\n",
            "Epoch 15/35\n",
            "162/162 [==============================] - 22s 136ms/step - loss: 0.1062 - accuracy: 0.9572 - val_loss: 0.0705 - val_accuracy: 0.9714\n",
            "Epoch 16/35\n",
            "162/162 [==============================] - 22s 136ms/step - loss: 0.1008 - accuracy: 0.9603 - val_loss: 0.0628 - val_accuracy: 0.9757\n",
            "Epoch 17/35\n",
            "162/162 [==============================] - 21s 130ms/step - loss: 0.0953 - accuracy: 0.9605 - val_loss: 0.0567 - val_accuracy: 0.9709\n",
            "Epoch 18/35\n",
            "162/162 [==============================] - 21s 131ms/step - loss: 0.0958 - accuracy: 0.9592 - val_loss: 0.0623 - val_accuracy: 0.9722\n",
            "Epoch 19/35\n",
            "162/162 [==============================] - 21s 131ms/step - loss: 0.0907 - accuracy: 0.9611 - val_loss: 0.0587 - val_accuracy: 0.9692\n",
            "Epoch 20/35\n",
            "162/162 [==============================] - 21s 130ms/step - loss: 0.0883 - accuracy: 0.9611 - val_loss: 0.0652 - val_accuracy: 0.9709\n",
            "Epoch 21/35\n",
            "162/162 [==============================] - 21s 131ms/step - loss: 0.0857 - accuracy: 0.9616 - val_loss: 0.0532 - val_accuracy: 0.9753\n",
            "Epoch 22/35\n",
            "162/162 [==============================] - 21s 131ms/step - loss: 0.0820 - accuracy: 0.9623 - val_loss: 0.0558 - val_accuracy: 0.9753\n",
            "Epoch 23/35\n",
            "162/162 [==============================] - 21s 130ms/step - loss: 0.0755 - accuracy: 0.9636 - val_loss: 0.0466 - val_accuracy: 0.9753\n",
            "Epoch 24/35\n",
            "162/162 [==============================] - 22s 137ms/step - loss: 0.0718 - accuracy: 0.9657 - val_loss: 0.0515 - val_accuracy: 0.9722\n",
            "Epoch 25/35\n",
            "162/162 [==============================] - 21s 131ms/step - loss: 0.0747 - accuracy: 0.9632 - val_loss: 0.0678 - val_accuracy: 0.9679\n",
            "Epoch 26/35\n",
            "162/162 [==============================] - 22s 136ms/step - loss: 0.0750 - accuracy: 0.9639 - val_loss: 0.0511 - val_accuracy: 0.9718\n",
            "Epoch 27/35\n",
            "162/162 [==============================] - 21s 130ms/step - loss: 0.0698 - accuracy: 0.9643 - val_loss: 0.0515 - val_accuracy: 0.9674\n",
            "Epoch 28/35\n",
            "162/162 [==============================] - 21s 129ms/step - loss: 0.0736 - accuracy: 0.9643 - val_loss: 0.0538 - val_accuracy: 0.9722\n",
            "Epoch 29/35\n",
            "162/162 [==============================] - 21s 131ms/step - loss: 0.0798 - accuracy: 0.9625 - val_loss: 0.0570 - val_accuracy: 0.9674\n",
            "Epoch 30/35\n",
            "162/162 [==============================] - 21s 130ms/step - loss: 0.0724 - accuracy: 0.9635 - val_loss: 0.0526 - val_accuracy: 0.9692\n",
            "Epoch 31/35\n",
            "162/162 [==============================] - 21s 131ms/step - loss: 0.0659 - accuracy: 0.9663 - val_loss: 0.0451 - val_accuracy: 0.9735\n",
            "Epoch 32/35\n",
            "162/162 [==============================] - 21s 131ms/step - loss: 0.0638 - accuracy: 0.9665 - val_loss: 0.0453 - val_accuracy: 0.9766\n",
            "Epoch 33/35\n",
            "162/162 [==============================] - 22s 138ms/step - loss: 0.0606 - accuracy: 0.9676 - val_loss: 0.0452 - val_accuracy: 0.9731\n",
            "Epoch 34/35\n",
            "162/162 [==============================] - 21s 129ms/step - loss: 0.0613 - accuracy: 0.9675 - val_loss: 0.0478 - val_accuracy: 0.9731\n",
            "Epoch 35/35\n",
            "162/162 [==============================] - 22s 137ms/step - loss: 0.0612 - accuracy: 0.9664 - val_loss: 0.0446 - val_accuracy: 0.9718\n"
          ]
        }
      ]
    },
    {
      "cell_type": "code",
      "source": [
        "import matplotlib.pyplot as plt\n",
        "import numpy\n",
        "# summarize history for accuracy\n",
        "plt.plot(history1.history['loss'])\n",
        "plt.plot(history1.history['val_loss'])\n",
        "plt.title('model loss')\n",
        "plt.ylabel('loss')\n",
        "plt.xlabel('epoch')\n",
        "plt.legend(['train', 'test'], loc='upper left')\n",
        "plt.show()\n",
        "# summarize history for loss\n",
        "plt.plot(history1.history['accuracy'])\n",
        "plt.plot(history1.history['val_accuracy'])\n",
        "plt.title('model accuracy')\n",
        "plt.ylabel('accuracy')\n",
        "plt.xlabel('epoch')\n",
        "plt.legend(['train', 'test'], loc='upper left')\n",
        "plt.show()\n",
        "\n",
        "# summarize history for accuracy\n",
        "plt.plot(history2.history['loss'])\n",
        "plt.plot(history2.history['val_loss'])\n",
        "plt.title('model loss')\n",
        "plt.ylabel('loss')\n",
        "plt.xlabel('epoch')\n",
        "plt.legend(['train', 'test'], loc='upper left')\n",
        "plt.show()\n",
        "# summarize history for loss\n",
        "plt.plot(history2.history['accuracy'])\n",
        "plt.plot(history2.history['val_accuracy'])\n",
        "plt.title('model accuracy')\n",
        "plt.ylabel('accuracy')\n",
        "plt.xlabel('epoch')\n",
        "plt.legend(['train', 'test'], loc='upper left')\n",
        "plt.show()\n",
        "\n",
        "# summarize history for accuracy\n",
        "plt.plot(history3.history['loss'])\n",
        "plt.plot(history3.history['val_loss'])\n",
        "plt.title('model loss')\n",
        "plt.ylabel('loss')\n",
        "plt.xlabel('epoch')\n",
        "plt.legend(['train', 'test'], loc='upper left')\n",
        "plt.show()\n",
        "# summarize history for loss\n",
        "plt.plot(history3.history['accuracy'])\n",
        "plt.plot(history3.history['val_accuracy'])\n",
        "plt.title('model accuracy')\n",
        "plt.ylabel('accuracy')\n",
        "plt.xlabel('epoch')\n",
        "plt.legend(['train', 'test'], loc='upper left')\n",
        "plt.show()"
      ],
      "metadata": {
        "colab": {
          "base_uri": "https://localhost:8080/",
          "height": 1000
        },
        "id": "Zq20o1oq2Yc7",
        "outputId": "27466d47-b123-4853-d4c9-8f3e95d5ec18"
      },
      "execution_count": 28,
      "outputs": [
        {
          "output_type": "display_data",
          "data": {
            "text/plain": [
              "<Figure size 432x288 with 1 Axes>"
            ],
            "image/png": "[encoded data removed]"
          },
          "metadata": {
            "needs_background": "light"
          }
        },
        {
          "output_type": "display_data",
          "data": {
            "text/plain": [
              "<Figure size 432x288 with 1 Axes>"
            ],
            "image/png": "[encoded data removed]"
          },
          "metadata": {
            "needs_background": "light"
          }
        },
        {
          "output_type": "display_data",
          "data": {
            "text/plain": [
              "<Figure size 432x288 with 1 Axes>"
            ],
            "image/png": "[encoded data removed]"
          },
          "metadata": {
            "needs_background": "light"
          }
        },
        {
          "output_type": "display_data",
          "data": {
            "text/plain": [
              "<Figure size 432x288 with 1 Axes>"
            ],
            "image/png": "[encoded data removed]"
          },
          "metadata": {
            "needs_background": "light"
          }
        },
        {
          "output_type": "display_data",
          "data": {
            "text/plain": [
              "<Figure size 432x288 with 1 Axes>"
            ],
            "image/png": "[encoded data removed]"
          },
          "metadata": {
            "needs_background": "light"
          }
        },
        {
          "output_type": "display_data",
          "data": {
            "text/plain": [
              "<Figure size 432x288 with 1 Axes>"
            ],
            "image/png": "[encoded data removed]"
          },
          "metadata": {
            "needs_background": "light"
          }
        }
      ]
    },
    {
      "cell_type": "code",
      "source": [
        "model1.save(\"ECOCM1Unbalenced09.h5\")\n",
        "model2.save(\"ECOCM2Unbalenced09.h5\")\n",
        "model3.save(\"ECOCM3Unbalenced09.h5\")"
      ],
      "metadata": {
        "id": "zWPxan20wHfI"
      },
      "execution_count": 29,
      "outputs": []
    },
    {
      "cell_type": "code",
      "source": [
        "L1=model1.predict(testing_padded)\n",
        "L2=model2.predict(testing_padded)\n",
        "L3=model3.predict(testing_padded)\n",
        "\n",
        "for i in range(len(L1)):\n",
        "  if (L1[i]<0.5):\n",
        "    L1[i]=0\n",
        "  else:\n",
        "    L1[i]=1\n",
        "  if (L2[i]<0.5):\n",
        "    L2[i]=0\n",
        "  else:\n",
        "    L2[i]=1\n",
        "  if (L3[i]<0.5):\n",
        "    L3[i]=0\n",
        "  else:\n",
        "    L3[i]=1\n",
        "P=[]\n",
        "for i in range(len(L1)):\n",
        "  P.append(str(int(L1[i][0]))+str(int(L2[i][0]))+str(int(L3[i][0])))\n",
        "\n",
        "print(P[2])"
      ],
      "metadata": {
        "colab": {
          "base_uri": "https://localhost:8080/"
        },
        "id": "GJM_EkfzxRYD",
        "outputId": "15b75379-a98c-4399-b8ac-260096ebb776"
      },
      "execution_count": 30,
      "outputs": [
        {
          "output_type": "stream",
          "name": "stdout",
          "text": [
            "110\n"
          ]
        }
      ]
    },
    {
      "cell_type": "code",
      "source": [
        "def hamming_distance(string1, string2):\n",
        "\tdist_counter = 0\n",
        "\tfor n in range(len(string1)):\n",
        "\t\tif string1[n] != string2[n]:\n",
        "\t\t\tdist_counter += 1\n",
        "\treturn dist_counter\n",
        "\n",
        "pred=[]\n",
        "for i in range(len(P)):\n",
        "  if (min(min(hamming_distance(P[i],'110'),hamming_distance(P[i],'101')),hamming_distance(P[i],'011'))==hamming_distance(P[i],'110')):\n",
        "    pred.append(0)\n",
        "  elif (min(min(hamming_distance(P[i],'110'),hamming_distance(P[i],'101')),hamming_distance(P[i],'011'))==hamming_distance(P[i],'101')):\n",
        "    pred.append(1)\n",
        "  else:\n",
        "    pred.append(2)"
      ],
      "metadata": {
        "id": "ci_yxTAFEIf6"
      },
      "execution_count": 31,
      "outputs": []
    },
    {
      "cell_type": "code",
      "source": [
        "from sklearn.metrics import confusion_matrix\n",
        "from sklearn.metrics import classification_report\n",
        "cm = confusion_matrix(testing_labels, pred)\n",
        "print(\"For the Ensemblist methode: \\n\",cm)\n",
        "print(classification_report(testing_labels, pred, labels=[0,1,2]))"
      ],
      "metadata": {
        "colab": {
          "base_uri": "https://localhost:8080/"
        },
        "id": "-XzjG5nC0qit",
        "outputId": "b0fa0eec-67d9-4493-a8e7-18e746894830"
      },
      "execution_count": 32,
      "outputs": [
        {
          "output_type": "stream",
          "name": "stdout",
          "text": [
            "For the Ensemblist methode: \n",
            " [[1264    0    1]\n",
            " [  48  362    4]\n",
            " [  84    3  538]]\n",
            "              precision    recall  f1-score   support\n",
            "\n",
            "           0       0.91      1.00      0.95      1265\n",
            "           1       0.99      0.87      0.93       414\n",
            "           2       0.99      0.86      0.92       625\n",
            "\n",
            "    accuracy                           0.94      2304\n",
            "   macro avg       0.96      0.91      0.93      2304\n",
            "weighted avg       0.94      0.94      0.94      2304\n",
            "\n"
          ]
        }
      ]
    },
    {
      "cell_type": "code",
      "source": [
        "L1=model1.predict(testing_padded12)\n",
        "L2=model2.predict(testing_padded12)\n",
        "L3=model3.predict(testing_padded12)\n",
        "\n",
        "for i in range(len(L1)):\n",
        "  if (L1[i]<0.5):\n",
        "    L1[i]=0\n",
        "  else:\n",
        "    L1[i]=1\n",
        "  if (L2[i]<0.5):\n",
        "    L2[i]=0\n",
        "  else:\n",
        "    L2[i]=1\n",
        "  if (L3[i]<0.5):\n",
        "    L3[i]=0\n",
        "  else:\n",
        "    L3[i]=1\n",
        "P=[]\n",
        "for i in range(len(L1)):\n",
        "  P.append(str(int(L1[i][0]))+str(int(L2[i][0]))+str(int(L3[i][0])))\n",
        "\n",
        "pred=[]\n",
        "for i in range(len(P)):\n",
        "  if (min(min(hamming_distance(P[i],'110'),hamming_distance(P[i],'101')),hamming_distance(P[i],'011'))==hamming_distance(P[i],'110')):\n",
        "    pred.append(0)\n",
        "  elif (min(min(hamming_distance(P[i],'110'),hamming_distance(P[i],'101')),hamming_distance(P[i],'011'))==hamming_distance(P[i],'101')):\n",
        "    pred.append(1)\n",
        "  else:\n",
        "    pred.append(2)\n",
        "\n",
        "\n",
        "cm = confusion_matrix(testing_labels12, pred)\n",
        "print(\"For the Ensembling methode, ECOC Algorithm: \\n\",cm)\n",
        "print(classification_report(testing_labels12, pred, labels=[0,1,2]))"
      ],
      "metadata": {
        "colab": {
          "base_uri": "https://localhost:8080/"
        },
        "id": "vEoKfNMZLHK9",
        "outputId": "e52152e6-0cd4-44b0-e57d-b376651c5a03"
      },
      "execution_count": 33,
      "outputs": [
        {
          "output_type": "stream",
          "name": "stdout",
          "text": [
            "For the Ensembling methode, ECOC Algorithm: \n",
            " [[543  21  23]\n",
            " [ 76 175   2]\n",
            " [ 96 138 218]]\n",
            "              precision    recall  f1-score   support\n",
            "\n",
            "           0       0.76      0.93      0.83       587\n",
            "           1       0.52      0.69      0.60       253\n",
            "           2       0.90      0.48      0.63       452\n",
            "\n",
            "    accuracy                           0.72      1292\n",
            "   macro avg       0.73      0.70      0.69      1292\n",
            "weighted avg       0.76      0.72      0.72      1292\n",
            "\n"
          ]
        }
      ]
    },
    {
      "cell_type": "code",
      "source": [
        "L1=model1.predict(testing_padded34)\n",
        "L2=model2.predict(testing_padded34)\n",
        "L3=model3.predict(testing_padded34)\n",
        "\n",
        "for i in range(len(L1)):\n",
        "  if (L1[i]<0.5):\n",
        "    L1[i]=0\n",
        "  else:\n",
        "    L1[i]=1\n",
        "  if (L2[i]<0.5):\n",
        "    L2[i]=0\n",
        "  else:\n",
        "    L2[i]=1\n",
        "  if (L3[i]<0.5):\n",
        "    L3[i]=0\n",
        "  else:\n",
        "    L3[i]=1\n",
        "P=[]\n",
        "for i in range(len(L1)):\n",
        "  P.append(str(int(L1[i][0]))+str(int(L2[i][0]))+str(int(L3[i][0])))\n",
        "\n",
        "pred=[]\n",
        "for i in range(len(P)):\n",
        "  if (min(min(hamming_distance(P[i],'110'),hamming_distance(P[i],'101')),hamming_distance(P[i],'011'))==hamming_distance(P[i],'110')):\n",
        "    pred.append(0)\n",
        "  elif (min(min(hamming_distance(P[i],'110'),hamming_distance(P[i],'101')),hamming_distance(P[i],'011'))==hamming_distance(P[i],'101')):\n",
        "    pred.append(1)\n",
        "  else:\n",
        "    pred.append(2)\n",
        "\n",
        "\n",
        "cm = confusion_matrix(testing_labels34, pred)\n",
        "print(\"For the Ensembling methode, ECOC Algorithm: \\n\",cm)\n",
        "print(classification_report(testing_labels34, pred, labels=[0,1,2]))"
      ],
      "metadata": {
        "colab": {
          "base_uri": "https://localhost:8080/"
        },
        "id": "y3z0RzeILVi8",
        "outputId": "c5108c65-cfbc-490e-8f13-c974ce53b06f"
      },
      "execution_count": 34,
      "outputs": [
        {
          "output_type": "stream",
          "name": "stdout",
          "text": [
            "For the Ensembling methode, ECOC Algorithm: \n",
            " [[ 517    0    9]\n",
            " [   0    7    0]\n",
            " [  28    2 1277]]\n",
            "              precision    recall  f1-score   support\n",
            "\n",
            "           0       0.95      0.98      0.97       526\n",
            "           1       0.78      1.00      0.88         7\n",
            "           2       0.99      0.98      0.98      1307\n",
            "\n",
            "    accuracy                           0.98      1840\n",
            "   macro avg       0.91      0.99      0.94      1840\n",
            "weighted avg       0.98      0.98      0.98      1840\n",
            "\n"
          ]
        }
      ]
    },
    {
      "cell_type": "code",
      "source": [
        "L1=model1.predict(testing_padded5)\n",
        "L2=model2.predict(testing_padded5)\n",
        "L3=model3.predict(testing_padded5)\n",
        "\n",
        "for i in range(len(L1)):\n",
        "  if (L1[i]<0.5):\n",
        "    L1[i]=0\n",
        "  else:\n",
        "    L1[i]=1\n",
        "  if (L2[i]<0.5):\n",
        "    L2[i]=0\n",
        "  else:\n",
        "    L2[i]=1\n",
        "  if (L3[i]<0.5):\n",
        "    L3[i]=0\n",
        "  else:\n",
        "    L3[i]=1\n",
        "P=[]\n",
        "for i in range(len(L1)):\n",
        "  P.append(str(int(L1[i][0]))+str(int(L2[i][0]))+str(int(L3[i][0])))\n",
        "\n",
        "pred=[]\n",
        "for i in range(len(P)):\n",
        "  if (min(min(hamming_distance(P[i],'110'),hamming_distance(P[i],'101')),hamming_distance(P[i],'011'))==hamming_distance(P[i],'110')):\n",
        "    pred.append(0)\n",
        "  elif (min(min(hamming_distance(P[i],'110'),hamming_distance(P[i],'101')),hamming_distance(P[i],'011'))==hamming_distance(P[i],'101')):\n",
        "    pred.append(1)\n",
        "  else:\n",
        "    pred.append(2)\n",
        "\n",
        "\n",
        "cm = confusion_matrix(testing_labels5, pred)\n",
        "print(\"For the Ensembling methode, ECOC Algorithm: \\n\",cm)\n",
        "print(classification_report(testing_labels5, pred, labels=[0,1,2]))"
      ],
      "metadata": {
        "id": "Mw0-oQjV3gov",
        "colab": {
          "base_uri": "https://localhost:8080/"
        },
        "outputId": "03448c2a-c1aa-4903-8f39-3c7506a43c96"
      },
      "execution_count": 35,
      "outputs": [
        {
          "output_type": "stream",
          "name": "stdout",
          "text": [
            "For the Ensembling methode, ECOC Algorithm: \n",
            " [[3849   35  151]\n",
            " [ 483  451  520]\n",
            " [ 173  129 2525]]\n",
            "              precision    recall  f1-score   support\n",
            "\n",
            "           0       0.85      0.95      0.90      4035\n",
            "           1       0.73      0.31      0.44      1454\n",
            "           2       0.79      0.89      0.84      2827\n",
            "\n",
            "    accuracy                           0.82      8316\n",
            "   macro avg       0.79      0.72      0.73      8316\n",
            "weighted avg       0.81      0.82      0.80      8316\n",
            "\n"
          ]
        }
      ]
    }
  ]
}